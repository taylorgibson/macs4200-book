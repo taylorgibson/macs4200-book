{
 "cells": [
  {
   "cell_type": "markdown",
   "metadata": {},
   "source": [
    "# Cryptography and Computer Programming\n",
    "**Written by Taylor Gibson ([gibson@ncssm.edu](mailto:gibson@ncssm.edu))**\n",
    "\n",
    "This website is an online resource for MA/CS 4200 (formerly MA/CS 358): Cryptography at [The North Carolina School of Science and Mathematics](https://www.ncssm.edu)\n",
    "\n",
    "The contents of this book are licensed for free consumption under the following license:\n",
    "[Creative Commons Attribution-NonCommercial-NoDerivatives 4.0 International (CC BY-NC-ND 4.0)](https://creativecommons.org/licenses/by-nc-nd/4.0/)."
   ]
  },
  {
   "cell_type": "markdown",
   "metadata": {},
   "source": [
    "## Additional Resources\n",
    "\n",
    "* Python Code Vizualization Tool\n",
    "[http://www.pythontutor.com/](http://www.pythontutor.com/visualize.html#mode=edit)\n",
    "\n",
    "\n",
    "* The Mathematics of Encryption\n",
    "[https://bookstore.ams.org/mawrld-29](https://bookstore.ams.org/mawrld-29)"
   ]
  }
 ],
 "metadata": {
  "kernelspec": {
   "display_name": "Python 3 (ipykernel)",
   "language": "python",
   "name": "python3"
  },
  "language_info": {
   "codemirror_mode": {
    "name": "ipython",
    "version": 3
   },
   "file_extension": ".py",
   "mimetype": "text/x-python",
   "name": "python",
   "nbconvert_exporter": "python",
   "pygments_lexer": "ipython3",
   "version": "3.9.6"
  }
 },
 "nbformat": 4,
 "nbformat_minor": 4
}
