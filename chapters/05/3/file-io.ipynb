{
 "cells": [
  {
   "cell_type": "markdown",
   "metadata": {},
   "source": [
    "# File Input / Output\n",
    "\n",
    "When you have to type your messages directly into your Notebook, you probably will limit yourself to very short messages since it would take a long time to type longer passages of text by hand. In this section we'll see how Python can import text from other files.\n",
    "\n",
    "## Importing Text\n",
    "\n",
    "If you have your text you wish to import saved as a `.txt` file, you can have Python read that file and save it as a string. To make things easy your text file should be in the same folder as your notebook file or in a subfolder. The syntax to import text into your notebook is:"
   ]
  },
  {
   "cell_type": "code",
   "execution_count": 8,
   "metadata": {
    "tags": [
     "full_width"
    ]
   },
   "outputs": [
    {
     "name": "stdout",
     "output_type": "stream",
     "text": [
      "Alice was beginning to get very tired of sitting by her sister on the\n",
      "bank, and of having nothing to do: once or twice she had peeped into the\n",
      "book her sister was reading, but it had no pictures or conversations in\n",
      "it, 'and what is the use of a book,' thought Alice 'without pictures or\n",
      "conversations?'\n"
     ]
    }
   ],
   "source": [
    "with open('yourfile.txt') as f:\n",
    "    myText = f.read()\n",
    "\n",
    "print(myText)"
   ]
  },
  {
   "cell_type": "markdown",
   "metadata": {},
   "source": [
    "You can tell from the code and matching output that my file was named `yourfile.txt` and it contained the text of the first paragraph of the first chapter of *Alice in Wonderland*. (You can find a lot of text that is free and publicly available at [Project Gutenberg](https://www.gutenberg.org/)). I stored this string to the variable `myText`. All file and variable names can be changed to whatever you like depending on what your text file is named and what you want to store it as.\n",
    "\n",
    "Now that you have your text imported as a string, you can perform all the usual operations on it."
   ]
  },
  {
   "cell_type": "code",
   "execution_count": 6,
   "metadata": {
    "tags": [
     "remove_cell"
    ]
   },
   "outputs": [],
   "source": [
    "def text_clean( text ):\n",
    "    # input: string: `text`\n",
    "    # output: string\n",
    "    LETTERS = 'ABCDEFGHIJKLMNOPQRSTUVWXYZ'\n",
    "    text = text.upper()\n",
    "    cleaned = ''\n",
    "    for char in text:\n",
    "        if char in LETTERS:\n",
    "            cleaned += char\n",
    "            \n",
    "    return cleaned\n",
    "\n",
    "def caesar_encipher(text, key):\n",
    "    # inputs: string: text, int: key\n",
    "    # output: string: ciphertext\n",
    "    plaintext = textClean(text)\n",
    "    LETTERS = 'ABCDEFGHIJKLMNOPQRSTUVWXYZ'\n",
    "    ciphertext = ''\n",
    "    \n",
    "    for char in plaintext:\n",
    "        ciphertext += LETTERS[ (LETTERS.find(char) + key) % 26 ]\n",
    "    \n",
    "    return ciphertext"
   ]
  },
  {
   "cell_type": "code",
   "execution_count": 10,
   "metadata": {
    "tags": [
     "full_width",
     "output_scroll"
    ]
   },
   "outputs": [
    {
     "name": "stdout",
     "output_type": "stream",
     "text": [
      "ALICEWASBEGINNINGTOGETVERYTIREDOFSITTINGBYHERSISTERONTHEBANKANDOFHAVINGNOTHINGTODOONCEORTWICESHEHADPEEPEDINTOTHEBOOKHERSISTERWASREADINGBUTITHADNOPICTURESORCONVERSATIONSINITANDWHATISTHEUSEOFABOOKTHOUGHTALICEWITHOUTPICTURESORCONVERSATIONS\n"
     ]
    }
   ],
   "source": [
    "print( text_clean( myText ) )"
   ]
  },
  {
   "cell_type": "code",
   "execution_count": 12,
   "metadata": {
    "tags": [
     "full_width",
     "output_scroll"
    ]
   },
   "outputs": [
    {
     "name": "stdout",
     "output_type": "stream",
     "text": [
      "RCZTVNRJSVXZEEZEXKFXVKMVIPKZIVUFWJZKKZEXSPYVIJZJKVIFEKYVSREBREUFWYRMZEXEFKYZEXKFUFFETVFIKNZTVJYVYRUGVVGVUZEKFKYVSFFBYVIJZJKVINRJIVRUZEXSLKZKYRUEFGZTKLIVJFITFEMVIJRKZFEJZEZKREUNYRKZJKYVLJVFWRSFFBKYFLXYKRCZTVNZKYFLKGZTKLIVJFITFEMVIJRKZFEJ\n"
     ]
    }
   ],
   "source": [
    "print( caesar( myText, 17 ) )"
   ]
  },
  {
   "cell_type": "markdown",
   "metadata": {},
   "source": [
    "## Saving Text to File\n",
    "Since reading long lines of text can be difficult in a Jupyter Notebook, you may wish to save the contents of a variable back to a text file to read in a different application. To do so, use the following syntax:"
   ]
  },
  {
   "cell_type": "code",
   "execution_count": 14,
   "metadata": {},
   "outputs": [],
   "source": [
    "with open('output.txt', 'w') as f:\n",
    "  print(myText, file=f, end='')"
   ]
  },
  {
   "cell_type": "markdown",
   "metadata": {},
   "source": [
    "This code took the contents of the variable `myText` and stored it to the file `output.txt` in the same folder of the notebook. The file `output.txt` will be created if it didn't already exist. If it did already exist, it will be overwritten. Now you can download this file and open it on your computer in any application that you'd like.\n",
    "\n",
    "## More Details on the `open()` Function\n",
    "\n",
    "The `open()` function has a few more options that may be helpful to you.\n",
    "\n",
    "```\n",
    "with open('filename.txt', 'option') as f:...\n",
    "```\n",
    "\n",
    "You can replace `'option'` with the following characters to denote how you wish to interact with the file you're opening.\n",
    "\n",
    "| character | meaning |\n",
    "|-----------|---------|\n",
    "| `'r'`     | Open for reading only (default if no character specified) |\n",
    "| `'w'`     | Open for writing |\n",
    "| `'a'`     | Open for appending. Will add to the end of the file instead of overwrite |\n",
    "| `'x'`     | Create this file. Will not work if the file already exists |\n",
    "| `'t'`     | Text mode (default) |\n",
    "| `'b'`     | Binary mode |\n",
    "\n",
    "You can combine characters when specifying how to open a file. For example:\n",
    "\n",
    "```\n",
    "with open('filename.dat', 'wb') as f:...\n",
    "```\n",
    "Would open the file `filename.dat` to write binary to it."
   ]
  }
 ],
 "metadata": {
  "kernelspec": {
   "display_name": "Python 3",
   "language": "python",
   "name": "python3"
  },
  "language_info": {
   "codemirror_mode": {
    "name": "ipython",
    "version": 3
   },
   "file_extension": ".py",
   "mimetype": "text/x-python",
   "name": "python",
   "nbconvert_exporter": "python",
   "pygments_lexer": "ipython3",
   "version": "3.7.3"
  }
 },
 "nbformat": 4,
 "nbformat_minor": 4
}
