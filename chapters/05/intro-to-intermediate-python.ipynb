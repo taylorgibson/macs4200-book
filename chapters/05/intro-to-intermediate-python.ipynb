{
 "cells": [
  {
   "cell_type": "markdown",
   "metadata": {},
   "source": [
    "# Intermediate Python Skills\n",
    "\n",
    "By now you should be familiar with the basics of Python: basic data types, string methods, looping, etc. This chapter will cover some intermediate Python skills that will help you be a more efficient programmer. We'll cover some common shortcuts for operations you already know how to do, see a new data type, learn how to write functions for operations that we use frequently, and import files and modules for use from outside your notebook. At the end of this chapter you'll know enough Python for us to start learning how to easily crack the classical substitution ciphers that we've already learned in this course."
   ]
  }
 ],
 "metadata": {
  "kernelspec": {
   "display_name": "Python 3",
   "language": "python",
   "name": "python3"
  },
  "language_info": {
   "codemirror_mode": {
    "name": "ipython",
    "version": 3
   },
   "file_extension": ".py",
   "mimetype": "text/x-python",
   "name": "python",
   "nbconvert_exporter": "python",
   "pygments_lexer": "ipython3",
   "version": "3.7.3"
  }
 },
 "nbformat": 4,
 "nbformat_minor": 4
}
