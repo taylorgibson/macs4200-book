{
 "cells": [
  {
   "cell_type": "markdown",
   "metadata": {},
   "source": [
    "# Modules\n",
    "\n",
    "As we write more and more functions to accomplish specific cryptography tasks, copying/pasting each function into each new notebook will get cumbersome. Instead, we can save our commonly used functions into a Python file that we can import into each notebook as needed. These files are referred to as modules.\n",
    "\n",
    "## Creating a Module\n",
    "To create a module you need to create a Python script file. A script file ends in `.py` and contains only Python code without all the Markdown and structure that a Jupyter Notebook provides. To do this in your Jupyter Notebook, perform the following steps from your Home Directory:\n",
    "1. Click `[New]` then `[Text File]`\n",
    "\n",
    "![alt-text](new-textfile.PNG \"new, text file\")\n",
    "\n",
    "2. Click on `untitled.txt` to rename the file\n",
    "\n",
    "![alt-text](rename-untitled.png \"click to rename\")\n",
    "\n",
    "3. Rename the file so it ends in `.py`.\n",
    "\n",
    "![alt-text](rename-toolkit.png \"renamed file\")\n",
    "\n",
    "4. Copy / Paste all Python code into your module that you'll want to access in other Notebooks.\n",
    "5. Save your file before closing the tab or window.\n",
    "\n",
    "\n",
    "In this example, the functions `text_clean` and `caesar` have been copied into the file `utils.py`.\n",
    "\n",
    "## Importing a Module\n",
    "\n",
    "Now that you have your module file saved, you can import the contents into any other notebook that is stored in the same folder as the module. There are a few ways you can import the module depending on how you want to use it:\n",
    "\n",
    "### Method 1"
   ]
  },
  {
   "cell_type": "code",
   "execution_count": 3,
   "metadata": {},
   "outputs": [],
   "source": [
    "import utils"
   ]
  },
  {
   "cell_type": "markdown",
   "metadata": {},
   "source": [
    "This method is the easiest to understand. Use `import` followed by the name of your module file (without the `.py`). To use the objects found inside the module, the general structure is `moduleName.objectName`. So, to use the `textClean()` function inside module `toolkit`:"
   ]
  },
  {
   "cell_type": "code",
   "execution_count": 5,
   "metadata": {},
   "outputs": [
    {
     "name": "stdout",
     "output_type": "stream",
     "text": [
      "TESTMESSAGE\n"
     ]
    }
   ],
   "source": [
    "print( utils.text_clean('Test Message') )"
   ]
  },
  {
   "cell_type": "markdown",
   "metadata": {},
   "source": [
    "Trying to directly call `text_clean` will result in an error, since it won't know where to find that function without the `utils.` prefix."
   ]
  },
  {
   "cell_type": "code",
   "execution_count": 10,
   "metadata": {},
   "outputs": [
    {
     "ename": "NameError",
     "evalue": "name 'textClean' is not defined",
     "output_type": "error",
     "traceback": [
      "\u001b[1;31m---------------------------------------------------------------------------\u001b[0m",
      "\u001b[1;31mNameError\u001b[0m                                 Traceback (most recent call last)",
      "\u001b[1;32m<ipython-input-10-f66b8a0326dc>\u001b[0m in \u001b[0;36m<module>\u001b[1;34m\u001b[0m\n\u001b[1;32m----> 1\u001b[1;33m \u001b[0mprint\u001b[0m\u001b[1;33m(\u001b[0m \u001b[0mtextClean\u001b[0m\u001b[1;33m(\u001b[0m\u001b[1;34m'Test Message'\u001b[0m\u001b[1;33m)\u001b[0m \u001b[1;33m)\u001b[0m\u001b[1;33m\u001b[0m\u001b[1;33m\u001b[0m\u001b[0m\n\u001b[0m",
      "\u001b[1;31mNameError\u001b[0m: name 'textClean' is not defined"
     ]
    }
   ],
   "source": [
    "print( textClean('Test Message') )"
   ]
  },
  {
   "cell_type": "markdown",
   "metadata": {},
   "source": [
    "### Method 2\n",
    "\n",
    "Since typing `utils` a lot when working with the module could get tiring, there are a few ways to make this easier. One is to let your current Notebook use a different name than the filename of the module. In this example, we import `utils` as `tk` which is short for \"toolkit\"."
   ]
  },
  {
   "cell_type": "code",
   "execution_count": 6,
   "metadata": {},
   "outputs": [],
   "source": [
    "import utils as tk"
   ]
  },
  {
   "cell_type": "code",
   "execution_count": 9,
   "metadata": {},
   "outputs": [
    {
     "name": "stdout",
     "output_type": "stream",
     "text": [
      "ALZA\n"
     ]
    }
   ],
   "source": [
    "print( tk.caesar('Test', 7) )"
   ]
  },
  {
   "cell_type": "markdown",
   "metadata": {},
   "source": [
    "### Method 3\n",
    "\n",
    "If you really can't stand to type a little extra, you can pull the functions from a module into your Notebook so you can use them natively without any prefix. The syntax is `from [module-name] import [list, of, objects, to, import]`"
   ]
  },
  {
   "cell_type": "code",
   "execution_count": 13,
   "metadata": {},
   "outputs": [],
   "source": [
    "from utils import text_clean, ceasar"
   ]
  },
  {
   "cell_type": "code",
   "execution_count": 12,
   "metadata": {},
   "outputs": [
    {
     "name": "stdout",
     "output_type": "stream",
     "text": [
      "THISISPRETTYLAZYBUTITWORKS\n"
     ]
    }
   ],
   "source": [
    "print( text_clean('This is Pretty Lazy, but it works') )"
   ]
  },
  {
   "cell_type": "markdown",
   "metadata": {},
   "source": [
    "### Method 4\n",
    "\n",
    "This is somewhat of a \"everything but the kitchen sink\" approach."
   ]
  },
  {
   "cell_type": "code",
   "execution_count": null,
   "metadata": {},
   "outputs": [],
   "source": [
    "from utils import *"
   ]
  },
  {
   "cell_type": "markdown",
   "metadata": {},
   "source": [
    "This is generally considered bad practice, since you will import everything in the `utils.py` file, and you may not know what's in there! Doing so will import everything inside the module including functions, objects, etc into your Notebook. This is bad because:\n",
    "\n",
    "1. It could take a long time or use up a lot of memory\n",
    "2. It could overwrite variables or functions of the same name in your Notebook\n",
    "3. If you didn't write the module, you don't know what it's importing\n",
    "\n",
    "You'll see this method used on Graded Homework assignments due to some quirks in the Gradescope auto-grader, but in general you should use Methods 1-3 when possible."
   ]
  },
  {
   "cell_type": "markdown",
   "metadata": {},
   "source": [
    "## Publicly Available Modules\n",
    "\n",
    "Over time people have developed really powerful modules that can do tasks far beyond what a novice programmer could accomplish. Collections of modules can be grouped together in what are known as packages. Instead of keeping these modules to themselves, the Python Software Foundation has set up a publicly accessible database of packages, found at [https://pypi.org](https://pypi.org). We'll use a few of these packages in this course to generate bar charts, generate random numbers, and apply hash functions."
   ]
  }
 ],
 "metadata": {
  "kernelspec": {
   "display_name": "Python 3",
   "language": "python",
   "name": "python3"
  },
  "language_info": {
   "codemirror_mode": {
    "name": "ipython",
    "version": 3
   },
   "file_extension": ".py",
   "mimetype": "text/x-python",
   "name": "python",
   "nbconvert_exporter": "python",
   "pygments_lexer": "ipython3",
   "version": "3.7.3"
  }
 },
 "nbformat": 4,
 "nbformat_minor": 4
}
