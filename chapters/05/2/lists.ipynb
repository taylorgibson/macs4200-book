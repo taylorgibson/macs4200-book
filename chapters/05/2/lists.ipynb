{
 "cells": [
  {
   "cell_type": "markdown",
   "metadata": {},
   "source": [
    "# Lists\n",
    "\n",
    "So far you've learned about and used a few data types: integers, floats, booleans, and strings. In this section you'll learn about a new data type with which you can store a collection of other data types. We call this a __list__. A list is a collection of objects, similar to an array if you've programmed in other languages that use those. You define a list in Python by enclosing a comma-separated sequence of objects in square brackets (`[]`), as shown below:"
   ]
  },
  {
   "cell_type": "code",
   "execution_count": 2,
   "metadata": {},
   "outputs": [
    {
     "name": "stdout",
     "output_type": "stream",
     "text": [
      "['keyword', 'caesar', 'multiplicative', 'affine']\n"
     ]
    }
   ],
   "source": [
    "ciphers = ['keyword', 'caesar', 'multiplicative', 'affine']\n",
    "print(ciphers)"
   ]
  },
  {
   "cell_type": "markdown",
   "metadata": {},
   "source": [
    "There are several helpful features about lists that make them very versatile:\n",
    "* Lists are ordered.\n",
    "* Lists can contain any type of objects, even a mix of them, including other lists.\n",
    "* List elements can be accessed by index, just like characters in a string.\n",
    "\n",
    "## Lists Are Ordered\n",
    "\n",
    "When you add items to a list, they are stored in the same order in which they were added. If you were to compare two lists with the same elements and ask Python if they were the same, it would depend on if those elements were in the same order"
   ]
  },
  {
   "cell_type": "code",
   "execution_count": 3,
   "metadata": {},
   "outputs": [
    {
     "name": "stdout",
     "output_type": "stream",
     "text": [
      "True\n",
      "False\n"
     ]
    }
   ],
   "source": [
    "print( [1,2,3] == [1,2,3] )\n",
    "print( [3,2,1] == [1,2,3] )"
   ]
  },
  {
   "cell_type": "markdown",
   "metadata": {},
   "source": [
    "## Lists Can Contain Any Type of Objects\n",
    "\n",
    "Lists can hold only one type of data:"
   ]
  },
  {
   "cell_type": "code",
   "execution_count": 4,
   "metadata": {},
   "outputs": [
    {
     "name": "stdout",
     "output_type": "stream",
     "text": [
      "['keyword', 'caesar', 'multiplicative', 'affine']\n"
     ]
    }
   ],
   "source": [
    "ciphers = ['keyword', 'caesar', 'multiplicative', 'affine']\n",
    "print( ciphers )"
   ]
  },
  {
   "cell_type": "markdown",
   "metadata": {},
   "source": [
    "A mix of different types of data:"
   ]
  },
  {
   "cell_type": "code",
   "execution_count": 5,
   "metadata": {},
   "outputs": [
    {
     "name": "stdout",
     "output_type": "stream",
     "text": [
      "['four', 4, 4.0]\n"
     ]
    }
   ],
   "source": [
    "quatro = ['four', 4, 4.0]\n",
    "print( quatro )"
   ]
  },
  {
   "cell_type": "markdown",
   "metadata": {},
   "source": [
    "And if you want, even other lists:"
   ]
  },
  {
   "cell_type": "code",
   "execution_count": 6,
   "metadata": {},
   "outputs": [
    {
     "name": "stdout",
     "output_type": "stream",
     "text": [
      "[['route', 'railfence'], ['keyword', 'caesar', 'multiplicative', 'affine']]\n"
     ]
    }
   ],
   "source": [
    "substitution = ['keyword', 'caesar', 'multiplicative', 'affine']\n",
    "transposition = ['route', 'railfence']\n",
    "\n",
    "allciphers = [transposition , substitution]\n",
    "\n",
    "print( allciphers )"
   ]
  },
  {
   "cell_type": "markdown",
   "metadata": {},
   "source": [
    "## List Elements Can be Accessed by Index\n",
    "\n",
    "Lists have indices just like strings, and many of the string features you know will work on lists.\n",
    "\n",
    "You can recall an element from a list by referring to its index in the list using the same square brackets (`[]`) used with strings."
   ]
  },
  {
   "cell_type": "code",
   "execution_count": 7,
   "metadata": {},
   "outputs": [
    {
     "name": "stdout",
     "output_type": "stream",
     "text": [
      "affine\n",
      "route\n"
     ]
    }
   ],
   "source": [
    "print( substitution[3] )\n",
    "print( transposition[0] )"
   ]
  },
  {
   "cell_type": "markdown",
   "metadata": {},
   "source": [
    "If you have a list inside of a list (known as a nested list) you can use two sets of square brackets to refer to its index. The first set of brackets contains the index of the nested list, and the second set of brackets contains the index for the item inside the nested list."
   ]
  },
  {
   "cell_type": "code",
   "execution_count": 8,
   "metadata": {},
   "outputs": [
    {
     "name": "stdout",
     "output_type": "stream",
     "text": [
      "multiplicative\n"
     ]
    }
   ],
   "source": [
    "print( allciphers[1][2] )"
   ]
  },
  {
   "cell_type": "markdown",
   "metadata": {},
   "source": [
    "Negative indices and slicing work with lists too:"
   ]
  },
  {
   "cell_type": "code",
   "execution_count": 9,
   "metadata": {},
   "outputs": [
    {
     "name": "stdout",
     "output_type": "stream",
     "text": [
      "['keyword', 'caesar']\n",
      "route\n"
     ]
    }
   ],
   "source": [
    "print( substitution[:2] )\n",
    "print( transposition[-2] )"
   ]
  },
  {
   "cell_type": "markdown",
   "metadata": {},
   "source": [
    "## Other List Operations\n",
    "\n",
    "There are other frequently used operations with lists:\n",
    "\n",
    "| operation | usage |\n",
    "|-----------|-------|\n",
    "| `len( list-name )`   | __`len()`__ Returns length of the list |\n",
    "| `list-name.append(object)` | __`.append()`__ appends the object to the end of a list. Will create a nested list if you append a list.\n",
    "| `list-name.extend(object)` | __`.extend()`__ will take all objects in a second list and add them to the first list. Will not create a nested list.\n",
    "| `object in list-name` | __`in`__ will return True/False if an object is in / not in a list|\n",
    "| `object not in list-name` | __`not in`__ will return True/False if an object is not in / in a list|\n",
    "| `min( list-name )` | __`min()`__ returns the smallest element in the list|\n",
    "| `max( list-name )` | __`max()`__ returns the largest element in the list|\n",
    "| `list-name[index] = new-value` | You can change a single element in a list (can't do this with strings)|\n",
    "| `for i in list-name:` | You can use a `for` loop to iterate through only the elements in a list|\n",
    "| `[1, 2, 3] * 2` | The `*` operation will replicate the list by the number of times specified.|"
   ]
  },
  {
   "cell_type": "markdown",
   "metadata": {},
   "source": [
    "Some common use cases include:\n",
    "\n",
    "### Determining the Length of a List"
   ]
  },
  {
   "cell_type": "code",
   "execution_count": 10,
   "metadata": {},
   "outputs": [
    {
     "name": "stdout",
     "output_type": "stream",
     "text": [
      "4\n"
     ]
    }
   ],
   "source": [
    "print( len([1,2,3,4]) )"
   ]
  },
  {
   "cell_type": "markdown",
   "metadata": {},
   "source": [
    "### Appending a List\n",
    "\n",
    "The append operator modifies the list directly, so you don't need to store the new list back to the original list, like we do with strings."
   ]
  },
  {
   "cell_type": "code",
   "execution_count": 17,
   "metadata": {},
   "outputs": [
    {
     "name": "stdout",
     "output_type": "stream",
     "text": [
      "[1, 2, 3, 4]\n"
     ]
    }
   ],
   "source": [
    "a = [1, 2, 3]\n",
    "a.append(4)\n",
    "print( a )"
   ]
  },
  {
   "cell_type": "markdown",
   "metadata": {},
   "source": [
    "Notice if you append a list to a list, it will become a nested list."
   ]
  },
  {
   "cell_type": "code",
   "execution_count": 15,
   "metadata": {},
   "outputs": [
    {
     "name": "stdout",
     "output_type": "stream",
     "text": [
      "[1, 2, 3, [4, 5, 6]]\n"
     ]
    }
   ],
   "source": [
    "a = [1, 2, 3]\n",
    "b = [4, 5, 6]\n",
    "a.append(b)\n",
    "print( a )"
   ]
  },
  {
   "cell_type": "markdown",
   "metadata": {},
   "source": [
    "### Extending a List\n",
    "\n",
    "The extend operator will copy all the elements in a second list to the first list individually, avoiding a nested list."
   ]
  },
  {
   "cell_type": "code",
   "execution_count": 16,
   "metadata": {},
   "outputs": [
    {
     "name": "stdout",
     "output_type": "stream",
     "text": [
      "[1, 2, 3, 4, 5, 6]\n"
     ]
    }
   ],
   "source": [
    "a = [1, 2, 3]\n",
    "b = [4, 5, 6]\n",
    "a.extend(b)\n",
    "print( a )"
   ]
  },
  {
   "cell_type": "markdown",
   "metadata": {},
   "source": [
    "You can also extend to a list using the `+=` assignment operator. One thing to note is that using this operator will go through an iterable object one element at a time and append each element to the end of the list. For example, a string will be added one character at a time. A list, will be appended one element at a time."
   ]
  },
  {
   "cell_type": "code",
   "execution_count": 20,
   "metadata": {},
   "outputs": [
    {
     "name": "stdout",
     "output_type": "stream",
     "text": [
      "[1, 2, 3, 4, 5, 6]\n"
     ]
    }
   ],
   "source": [
    "a = [1, 2, 3]\n",
    "a += [4, 5, 6]\n",
    "print( a )"
   ]
  },
  {
   "cell_type": "code",
   "execution_count": 21,
   "metadata": {},
   "outputs": [
    {
     "name": "stdout",
     "output_type": "stream",
     "text": [
      "['h', 'e', 'l', 'l', 'o']\n"
     ]
    }
   ],
   "source": [
    "a = ['h', 'e']\n",
    "a += 'llo'\n",
    "print( a )"
   ]
  },
  {
   "cell_type": "markdown",
   "metadata": {},
   "source": [
    "### Replicating a List\n",
    "\n",
    "Replication will allow you to generate a list quickly if there's a pattern that you could use to construct it. For example, if you needed a list of 26 zeros:"
   ]
  },
  {
   "cell_type": "code",
   "execution_count": 18,
   "metadata": {},
   "outputs": [
    {
     "name": "stdout",
     "output_type": "stream",
     "text": [
      "[0, 0, 0, 0, 0, 0, 0, 0, 0, 0, 0, 0, 0, 0, 0, 0, 0, 0, 0, 0, 0, 0, 0, 0, 0, 0]\n"
     ]
    }
   ],
   "source": [
    "myList = [0]*26\n",
    "print( myList )"
   ]
  },
  {
   "cell_type": "markdown",
   "metadata": {},
   "source": [
    "Or the letters `a`, `b`, `c`, in a list 3 times:"
   ]
  },
  {
   "cell_type": "code",
   "execution_count": 19,
   "metadata": {},
   "outputs": [
    {
     "name": "stdout",
     "output_type": "stream",
     "text": [
      "['a', 'b', 'c', 'a', 'b', 'c', 'a', 'b', 'c']\n"
     ]
    }
   ],
   "source": [
    "myList = ['a', 'b', 'c'] * 3\n",
    "print( myList )"
   ]
  }
 ],
 "metadata": {
  "kernelspec": {
   "display_name": "Python 3",
   "language": "python",
   "name": "python3"
  },
  "language_info": {
   "codemirror_mode": {
    "name": "ipython",
    "version": 3
   },
   "file_extension": ".py",
   "mimetype": "text/x-python",
   "name": "python",
   "nbconvert_exporter": "python",
   "pygments_lexer": "ipython3",
   "version": "3.7.3"
  }
 },
 "nbformat": 4,
 "nbformat_minor": 4
}
