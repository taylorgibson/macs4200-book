{
 "cells": [
  {
   "cell_type": "markdown",
   "metadata": {},
   "source": [
    "# Solving Congruences\n",
    "\n",
    "We've seen that it's not easy, or even possible, to match up every ciphertext letter with its plaintext counterpart based solely on frequency. But what if you could get one or two matched correctly?\n",
    "\n",
    "## Cracking Affine\n",
    "\n",
    "Suppose we have the following ciphertext which we believe to be enciphered using the Affine cipher and unknown keys. This is the same text from the last section, only shortened for simplicity."
   ]
  },
  {
   "cell_type": "code",
   "execution_count": 13,
   "metadata": {},
   "outputs": [],
   "source": [
    "ciphertext = 'KRETI JUKRP TUCHI GRDPT UHUJK XUDET IVVKP RIPER EYPWD KHPWO UPTIJ ULKJJ UDOKP TPTUU RDYIL OIHAY ERDER IINWY AUJJR IHWUP EDHWV EHUYE RDWTI JUOKP TRIPT KRCKR KPPIY KPDIO RIRIH PIUEP KPOEY ETIVV KPTIJ UERDP TEPAU ERYMI ALIHP'"
   ]
  },
  {
   "cell_type": "markdown",
   "metadata": {},
   "source": [
    "Looking at the frequency distribution:"
   ]
  },
  {
   "cell_type": "code",
   "execution_count": 14,
   "metadata": {
    "tags": [
     "remove_input"
    ]
   },
   "outputs": [
    {
     "data": {
      "image/png": "[encoded data removed]",
      "text/plain": [
       "<Figure size 432x288 with 1 Axes>"
      ]
     },
     "metadata": {
      "needs_background": "light"
     },
     "output_type": "display_data"
    }
   ],
   "source": [
    "from seaborn import barplot\n",
    "\n",
    "def textClean( text ):\n",
    "    LETTERS = 'ABCDEFGHIJKLMNOPQRSTUVWXYZ'\n",
    "    text = text.upper()\n",
    "    cleaned = ''\n",
    "    for char in text:\n",
    "        if char in LETTERS:\n",
    "            cleaned += char\n",
    "            \n",
    "    return cleaned\n",
    "\n",
    "def letterFrequency(text):\n",
    "    text = textClean(text)\n",
    "    frequencyList = []\n",
    "    LETTERS = 'ABCDEFGHIJKLMNOPQRSTUVWXYZ'\n",
    "    \n",
    "    for char in LETTERS:\n",
    "        frequencyList.append( 100 * text.count(char) / len(text))\n",
    "    \n",
    "    return frequencyList\n",
    "\n",
    "labels = ['A', 'B', 'C', 'D', 'E', 'F', 'G', 'H', 'I', 'J', 'K', 'L', 'M', 'N', 'O', 'P', 'Q', 'R', 'S', 'T', 'U', 'V', 'W', 'X', 'Y', 'Z']\n",
    "values = letterFrequency(ciphertext)\n",
    "barplot(labels, values, color='steelblue');"
   ]
  },
  {
   "cell_type": "markdown",
   "metadata": {},
   "source": [
    "We can see that `P`, `I`, `R`, and `T` are the most common letters in the ciphertext. Since `e` is the most common letter in English, let's suppose that the ciphertext letter `P` was enciphered from the plaintext letter `e`.\n",
    "\n",
    "We know that the ciphertext letter was enciphered using the formula:\n",
    "\n",
    "$$ y \\equiv ax + b \\pmod{26}$$ \n",
    "\n",
    "where $a$ is the multiplicative key that is relatively prime to $26$ and $b$ is the additive key. Our guess that `e` enciphers to `P` implies that when $x = 4$ (an `e`) $y = 15$ (a `P`). Evaluating the encipher equation with these values yields:\n",
    "\n",
    "$$15 \\equiv 4a + b \\pmod{26}$$\n",
    "\n",
    "This equation alone is not enough to determine $a$ and $b$. You will need the same number of equations as unknown to be able to solve the system, so you'll need to make a second guess to determine a second equation. Since T is the second most frequent letter in the English alphabet it would be reasonable to assume that ciphertext letter `I` was enciphered from the plaintext letter `t`, since `I` is the second most frequent letter in the ciphertext. Following the same procedure as earlier yields the second equation:\n",
    "\n",
    "$$ 8 \\equiv 19a + b \\pmod{26}$$\n",
    "\n",
    "We can solve the system of congruences:\n",
    "\n",
    "$$\\begin{cases} 15 &\\equiv 4a + b \\pmod{26} \\\\ 8 &\\equiv 19a + b \\pmod{26} \\end{cases}$$\n",
    "\n",
    "To solve this system of linear equations, we'll employ the elimination method by subtracting multiplies of one equation from another to generate a new equation. In this case, subtracting the second congruence from the first one eliminates $b$, resulting in a congruence with only one unknown:\n",
    "\n",
    "$$ 7 \\equiv -15a \\pmod{26} $$\n",
    "\n",
    "and since $-15 \\equiv 11 \\pmod{26}$ we know:\n",
    "\n",
    "$$ 7 \\equiv 11a \\pmod{26} $$\n",
    "\n",
    "Multiplying both sides by the multiplicative inverse of $11 \\pmod{26}$, which is $19$, we find:\n",
    "\n",
    "$$ 19 \\cdot 7 \\equiv 19 \\cdot 11 a \\pmod{26} $$\n",
    "\n",
    "and so\n",
    "\n",
    "$$ 3 \\equiv a \\pmod{26} $$\n",
    "\n",
    "Solving for $b$:\n",
    "\n",
    "$$ \\begin{align} 15 &\\equiv 4 \\left(3\\right) + b \\\\ 15 &\\equiv 12 + b \\\\ b &= 3 \\end{align}$$\n",
    "\n",
    "Unfortunately, when we use these values for `akey` and `mkey`, we don't get a readable plaintext:"
   ]
  },
  {
   "cell_type": "code",
   "execution_count": 18,
   "metadata": {
    "tags": [
     "remove_cell"
    ]
   },
   "outputs": [],
   "source": [
    "def affineDecipher(text, akey, mkey):\n",
    "    ciphertext = textClean(text)\n",
    "    LETTERS = 'ABCDEFGHIJKLMNOPQRSTUVWXYZ'\n",
    "    plaintext = ''\n",
    "    minverse = -1\n",
    "    \n",
    "    for testinverse in range(0,26):\n",
    "        if (testinverse * mkey) % 26 == 1:\n",
    "            minverse = testinverse\n",
    "    \n",
    "    for char in ciphertext:\n",
    "        plaintext += LETTERS[ minverse * (LETTERS.find(char) - akey) % 26 ]\n",
    "    \n",
    "    return plaintext.lower()"
   ]
  },
  {
   "cell_type": "code",
   "execution_count": 16,
   "metadata": {},
   "outputs": [
    {
     "name": "stdout",
     "output_type": "stream",
     "text": [
      "lwjotcxlweoxrktbwaeoxkxclyxajotgglewtejwjhepalkepvxeotcxulccxavleoeoxxwahtuvtkzhjwajwttmphzxccwtkpxejakpgjkxhjwapotcxvleowteolwrlwleethleatvwtwtketxjelevjhjotggleotcxjwaeojezxjwhdtzutke\n"
     ]
    }
   ],
   "source": [
    "print( affineDecipher( ciphertext, 3, 3 ))"
   ]
  },
  {
   "cell_type": "markdown",
   "metadata": {},
   "source": [
    "So, what went wrong? In the original, unenciphered message, there's an unusually high amount of the plaintext letter `o` and an unusually low amount of the plaintext letter `e`. There was no way for you to know this (the plaintext is by nature secret when deciphering), and as a result, your guesses of $\\text{e} \\rightarrow \\text{P}$ and $\\text{t} \\rightarrow \\text{I}$ were incorrect. Incorrect guesses will either lead to incorrect deciphering of the ciphertext or invalid values for $a$ (values that are not relatively prime with 26). \n",
    "\n",
    "Let's readjust our guesses to reflect this information so $\\text{o} \\rightarrow \\text{I}$ and $\\text{t} \\rightarrow \\text{P}$ which results in the following solution:\n",
    "\n",
    "$$\\begin{cases} 8 &\\equiv 14a + b \\pmod{26} \\\\ 15 &\\equiv 19a + b \\pmod{26} \\end{cases}$$\n",
    "\n",
    "Subtracting the second equation from the first:\n",
    "\n",
    "$$-7 \\equiv -5a \\pmod{26}$$\n",
    "\n",
    "which is equivalent to:\n",
    "\n",
    "$$19 \\equiv 21a \\pmod{26}$$\n",
    "\n",
    "Multiplying  by the inverse of $21 \\pmod{26}$, which is $5$.\n",
    "\n",
    "$$ 5 \\cdot 19 \\equiv 5 \\cdot 21 a \\pmod{26} $$\n",
    "\n",
    "and so:\n",
    "\n",
    "$$ 17 \\equiv a \\pmod{26} $$\n",
    "\n",
    "Solving for $b$:\n",
    "\n",
    "$$ \\begin{align} 8 &\\equiv 14 \\left(17\\right) + b \\pmod{26} \\\\ 8 &\\equiv 238 + b \\pmod{26} \\\\ -230 &\\equiv  b \\pmod{26} \\\\ b &= 4 \\end{align}$$\n",
    "\n",
    "Attempting to decipher with a multiplicative key of 17 and additive key of 4 yields the following plaintext:"
   ]
  },
  {
   "cell_type": "code",
   "execution_count": 17,
   "metadata": {},
   "outputs": [
    {
     "name": "stdout",
     "output_type": "stream",
     "text": [
      "inaholeinthegroundtherelivedahobbitnotanastydirtywetholefilledwiththeendsofwormsandanoozysmellnoryetadrybaresandyholewithnothinginittositdownonortoeatitwasahobbitholeandthatmeanscomfort\n"
     ]
    }
   ],
   "source": [
    "print( affineDecipher( ciphertext, 4, 17))"
   ]
  },
  {
   "cell_type": "markdown",
   "metadata": {},
   "source": [
    "Which we can see is the phrase:\n",
    "> In a hole in the ground there lived a hobbit. Not a nasty, dirty, wet hole, filled with the ends of worms and an oozy smell, nor yet a dry, bare, sandy hole with nothing in it to sit down on or to eat: it was a hobbit-hole, and that means comfort.\n",
    "\n",
    "As long as you can guess two pairs of corresponding plaintext and ciphertext letters, this method will determine the correct additive and multiplicative keys to map the two together."
   ]
  }
 ],
 "metadata": {
  "kernelspec": {
   "display_name": "Python 3",
   "language": "python",
   "name": "python3"
  },
  "language_info": {
   "codemirror_mode": {
    "name": "ipython",
    "version": 3
   },
   "file_extension": ".py",
   "mimetype": "text/x-python",
   "name": "python",
   "nbconvert_exporter": "python",
   "pygments_lexer": "ipython3",
   "version": "3.7.3"
  }
 },
 "nbformat": 4,
 "nbformat_minor": 4
}
