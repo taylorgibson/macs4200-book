{
 "cells": [
  {
   "cell_type": "markdown",
   "metadata": {},
   "source": [
    "# Frequency Analysis\n",
    "\n",
    "When attempting to crack a monoalphabetic cipher, knowing about how likely a letter should appear in the plaintext is a valuable piece of information. If we see a lot of `X`'s in the ciphertext, a low frequency letter in English, it's likely that it has been substituted for a high frequency letter like `e` or `a` in the plaintext. Knowing these frequencies and other patterns in the plaintext language resulted in some of the best cryptographers coming from backgrounds in linguistics, not mathematics or science.\n",
    "\n",
    "## English Letter Frequency\n",
    "\n",
    "We'll see that the English language is very predictable when it comes to letter frequency. Wikipedia lists the frequency of letters based on what percent of the written language consists of each letter, and we'll verify by using some Python to compute the percentage that each letter appears within in the text of [Pride and Prejudice](https://www.gutenberg.org/ebooks/1342). \n"
   ]
  },
  {
   "cell_type": "code",
   "execution_count": 1,
   "metadata": {
    "tags": [
     "remove_cell"
    ]
   },
   "outputs": [],
   "source": [
    "def textClean( text ):\n",
    "    LETTERS = 'ABCDEFGHIJKLMNOPQRSTUVWXYZ'\n",
    "    text = text.upper()\n",
    "    cleaned = ''\n",
    "    for char in text:\n",
    "        if char in LETTERS:\n",
    "            cleaned += char\n",
    "            \n",
    "    return cleaned"
   ]
  },
  {
   "cell_type": "code",
   "execution_count": 2,
   "metadata": {
    "tags": [
     "remove_cell"
    ]
   },
   "outputs": [
    {
     "name": "stdout",
     "output_type": "stream",
     "text": [
      "A : 42696 / 7.738792200306681 %\n",
      "B : 9362 / 1.6968936804213777 %\n",
      "C : 14064 / 2.5491468405731954 %\n",
      "D : 22844 / 4.140551082626144 %\n",
      "E : 71199 / 12.905055880401802 %\n",
      "F : 12384 / 2.244641245282882 %\n",
      "G : 10444 / 1.893009784054782 %\n",
      "H : 34584 / 6.268465183047739 %\n",
      "I : 38947 / 7.0592734641499035 %\n",
      "J : 970 / 0.17581573061405004 %\n",
      "K : 3342 / 0.6057486306310879 %\n",
      "L : 22070 / 4.000261004795963 %\n",
      "M : 15125 / 2.7414566242654708 %\n",
      "N : 38725 / 7.019035224772256 %\n",
      "O : 41378 / 7.499900310668209 %\n",
      "P : 8683 / 1.5738226689915427 %\n",
      "Q : 638 / 0.11563962487810714 %\n",
      "R : 33470 / 6.066548972837376 %\n",
      "S : 33870 / 6.139050305049356 %\n",
      "T : 48160 / 8.72916039832232 %\n",
      "U : 15509 / 2.811057903188971 %\n",
      "V : 5840 / 1.0585194502948991 %\n",
      "W : 12573 / 2.2788981247530424 %\n",
      "X : 867 / 0.15714663756946534 %\n",
      "Y : 13032 / 2.3620934034662886 %\n",
      "Z : 938 / 0.1700156240370917 %\n"
     ]
    }
   ],
   "source": [
    "with open('pride-and-prejudice.txt', encoding=\"utf8\") as f:\n",
    "    text = textClean(f.read())\n",
    "\n",
    "LETTERS = 'ABCDEFGHIJKLMNOPQRSTUVWXYZ'\n",
    "\n",
    "for char in LETTERS:\n",
    "    print(char,':', text.count(char),'/',100 * text.count(char)/len(text),'%')"
   ]
  },
  {
   "cell_type": "markdown",
   "metadata": {},
   "source": [
    "\n",
    "|Letter| Wikipedia| Pride and Prejudice|\n",
    "|------|----------|-------|\n",
    "|a|8.167%| 7.738%|\n",
    "|b|1.492%| 1.696%|\n",
    "|c|2.782%| 2.549%|\n",
    "|d|4.253%| 4.140%|\n",
    "|e|12.702%|12.905%|\n",
    "|f|2.228%|2.244%|\n",
    "|g|2.015%|1.893%|\n",
    "|h|6.094%|6.268%|\n",
    "|i|6.966%|7.059%|\n",
    "|j|0.153%|0.175%|\n",
    "|k|0.772%|0.605%|\n",
    "|l|4.025%|4.000%|\n",
    "|m|2.406%|2.741%|\n",
    "|n|6.749%|7.019%|\n",
    "|o|7.507%|7.499%|\n",
    "|p|1.929%|1.573%|\n",
    "|q|0.095%|0.115%|\n",
    "|r|5.987%|6.066%|\n",
    "|s|6.327%|6.139%|\n",
    "|t|9.056%|8.729%|\n",
    "|u|2.758%|2.811%|\n",
    "|v|0.978%|1.058%|\n",
    "|w|2.360%|2.278%|\n",
    "|x|0.150%|0.157%|\n",
    "|y|1.974%|2.362%|\n",
    "|z|0.074%|0.170%|\n",
    "\n",
    "We can see that the reported values are very close. Analyzing a single text can lead to variations, as letter frequency will change by author and subject, but a sufficiently long text can expected to have a frequency distribution similar to the values found in the Wikipedia article.\n",
    "\n",
    "## Visualization in Python\n",
    "\n",
    "The data in the table above can be difficult to digest as a long list of numbers. Often using the data to create a visualization can be helpful to quickly understand the trends in the data. We can use Python to make a barchart by importing a module to help. There are many Python packages that can create data visualizations, including: Matplotlib, Seaborn, Altair, Bokeh, Plotly, and more. In this course we'll be using mostly barcharts to visualize our data, and the easiest of these packages to make barcharts is Seaborn. To get us started, let's import the function we'll need `barplot()`."
   ]
  },
  {
   "cell_type": "code",
   "execution_count": 3,
   "metadata": {},
   "outputs": [],
   "source": [
    "from seaborn import barplot"
   ]
  },
  {
   "cell_type": "markdown",
   "metadata": {},
   "source": [
    "If you are programming on the NCSSM DataHub, `seaborn` will already be installed and ready for you to import from. If you are running your Notebook on your own computer, you'll need to install `seaborn` before you can import functions from it. You can visit the [Seaborn website](https://seaborn.pydata.org) for more information."
   ]
  },
  {
   "cell_type": "markdown",
   "metadata": {},
   "source": [
    "Then, to generate a barchart we need to create 2 lists: one for the labels of the barchart, and one for the values for each bar. In this case, the labels will be the letters of the alphabet and the values will be the percentages from Wikipedia."
   ]
  },
  {
   "cell_type": "code",
   "execution_count": 4,
   "metadata": {},
   "outputs": [],
   "source": [
    "labels = ['A', 'B', 'C', 'D', 'E', 'F', 'G', 'H', 'I', 'J', 'K', 'L', 'M', 'N', 'O', 'P', 'Q', 'R', 'S', 'T', 'U', 'V', 'W', 'X', 'Y', 'Z']\n",
    "values = [8.167, 1.492, 2.782, 4.253, 12.702, 2.228, 2.015, 6.094, 6.966, 0.153, 0.772, 4.025, 2.406, 6.749, 7.507, 1.929, 0.095, 5.987, 6.327, 9.056, 2.758, 0.978, 2.360, 0.150, 1.974, 0.074]"
   ]
  },
  {
   "cell_type": "markdown",
   "metadata": {},
   "source": [
    "Lastly, to generate the barchart you use the `barplot()` function with the following syntax `barplot(labels, values, color='steelblue');`. Notice the semi-colon at the end. This is an optional character, but including it suppresses some unnecessary output from the `barplot()` function. Also, you can use any of the [X11 color names](https://en.wikipedia.org/wiki/X11_color_names) instead of `steelblue`, just make sure to remove spaces from the name."
   ]
  },
  {
   "cell_type": "code",
   "execution_count": 5,
   "metadata": {},
   "outputs": [
    {
     "data": {
      "image/png": "[encoded data removed]",
      "text/plain": [
       "<Figure size 432x288 with 1 Axes>"
      ]
     },
     "metadata": {
      "needs_background": "light"
     },
     "output_type": "display_data"
    }
   ],
   "source": [
    "barplot(labels, values, color='steelblue');"
   ]
  },
  {
   "cell_type": "markdown",
   "metadata": {},
   "source": [
    "There are several observations that will be helpful in our cryptanalysis.\n",
    "* A and E are both high frequency letters spaced 4 apart from each other\n",
    "* H and I are relatively high frequency letters adjacent to each other\n",
    "* N and O are relatively high frequency letters adjacent to each other\n",
    "* R, S, and T are relatively high frequency letters adjacent to each other\n",
    "* Most other letters have relatively low frequency, some with very low frequency\n",
    "\n",
    "Together these traits form somewhat of a \"fingerprint\" of the English language. If we were to use a cipher that did not alter the relative order in which letters were placed to each other, like the Caesar cipher, then we can find these same peaks and valleys in a ciphertext letter distribution.\n",
    "\n",
    "For example, take the relatively short ciphertext and its frequency distribution.\n",
    "> PMOLO HKHUF AOPUN JVUMP KLUAP HSAVZ HFOLD YVALP APUJP WOLYA OHAPZ IFZVJ OHUNP UNAOL VYKLY VMAOL SLAAL YZVMA OLHSW OHILA AOHAU VAHDV YKJVB SKILT HKLVB A"
   ]
  },
  {
   "cell_type": "code",
   "execution_count": 6,
   "metadata": {
    "tags": [
     "remove_input"
    ]
   },
   "outputs": [
    {
     "data": {
      "image/png": "[encoded data removed]",
      "text/plain": [
       "<Figure size 432x288 with 1 Axes>"
      ]
     },
     "metadata": {
      "needs_background": "light"
     },
     "output_type": "display_data"
    }
   ],
   "source": [
    "def textClean( text ):\n",
    "    LETTERS = 'ABCDEFGHIJKLMNOPQRSTUVWXYZ'\n",
    "    text = text.upper()\n",
    "    cleaned = ''\n",
    "    for char in text:\n",
    "        if char in LETTERS:\n",
    "            cleaned += char\n",
    "            \n",
    "    return cleaned\n",
    "\n",
    "def letterFrequency(text):\n",
    "    text = textClean(text)\n",
    "    frequencyList = []\n",
    "    LETTERS = 'ABCDEFGHIJKLMNOPQRSTUVWXYZ'\n",
    "    \n",
    "    for char in LETTERS:\n",
    "        frequencyList.append( 100 * text.count(char) / len(text))\n",
    "    \n",
    "    return frequencyList\n",
    "\n",
    "values = letterFrequency('PMOLO HKHUF AOPUN JVUMP KLUAP HSAVZ HFOLD YVALP APUJP WOLYA OHAPZ IFZVJ OHUNP UNAOL VYKLY VMAOL SLAAL YZVMA OLHSW OHILA AOHAU VAHDV YKJVB SKILT HKLVB A' )\n",
    "barplot(labels, values, color='steelblue');"
   ]
  },
  {
   "cell_type": "markdown",
   "metadata": {},
   "source": [
    "Even with this fairly short piece of text, you can see that H and L in the ciphertext likely correspond to A and E in the plaintext, O and P correspond to H and I, U and V correspond to N and O, and that Y, Z, and A correspond to, R, S, and T. \n",
    "\n",
    "If $\\text{e} \\rightarrow \\text{L}$, then it can be deduced that the key to this Caesar cipher was 7, since $\\text{L} \\rightarrow 11$, $\\text{e} \\rightarrow 4$, and $11 - 4 = 7$. You could confirm this pattern with any suspected pairing of plaintext and ciphertext letters.\n",
    "\n",
    "At first glance this process isn't much better than the brute force method. You still need to visually inspect and interpret some information about the ciphertext to determine the key, only it happens to be in barchart form instead of looking for english words in a list of possible plaintexts. We'll see in the next section how we can use the data in the barchart to help create a score for each possible plaintext that we can use to rank our key selection.\n",
    "\n",
    "## Exercise for the Reader\n",
    "Can you write a function `character_frequency` that takes in a string of text, cleans it, and returns a list of 26 frequencies in order from A to Z?"
   ]
  },
  {
   "cell_type": "markdown",
   "metadata": {},
   "source": [
    "## Frequency Analysis for the Affine Cipher\n",
    "\n",
    "Frequency analysis for the Affine cipher is a bit trickier, since the order of the plaintext alphabet is not preserved in the ciphertext alphabet. As a result, we can't look for the spikes at A/E, H/I, N/O, R/S/T and compute how far apart the two distributions are.\n",
    "\n",
    "For example, take this relatively long affine ciphertext:\n",
    "\n",
    ">`KRETI JUKRP TUCHI GRDPT UHUJK XUDET IVVKP RIPER EYPWD KHPWO UPTIJ ULKJJ UDOKP TPTUU RDYIL OIHAY ERDER IINWY AUJJR IHWUP EDHWV EHUYE RDWTI JUOKP TRIPT KRCKR KPPIY KPDIO RIRIH PIUEP KPOEY ETIVV KPTIJ UERDP TEPAU ERYMI ALIHP KPTED EZUHL UMPJW HIGRD DIIHJ KSUEZ IHPTI JUZEK RPUDC HUURO KPTEY TKRWW UJJIO VHEYY SRIVK RPTUU FEMPA KDDJU PTUDI IHIZU RUDIR PIEPG VUYTE ZUDTE JJJKS UEPGR RUJEX UHWMI ALIHP EVJUP GRRUJ OKPTI GPYAI SUOKP TZERU JJUDO EJJYE RDLJI IHYPK JUDER DMEHZ UPUDZ HIXKD UDOKP TZIJK YTUDM TEKHY ERDJI PYERD JIPYI LZUCY LIHTE PYERD MIEPY PTUTI VVKPO EYLIR DILXK YKPIH YPTUP GRRUJ OIGRD IRERD IRCIK RCLEK HJWVG PRIPQ GKPUY PHEKC TPKRP IPTUY KDUIL PTUTK JJPTU TKJJE YEJJP TUZUI ZJULI HAERW AKJUY HIGRD MEJJU DKPER DAERW JKPPJ UHIGR DDIIH YIZUR UDIGP ILKPL KHYPI RIRUY KDUER DPTUR IRERI PTUHR ICIKR CGZYP EKHYL IHPTU TIVVK PVUDH IIAYV EPTHI IAYMU JJEHY ZERPH KUYJI PYILP TUYUO EHDHI VUYTU TEDOT IJUHI IAYDU XIPUD PIMJI PTUYS KPMTU RYDKR KRCHI IAYEJ JOUHU IRPTU YEAUL JIIHE RDKRD UUDIR PTUYE AUZEY YECUP TUVUY PHIIA YOUHU EJJIR PTUJU LPTER DYKDU CIKRC KRLIH PTUYU OUHUP TUIRJ WIRUY PITEX UOKRD IOYDU UZYUP HIGRD OKRDI OYJII SKRCI XUHTK YCEHD URERD AUEDI OYVUW IRDYJ IZKRC DIORP IPTUH KXUH`\n",
    "\n",
    "Looking at the distribution of characters in the ciphertext message doesn't yield much insight."
   ]
  },
  {
   "cell_type": "code",
   "execution_count": 7,
   "metadata": {},
   "outputs": [
    {
     "data": {
      "image/png": "[encoded data removed]",
      "text/plain": [
       "<Figure size 432x288 with 1 Axes>"
      ]
     },
     "metadata": {
      "needs_background": "light"
     },
     "output_type": "display_data"
    }
   ],
   "source": [
    "values = letterFrequency('KRETI JUKRP TUCHI GRDPT UHUJK XUDET IVVKP RIPER EYPWD KHPWO UPTIJ ULKJJ UDOKP TPTUU RDYIL OIHAY ERDER IINWY AUJJR IHWUP EDHWV EHUYE RDWTI JUOKP TRIPT KRCKR KPPIY KPDIO RIRIH PIUEP KPOEY ETIVV KPTIJ UERDP TEPAU ERYMI ALIHP KPTED EZUHL UMPJW HIGRD DIIHJ KSUEZ IHPTI JUZEK RPUDC HUURO KPTEY TKRWW UJJIO VHEYY SRIVK RPTUU FEMPA KDDJU PTUDI IHIZU RUDIR PIEPG VUYTE ZUDTE JJJKS UEPGR RUJEX UHWMI ALIHP EVJUP GRRUJ OKPTI GPYAI SUOKP TZERU JJUDO EJJYE RDLJI IHYPK JUDER DMEHZ UPUDZ HIXKD UDOKP TZIJK YTUDM TEKHY ERDJI PYERD JIPYI LZUCY LIHTE PYERD MIEPY PTUTI VVKPO EYLIR DILXK YKPIH YPTUP GRRUJ OIGRD IRERD IRCIK RCLEK HJWVG PRIPQ GKPUY PHEKC TPKRP IPTUY KDUIL PTUTK JJPTU TKJJE YEJJP TUZUI ZJULI HAERW AKJUY HIGRD MEJJU DKPER DAERW JKPPJ UHIGR DDIIH YIZUR UDIGP ILKPL KHYPI RIRUY KDUER DPTUR IRERI PTUHR ICIKR CGZYP EKHYL IHPTU TIVVK PVUDH IIAYV EPTHI IAYMU JJEHY ZERPH KUYJI PYILP TUYUO EHDHI VUYTU TEDOT IJUHI IAYDU XIPUD PIMJI PTUYS KPMTU RYDKR KRCHI IAYEJ JOUHU IRPTU YEAUL JIIHE RDKRD UUDIR PTUYE AUZEY YECUP TUVUY PHIIA YOUHU EJJIR PTUJU LPTER DYKDU CIKRC KRLIH PTUYU OUHUP TUIRJ WIRUY PITEX UOKRD IOYDU UZYUP HIGRD OKRDI OYJII SKRCI XUHTK YCEHD URERD AUEDI OYVUW IRDYJ IZKRC DIORP IPTUH KXUH')\n",
    "barplot(labels, values, color='steelblue');"
   ]
  },
  {
   "cell_type": "markdown",
   "metadata": {},
   "source": [
    "We could instead attempt to order the ciphertext letters by frequency and compare to the plaintext alphabet ordered by frequency. For sufficiently long ciphertexts, it would seem reasonable to assume that the most frequent ciphertext letter would correspond to the most frequent plaintext letter, that the second highest frequency ciphertext letter corresponds to the second highest frequency plaintext letter, etc. However, as reasonable as this seems, we'll see that it doesn't often work in practice.\n",
    "\n",
    "Compare the English language plaintext distribution on the left to the ciphertext distribution on the right."
   ]
  },
  {
   "cell_type": "code",
   "execution_count": 18,
   "metadata": {
    "tags": [
     "remove_input"
    ]
   },
   "outputs": [
    {
     "data": {
      "image/png": "[encoded data removed]",
      "text/plain": [
       "<Figure size 1080x504 with 2 Axes>"
      ]
     },
     "metadata": {},
     "output_type": "display_data"
    }
   ],
   "source": [
    "import seaborn as sns\n",
    "import matplotlib.pyplot as plt\n",
    "sns.set(rc={'figure.figsize':(15,7)})\n",
    "ciphertext = 'KRETIJUKRPTUCHIGRDPTUHUJKXUDETIVVKPRIPEREYPWDKHPWOUPTIJULKJJUDOKPTPTUURDYILOIHAYERDERIINWYAUJJRIHWUPEDHWVEHUYERDWTIJUOKPTRIPTKRCKRKPPIYKPDIORIRIHPIUEPKPOEYETIVVKPTIJUERDPTEPAUERYMIALIHPKPTEDEZUHLUMPJWHIGRDDIIHJKSUEZIHPTIJUZEKRPUDCHUUROKPTEYTKRWWUJJIOVHEYYSRIVKRPTUUFEMPAKDDJUPTUDIIHIZURUDIRPIEPGVUYTEZUDTEJJJKSUEPGRRUJEXUHWMIALIHPEVJUPGRRUJOKPTIGPYAISUOKPTZERUJJUDOEJJYERDLJIIHYPKJUDERDMEHZUPUDZHIXKDUDOKPTZIJKYTUDMTEKHYERDJIPYERDJIPYILZUCYLIHTEPYERDMIEPYPTUTIVVKPOEYLIRDILXKYKPIHYPTUPGRRUJOIGRDIRERDIRCIKRCLEKHJWVGPRIPQGKPUYPHEKCTPKRPIPTUYKDUILPTUTKJJPTUTKJJEYEJJPTUZUIZJULIHAERWAKJUYHIGRDMEJJUDKPERDAERWJKPPJUHIGRDDIIHYIZURUDIGPILKPLKHYPIRIRUYKDUERDPTURIRERIPTUHRICIKRCGZYPEKHYLIHPTUTIVVKPVUDHIIAYVEPTHIIAYMUJJEHYZERPHKUYJIPYILPTUYUOEHDHIVUYTUTEDOTIJUHIIAYDUXIPUDPIMJIPTUYSKPMTURYDKRKRCHIIAYEJJOUHUIRPTUYEAULJIIHERDKRDUUDIRPTUYEAUZEYYECUPTUVUYPHIIAYOUHUEJJIRPTUJULPTERDYKDUCIKRCKRLIHPTUYUOUHUPTUIRJWIRUYPITEXUOKRDIOYDUUZYUPHIGRDOKRDIOYJIISKRCIXUHTKYCEHDURERDAUEDIOYVUWIRDYJIZKRCDIORPIPTUHKXUH'.replace(' ', '')\n",
    "\n",
    "pvalues = [8.167, 1.492, 2.782, 4.253, 12.702, 2.228, 2.015, 6.094, 6.966, 0.153, 0.772, 4.025, 2.406, 6.749, 7.507, 1.929, 0.095, 5.987, 6.327, 9.056, 2.758, 0.978, 2.360, 0.150, 1.974, 0.074]\n",
    "pvalues.sort(reverse=True)\n",
    "plabels = ['E', 'T', 'A', 'O', 'I', 'N', 'S', 'H', 'R', 'D', 'L', 'C', 'U', 'M', 'W', 'F', 'G', 'Y', 'P', 'B', 'V', 'K', 'J', 'X', 'Q', 'Z']\n",
    "\n",
    "shell = []\n",
    "for char in plabels:\n",
    "    shell.append([char, 100*ciphertext.count(char)/len(ciphertext)])\n",
    "\n",
    "def takeSecond(elem):\n",
    "    return elem[1]\n",
    "\n",
    "shell.sort(key=takeSecond, reverse=True)\n",
    "\n",
    "cvalues = []\n",
    "clabels = []\n",
    "for i in shell:\n",
    "    clabels.append(i[0])\n",
    "    cvalues.append(i[1])    \n",
    "\n",
    "fig, ax =plt.subplots(1,2)\n",
    "ax[0].set_title('Plaintext')\n",
    "ax[0].set(xlabel='plaintext letters', ylabel='% of text')\n",
    "ax[1].set_title('Ciphertext')\n",
    "ax[1].set(xlabel='ciphertext letters', ylabel='% of text')\n",
    "sns.barplot(plabels, pvalues, color=\"steelblue\", ax=ax[0]);\n",
    "sns.barplot(clabels, cvalues, color=\"steelblue\", ax=ax[1]);"
   ]
  },
  {
   "cell_type": "markdown",
   "metadata": {},
   "source": [
    "At first glance, this actually looks pretty good! You can see that the distributions vary slightly but have a similar shape. However, if you were to correspond the letters 1-to-1 in their frequency order ($\\text{I} \\rightarrow \\text{e}$, $\\text{U} \\rightarrow \\text{t}$, etc.) to decipher the message, you would receive the following plaintext:"
   ]
  },
  {
   "cell_type": "code",
   "execution_count": 9,
   "metadata": {
    "tags": [
     "remove_input"
    ]
   },
   "outputs": [
    {
     "name": "stdout",
     "output_type": "stream",
     "text": [
      "stiuenlstguloyectjgulylnsfljiuexxsgtegitiwgajsygarlguenlhsnnljrsgugulltjwehreypwitjiteekawplnnteyalgijyaxiylwitjauenlrsgutegustostsggewsgjerteteygeligsgriwiuexxsguenlitjguigplitwvepheygsguijiblyhlvgnayectjjeeynsdlibeyguenlbistgljoylltrsguiwustaalnnerxyiwwdtexstgullzivgpsjjnlguljeeyebltljetgeigcxlwuibljuinnnsdligcttlniflyavepheygixnlgcttlnrsguecgwpedlrsgubitlnnljrinnwitjhneeywgsnljitjviyblgljbyefsjljrsgubenswuljvuisywitjnegwitjnegwehblowheyuigwitjveigwguluexxsgriwhetjehfswsgeywgulgcttlnrectjetitjetoestohisynaxcgtegqcsglwgyisougstgegulwsjlehgulusnngulusnniwinngulblebnlheypitapsnlwyectjvinnljsgitjpitansggnlyectjjeeywebltljecgehsghsywgetetlwsjlitjgultetitegulyteoestocbwgisywheyguluexxsgxljyeepwxiguyeepwvlnniywbitgyslwnegwehgulwlriyjyexlwuluijruenlyeepwjlfegljgevnegulwdsgvultwjststoyeepwinnrlyletgulwiplhneeyitjstjlljetgulwiplbiwwiolgulxlwgyeepwrlylinnetgulnlhguitjwsjloestostheygulwlrlylguletnaetlwgeuiflrstjerwjllbwlgyectjrstjerwneedstoeflyuswoiyjltitjplijerwxlaetjwnebstojertgegulysfly\n"
     ]
    }
   ],
   "source": [
    "for i in plabels:\n",
    "    #print(i, clabels[ plabels.index(i) ].lower())\n",
    "    ciphertext = ciphertext.replace(i, clabels[ plabels.index(i) ].lower())\n",
    "\n",
    "print( ciphertext) "
   ]
  },
  {
   "cell_type": "markdown",
   "metadata": {},
   "source": [
    "This looks less good! In fact, while there are a few English words that appear, there's nothing close to a coherent message. Why not?\n",
    "\n",
    "__Directly comparing frequencies individually is very sensitive to errors.__ If a particular letter is under- or over-represented in the ciphertext compared to the expected frequency, not only does it put the letter in the incorrect order in the distribution, it will also alter the order of many other letters in the distribution. For example, suppose the message was discussing a specific topic that caused the ciphertext letter `J` to be show up less than it normally would. This not only puts `J` lower in the distribution, matching it with the wrong plaintext letter, but it also means that several other letters were misordered as a result. If it were actually supposed to fall between ciphertext letters `K` and `D`, that means all the letters between `D` and `J` were incorrectly mapped to the plaintext as well, since they were all shifted up 1 higher than they should have in the list. If you get just a few letters out of order, it throws the whole deciphering process off completely. Look how different the plaintext message is from the ciphertext message.\n",
    "\n",
    "The actual plaintext message is:\n",
    "> In a hole in the ground there lived a hobbit. Not a nasty, dirty, wet hole, filled with the ends of worms and an oozy smell, nor yet a dry, bare, sandy hole with nothing in it to sit down on or to eat: it was a hobbit-hole, and that means comfort. It had a perfectly round door like a porthole, painted green, with a shiny yellow brass knob in the exact middle. The door opened on to a tube-shaped hall like a tunnel: a very comfortable tunnel without smoke, with panelled walls, and floors tiled and carpeted, provided with polished chairs, and lots and lots of pegs for hats and coats - the hobbit was fond of visitors. The tunnel wound on and on, going fairly but not quite straight into the side of the hill - The Hill, as all the people for many miles round called it - and many little round doors opened out of it, first on one side and then on another. No going upstairs for the hobbit: bedrooms, bathrooms, cellars, pantries (lots of these), wardrobes (he had whole rooms devoted to clothes), kitchens, dining-rooms, all were on the same floor, and indeed on the same passage. The best rooms were all on the left-hand side (going in), for these were the only ones to have windows, deep-set round windows looking over his garden and meadows beyond, sloping down to the river.\n",
    "\n",
    "We'll need to do better if we want a chance to automate our cipher cracking process."
   ]
  }
 ],
 "metadata": {
  "kernelspec": {
   "display_name": "Python 3",
   "language": "python",
   "name": "python3"
  },
  "language_info": {
   "codemirror_mode": {
    "name": "ipython",
    "version": 3
   },
   "file_extension": ".py",
   "mimetype": "text/x-python",
   "name": "python",
   "nbconvert_exporter": "python",
   "pygments_lexer": "ipython3",
   "version": "3.7.3"
  }
 },
 "nbformat": 4,
 "nbformat_minor": 4
}
