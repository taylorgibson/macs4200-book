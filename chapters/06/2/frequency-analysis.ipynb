{
 "cells": [
  {
   "cell_type": "code",
   "execution_count": 1,
   "metadata": {
    "tags": [
     "remove_cell"
    ]
   },
   "outputs": [],
   "source": [
    "def text_clean( text ):\n",
    "    LETTERS = 'ABCDEFGHIJKLMNOPQRSTUVWXYZ'\n",
    "    text = text.upper()\n",
    "    cleaned = ''\n",
    "    for char in text:\n",
    "        if char in LETTERS:\n",
    "            cleaned += char\n",
    "            \n",
    "    return cleaned"
   ]
  },
  {
   "cell_type": "markdown",
   "metadata": {},
   "source": [
    "# Frequency Analysis\n",
    "\n",
    "Frequency analysis is an import part of cryptanalysis. It's can be used to crack many of the classical ciphers previously covered in this textbook.\n",
    "\n",
    "In this section, you will:\n",
    "* learn the relative frequency of each character in the English language\n",
    "* create bar charts using the `matplotlib` package\n",
    "* crack a ciphertext created with the Caesar cipher\n",
    "\n",
    "You will not learn to:\n",
    "* efficiently crack ciphertext created with the affine cipher\n",
    "\n",
    "You should already know how to:\n",
    "* encrypt and decrypt messages using the Caesar cipher\n",
    "* use the `str.count()` method to count occurrences of substrings in a plaintext or ciphertext message\n",
    "* create `list` objects and append data to them\n",
    "* `import` Python packages\n",
    "* use the `text_clean` function to remove unwanted characters from strings"
   ]
  },
  {
   "cell_type": "markdown",
   "metadata": {},
   "source": [
    "## English Letter Frequency\n",
    "\n",
    "The English language has a predictable distribution of letters. Certain letters consistently appear more often than others. If you were to:\n",
    "\n",
    "1. select an English-language book at \n",
    "2. count the number of occurrences for each English character, A-Z\n",
    "3. compute the percentage of characters in the book comprised of each English character\n",
    "\n",
    "you would see that regardless of the book you'd obtain approximately the same percentages.\n",
    "\n",
    "Wikipedia provides the individual letter frequencies, shown in the table below."
   ]
  },
  {
   "cell_type": "code",
   "execution_count": 16,
   "metadata": {
    "tags": [
     "remove_cell"
    ]
   },
   "outputs": [
    {
     "data": {
      "text/html": [
       "<table border=\"1\" class=\"dataframe\">\n",
       "    <thead>\n",
       "        <tr>\n",
       "            <th>Letter</th> <th>Wikipedia</th>\n",
       "        </tr>\n",
       "    </thead>\n",
       "    <tbody>\n",
       "        <tr>\n",
       "            <td>A     </td> <td>8.167%   </td>\n",
       "        </tr>\n",
       "        <tr>\n",
       "            <td>B     </td> <td>1.492%   </td>\n",
       "        </tr>\n",
       "        <tr>\n",
       "            <td>C     </td> <td>2.782%   </td>\n",
       "        </tr>\n",
       "        <tr>\n",
       "            <td>D     </td> <td>4.253%   </td>\n",
       "        </tr>\n",
       "        <tr>\n",
       "            <td>E     </td> <td>12.702%  </td>\n",
       "        </tr>\n",
       "        <tr>\n",
       "            <td>F     </td> <td>2.228%   </td>\n",
       "        </tr>\n",
       "        <tr>\n",
       "            <td>G     </td> <td>2.015%   </td>\n",
       "        </tr>\n",
       "        <tr>\n",
       "            <td>H     </td> <td>6.094%   </td>\n",
       "        </tr>\n",
       "        <tr>\n",
       "            <td>I     </td> <td>6.966%   </td>\n",
       "        </tr>\n",
       "        <tr>\n",
       "            <td>J     </td> <td>0.153%   </td>\n",
       "        </tr>\n",
       "    </tbody>\n",
       "</table>\n",
       "<p>... (16 rows omitted)</p>"
      ],
      "text/plain": [
       "Letter | Wikipedia\n",
       "A      | 8.167%\n",
       "B      | 1.492%\n",
       "C      | 2.782%\n",
       "D      | 4.253%\n",
       "E      | 12.702%\n",
       "F      | 2.228%\n",
       "G      | 2.015%\n",
       "H      | 6.094%\n",
       "I      | 6.966%\n",
       "J      | 0.153%\n",
       "... (16 rows omitted)"
      ]
     },
     "execution_count": 16,
     "metadata": {},
     "output_type": "execute_result"
    }
   ],
   "source": [
    "from datascience import *\n",
    "%matplotlib inline\n",
    "import matplotlib.pyplot as plots\n",
    "\n",
    "import numpy as np\n",
    "\n",
    "LETTERS = 'ABCDEFGHIJKLMNOPQRSTUVWXYZ'\n",
    "\n",
    "frequency_table = Table().with_columns(\"Letter\", make_array('A', 'B', 'C', 'D', 'E', 'F', 'G', 'H', 'I', 'J', 'K', 'L', 'M', 'N', 'O', 'P', 'Q', 'R', 'S', 'T', 'U', 'V', 'W', 'X', 'Y', 'Z'), \"Wikipedia\", make_array(8.167, 1.492, 2.782, 4.253, 12.702, 2.228, 2.015, 6.094, 6.966, 0.153, 0.772, 4.025, 2.406, 6.749, 7.507, 1.929, 0.095, 5.987, 6.327, 9.056, 2.758, 0.978, 2.360, 0.150, 1.974, 0.074)/100)\n",
    "frequency_table.set_format('Wikipedia', PercentFormatter(decimals=3))"
   ]
  },
  {
   "cell_type": "code",
   "execution_count": 17,
   "metadata": {
    "tags": [
     "remove_input"
    ]
   },
   "outputs": [
    {
     "data": {
      "text/html": [
       "<table border=\"1\" class=\"dataframe\">\n",
       "    <thead>\n",
       "        <tr>\n",
       "            <th>Letter</th> <th>Wikipedia</th>\n",
       "        </tr>\n",
       "    </thead>\n",
       "    <tbody>\n",
       "        <tr>\n",
       "            <td>A     </td> <td>8.167%   </td>\n",
       "        </tr>\n",
       "        <tr>\n",
       "            <td>B     </td> <td>1.492%   </td>\n",
       "        </tr>\n",
       "        <tr>\n",
       "            <td>C     </td> <td>2.782%   </td>\n",
       "        </tr>\n",
       "        <tr>\n",
       "            <td>D     </td> <td>4.253%   </td>\n",
       "        </tr>\n",
       "        <tr>\n",
       "            <td>E     </td> <td>12.702%  </td>\n",
       "        </tr>\n",
       "        <tr>\n",
       "            <td>F     </td> <td>2.228%   </td>\n",
       "        </tr>\n",
       "        <tr>\n",
       "            <td>G     </td> <td>2.015%   </td>\n",
       "        </tr>\n",
       "        <tr>\n",
       "            <td>H     </td> <td>6.094%   </td>\n",
       "        </tr>\n",
       "        <tr>\n",
       "            <td>I     </td> <td>6.966%   </td>\n",
       "        </tr>\n",
       "        <tr>\n",
       "            <td>J     </td> <td>0.153%   </td>\n",
       "        </tr>\n",
       "        <tr>\n",
       "            <td>K     </td> <td>0.772%   </td>\n",
       "        </tr>\n",
       "        <tr>\n",
       "            <td>L     </td> <td>4.025%   </td>\n",
       "        </tr>\n",
       "        <tr>\n",
       "            <td>M     </td> <td>2.406%   </td>\n",
       "        </tr>\n",
       "        <tr>\n",
       "            <td>N     </td> <td>6.749%   </td>\n",
       "        </tr>\n",
       "        <tr>\n",
       "            <td>O     </td> <td>7.507%   </td>\n",
       "        </tr>\n",
       "        <tr>\n",
       "            <td>P     </td> <td>1.929%   </td>\n",
       "        </tr>\n",
       "        <tr>\n",
       "            <td>Q     </td> <td>0.095%   </td>\n",
       "        </tr>\n",
       "        <tr>\n",
       "            <td>R     </td> <td>5.987%   </td>\n",
       "        </tr>\n",
       "        <tr>\n",
       "            <td>S     </td> <td>6.327%   </td>\n",
       "        </tr>\n",
       "        <tr>\n",
       "            <td>T     </td> <td>9.056%   </td>\n",
       "        </tr>\n",
       "        <tr>\n",
       "            <td>U     </td> <td>2.758%   </td>\n",
       "        </tr>\n",
       "        <tr>\n",
       "            <td>V     </td> <td>0.978%   </td>\n",
       "        </tr>\n",
       "        <tr>\n",
       "            <td>W     </td> <td>2.360%   </td>\n",
       "        </tr>\n",
       "        <tr>\n",
       "            <td>X     </td> <td>0.150%   </td>\n",
       "        </tr>\n",
       "        <tr>\n",
       "            <td>Y     </td> <td>1.974%   </td>\n",
       "        </tr>\n",
       "        <tr>\n",
       "            <td>Z     </td> <td>0.074%   </td>\n",
       "        </tr>\n",
       "    </tbody>\n",
       "</table>"
      ],
      "text/plain": [
       "<IPython.core.display.HTML object>"
      ]
     },
     "metadata": {},
     "output_type": "display_data"
    }
   ],
   "source": [
    "frequency_table.show()"
   ]
  },
  {
   "cell_type": "markdown",
   "metadata": {},
   "source": [
    "## Computing Letter Frequencies\n",
    "\n",
    "The Wikipedia data lacks a proper citation for these values. You should verify these numbers are reasonable by computing letter frequencies for text contained in the book [Pride and Prejudice](https://www.gutenberg.org/ebooks/1342).\n",
    "\n",
    "1. Download the [plaintext version](https://www.gutenberg.org/files/1342/1342-0.txt) of *Pride and Prejudice* from Project Gutenberg.\n",
    "2. Read in the plaintext file, clean it using the `text_clean` function, and save the result to the string `text`. The output should only contain uppercase versions of the 26 English letters."
   ]
  },
  {
   "cell_type": "code",
   "execution_count": 18,
   "metadata": {
    "tags": []
   },
   "outputs": [],
   "source": [
    "with open('pride-and-prejudice.txt', encoding=\"utf8\") as f:\n",
    "    text = text_clean(f.read())"
   ]
  },
  {
   "cell_type": "markdown",
   "metadata": {},
   "source": [
    "3. Count the number times of each character appears in `text`. Then, compute the percentage of the entire book comprised of each letter."
   ]
  },
  {
   "cell_type": "code",
   "execution_count": 32,
   "metadata": {},
   "outputs": [
    {
     "data": {
      "text/plain": [
       "[7.738792200306681,\n",
       " 1.6968936804213777,\n",
       " 2.5491468405731954,\n",
       " 4.140551082626144,\n",
       " 12.905055880401802,\n",
       " 2.244641245282882,\n",
       " 1.893009784054782,\n",
       " 6.268465183047739,\n",
       " 7.0592734641499035,\n",
       " 0.17581573061405004,\n",
       " 0.6057486306310879,\n",
       " 4.000261004795963,\n",
       " 2.7414566242654708,\n",
       " 7.019035224772256,\n",
       " 7.499900310668209,\n",
       " 1.5738226689915427,\n",
       " 0.11563962487810714,\n",
       " 6.066548972837376,\n",
       " 6.139050305049356,\n",
       " 8.72916039832232,\n",
       " 2.811057903188971,\n",
       " 1.0585194502948991,\n",
       " 2.2788981247530424,\n",
       " 0.15714663756946534,\n",
       " 2.3620934034662886,\n",
       " 0.1700156240370917]"
      ]
     },
     "execution_count": 32,
     "metadata": {},
     "output_type": "execute_result"
    }
   ],
   "source": [
    "LETTERS = 'ABCDEFGHIJKLMNOPQRSTUVWXYZ'\n",
    "letter_frequencies = []\n",
    "text_length = len(text)\n",
    "\n",
    "for char in LETTERS:\n",
    "    letter_frequencies.append(100*text.count(char)/text_length)\n",
    "   \n",
    "letter_frequencies"
   ]
  },
  {
   "cell_type": "markdown",
   "metadata": {},
   "source": [
    "The percentages are shown alongside the values provided by Wikipedia in the table below:"
   ]
  },
  {
   "cell_type": "code",
   "execution_count": 20,
   "metadata": {
    "tags": [
     "remove_cell"
    ]
   },
   "outputs": [
    {
     "data": {
      "text/html": [
       "<table border=\"1\" class=\"dataframe\">\n",
       "    <thead>\n",
       "        <tr>\n",
       "            <th>Letter</th> <th>Wikipedia</th> <th>Pride and Prejudice</th>\n",
       "        </tr>\n",
       "    </thead>\n",
       "    <tbody>\n",
       "        <tr>\n",
       "            <td>A     </td> <td>8.167%   </td> <td>7.739%             </td>\n",
       "        </tr>\n",
       "        <tr>\n",
       "            <td>B     </td> <td>1.492%   </td> <td>1.697%             </td>\n",
       "        </tr>\n",
       "        <tr>\n",
       "            <td>C     </td> <td>2.782%   </td> <td>2.549%             </td>\n",
       "        </tr>\n",
       "        <tr>\n",
       "            <td>D     </td> <td>4.253%   </td> <td>4.141%             </td>\n",
       "        </tr>\n",
       "        <tr>\n",
       "            <td>E     </td> <td>12.702%  </td> <td>12.905%            </td>\n",
       "        </tr>\n",
       "        <tr>\n",
       "            <td>F     </td> <td>2.228%   </td> <td>2.245%             </td>\n",
       "        </tr>\n",
       "        <tr>\n",
       "            <td>G     </td> <td>2.015%   </td> <td>1.893%             </td>\n",
       "        </tr>\n",
       "        <tr>\n",
       "            <td>H     </td> <td>6.094%   </td> <td>6.268%             </td>\n",
       "        </tr>\n",
       "        <tr>\n",
       "            <td>I     </td> <td>6.966%   </td> <td>7.059%             </td>\n",
       "        </tr>\n",
       "        <tr>\n",
       "            <td>J     </td> <td>0.153%   </td> <td>0.176%             </td>\n",
       "        </tr>\n",
       "    </tbody>\n",
       "</table>\n",
       "<p>... (16 rows omitted)</p>"
      ],
      "text/plain": [
       "Letter | Wikipedia | Pride and Prejudice\n",
       "A      | 8.167%    | 7.739%\n",
       "B      | 1.492%    | 1.697%\n",
       "C      | 2.782%    | 2.549%\n",
       "D      | 4.253%    | 4.141%\n",
       "E      | 12.702%   | 12.905%\n",
       "F      | 2.228%    | 2.245%\n",
       "G      | 2.015%    | 1.893%\n",
       "H      | 6.094%    | 6.268%\n",
       "I      | 6.966%    | 7.059%\n",
       "J      | 0.153%    | 0.176%\n",
       "... (16 rows omitted)"
      ]
     },
     "execution_count": 20,
     "metadata": {},
     "output_type": "execute_result"
    }
   ],
   "source": [
    "PP_frequency = make_array()\n",
    "for char in LETTERS:\n",
    "    PP_frequency = np.append(PP_frequency, text.count(char)/len(text) )\n",
    "\n",
    "frequency_table = frequency_table.with_column('Pride and Prejudice', PP_frequency)\n",
    "frequency_table.set_format('Pride and Prejudice', PercentFormatter(decimals=3)).set_format('Wikipedia', PercentFormatter(decimals=3))"
   ]
  },
  {
   "cell_type": "code",
   "execution_count": 21,
   "metadata": {
    "tags": [
     "remove_input"
    ]
   },
   "outputs": [
    {
     "data": {
      "text/html": [
       "<table border=\"1\" class=\"dataframe\">\n",
       "    <thead>\n",
       "        <tr>\n",
       "            <th>Letter</th> <th>Wikipedia</th> <th>Pride and Prejudice</th>\n",
       "        </tr>\n",
       "    </thead>\n",
       "    <tbody>\n",
       "        <tr>\n",
       "            <td>A     </td> <td>8.167%   </td> <td>7.739%             </td>\n",
       "        </tr>\n",
       "        <tr>\n",
       "            <td>B     </td> <td>1.492%   </td> <td>1.697%             </td>\n",
       "        </tr>\n",
       "        <tr>\n",
       "            <td>C     </td> <td>2.782%   </td> <td>2.549%             </td>\n",
       "        </tr>\n",
       "        <tr>\n",
       "            <td>D     </td> <td>4.253%   </td> <td>4.141%             </td>\n",
       "        </tr>\n",
       "        <tr>\n",
       "            <td>E     </td> <td>12.702%  </td> <td>12.905%            </td>\n",
       "        </tr>\n",
       "        <tr>\n",
       "            <td>F     </td> <td>2.228%   </td> <td>2.245%             </td>\n",
       "        </tr>\n",
       "        <tr>\n",
       "            <td>G     </td> <td>2.015%   </td> <td>1.893%             </td>\n",
       "        </tr>\n",
       "        <tr>\n",
       "            <td>H     </td> <td>6.094%   </td> <td>6.268%             </td>\n",
       "        </tr>\n",
       "        <tr>\n",
       "            <td>I     </td> <td>6.966%   </td> <td>7.059%             </td>\n",
       "        </tr>\n",
       "        <tr>\n",
       "            <td>J     </td> <td>0.153%   </td> <td>0.176%             </td>\n",
       "        </tr>\n",
       "        <tr>\n",
       "            <td>K     </td> <td>0.772%   </td> <td>0.606%             </td>\n",
       "        </tr>\n",
       "        <tr>\n",
       "            <td>L     </td> <td>4.025%   </td> <td>4.000%             </td>\n",
       "        </tr>\n",
       "        <tr>\n",
       "            <td>M     </td> <td>2.406%   </td> <td>2.741%             </td>\n",
       "        </tr>\n",
       "        <tr>\n",
       "            <td>N     </td> <td>6.749%   </td> <td>7.019%             </td>\n",
       "        </tr>\n",
       "        <tr>\n",
       "            <td>O     </td> <td>7.507%   </td> <td>7.500%             </td>\n",
       "        </tr>\n",
       "        <tr>\n",
       "            <td>P     </td> <td>1.929%   </td> <td>1.574%             </td>\n",
       "        </tr>\n",
       "        <tr>\n",
       "            <td>Q     </td> <td>0.095%   </td> <td>0.116%             </td>\n",
       "        </tr>\n",
       "        <tr>\n",
       "            <td>R     </td> <td>5.987%   </td> <td>6.067%             </td>\n",
       "        </tr>\n",
       "        <tr>\n",
       "            <td>S     </td> <td>6.327%   </td> <td>6.139%             </td>\n",
       "        </tr>\n",
       "        <tr>\n",
       "            <td>T     </td> <td>9.056%   </td> <td>8.729%             </td>\n",
       "        </tr>\n",
       "        <tr>\n",
       "            <td>U     </td> <td>2.758%   </td> <td>2.811%             </td>\n",
       "        </tr>\n",
       "        <tr>\n",
       "            <td>V     </td> <td>0.978%   </td> <td>1.059%             </td>\n",
       "        </tr>\n",
       "        <tr>\n",
       "            <td>W     </td> <td>2.360%   </td> <td>2.279%             </td>\n",
       "        </tr>\n",
       "        <tr>\n",
       "            <td>X     </td> <td>0.150%   </td> <td>0.157%             </td>\n",
       "        </tr>\n",
       "        <tr>\n",
       "            <td>Y     </td> <td>1.974%   </td> <td>2.362%             </td>\n",
       "        </tr>\n",
       "        <tr>\n",
       "            <td>Z     </td> <td>0.074%   </td> <td>0.170%             </td>\n",
       "        </tr>\n",
       "    </tbody>\n",
       "</table>"
      ],
      "text/plain": [
       "<IPython.core.display.HTML object>"
      ]
     },
     "metadata": {},
     "output_type": "display_data"
    }
   ],
   "source": [
    "frequency_table.show()"
   ]
  },
  {
   "cell_type": "markdown",
   "metadata": {},
   "source": [
    "The values provided from Wikipedia are very close to the values produced by analyzing *Pride and Prejudice*. Some values are within 0.01 of each other. The results of this analysis indicate it is reasonable to use the values provided by Wikipedia, even though they do not match perfectly with *Pride and Prejudice*. \n",
    "\n",
    "Analyzing only a single text often leads to slight deviations from the average values provided by Wikipedia. Letter frequency will naturally differ by author and subject. However, combining multiple lengthy texts will likely demonstrate a letter frequency distribution similar to the values found in the Wikipedia article."
   ]
  },
  {
   "cell_type": "markdown",
   "metadata": {},
   "source": [
    "## Visualization in Python\n",
    "\n",
    "Numerical data is difficult to analyze when formatted as a list. A data visualization will quickly reveal patterns and trends in the data. The summary data stored to the list `letter_frequencies` is categorical; a bar chart would is the most appropriate way to visualize the categorical data it represents.\n",
    "\n",
    "Python has several data visualization packages, including: Matplotlib, Seaborn, Altair, Bokeh, Plotly, and more. This course will expect data visualizations to be created using Matplotlib."
   ]
  },
  {
   "cell_type": "markdown",
   "metadata": {},
   "source": [
    "### Creating Bar Charts\n",
    "\n",
    "To create a bar chart of the data stored in `letter_frequencies`:\n",
    "\n",
    "1. **Import the Matplotlib library.** Most installations of Python include this package by default. If not, visit [Matplotlib](https://matplotlib.org/) to learn how to install it."
   ]
  },
  {
   "cell_type": "code",
   "execution_count": 22,
   "metadata": {},
   "outputs": [],
   "source": [
    "import matplotlib.pyplot as plt"
   ]
  },
  {
   "cell_type": "markdown",
   "metadata": {},
   "source": [
    "2. **Construct a bar chart by calling `plt.bar()`.** `plt.bar()` accepts two list arguments: the first contains the labels for the categorical data, the second contains the numerical data that represents the height of the bars."
   ]
  },
  {
   "cell_type": "code",
   "execution_count": 23,
   "metadata": {
    "tags": [
     "remove_output"
    ]
   },
   "outputs": [
    {
     "data": {
      "text/plain": [
       "<BarContainer object of 26 artists>"
      ]
     },
     "execution_count": 23,
     "metadata": {},
     "output_type": "execute_result"
    },
    {
     "data": {
      "image/png": "[encoded data removed]",
      "text/plain": [
       "<Figure size 432x288 with 1 Axes>"
      ]
     },
     "metadata": {
      "needs_background": "light"
     },
     "output_type": "display_data"
    }
   ],
   "source": [
    "plt.bar(list(LETTERS), letter_frequencies)"
   ]
  },
  {
   "cell_type": "markdown",
   "metadata": {},
   "source": [
    "3. **Configure the labels on the bar chart.** Matplotlib allows you to customize almost every aspect of the chart, including the x-axis label, y-axis label, and chart title."
   ]
  },
  {
   "cell_type": "code",
   "execution_count": 24,
   "metadata": {
    "tags": [
     "remove_output"
    ]
   },
   "outputs": [
    {
     "data": {
      "text/plain": [
       "Text(0.5, 1.0, 'Frequency Analysis')"
      ]
     },
     "execution_count": 24,
     "metadata": {},
     "output_type": "execute_result"
    },
    {
     "data": {
      "image/png": "[encoded data removed]",
      "text/plain": [
       "<Figure size 432x288 with 1 Axes>"
      ]
     },
     "metadata": {
      "needs_background": "light"
     },
     "output_type": "display_data"
    }
   ],
   "source": [
    "plt.xlabel('Letters')\n",
    "plt.ylabel('Frequency')\n",
    "plt.title('Frequency Analysis')"
   ]
  },
  {
   "cell_type": "markdown",
   "metadata": {},
   "source": [
    "4. **Show the chart**. The previous commands have generated the chart and configured the chart, but have not yet displayed it. Combine the earlier commands with `plt.show()` to display customized bar chart."
   ]
  },
  {
   "cell_type": "code",
   "execution_count": 25,
   "metadata": {},
   "outputs": [
    {
     "data": {
      "image/png": "[encoded data removed]",
      "text/plain": [
       "<Figure size 432x288 with 1 Axes>"
      ]
     },
     "metadata": {
      "needs_background": "light"
     },
     "output_type": "display_data"
    }
   ],
   "source": [
    "plt.bar(list(LETTERS), letter_frequencies)\n",
    "plt.xlabel('Letters')\n",
    "plt.ylabel('Frequency')\n",
    "plt.title('Frequency Analysis')\n",
    "plt.show()"
   ]
  },
  {
   "cell_type": "markdown",
   "metadata": {},
   "source": [
    "### Analyzing a Bar Chart\n",
    "\n",
    "The bar chart reveals several observations that are helpful for cryptanalysis.\n",
    "* A and E are both high frequency letters spaced 4 apart from each other\n",
    "* H and I are relatively high frequency letters adjacent to each other\n",
    "* N and O are relatively high frequency letters adjacent to each other\n",
    "* R, S, and T are relatively high frequency letters adjacent to each other\n",
    "* Most other letters have relatively low frequency, some with very low frequency\n",
    "\n",
    "Together these traits form a \"fingerprint\" for the English language. The distribution has predictable peaks and valleys. If a plaintext and ciphertext alphabets retain the same order, like when the Caesar cipher is used, then the same peaks and valleys will appear but shifted.\n",
    "\n",
    "For example, consider the following  ciphertext created with the Caesar cipher and corresponding frequency distribution:\n",
    "> `PMOLO HKHUF AOPUN JVUMP KLUAP HSAVZ HFOLD YVALP APUJP WOLYA OHAPZ IFZVJ OHUNP UNAOL VYKLY VMAOL SLAAL YZVMA OLHSW OHILA AOHAU VAHDV YKJVB SKILT HKLVB A`"
   ]
  },
  {
   "cell_type": "code",
   "execution_count": 26,
   "metadata": {
    "tags": [
     "remove_input"
    ]
   },
   "outputs": [
    {
     "data": {
      "image/png": "[encoded data removed]",
      "text/plain": [
       "<Figure size 432x288 with 1 Axes>"
      ]
     },
     "metadata": {
      "needs_background": "light"
     },
     "output_type": "display_data"
    }
   ],
   "source": [
    "def letter_frequency(text):\n",
    "    text = text_clean(text)\n",
    "    frequencyList = []\n",
    "    LETTERS = 'ABCDEFGHIJKLMNOPQRSTUVWXYZ'\n",
    "    \n",
    "    for char in LETTERS:\n",
    "        frequencyList.append( 100 * text.count(char) / len(text))\n",
    "    \n",
    "    return frequencyList\n",
    "\n",
    "values = letter_frequency('PMOLO HKHUF AOPUN JVUMP KLUAP HSAVZ HFOLD YVALP APUJP WOLYA OHAPZ IFZVJ OHUNP UNAOL VYKLY VMAOL SLAAL YZVMA OLHSW OHILA AOHAU VAHDV YKJVB SKILT HKLVB A' )\n",
    "plt.bar(list(LETTERS), values)\n",
    "plt.xlabel('Letters')\n",
    "plt.ylabel('Frequency')\n",
    "plt.title('Frequency Analysis')\n",
    "plt.show()"
   ]
  },
  {
   "cell_type": "markdown",
   "metadata": {},
   "source": [
    "Even with this fairly short piece of ciphertext, you can observe the following:\n",
    "* H and L in the ciphertext likely correspond to A and E in the plaintext\n",
    "* O and P in the ciphertext correspond to H and I in the plaintext\n",
    "* U and V in the ciphertext correspond to N and O in the plaintext\n",
    "* Y, Z, and A in the ciphertext correspond to, R, S, and T in the plaintext\n",
    "\n",
    "If you assume that the ciphertext letter `L` corresponds to the plaintext letter `e` then you can determine the key used in the Caesar cipher. Since `L` has a position of 11 in the alphabet, `e` has a position of 4, the difference in their positional values is 7, which is equivalent to the key.\n",
    "\n",
    "```{note} \n",
    "This example made a guess about the ciphertext letter than corresponded to the plaintext letter `e`. This could have just as easily been completed using a guess regarding which ciphertext letter corresponded to any other the plaintext character. `a` and `e` are frequent choices beause they are fairly easy to spot in the bar chart.\n",
    "```"
   ]
  },
  {
   "cell_type": "markdown",
   "metadata": {},
   "source": [
    "Applying the key of 7 to the ciphertext yields the following plaintext:\n",
    "\n",
    ">If he had anything confidential to say, he wrote it in cipher, that is, by so changing the order of the letters of the alphabet, that not a word could be made out.\n",
    "\n",
    "Suetonius, *Life of Julius Caesar* 56"
   ]
  },
  {
   "cell_type": "markdown",
   "metadata": {},
   "source": [
    "### Exercise for the Reader\n",
    "Write a function `character_frequency` that:\n",
    "1. takes in a string of text\n",
    "2. cleans the string using the `text_clean` function\n",
    "3. returns a list of 26 frequencies in order from A to Z"
   ]
  },
  {
   "cell_type": "markdown",
   "metadata": {},
   "source": [
    "## Frequency Analysis for the Affine Cipher\n",
    "\n",
    "Frequency analysis on ciphertext generated with the Affine cipher requires additional consideration. The order of the plaintext alphabet is not preserved in the ciphertext alphabet. As a result, you can't search for the the peaks that correspond to the A/E, H/I, N/O, R/S/T plaintext groupings. \n",
    "\n",
    "For example, consider this ciphertext generated with an affine cipher:\n",
    "\n",
    ">`KRETI JUKRP TUCHI GRDPT UHUJK XUDET IVVKP RIPER EYPWD KHPWO UPTIJ ULKJJ UDOKP TPTUU RDYIL OIHAY ERDER IINWY AUJJR IHWUP EDHWV EHUYE RDWTI JUOKP TRIPT KRCKR KPPIY KPDIO RIRIH PIUEP KPOEY ETIVV KPTIJ UERDP TEPAU ERYMI ALIHP KPTED EZUHL UMPJW HIGRD DIIHJ KSUEZ IHPTI JUZEK RPUDC HUURO KPTEY TKRWW UJJIO VHEYY SRIVK RPTUU FEMPA KDDJU PTUDI IHIZU RUDIR PIEPG VUYTE ZUDTE JJJKS UEPGR RUJEX UHWMI ALIHP EVJUP GRRUJ OKPTI GPYAI SUOKP TZERU JJUDO EJJYE RDLJI IHYPK JUDER DMEHZ UPUDZ HIXKD UDOKP TZIJK YTUDM TEKHY ERDJI PYERD JIPYI LZUCY LIHTE PYERD MIEPY PTUTI VVKPO EYLIR DILXK YKPIH YPTUP GRRUJ OIGRD IRERD IRCIK RCLEK HJWVG PRIPQ GKPUY PHEKC TPKRP IPTUY KDUIL PTUTK JJPTU TKJJE YEJJP TUZUI ZJULI HAERW AKJUY HIGRD MEJJU DKPER DAERW JKPPJ UHIGR DDIIH YIZUR UDIGP ILKPL KHYPI RIRUY KDUER DPTUR IRERI PTUHR ICIKR CGZYP EKHYL IHPTU TIVVK PVUDH IIAYV EPTHI IAYMU JJEHY ZERPH KUYJI PYILP TUYUO EHDHI VUYTU TEDOT IJUHI IAYDU XIPUD PIMJI PTUYS KPMTU RYDKR KRCHI IAYEJ JOUHU IRPTU YEAUL JIIHE RDKRD UUDIR PTUYE AUZEY YECUP TUVUY PHIIA YOUHU EJJIR PTUJU LPTER DYKDU CIKRC KRLIH PTUYU OUHUP TUIRJ WIRUY PITEX UOKRD IOYDU UZYUP HIGRD OKRDI OYJII SKRCI XUHTK YCEHD URERD AUEDI OYVUW IRDYJ IZKRC DIORP IPTUH KXUH`\n",
    "\n",
    "The bar chart that corresponds to the ciphertext is shown below:"
   ]
  },
  {
   "cell_type": "code",
   "execution_count": 27,
   "metadata": {
    "tags": [
     "remove_input"
    ]
   },
   "outputs": [
    {
     "data": {
      "image/png": "[encoded data removed]",
      "text/plain": [
       "<Figure size 432x288 with 1 Axes>"
      ]
     },
     "metadata": {
      "needs_background": "light"
     },
     "output_type": "display_data"
    }
   ],
   "source": [
    "values = letter_frequency('KRETI JUKRP TUCHI GRDPT UHUJK XUDET IVVKP RIPER EYPWD KHPWO UPTIJ ULKJJ UDOKP TPTUU RDYIL OIHAY ERDER IINWY AUJJR IHWUP EDHWV EHUYE RDWTI JUOKP TRIPT KRCKR KPPIY KPDIO RIRIH PIUEP KPOEY ETIVV KPTIJ UERDP TEPAU ERYMI ALIHP KPTED EZUHL UMPJW HIGRD DIIHJ KSUEZ IHPTI JUZEK RPUDC HUURO KPTEY TKRWW UJJIO VHEYY SRIVK RPTUU FEMPA KDDJU PTUDI IHIZU RUDIR PIEPG VUYTE ZUDTE JJJKS UEPGR RUJEX UHWMI ALIHP EVJUP GRRUJ OKPTI GPYAI SUOKP TZERU JJUDO EJJYE RDLJI IHYPK JUDER DMEHZ UPUDZ HIXKD UDOKP TZIJK YTUDM TEKHY ERDJI PYERD JIPYI LZUCY LIHTE PYERD MIEPY PTUTI VVKPO EYLIR DILXK YKPIH YPTUP GRRUJ OIGRD IRERD IRCIK RCLEK HJWVG PRIPQ GKPUY PHEKC TPKRP IPTUY KDUIL PTUTK JJPTU TKJJE YEJJP TUZUI ZJULI HAERW AKJUY HIGRD MEJJU DKPER DAERW JKPPJ UHIGR DDIIH YIZUR UDIGP ILKPL KHYPI RIRUY KDUER DPTUR IRERI PTUHR ICIKR CGZYP EKHYL IHPTU TIVVK PVUDH IIAYV EPTHI IAYMU JJEHY ZERPH KUYJI PYILP TUYUO EHDHI VUYTU TEDOT IJUHI IAYDU XIPUD PIMJI PTUYS KPMTU RYDKR KRCHI IAYEJ JOUHU IRPTU YEAUL JIIHE RDKRD UUDIR PTUYE AUZEY YECUP TUVUY PHIIA YOUHU EJJIR PTUJU LPTER DYKDU CIKRC KRLIH PTUYU OUHUP TUIRJ WIRUY PITEX UOKRD IOYDU UZYUP HIGRD OKRDI OYJII SKRCI XUHTK YCEHD URERD AUEDI OYVUW IRDYJ IZKRC DIORP IPTUH KXUH')\n",
    "plt.bar(list(LETTERS), values)\n",
    "plt.xlabel('Letters')\n",
    "plt.ylabel('Frequency')\n",
    "plt.title('Frequency Analysis')\n",
    "plt.show()"
   ]
  },
  {
   "cell_type": "markdown",
   "metadata": {},
   "source": [
    "The above bar chart does not demonstrate any of the patterns that were present when the ciphertext was generated with a Caesar cipher. It doesn't share a *fingerprint* with the English language as seen previously.\n",
    "\n",
    "Instead, create a bar chart with bars ordered from left to right in decreasing frequency. This type of bar chart will allow you to make easy correspondences between the most frequent ciphertext letters and the most frequent plaintext letters. These correspondences are the most likely mappings between the two alphabets. "
   ]
  },
  {
   "cell_type": "code",
   "execution_count": 28,
   "metadata": {
    "tags": [
     "remove_input"
    ]
   },
   "outputs": [
    {
     "data": {
      "image/png": "[encoded data removed]",
      "text/plain": [
       "<Figure size 1080x504 with 2 Axes>"
      ]
     },
     "metadata": {
      "needs_background": "light"
     },
     "output_type": "display_data"
    }
   ],
   "source": [
    "import matplotlib.pyplot as plt\n",
    "ciphertext = 'KRETIJUKRPTUCHIGRDPTUHUJKXUDETIVVKPRIPEREYPWDKHPWOUPTIJULKJJUDOKPTPTUURDYILOIHAYERDERIINWYAUJJRIHWUPEDHWVEHUYERDWTIJUOKPTRIPTKRCKRKPPIYKPDIORIRIHPIUEPKPOEYETIVVKPTIJUERDPTEPAUERYMIALIHPKPTEDEZUHLUMPJWHIGRDDIIHJKSUEZIHPTIJUZEKRPUDCHUUROKPTEYTKRWWUJJIOVHEYYSRIVKRPTUUFEMPAKDDJUPTUDIIHIZURUDIRPIEPGVUYTEZUDTEJJJKSUEPGRRUJEXUHWMIALIHPEVJUPGRRUJOKPTIGPYAISUOKPTZERUJJUDOEJJYERDLJIIHYPKJUDERDMEHZUPUDZHIXKDUDOKPTZIJKYTUDMTEKHYERDJIPYERDJIPYILZUCYLIHTEPYERDMIEPYPTUTIVVKPOEYLIRDILXKYKPIHYPTUPGRRUJOIGRDIRERDIRCIKRCLEKHJWVGPRIPQGKPUYPHEKCTPKRPIPTUYKDUILPTUTKJJPTUTKJJEYEJJPTUZUIZJULIHAERWAKJUYHIGRDMEJJUDKPERDAERWJKPPJUHIGRDDIIHYIZURUDIGPILKPLKHYPIRIRUYKDUERDPTURIRERIPTUHRICIKRCGZYPEKHYLIHPTUTIVVKPVUDHIIAYVEPTHIIAYMUJJEHYZERPHKUYJIPYILPTUYUOEHDHIVUYTUTEDOTIJUHIIAYDUXIPUDPIMJIPTUYSKPMTURYDKRKRCHIIAYEJJOUHUIRPTUYEAULJIIHERDKRDUUDIRPTUYEAUZEYYECUPTUVUYPHIIAYOUHUEJJIRPTUJULPTERDYKDUCIKRCKRLIHPTUYUOUHUPTUIRJWIRUYPITEXUOKRDIOYDUUZYUPHIGRDOKRDIOYJIISKRCIXUHTKYCEHDURERDAUEDIOYVUWIRDYJIZKRCDIORPIPTUHKXUH'.replace(' ', '')\n",
    "\n",
    "pvalues = [8.167, 1.492, 2.782, 4.253, 12.702, 2.228, 2.015, 6.094, 6.966, 0.153, 0.772, 4.025, 2.406, 6.749, 7.507, 1.929, 0.095, 5.987, 6.327, 9.056, 2.758, 0.978, 2.360, 0.150, 1.974, 0.074]\n",
    "pvalues.sort(reverse=True)\n",
    "plabels = ['E', 'T', 'A', 'O', 'I', 'N', 'S', 'H', 'R', 'D', 'L', 'C', 'U', 'M', 'W', 'F', 'G', 'Y', 'P', 'B', 'V', 'K', 'J', 'X', 'Q', 'Z']\n",
    "\n",
    "shell = []\n",
    "for char in plabels:\n",
    "    shell.append([char, 100*ciphertext.count(char)/len(ciphertext)])\n",
    "\n",
    "def takeSecond(elem):\n",
    "    return elem[1]\n",
    "\n",
    "shell.sort(key=takeSecond, reverse=True)\n",
    "\n",
    "cvalues = []\n",
    "clabels = []\n",
    "for i in shell:\n",
    "    clabels.append(i[0])\n",
    "    cvalues.append(i[1])    \n",
    "\n",
    "fig, ax =plt.subplots(1,2, figsize=(15, 7))\n",
    "ax[0].set_title('Expected English Lanuage')\n",
    "ax[0].set(xlabel='English letters', ylabel='% of text')\n",
    "ax[1].set_title('Ciphertext Distribution')\n",
    "ax[1].set(xlabel='Ciphertext letters', ylabel='% of text')\n",
    "ax[0].bar(plabels, pvalues);\n",
    "ax[1].bar(clabels, cvalues);"
   ]
  },
  {
   "cell_type": "markdown",
   "metadata": {},
   "source": [
    "The distributions vary slightly but have a similar shape. The bar charts indicate that the ciphertext letters I and U are the most frequent letters, and likely correspond to the letters E and T. If you were to assume corresponding letters in the bar charts reveal the true mapping, and that ($\\text{I} \\rightarrow \\text{e}$, $\\text{U} \\rightarrow \\text{t}$, etc.),  deciphering the message yields the following:"
   ]
  },
  {
   "cell_type": "code",
   "execution_count": 33,
   "metadata": {
    "tags": [
     "remove_cell"
    ]
   },
   "outputs": [
    {
     "name": "stdout",
     "output_type": "stream",
     "text": [
      "stiuenlstguloyectjgulylnsfljiuexxsgtegitiwgajsygarlguenlhsnnljrsgugulltjwehreypw\n",
      "itjiteekawplnnteyalgijyaxiylwitjauenlrsgutegustostsggewsgjerteteygeligsgriwiuexx\n",
      "sguenlitjguigplitwvepheygsguijiblyhlvgnayectjjeeynsdlibeyguenlbistgljoylltrsguiw\n",
      "ustaalnnerxyiwwdtexstgullzivgpsjjnlguljeeyebltljetgeigcxlwuibljuinnnsdligcttlnif\n",
      "lyavepheygixnlgcttlnrsguecgwpedlrsgubitlnnljrinnwitjhneeywgsnljitjviyblgljbyefsj\n",
      "ljrsgubenswuljvuisywitjnegwitjnegwehblowheyuigwitjveigwguluexxsgriwhetjehfswsgey\n",
      "wgulgcttlnrectjetitjetoestohisynaxcgtegqcsglwgyisougstgegulwsjlehgulusnngulusnni\n",
      "winngulblebnlheypitapsnlwyectjvinnljsgitjpitansggnlyectjjeeywebltljecgehsghsywge\n",
      "tetlwsjlitjgultetitegulyteoestocbwgisywheyguluexxsgxljyeepwxiguyeepwvlnniywbitgy\n",
      "slwnegwehgulwlriyjyexlwuluijruenlyeepwjlfegljgevnegulwdsgvultwjststoyeepwinnrlyl\n",
      "etgulwiplhneeyitjstjlljetgulwiplbiwwiolgulxlwgyeepwrlylinnetgulnlhguitjwsjloesto\n",
      "stheygulwlrlylguletnaetlwgeuiflrstjerwjllbwlgyectjrstjerwneedstoeflyuswoiyjltitj\n",
      "plijerwxlaetjwnebstojertgegulysfly\n"
     ]
    }
   ],
   "source": [
    "import textwrap\n",
    "for i in plabels:\n",
    "    #print(i, clabels[ plabels.index(i) ].lower())\n",
    "    ciphertext = ciphertext.replace(i, clabels[ plabels.index(i) ].lower())\n",
    "\n",
    "for line in textwrap.wrap(ciphertext,width=80):\n",
    "    print(line)"
   ]
  },
  {
   "cell_type": "markdown",
   "metadata": {},
   "source": [
    "> `stiuenlstguloyectjgulylnsfljiuexxsgtegitiwgajsygarlguenlhsnnljrsgugulltjwehreypw\n",
    "itjiteekawplnnteyalgijyaxiylwitjauenlrsgutegustostsggewsgjerteteygeligsgriwiuexx\n",
    "sguenlitjguigplitwvepheygsguijiblyhlvgnayectjjeeynsdlibeyguenlbistgljoylltrsguiw\n",
    "ustaalnnerxyiwwdtexstgullzivgpsjjnlguljeeyebltljetgeigcxlwuibljuinnnsdligcttlnif\n",
    "lyavepheygixnlgcttlnrsguecgwpedlrsgubitlnnljrinnwitjhneeywgsnljitjviyblgljbyefsj\n",
    "ljrsgubenswuljvuisywitjnegwitjnegwehblowheyuigwitjveigwguluexxsgriwhetjehfswsgey\n",
    "wgulgcttlnrectjetitjetoestohisynaxcgtegqcsglwgyisougstgegulwsjlehgulusnngulusnni\n",
    "winngulblebnlheypitapsnlwyectjvinnljsgitjpitansggnlyectjjeeywebltljecgehsghsywge\n",
    "tetlwsjlitjgultetitegulyteoestocbwgisywheyguluexxsgxljyeepwxiguyeepwvlnniywbitgy\n",
    "slwnegwehgulwlriyjyexlwuluijruenlyeepwjlfegljgevnegulwdsgvultwjststoyeepwinnrlyl\n",
    "etgulwiplhneeyitjstjlljetgulwiplbiwwiolgulxlwgyeepwrlylinnetgulnlhguitjwsjloesto\n",
    "stheygulwlrlylguletnaetlwgeuiflrstjerwjllbwlgyectjrstjerwneedstoeflyuswoiyjltitj\n",
    "plijerwxlaetjwnebstojertgegulysfly`"
   ]
  },
  {
   "cell_type": "markdown",
   "metadata": {},
   "source": [
    "This text is not English. In fact, there's nothing close to a coherent message.\n",
    "\n",
    "```{warning} \n",
    "**Directly Comparing Sorted Frequencies is Sensitive to Errors**. If a letter is under- or over-represented in the plaintext message, it will also be under- or over-represented in the ciphertext. When the bars are arranged by frequency, a bar that is misplaced may does not impact the relative order of bars in a single bar char. However, it will impact nearly all the correspondences between the ciphertext and expected English bar charts and can lead to numerous incorrect mappings between the alphabets.\n",
    "```\n",
    "\n",
    "For example, this message used the plaintext character `l` less than usual. The encryption process mapped the plaintext letter `l` to the ciphertext letter `J`. Therefore, the ciphertext letter `J` appears inherits the same frequency that was lower than expected. As a result, the bar for `J` will appear lower in the ciphertext distribution than it would have if the plaintext letter `l` had been used normally.  Comparing the corresponding bars you would incorrectly assume that the ciphertext letter `J` corresponds with the plaintext letter `d` since they are both 10th in position in the bar charts. Not only is this incorrect, but because the bar for `J` is misplaced several other letters were incorrectly positioned. You should take care to ensure that your text does not have an unusual characteristics that would cause this type of analysis to lead to these types of errors.\n",
    "\n",
    "The actual plaintext message is:\n",
    "> In a hole in the ground there lived a hobbit. Not a nasty, dirty, wet hole, filled with the ends of worms and an oozy smell, nor yet a dry, bare, sandy hole with nothing in it to sit down on or to eat: it was a hobbit-hole, and that means comfort. It had a perfectly round door like a porthole, painted green, with a shiny yellow brass knob in the exact middle. The door opened on to a tube-shaped hall like a tunnel: a very comfortable tunnel without smoke, with panelled walls, and floors tiled and carpeted, provided with polished chairs, and lots and lots of pegs for hats and coats - the hobbit was fond of visitors. The tunnel wound on and on, going fairly but not quite straight into the side of the hill - The Hill, as all the people for many miles round called it - and many little round doors opened out of it, first on one side and then on another. No going upstairs for the hobbit: bedrooms, bathrooms, cellars, pantries (lots of these), wardrobes (he had whole rooms devoted to clothes), kitchens, dining-rooms, all were on the same floor, and indeed on the same passage. The best rooms were all on the left-hand side (going in), for these were the only ones to have windows, deep-set round windows looking over his garden and meadows beyond, sloping down to the river."
   ]
  }
 ],
 "metadata": {
  "kernelspec": {
   "display_name": "Python 3 (ipykernel)",
   "language": "python",
   "name": "python3"
  },
  "language_info": {
   "codemirror_mode": {
    "name": "ipython",
    "version": 3
   },
   "file_extension": ".py",
   "mimetype": "text/x-python",
   "name": "python",
   "nbconvert_exporter": "python",
   "pygments_lexer": "ipython3",
   "version": "3.9.6"
  }
 },
 "nbformat": 4,
 "nbformat_minor": 4
}
