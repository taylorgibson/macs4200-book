{
 "cells": [
  {
   "cell_type": "markdown",
   "metadata": {},
   "source": [
    "# String Operations, Methods, and Functions\n",
    "\n",
    "As Cryptography primarily deals with enciphering and deciphering messages written as text, the `string` data type will be used very frequently. There are special operations that can be performed on strings to combine, slice, and display them in ways that will be beneficial for the study of Cryptography.\n",
    "\n",
    "## Concatenating Strings\n",
    "Two strings can be combined end-to-end in a process called __concatenation__. This operation uses the `+` symbol between string literals or variables referencing string objects to create a new string."
   ]
  },
  {
   "cell_type": "code",
   "execution_count": 1,
   "metadata": {},
   "outputs": [
    {
     "name": "stdout",
     "output_type": "stream",
     "text": [
      "hellostudent\n"
     ]
    }
   ],
   "source": [
    "print('hello' + 'student')"
   ]
  },
  {
   "cell_type": "code",
   "execution_count": 2,
   "metadata": {},
   "outputs": [
    {
     "name": "stdout",
     "output_type": "stream",
     "text": [
      "hellostudents\n",
      "studentshello\n"
     ]
    }
   ],
   "source": [
    "word1 = 'hello'\n",
    "word2 = 'students'\n",
    "print(word1 + word2)\n",
    "print(word2 + word1)"
   ]
  },
  {
   "cell_type": "markdown",
   "metadata": {},
   "source": [
    "Notice that unlike addition, the order of concatentation is important, as strings will be combined left to right."
   ]
  },
  {
   "cell_type": "markdown",
   "metadata": {},
   "source": [
    "## Formatting Strings\n",
    "\n",
    "Many object types have built-in features that give them special abilities. These abilities are called __methods__ and many of the methods related to strings allow you to format them a specific way. You call a method onto an object by appending `.methodName()` to the end of the object, where `methodName` is replaced with the name of the method you intend to you.\n",
    "\n",
    "For example, to use the `upper()` method on the object `hello`:"
   ]
  },
  {
   "cell_type": "code",
   "execution_count": 3,
   "metadata": {},
   "outputs": [
    {
     "name": "stdout",
     "output_type": "stream",
     "text": [
      "HELLO\n"
     ]
    }
   ],
   "source": [
    "print( 'hello'.upper() )"
   ]
  },
  {
   "cell_type": "markdown",
   "metadata": {},
   "source": [
    "Methods also work on variables that point to `str` type objects:"
   ]
  },
  {
   "cell_type": "code",
   "execution_count": 4,
   "metadata": {},
   "outputs": [
    {
     "name": "stdout",
     "output_type": "stream",
     "text": [
      "I'LL NEVER TELL!\n"
     ]
    }
   ],
   "source": [
    "password = \"I'll never tell!\"\n",
    "print( password.upper() )"
   ]
  },
  {
   "cell_type": "markdown",
   "metadata": {},
   "source": [
    "Note that the method `upper()` does not change the value of the object `password`, which is still has the original value of \"I'll never tell!\". The method creates a temporary value that can be used instead of the actual value of the object.\n",
    "\n",
    "A table of frequently used methods for string objects and their actions is provided below.\n",
    "\n",
    "| method name | usage | result |\n",
    "| --- | --- | :--- |\n",
    "| upper() | string.upper() | Makes all characters upper-case |\n",
    "| lower() | string.lower() | Makes all characters lower-case|\n",
    "| capitalize() | string.captialize() | Capitalizes the first character in the string|\n",
    "| title() | string.title() | Capitalizes the first character in each word|\n",
    "| swapcase() | string.swapcase() | Swaps the case of each character|\n",
    "| replace() | string.replace(old, new, count)| Replaces old with new. Case sensitive.|\n",
    "| find() | string.find('A') | Returns the index of the first location string A is found, or if not found returns `-1`. Case sensitive. |\n",
    "| index() | string.index('A') | Returns the index of the first location string A is found, or if not found returns an error. Case sensitive. |\n",
    "| count() | string.count('A') | Returns an integer that represents how many 'A's are in the string\n",
    "\n",
    "Methods can be combined by continuing them to the end of your expressions.\n",
    "\n",
    "Examples:"
   ]
  },
  {
   "cell_type": "markdown",
   "metadata": {},
   "source": [
    "We can replace the substring `'bananas'` with the string `'apples'`."
   ]
  },
  {
   "cell_type": "code",
   "execution_count": 5,
   "metadata": {},
   "outputs": [
    {
     "name": "stdout",
     "output_type": "stream",
     "text": [
      "I like apples\n"
     ]
    }
   ],
   "source": [
    "print( 'I like bananas'.replace('bananas','apples') )"
   ]
  },
  {
   "cell_type": "markdown",
   "metadata": {},
   "source": [
    "You don't need to replace all occurrences of `'bananas'` though if you don't want. You can specify how many occurrences to replace by using a a 3rd parameter for your method. The example below will replace only occurrence \\#1 with `'apples'`."
   ]
  },
  {
   "cell_type": "code",
   "execution_count": 3,
   "metadata": {},
   "outputs": [
    {
     "name": "stdout",
     "output_type": "stream",
     "text": [
      "I like apples! bananas are my favorite\n"
     ]
    }
   ],
   "source": [
    "print( 'I like bananas! bananas are my favorite'.replace('bananas','apples', 1) )"
   ]
  },
  {
   "cell_type": "markdown",
   "metadata": {},
   "source": [
    "Methods can be combined and will be applied in order from left to right, so make sure you think through the order to apply them! In the second example using `upper()` after `find()` will result in an error because `find()` will result in an integer, and integers don't have a `upper()` method that can be used."
   ]
  },
  {
   "cell_type": "code",
   "execution_count": 1,
   "metadata": {},
   "outputs": [
    {
     "name": "stdout",
     "output_type": "stream",
     "text": [
      "4\n"
     ]
    }
   ],
   "source": [
    "print( 'mississippi'.upper().count('S') )"
   ]
  },
  {
   "cell_type": "code",
   "execution_count": 7,
   "metadata": {},
   "outputs": [
    {
     "ename": "AttributeError",
     "evalue": "'int' object has no attribute 'upper'",
     "output_type": "error",
     "traceback": [
      "\u001b[1;31m---------------------------------------------------------------------------\u001b[0m",
      "\u001b[1;31mAttributeError\u001b[0m                            Traceback (most recent call last)",
      "\u001b[1;32m<ipython-input-7-f9b5968baf56>\u001b[0m in \u001b[0;36m<module>\u001b[1;34m\u001b[0m\n\u001b[1;32m----> 1\u001b[1;33m \u001b[0mprint\u001b[0m\u001b[1;33m(\u001b[0m \u001b[1;34m'mississippi'\u001b[0m\u001b[1;33m.\u001b[0m\u001b[0mcount\u001b[0m\u001b[1;33m(\u001b[0m\u001b[1;34m'S'\u001b[0m\u001b[1;33m)\u001b[0m\u001b[1;33m.\u001b[0m\u001b[0mupper\u001b[0m\u001b[1;33m(\u001b[0m\u001b[1;33m)\u001b[0m \u001b[1;33m)\u001b[0m\u001b[1;33m\u001b[0m\u001b[1;33m\u001b[0m\u001b[0m\n\u001b[0m",
      "\u001b[1;31mAttributeError\u001b[0m: 'int' object has no attribute 'upper'"
     ]
    }
   ],
   "source": [
    "print( 'mississippi'.count('S').upper() )"
   ]
  },
  {
   "cell_type": "markdown",
   "metadata": {},
   "source": [
    "Using the `find()` method will return the location of the first occurrence of the substring `'n'`. Notice that a character location, or index, starts counting with the first character at `0`. More on this below."
   ]
  },
  {
   "cell_type": "code",
   "execution_count": 1,
   "metadata": {},
   "outputs": [
    {
     "name": "stdout",
     "output_type": "stream",
     "text": [
      "5\n"
     ]
    }
   ],
   "source": [
    "print( \"I'll never tell!\".find('n') )"
   ]
  },
  {
   "cell_type": "markdown",
   "metadata": {},
   "source": [
    "Including 2 additional integers in the `find()` method will allow you narrow down the search. In the example below the `find()` method will return the location of the first occurrence of the substring '`l`' between indices 10 and 15."
   ]
  },
  {
   "cell_type": "code",
   "execution_count": 6,
   "metadata": {},
   "outputs": [
    {
     "name": "stdout",
     "output_type": "stream",
     "text": [
      "13\n"
     ]
    }
   ],
   "source": [
    "print( \"I'll never tell!\".find('l', 10, 15))"
   ]
  },
  {
   "cell_type": "markdown",
   "metadata": {},
   "source": [
    "If a `find()` method can't find a substring, it will return the value of `-1`. The `index()` method, which works similarly, returns an error message when it can't find a substring."
   ]
  },
  {
   "cell_type": "code",
   "execution_count": 7,
   "metadata": {},
   "outputs": [
    {
     "name": "stdout",
     "output_type": "stream",
     "text": [
      "-1\n"
     ]
    }
   ],
   "source": [
    "print( password.upper().find('n') )"
   ]
  },
  {
   "cell_type": "code",
   "execution_count": 8,
   "metadata": {},
   "outputs": [
    {
     "ename": "ValueError",
     "evalue": "substring not found",
     "output_type": "error",
     "traceback": [
      "\u001b[1;31m---------------------------------------------------------------------------\u001b[0m",
      "\u001b[1;31mValueError\u001b[0m                                Traceback (most recent call last)",
      "\u001b[1;32m<ipython-input-8-128724154227>\u001b[0m in \u001b[0;36m<module>\u001b[1;34m\u001b[0m\n\u001b[1;32m----> 1\u001b[1;33m \u001b[0mprint\u001b[0m\u001b[1;33m(\u001b[0m \u001b[1;34m'hello'\u001b[0m\u001b[1;33m.\u001b[0m\u001b[0mindex\u001b[0m\u001b[1;33m(\u001b[0m\u001b[1;34m'Q'\u001b[0m\u001b[1;33m)\u001b[0m \u001b[1;33m)\u001b[0m\u001b[1;33m\u001b[0m\u001b[1;33m\u001b[0m\u001b[0m\n\u001b[0m",
      "\u001b[1;31mValueError\u001b[0m: substring not found"
     ]
    }
   ],
   "source": [
    "print( 'hello'.index('Q') )"
   ]
  },
  {
   "cell_type": "markdown",
   "metadata": {},
   "source": [
    "Notice this last cell produced a new type of error, `ValueError`. This error is raised when an operation or function receives an argument that has the right type but an inappropriate value, and the situation is not described by a more precise exception (error message). In this case, it means that the `index()` method was correctly given a `str` type object `Q`, but it was not found in the the string the method was acting upon, `hello`.\n",
    "\n",
    "### Removing Spaces\n",
    "A good trick to keep in mind is how to remove spaces. You can remove spaces, or any other character, using the `.replace()` method where the second argument is an empty string, `''`"
   ]
  },
  {
   "cell_type": "code",
   "execution_count": 2,
   "metadata": {},
   "outputs": [
    {
     "name": "stdout",
     "output_type": "stream",
     "text": [
      "Whenthiscommandisruntherewillbenomorespaces\n"
     ]
    }
   ],
   "source": [
    "print( 'When this command is run there will be no more spaces'.replace(' ', '') )"
   ]
  },
  {
   "cell_type": "markdown",
   "metadata": {},
   "source": [
    "## The len() Function\n",
    "The built-in `len()` function will return an integer that indicates how many characters are stored a string."
   ]
  },
  {
   "cell_type": "code",
   "execution_count": 9,
   "metadata": {},
   "outputs": [
    {
     "data": {
      "text/plain": [
       "11"
      ]
     },
     "execution_count": 9,
     "metadata": {},
     "output_type": "execute_result"
    }
   ],
   "source": [
    "len( 'hello there' )"
   ]
  },
  {
   "cell_type": "markdown",
   "metadata": {},
   "source": [
    "We'll see later that the `len()` function can be used on other types of objects, such as lists."
   ]
  },
  {
   "cell_type": "markdown",
   "metadata": {},
   "source": [
    "## String Indices\n",
    "When creating a string object in Python, each character in the string is indexed, meaning it has an integer, starting at 0, assigned to each character in the string that denotes the position of that character in the string. For example:"
   ]
  },
  {
   "cell_type": "code",
   "execution_count": 10,
   "metadata": {},
   "outputs": [],
   "source": [
    "code = 'secret'"
   ]
  },
  {
   "cell_type": "markdown",
   "metadata": {},
   "source": [
    "The variable code now points to a string object containing the characters `secret`. The string has been indexed, meaning assigned a position value, starting with `0`:\n",
    "\n",
    "| |0|1|2|3|4|5|\n",
    "|-|-|-|-|-|-|-|\n",
    "|code|`s`|`e`|`c`|`r`|`e`|`t`|\n",
    "\n",
    "You refer to a character stored at a single index, or range of indices using a special syntax.\n",
    "\n",
    "The syntax `stringName[a]` will return the character found at index `a` in the string `stringName`\n",
    "\n",
    "The following Python code will print only the character in string `code` found at index `4`."
   ]
  },
  {
   "cell_type": "code",
   "execution_count": 11,
   "metadata": {},
   "outputs": [
    {
     "name": "stdout",
     "output_type": "stream",
     "text": [
      "e\n"
     ]
    }
   ],
   "source": [
    "print( code[4] )"
   ]
  },
  {
   "cell_type": "markdown",
   "metadata": {},
   "source": [
    "which will also work directly on any literal string object as well:"
   ]
  },
  {
   "cell_type": "code",
   "execution_count": 12,
   "metadata": {},
   "outputs": [
    {
     "name": "stdout",
     "output_type": "stream",
     "text": [
      "c\n"
     ]
    }
   ],
   "source": [
    "print( 'secret'[2] )"
   ]
  },
  {
   "cell_type": "markdown",
   "metadata": {},
   "source": [
    "### Negative Indices\n",
    "\n",
    "You can use negative numbers for indices, which will count indices from the end of the string.\n",
    "\n",
    "| |-6|-5|-4|-3|-2|-1|\n",
    "|-|-|-|-|-|-|-|\n",
    "|code|`s`|`e`|`c`|`r`|`e`|`t`|"
   ]
  },
  {
   "cell_type": "code",
   "execution_count": 13,
   "metadata": {},
   "outputs": [
    {
     "name": "stdout",
     "output_type": "stream",
     "text": [
      "r\n"
     ]
    }
   ],
   "source": [
    "print( code[-3] )"
   ]
  },
  {
   "cell_type": "markdown",
   "metadata": {},
   "source": [
    "### String Slicing\n",
    "You can return a sequence of characters from a string, called __slicing__, by using the notation  `stringName[start:stop:step]`, which will return the characters starting at index `start` and ending at the index *just before* index `stop`, moving by `step` number of spaces each time. Not all of these positions are required, and can be omitted. \n",
    "\n",
    "If `start` is omitted, it's assumed to start at index 0, if `stop` is omitted it's assumed to stop at the last index, and if step is omitted it's assumed to use a step size of 1."
   ]
  },
  {
   "cell_type": "code",
   "execution_count": 14,
   "metadata": {},
   "outputs": [
    {
     "name": "stdout",
     "output_type": "stream",
     "text": [
      "ecr\n"
     ]
    }
   ],
   "source": [
    "print( code[1:4] )"
   ]
  },
  {
   "cell_type": "code",
   "execution_count": 15,
   "metadata": {},
   "outputs": [
    {
     "name": "stdout",
     "output_type": "stream",
     "text": [
      "ert\n"
     ]
    }
   ],
   "source": [
    "print( code[1:6:2] )"
   ]
  },
  {
   "cell_type": "code",
   "execution_count": 16,
   "metadata": {},
   "outputs": [
    {
     "name": "stdout",
     "output_type": "stream",
     "text": [
      "sr\n"
     ]
    }
   ],
   "source": [
    "print( code[::3] )"
   ]
  },
  {
   "cell_type": "code",
   "execution_count": 17,
   "metadata": {},
   "outputs": [
    {
     "name": "stdout",
     "output_type": "stream",
     "text": [
      "secre\n"
     ]
    }
   ],
   "source": [
    "print( code[:5:] )"
   ]
  },
  {
   "cell_type": "code",
   "execution_count": 18,
   "metadata": {},
   "outputs": [
    {
     "name": "stdout",
     "output_type": "stream",
     "text": [
      "ret\n"
     ]
    }
   ],
   "source": [
    "print( code[3::] )"
   ]
  },
  {
   "cell_type": "markdown",
   "metadata": {},
   "source": [
    "As you can see that by using all 3 values for `start`, `stop`, and `step` you can extract almost any portion of a string."
   ]
  },
  {
   "cell_type": "markdown",
   "metadata": {},
   "source": [
    "### Indices Out of Range\n",
    "If you reference an index value that is not assigned to a character, you'll receive an error indicating that the string index is *out of range* meaning, the index you provided is outside the range of values Python was expecting for this string."
   ]
  },
  {
   "cell_type": "code",
   "execution_count": 18,
   "metadata": {},
   "outputs": [
    {
     "ename": "IndexError",
     "evalue": "string index out of range",
     "output_type": "error",
     "traceback": [
      "\u001b[1;31m---------------------------------------------------------------------------\u001b[0m",
      "\u001b[1;31mIndexError\u001b[0m                                Traceback (most recent call last)",
      "\u001b[1;32m<ipython-input-18-80ed44c22a90>\u001b[0m in \u001b[0;36m<module>\u001b[1;34m\u001b[0m\n\u001b[1;32m----> 1\u001b[1;33m \u001b[0mcode\u001b[0m\u001b[1;33m[\u001b[0m\u001b[1;36m7\u001b[0m\u001b[1;33m]\u001b[0m\u001b[1;33m\u001b[0m\u001b[1;33m\u001b[0m\u001b[0m\n\u001b[0m",
      "\u001b[1;31mIndexError\u001b[0m: string index out of range"
     ]
    }
   ],
   "source": [
    "code[7]"
   ]
  },
  {
   "cell_type": "code",
   "execution_count": 19,
   "metadata": {},
   "outputs": [
    {
     "ename": "IndexError",
     "evalue": "string index out of range",
     "output_type": "error",
     "traceback": [
      "\u001b[1;31m---------------------------------------------------------------------------\u001b[0m",
      "\u001b[1;31mIndexError\u001b[0m                                Traceback (most recent call last)",
      "\u001b[1;32m<ipython-input-19-d21b880b4f52>\u001b[0m in \u001b[0;36m<module>\u001b[1;34m\u001b[0m\n\u001b[1;32m----> 1\u001b[1;33m \u001b[0mcode\u001b[0m\u001b[1;33m[\u001b[0m\u001b[1;33m-\u001b[0m\u001b[1;36m10\u001b[0m\u001b[1;33m]\u001b[0m\u001b[1;33m\u001b[0m\u001b[1;33m\u001b[0m\u001b[0m\n\u001b[0m",
      "\u001b[1;31mIndexError\u001b[0m: string index out of range"
     ]
    }
   ],
   "source": [
    "code[-10]"
   ]
  }
 ],
 "metadata": {
  "kernelspec": {
   "display_name": "Python 3",
   "language": "python",
   "name": "python3"
  },
  "language_info": {
   "codemirror_mode": {
    "name": "ipython",
    "version": 3
   },
   "file_extension": ".py",
   "mimetype": "text/x-python",
   "name": "python",
   "nbconvert_exporter": "python",
   "pygments_lexer": "ipython3",
   "version": "3.7.3"
  }
 },
 "nbformat": 4,
 "nbformat_minor": 4
}
