{
 "cells": [
  {
   "cell_type": "markdown",
   "metadata": {},
   "source": [
    "# Conditional Statements\n",
    "\n",
    "A __conditional statement__ is a multi-line statement that allows Python to choose among different alternatives based on the truth value of an expression. A conditional statement always begins with an `if` header, which is a single line followed by an indented body. The body is only executed if the expression directly following `if` (called the *if expression*) evaluates to a `True` value. If the if expression evaluates to a `False` value, then the body of the if is skipped."
   ]
  },
  {
   "cell_type": "code",
   "execution_count": 4,
   "metadata": {},
   "outputs": [
    {
     "name": "stdout",
     "output_type": "stream",
     "text": [
      "Password is correct\n"
     ]
    }
   ],
   "source": [
    "password = 'unicorn'\n",
    "    \n",
    "if password == 'unicorn':\n",
    "    print('Password is correct')"
   ]
  },
  {
   "cell_type": "markdown",
   "metadata": {},
   "source": [
    "This code prints the text `Password is correct` if the string `password` has the value of `unicorn`. But if the string is not `unicorn` then nothing is printed to the screen. We can change this behavior by using an `elif` clause. `elif` is shorthand in Python for \"else if\"."
   ]
  },
  {
   "cell_type": "code",
   "execution_count": 6,
   "metadata": {},
   "outputs": [
    {
     "name": "stdout",
     "output_type": "stream",
     "text": [
      "Bulldogs go home!\n"
     ]
    }
   ],
   "source": [
    "password = 'bulldog'\n",
    "    \n",
    "if password == 'unicorn':\n",
    "    print('Password is correct')\n",
    "elif password == 'bulldog':\n",
    "    print('Bulldogs go home!')\n",
    "elif password != 'unicorn':\n",
    "    print('Incorrect password')"
   ]
  },
  {
   "cell_type": "markdown",
   "metadata": {},
   "source": [
    "You can see that this `if` statement first checks to see if `password` has the value `unicorn`. In this case, it does not, so it checks the first `elif` clause. Since `password` has the value `bulldog`, this `elif` clause resolves `True`, it executes the code indented underneath it, so the phrase `Bulldogs go home!` is printed to the screen. Notice that even though the second `elif` clause is also true, `bulldogs != unicorns`, it does not execute this code. __Only the first `elif` clause that evaluates `True` is executed__.\n",
    "\n",
    "You may have noticed in this example that the second `elif` clause acts as a catch all, since if neither of the first two statements run, then this last statement must be true. We could alternatively use an `else` statement to accomplish the same result:"
   ]
  },
  {
   "cell_type": "code",
   "execution_count": 8,
   "metadata": {},
   "outputs": [
    {
     "name": "stdout",
     "output_type": "stream",
     "text": [
      "Incorrect password\n"
     ]
    }
   ],
   "source": [
    "password = 'frogs'\n",
    "    \n",
    "if password == 'unicorn':\n",
    "    print('Password is correct')\n",
    "elif password == 'bulldog':\n",
    "    print('Bulldogs go home!')\n",
    "else:\n",
    "    print('Incorrect password')"
   ]
  },
  {
   "cell_type": "markdown",
   "metadata": {},
   "source": [
    "## The General Form\n",
    "\n",
    "A conditional statement can also have multiple clauses with multiple bodies, and only one of those bodies can ever be executed. The general format of a multi-clause conditional statement appears below.\n",
    "\n",
    "```\n",
    "if <if expression>:\n",
    "    <if body>\n",
    "elif <elif expression 0>:\n",
    "    <elif body 0>\n",
    "elif <elif expression 1>:\n",
    "    <elif body 1>\n",
    "...\n",
    "else:\n",
    "    <else body>\n",
    "```\n",
    "\n",
    "There is always exactly one `if` clause, but there can be any number of `elif` clauses. Python will evaluate the `if` and `elif` expressions in the headers in order until one is found that is a `True` value, then execute the corresponding body. The `else` clause is *optional*. When an `else` header is provided, its `else` body is executed only if none of the header expressions of the previous clauses are `True`. The `else` clause must always come at the end (or not at all)."
   ]
  }
 ],
 "metadata": {
  "kernelspec": {
   "display_name": "Python 3",
   "language": "python",
   "name": "python3"
  },
  "language_info": {
   "codemirror_mode": {
    "name": "ipython",
    "version": 3
   },
   "file_extension": ".py",
   "mimetype": "text/x-python",
   "name": "python",
   "nbconvert_exporter": "python",
   "pygments_lexer": "ipython3",
   "version": "3.7.3"
  }
 },
 "nbformat": 4,
 "nbformat_minor": 4
}
