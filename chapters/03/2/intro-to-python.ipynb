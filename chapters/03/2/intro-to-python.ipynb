{
 "cells": [
  {
   "cell_type": "markdown",
   "metadata": {},
   "source": [
    "# Introduction to Programming in Python\n",
    "Much of the work involved in encryption and decryption are algorithmic, predictable, and routine tasks. These types of tasks are perfect for automation using a computer. This textbook will focus on using the Python programming language to instruct your computer to perform these tasks for you, instead of having to work through them with pencil and paper.\n",
    "\n",
    "To begin, let's get the basics of Python under our belt. Much like the grammar rules of any spoken language, instructions in Python need to be formatted in a very specific way for the computer to make sense of them. This format is called the __syntax__ of your instructions. Unlike humans, who can often make sense of expressions with improper or incorrect grammar, computers are much less flexible. The syntax must be perfect for the computer to understand the task you've asked it to perform. To illustrate proper syntax of a few basic commands Python commands, let's run a few instructions one at a time."
   ]
  }
 ],
 "metadata": {
  "kernelspec": {
   "display_name": "Python 3",
   "language": "python",
   "name": "python3"
  },
  "language_info": {
   "codemirror_mode": {
    "name": "ipython",
    "version": 3
   },
   "file_extension": ".py",
   "mimetype": "text/x-python",
   "name": "python",
   "nbconvert_exporter": "python",
   "pygments_lexer": "ipython3",
   "version": "3.7.3"
  }
 },
 "nbformat": 4,
 "nbformat_minor": 4
}
