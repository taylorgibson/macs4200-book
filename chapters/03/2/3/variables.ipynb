{
 "cells": [
  {
   "cell_type": "markdown",
   "metadata": {},
   "source": [
    "# Objects and Variables\n",
    "\n",
    "Any time that data is processed in Python, an __object__ is created in the computer's memory. Every object contains at least 3 pieces of information: the type of object that it is (`int`, `float`, `str`, etc), the value of the object (`3`, `-2.1`, `'hello world'`, etc), and the reference count, which the computer uses to keep track of how many times the object is being referenced elsewhere in the program. Take for example the integer `1980`. It's type is `int`, it's value is `1980`, and for now it's reference count is `0` because no named variables refer to it elsewhere in this program (we'll go into more detail on reference counts in just a little bit).\n",
    "\n",
    "You can check on an object's type by using the `type()` function:"
   ]
  },
  {
   "cell_type": "code",
   "execution_count": 1,
   "metadata": {},
   "outputs": [
    {
     "data": {
      "text/plain": [
       "int"
      ]
     },
     "execution_count": 1,
     "metadata": {},
     "output_type": "execute_result"
    }
   ],
   "source": [
    "type(1980)"
   ]
  },
  {
   "cell_type": "markdown",
   "metadata": {},
   "source": [
    "and you can check an object's value by using the `print()` function:"
   ]
  },
  {
   "cell_type": "code",
   "execution_count": 2,
   "metadata": {},
   "outputs": [
    {
     "name": "stdout",
     "output_type": "stream",
     "text": [
      "1980\n"
     ]
    }
   ],
   "source": [
    "print(1980)"
   ]
  },
  {
   "cell_type": "markdown",
   "metadata": {},
   "source": [
    "When objects are created in the computer's memory, they are assigned an `id` value that describes where in the computer's memory it's stored. This `id` allows you to uniquely identify an object that's been created. You can check the `id` of an object using the `id()` function."
   ]
  },
  {
   "cell_type": "code",
   "execution_count": 3,
   "metadata": {},
   "outputs": [
    {
     "data": {
      "text/plain": [
       "1806449730640"
      ]
     },
     "execution_count": 3,
     "metadata": {},
     "output_type": "execute_result"
    }
   ],
   "source": [
    "id(1980)"
   ]
  },
  {
   "cell_type": "markdown",
   "metadata": {},
   "source": [
    "We can imagine what computer thinks object this object using the following visual:\n",
    "\n",
    "![](object-1980.png)\n",
    "\n",
    "All the objects we've used so far are known as __literal__ objects because their values are fixed and represented by the characters that make up the object. For example, `1980`, `3.1`, `True`, and `'hello'` are all literal objects that have values implied by the characters used to represent them."
   ]
  },
  {
   "cell_type": "markdown",
   "metadata": {},
   "source": [
    "## Variables\n",
    "\n",
    "In Python you can think about a __variable__ as a name that has had object assigned to it. To create a variable, you assign it an object using a single equals sign (`=`)."
   ]
  },
  {
   "cell_type": "code",
   "execution_count": 6,
   "metadata": {},
   "outputs": [
    {
     "name": "stdout",
     "output_type": "stream",
     "text": [
      "5\n"
     ]
    }
   ],
   "source": [
    "x = 5\n",
    "print(x)"
   ]
  },
  {
   "cell_type": "markdown",
   "metadata": {},
   "source": [
    "In this case `x` is the variable, and `5` is the integer literal that it's been assigned to.\n",
    "\n",
    "You can see that when using the `print()` function with a variable the value of the object that's been assigned to the variable is displayed. Using the `type()` function verifies that `x` is an integer."
   ]
  },
  {
   "cell_type": "code",
   "execution_count": 2,
   "metadata": {},
   "outputs": [
    {
     "data": {
      "text/plain": [
       "int"
      ]
     },
     "execution_count": 2,
     "metadata": {},
     "output_type": "execute_result"
    }
   ],
   "source": [
    "type(x)"
   ]
  },
  {
   "cell_type": "markdown",
   "metadata": {},
   "source": [
    "You can also see that a variable has the same `id` as the object it's been assigned to."
   ]
  },
  {
   "cell_type": "code",
   "execution_count": 7,
   "metadata": {},
   "outputs": [
    {
     "data": {
      "text/plain": [
       "140708441330624"
      ]
     },
     "execution_count": 7,
     "metadata": {},
     "output_type": "execute_result"
    }
   ],
   "source": [
    "id(x)"
   ]
  },
  {
   "cell_type": "code",
   "execution_count": 8,
   "metadata": {},
   "outputs": [
    {
     "data": {
      "text/plain": [
       "140708441330624"
      ]
     },
     "execution_count": 8,
     "metadata": {},
     "output_type": "execute_result"
    }
   ],
   "source": [
    "id(5)"
   ]
  },
  {
   "cell_type": "markdown",
   "metadata": {},
   "source": [
    "We can visualize the relationship between the variable `x` and the object it points to using the following diagram. Notice that the reference count of the object has increased to 1, since there's a variable that now refers to the object.\n",
    "\n",
    "![](x-equals-5.png)"
   ]
  },
  {
   "cell_type": "markdown",
   "metadata": {},
   "source": [
    "Lastly, when another variable is assigned to the same object as a previous variable, to save memory in the computer Python will direct the new variable to point to the already created object. This can be verified by checking the new variable's `id`."
   ]
  },
  {
   "cell_type": "code",
   "execution_count": 12,
   "metadata": {},
   "outputs": [
    {
     "name": "stdout",
     "output_type": "stream",
     "text": [
      "5\n"
     ]
    },
    {
     "data": {
      "text/plain": [
       "140708441330624"
      ]
     },
     "execution_count": 12,
     "metadata": {},
     "output_type": "execute_result"
    }
   ],
   "source": [
    "y = x\n",
    "print(y)\n",
    "id(y)"
   ]
  },
  {
   "cell_type": "markdown",
   "metadata": {},
   "source": [
    "Now the memory of the computer would look something like the diagram below. Notice that now the reference count has increased to 2, since both `x` and `y` refer to the same object.\n",
    "\n",
    "![](x-and-y-equals-5.png)\n",
    "\n",
    "We'll talk more about the specifics of objects throughout the course. For now it's sufficient to know that:\n",
    "* Everything in Python is an object\n",
    "* Objects have types and values\n",
    "* Variables are only names that point to an object\n",
    "* Multiple variables can point to the same object"
   ]
  },
  {
   "cell_type": "markdown",
   "metadata": {},
   "source": [
    "## Garbage Collection\n",
    "\n",
    "Python uses the reference counter to identify when it's safe to erase an object from the memory. When an object's reference count reaches 0 it is deleted from memory which frees up room for additional objects to be stored. This process of erasing unreferenced objects is called __garbage collection__."
   ]
  },
  {
   "cell_type": "markdown",
   "metadata": {},
   "source": [
    "### Other Object Types\n",
    "\n",
    "Below are other examples of variables and their associated object types."
   ]
  },
  {
   "cell_type": "code",
   "execution_count": 3,
   "metadata": {},
   "outputs": [
    {
     "data": {
      "text/plain": [
       "str"
      ]
     },
     "execution_count": 3,
     "metadata": {},
     "output_type": "execute_result"
    }
   ],
   "source": [
    "a = 'hello'\n",
    "type(a)"
   ]
  },
  {
   "cell_type": "code",
   "execution_count": 4,
   "metadata": {},
   "outputs": [
    {
     "data": {
      "text/plain": [
       "float"
      ]
     },
     "execution_count": 4,
     "metadata": {},
     "output_type": "execute_result"
    }
   ],
   "source": [
    "b = 3.1\n",
    "type(b)"
   ]
  },
  {
   "cell_type": "code",
   "execution_count": 10,
   "metadata": {},
   "outputs": [
    {
     "data": {
      "text/plain": [
       "bool"
      ]
     },
     "execution_count": 10,
     "metadata": {},
     "output_type": "execute_result"
    }
   ],
   "source": [
    "c = False\n",
    "type(c)"
   ]
  },
  {
   "cell_type": "markdown",
   "metadata": {},
   "source": [
    "Using the `type()` function can be helpful to inspect what type of data you have stored to a variable if you are receiving error messages that state you are using the wrong data type."
   ]
  },
  {
   "cell_type": "markdown",
   "metadata": {},
   "source": [
    "## Variable Names\n",
    "\n",
    "The examples you have seen so far have used short and non-descriptive names like `x`, `y`, `a`, and `b`. Programming best practices will suggest use of more descriptive variable names that indicate what type of data the variable refers to.\n",
    "\n",
    "Officially, variable names in Python can be any length and can consist of uppercase and lowercase letters (`A-Z`, `a-z`), digits (`0-9`), and the underscore character ( `_` ). An additional restriction is that, although a variable name can contain digits, the first character of a variable name cannot be a digit.\n",
    "\n",
    "In order to make longer, multi-word variables more readable in your code, there are a variety of capitalization protocols you could use. All of these are standard, so choose which one best suits your style and use it consistently.\n",
    "\n",
    "* Camel Case: Second and subsequent words are capitalized, to make word boundaries easier to see.\n",
    "> Example: myFirstVariable\n",
    "* Pascal Case: Identical to Camel Case, except the first word is also capitalized.\n",
    "> Example: MyFirstVariable\n",
    "* Snake Case: Words are separated by underscores.\n",
    "> Example: my_first_variable\n",
    "\n",
    "This course will typically use Snake Case when naming variables, as it's the most common style used when programming in Python."
   ]
  },
  {
   "cell_type": "markdown",
   "metadata": {},
   "source": [
    "## Reserved Names\n",
    "\n",
    "There are several (33 to be exact) variable names that are off-limits to you in Python, as they are reserved as keywords for other purposes. The list of keywords can be found by typing `help(\"keywords\")` into the command line."
   ]
  },
  {
   "cell_type": "code",
   "execution_count": 11,
   "metadata": {},
   "outputs": [
    {
     "name": "stdout",
     "output_type": "stream",
     "text": [
      "\n",
      "Here is a list of the Python keywords.  Enter any keyword to get more help.\n",
      "\n",
      "False               class               from                or\n",
      "None                continue            global              pass\n",
      "True                def                 if                  raise\n",
      "and                 del                 import              return\n",
      "as                  elif                in                  try\n",
      "assert              else                is                  while\n",
      "async               except              lambda              with\n",
      "await               finally             nonlocal            yield\n",
      "break               for                 not                 \n",
      "\n"
     ]
    }
   ],
   "source": [
    "help(\"keywords\")"
   ]
  }
 ],
 "metadata": {
  "kernelspec": {
   "display_name": "Python 3",
   "language": "python",
   "name": "python3"
  },
  "language_info": {
   "codemirror_mode": {
    "name": "ipython",
    "version": 3
   },
   "file_extension": ".py",
   "mimetype": "text/x-python",
   "name": "python",
   "nbconvert_exporter": "python",
   "pygments_lexer": "ipython3",
   "version": "3.7.3"
  }
 },
 "nbformat": 4,
 "nbformat_minor": 4
}
