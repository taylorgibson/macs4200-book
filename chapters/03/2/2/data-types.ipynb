{
 "cells": [
  {
   "cell_type": "markdown",
   "metadata": {},
   "source": [
    "# Data Types\n",
    "There are several different types of data that Python can work with in conjunction with operators. When Python puts data into a computer's memory to store the data or operate on the data it creates what is called in computer science an __object__. Objects will get covered more in the next section, but for now just know that everything in Python is an object, whether it's data we'll work with or a function that will perform an operation. Not every programming language uses objects, but those that do are called __object-oriented programming languages__.\n",
    "\n",
    "We've already seen one data type, __integers__, and will use other types such as __floating point numbers__, __strings__, __lists__, and __dictionaries__ in this course. We'll first focus on integers, floating point numbers, and strings.\n",
    "\n",
    "## Integers\n",
    "\n",
    "The set of all integers is described using the symbol $\\mathbb{Z}$ in mathematics. If an item, $x$ is an element of this set of numbers, meaning $x$ represents an integer, the notation for this would be $ x \\in \\mathbb{Z}$. In Python, the integer data type is called `int`.\n",
    "\n",
    "Some examples of integers are:\n",
    "\n",
    "> `10`, `-3`, `0`\n",
    "\n",
    "In Python, unlike in other programming languages, there is no limit to the size of your integer. As long as your computer has enough memory to hold the integer, Python is happy to store and work with it. \n",
    "\n",
    "## Floating-Point Numbers\n",
    "\n",
    "In mathematics, the set of real numbers contain all non-imaginary numbers and are represented as the set $\\mathbb{R}$. In Python, real numbers are called floating-point numbers, and the data type is called `float` for short. `float` values are specified with a decimal point. Optionally, the character `e` or `E` followed by a positive or negative integer may be appended to specify scientific notation.\n",
    "\n",
    "Some examples of floats are:\n",
    "> `17.1`, `-3.0`, `1.7e-9`"
   ]
  },
  {
   "cell_type": "markdown",
   "metadata": {},
   "source": [
    "## Strings\n",
    "\n",
    "Strings are sequences of characters stored together. A character can be a number, letter, or symbol. The string type in Python is called `str`.\n",
    "\n",
    "Examples of strings include:\n",
    "> `hello`, `Unbelievable!`, `Δ100`\n",
    "\n",
    "Strings may be delimited using either single or double quotes. It's best practice to be consistent in your use of single or double quotes. All the characters between the opening quote and matching closing quote are part of the string.\n",
    "\n",
    "You can use the built-in `print()` function to display the value of an object in Python. For a `string` object, that means displaying the sequence of characters contained within the object without the quotes."
   ]
  },
  {
   "cell_type": "code",
   "execution_count": 6,
   "metadata": {},
   "outputs": [
    {
     "name": "stdout",
     "output_type": "stream",
     "text": [
      "This is a string\n"
     ]
    }
   ],
   "source": [
    "print('This is a string')"
   ]
  },
  {
   "cell_type": "markdown",
   "metadata": {},
   "source": [
    "If you want your string of characters to contain a single quote, you need to delimit your string using double quotes."
   ]
  },
  {
   "cell_type": "code",
   "execution_count": 7,
   "metadata": {},
   "outputs": [
    {
     "name": "stdout",
     "output_type": "stream",
     "text": [
      "This string has one single quote. It's pretty special.\n"
     ]
    }
   ],
   "source": [
    "print(\"This string has one single quote. It's pretty special.\")"
   ]
  },
  {
   "cell_type": "markdown",
   "metadata": {},
   "source": [
    "Using single quotes to create a string that also contains a single quote will result in an error, as Python will think that your string terminates at the first matching single quote, and be confused by the remainder of the instruction that does not make sense."
   ]
  },
  {
   "cell_type": "code",
   "execution_count": 1,
   "metadata": {},
   "outputs": [
    {
     "ename": "SyntaxError",
     "evalue": "invalid syntax (<ipython-input-1-c99359b0e48a>, line 1)",
     "output_type": "error",
     "traceback": [
      "\u001b[1;36m  File \u001b[1;32m\"<ipython-input-1-c99359b0e48a>\"\u001b[1;36m, line \u001b[1;32m1\u001b[0m\n\u001b[1;33m    print('This string has one single quote. It's going to be a problem')\u001b[0m\n\u001b[1;37m                                                ^\u001b[0m\n\u001b[1;31mSyntaxError\u001b[0m\u001b[1;31m:\u001b[0m invalid syntax\n"
     ]
    }
   ],
   "source": [
    "print('This string has one single quote. It's going to be a problem')"
   ]
  },
  {
   "cell_type": "markdown",
   "metadata": {},
   "source": [
    "You can similarly use single quotes to define a string containing double quotes."
   ]
  },
  {
   "cell_type": "code",
   "execution_count": 9,
   "metadata": {},
   "outputs": [
    {
     "name": "stdout",
     "output_type": "stream",
     "text": [
      "This string has \"unneccesary\" double quotation \"marks\" in several \"places\"\n"
     ]
    }
   ],
   "source": [
    "print('This string has \"unneccesary\" double quotation \"marks\" in several \"places\"')"
   ]
  },
  {
   "cell_type": "markdown",
   "metadata": {},
   "source": [
    "There are several other characters that have special meaning and may cause Python to invoke that special property if encountered in a string. You can indicate to Python to use the actual character, not the special meaning, by using a backslash ( \\\\ ) in front of the character. The inclusion of a backslash to change the interpretation of an input is called an __escape sequence__."
   ]
  },
  {
   "cell_type": "code",
   "execution_count": 10,
   "metadata": {},
   "outputs": [
    {
     "name": "stdout",
     "output_type": "stream",
     "text": [
      "This string has single quotes ', double quotes \", backslashes \\, and more!\n"
     ]
    }
   ],
   "source": [
    "print(\"This string has single quotes \\', double quotes \\\", backslashes \\\\, and more!\")"
   ]
  },
  {
   "cell_type": "markdown",
   "metadata": {},
   "source": [
    "Additionally, the backslash character can impart special meanings to normal characters contained in a strong. For example, including the characters `\\n` in a string will cause it to create a new line in the printed output."
   ]
  },
  {
   "cell_type": "code",
   "execution_count": 11,
   "metadata": {},
   "outputs": [
    {
     "name": "stdout",
     "output_type": "stream",
     "text": [
      "This string will be printed on \n",
      "two different lines.\n"
     ]
    }
   ],
   "source": [
    "print('This string will be printed on \\ntwo different lines.')"
   ]
  },
  {
   "cell_type": "markdown",
   "metadata": {},
   "source": [
    "A table of common escape sequences is included below:\n",
    "\n",
    "| Escape Sequence | Sequence Results in... |\n",
    "| --- | :--- |\n",
    "|`\\n` | line break|\n",
    "|`\\t`| tab|\n",
    "|`\\uxxxx`| Unicode character with 16-bit hex value xxxx|\n",
    "|`\\Uxxxxxxxx`| Unicode character with 32-bit hex value xxxxxxxx|\n",
    "|`\\N{<name>}`| Unicode character with provided name|\n",
    "\n",
    "For example:"
   ]
  },
  {
   "cell_type": "code",
   "execution_count": 12,
   "metadata": {},
   "outputs": [
    {
     "name": "stdout",
     "output_type": "stream",
     "text": [
      "This \ttext \twill be \n",
      "printed on → multiple lines \n",
      "Δ→0\n"
     ]
    }
   ],
   "source": [
    "print('This \\ttext \\twill be \\nprinted on \\u2192 multiple lines \\n\\U00000394\\N{rightwards arrow}0')"
   ]
  },
  {
   "cell_type": "markdown",
   "metadata": {},
   "source": [
    "This unicode  escape sequences are typically used to insert characters that are not easy (or possible) to create with a keyboard, not easily readable, or not printable to the screen.\n",
    "\n",
    "Additional details on how to further use integers, floats, and strings, as well as additional data types, will be covered as the need arises in our work."
   ]
  },
  {
   "cell_type": "markdown",
   "metadata": {},
   "source": [
    "### Extra Details on Floating Point Numbers\n",
    "There are a few details that 99% of the time you don't need to worry about when working with `floats` in Python, but knowing this information may be helpful if you're tracking down the cause of odd behavior in your code.\n",
    "\n",
    "Under the surface,  Python `float` values are 64-bit “double-precision” values, according to the IEEE 754 standard. Float values are very flexible, but they do have limits.\n",
    "\n",
    "1. A float can represent extremely large and extremely small numbers. There are limits, but you will rarely encounter them.\n",
    "2. A float only represents 15 or 16 significant digits for any number; the remaining precision is lost. This limited precision is enough for the vast majority of applications.\n",
    "3. After combining float values with arithmetic, the last few digits may be incorrect. Small rounding errors are often confusing when first encountered.\n",
    "\n",
    "The maximum value a floating-point number can have is approximately $1.8 \\times  10^{308}$. Python will indicate a number greater than that by the string `inf`"
   ]
  },
  {
   "cell_type": "code",
   "execution_count": 1,
   "metadata": {},
   "outputs": [
    {
     "data": {
      "text/plain": [
       "1.7e+308"
      ]
     },
     "execution_count": 1,
     "metadata": {},
     "output_type": "execute_result"
    }
   ],
   "source": [
    "1.7e308"
   ]
  },
  {
   "cell_type": "code",
   "execution_count": 2,
   "metadata": {},
   "outputs": [
    {
     "data": {
      "text/plain": [
       "inf"
      ]
     },
     "execution_count": 2,
     "metadata": {},
     "output_type": "execute_result"
    }
   ],
   "source": [
    "1.7e310"
   ]
  },
  {
   "cell_type": "markdown",
   "metadata": {},
   "source": [
    "The closest a nonzero number can be to zero is approximately $5.0 \\times 10^{-324}$. Anything closer to zero than that is effectively zero"
   ]
  },
  {
   "cell_type": "code",
   "execution_count": 3,
   "metadata": {},
   "outputs": [
    {
     "data": {
      "text/plain": [
       "5e-324"
      ]
     },
     "execution_count": 3,
     "metadata": {},
     "output_type": "execute_result"
    }
   ],
   "source": [
    "4.9e-324"
   ]
  },
  {
   "cell_type": "code",
   "execution_count": 4,
   "metadata": {},
   "outputs": [
    {
     "data": {
      "text/plain": [
       "0.0"
      ]
     },
     "execution_count": 4,
     "metadata": {},
     "output_type": "execute_result"
    }
   ],
   "source": [
    "4.9e-326"
   ]
  },
  {
   "cell_type": "markdown",
   "metadata": {},
   "source": [
    "Floating point numbers are represented internally as binary (base-2) fractions. Most decimal fractions cannot be represented exactly as binary fractions, so in most cases the internal representation of a floating-point number is an approximation of the actual value. In practice, the difference between the actual value and the represented value is very small and should not usually cause significant problems. However, when working with very large or very small numbers or fractions, oddities can occur from time to time.\n",
    "\n",
    "For example, adding $\\frac{1}{10}$ and $\\frac{7}{10}$ should result in $\\frac{8}{10}=0.8$, but as we see below, Python doesn't quite agree due to the internal representation of these numbers."
   ]
  },
  {
   "cell_type": "code",
   "execution_count": 5,
   "metadata": {},
   "outputs": [
    {
     "data": {
      "text/plain": [
       "0.7999999999999999"
      ]
     },
     "execution_count": 5,
     "metadata": {},
     "output_type": "execute_result"
    }
   ],
   "source": [
    "1/10 + 7/10"
   ]
  },
  {
   "cell_type": "markdown",
   "metadata": {},
   "source": [
    "Although `float` values are not always exact, they are certainly reliable and work the same way across all different kinds of computers and programming languages."
   ]
  }
 ],
 "metadata": {
  "kernelspec": {
   "display_name": "Python 3",
   "language": "python",
   "name": "python3"
  },
  "language_info": {
   "codemirror_mode": {
    "name": "ipython",
    "version": 3
   },
   "file_extension": ".py",
   "mimetype": "text/x-python",
   "name": "python",
   "nbconvert_exporter": "python",
   "pygments_lexer": "ipython3",
   "version": "3.7.3"
  }
 },
 "nbformat": 4,
 "nbformat_minor": 4
}
