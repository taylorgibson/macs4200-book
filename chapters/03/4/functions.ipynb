{
 "cells": [
  {
   "cell_type": "markdown",
   "metadata": {},
   "source": [
    "# Functions\n",
    "\n",
    "As you may have noticed throughout the work we've been doing so far, a lot of enciphering and deciphering requires repetition of the same operations. We take a letter (an input), perform a series of operations with the input, and calculate the output, another letter. This input/output relationship is often called a __function__ in mathematics. In Python, we can write our own functions that we can call by name to help us from having to rewrite the same blocks of code over and over in our programs.\n",
    "\n",
    "You've been using functions all throughout this course that are default functions in Python. The `print()` function is a good example. It works the same way every time and you don't need to know how it was programmed, just how to use it. We'll be writing our own functions for the same reason in this course.\n",
    "\n",
    "## Why Use Functions?\n",
    "\n",
    "1. Functions are a convenient way to divide your code into useful chunks that do one thing very well. This becomes especially useful when you need to repeat whatever task your function accomplishes many times.\n",
    "\n",
    "2. The variables that are created inside a function exist and can only be used from inside that function. They are called `local` variables, as opposed to `global` variables which can be accessed by any part of your program. Once the function is done performing its task, it returns specified information back to your main program and deletes all the `local` variables created while running. Not having to know about these variables is convenient, much like how we don't need to know what's going on inside the `print()` function.\n",
    "\n",
    "3. Because of points 1 and 2, functions are portable. You can copy/paste functions from one notebook to another, and they'll work exactly the same way for a given set of inputs. It ensures you don't need to worry about having variables named the same way as someone else, or the same way you named them in a different project.\n",
    "\n",
    "## Defining a Function\n",
    "A Python function, much like a mathematical function, requires a name for the function, a name for the input (or inputs), a definition about what to do with the input, and an output.\n",
    "\n",
    "For example, the mathematical function:\n",
    "\n",
    "$$ f(x,y) = x + y $$\n",
    "\n",
    "has the name $f$, inputs $x, y$, a definition that explains how to use $x$ and $y$, and the output $x + y$.\n",
    "\n",
    "We can use Python to accomplish the same result:"
   ]
  },
  {
   "cell_type": "code",
   "execution_count": 2,
   "metadata": {},
   "outputs": [
    {
     "name": "stdout",
     "output_type": "stream",
     "text": [
      "5\n"
     ]
    }
   ],
   "source": [
    "def f(x, y):\n",
    "    sum = x + y\n",
    "    return sum\n",
    "\n",
    "print( f(2,3) )"
   ]
  },
  {
   "cell_type": "markdown",
   "metadata": {},
   "source": [
    "Notice some key features of how we defined the function:\n",
    "* use the `def` command to indicate you're defining a function\n",
    "* name the function. You can use a word, you're not limited to a single character\n",
    "* open parentheses `(` and then list the name or names of the variables you'll provide for the function\n",
    "* close parentheses `)` and then type a colon (`:`)\n",
    "* indent any code that is specific to the function\n",
    "* when the function's task is complete, indicate what you want the function to return as the output using the `return` command\n",
    "  * As soon as a function reaches a `return` command, it will return whatever is specified to the main program and exit the function, __even if the function was in the middle of a loop or other operation__\n",
    "  * A function can have more than one return statement. This could be useful when combined with an if/elif/else logic statement if you want the function to return different values depending on certain conditions.\n",
    "  * Unless you have a good reason not to, every function should include at least one return statement.\n",
    "\n",
    "This function does not print the output by itself, instead it returns an value that we then pass into the `print()` function. This is a nice feature because we may want to use the function sometimes without printing the output. For example:"
   ]
  },
  {
   "cell_type": "code",
   "execution_count": 3,
   "metadata": {},
   "outputs": [
    {
     "name": "stdout",
     "output_type": "stream",
     "text": [
      "10\n"
     ]
    }
   ],
   "source": [
    "print( f(1,2) + f(3,4) )"
   ]
  },
  {
   "cell_type": "markdown",
   "metadata": {},
   "source": [
    "If the function `f` printed the sum as part of it's task, the output of the previous command would have been:\n",
    "```\n",
    "3\n",
    "7\n",
    "10\n",
    "```\n",
    "Because each time function `f` was used it would have printed to the screen. __It's usually best for functions to return the needed information to the main program, and let the main program decide what to do with it.__ This retains flexibility in how functions can be used."
   ]
  },
  {
   "cell_type": "markdown",
   "metadata": {},
   "source": [
    "## `railfence_encipher()` Function\n",
    "\n",
    "Now that we have a function that cleans text, we can use that as a part of other functions. For example, if we were to write the 2-row railfence encipher as a function, we can use the `text_clean()` function to clean whatever string we pass into the `railfence_encipher()` function we write."
   ]
  },
  {
   "cell_type": "code",
   "execution_count": null,
   "metadata": {
    "tags": [
     "remove_cell"
    ]
   },
   "outputs": [],
   "source": [
    "def text_clean( text, LETTERS = 'ABCDEFGHIJKLMNOPQRSTUVWXYZ'):\n",
    "    \"\"\"\n",
    "    Arguments:\n",
    "        text (str): a piece of text for cleaning\n",
    "    Returns:\n",
    "        (str): text with only the characters also found in LETTERS\n",
    "               lower-case letters in text will be made upper-case  \n",
    "    \"\"\"\n",
    "    \n",
    "    cleaned_text = ''\n",
    "    \n",
    "    for character in text:\n",
    "        if character.upper() in LETTERS:\n",
    "            cleaned_text += character.upper()\n",
    "    \n",
    "    return cleaned_text"
   ]
  },
  {
   "cell_type": "code",
   "execution_count": 12,
   "metadata": {},
   "outputs": [],
   "source": [
    "def railfence_encipher(text, rails):\n",
    "    \"\"\"\n",
    "    Arguments: \n",
    "        text (str): plaintext message\n",
    "        rails (int): the number of rails to use in the cipher\n",
    "    Returns:\n",
    "        (str): ciphertext after implementing the railfence cipher\n",
    "    \"\"\"\n",
    "    \n",
    "    # We'll learn how the text_clean function works later\n",
    "    cleanedtext = text_clean(text)\n",
    "    \n",
    "    if rails == 2:\n",
    "        ciphertext = cleanedtext[0::2] + cleanedtext[1::2]\n",
    "    \n",
    "    return ciphertext"
   ]
  },
  {
   "cell_type": "code",
   "execution_count": 14,
   "metadata": {},
   "outputs": [
    {
     "name": "stdout",
     "output_type": "stream",
     "text": [
      "TSMSAEETESG\n",
      "TIIWYAIRHNONTIBHNHSSAESETADIGHSYAD\n"
     ]
    }
   ],
   "source": [
    "print( railfence_encipher('test message.', 2) )\n",
    "print( railfence_encipher('This is WAY easier than doing this by hand!', 2) )"
   ]
  },
  {
   "cell_type": "markdown",
   "metadata": {},
   "source": [
    "## Optional Keyword Arguments\n",
    "\n",
    "Python functions can include **optional keyword arguments**, or default arguments. This feature allows you to create arguments that are optional to include when using a function, and if they are not included, you can specify the default value that they'll be assigned. This is helpful when writing functions that have a very common use case, but may occasionally be need to be used differently. For example, suppose you write a function `caesar` that implements the Caesar cipher. You may choose to assign a boolean value to variable `encipher` that is used to decipher if the function will encipher or decipher a message."
   ]
  },
  {
   "cell_type": "code",
   "execution_count": null,
   "metadata": {},
   "outputs": [],
   "source": [
    "def caesar( text, key ):\n",
    "    encipher = True\n",
    "    \n",
    "    if encipher == True:\n",
    "        # code for enciphering would go here\n",
    "        ...\n",
    "        ...\n",
    "        \n",
    "    else:\n",
    "        # code for deciphering would go here\n",
    "        ...\n",
    "        ...\n",
    "    \n",
    "    return caesar_output"
   ]
  },
  {
   "cell_type": "markdown",
   "metadata": {},
   "source": [
    "This function would work just fine, however it does require you to change the code for the function every time you want to switch it's mode from enciphering to deciphering. This can be annoying for you to keep changing, but it becomes a big issue if you don't have easy access to the source code for a function, or need to be able to run the function in different modes one time after the other without an opportunity to change the code. This is a great case for an optional keyword argument! Here's how you can implement this feature:"
   ]
  },
  {
   "cell_type": "code",
   "execution_count": null,
   "metadata": {},
   "outputs": [],
   "source": [
    "def caesar( text, key, encipher = True ):\n",
    "        \n",
    "    if encipher == True:\n",
    "        # code for enciphering would go here\n",
    "        ...\n",
    "        ...\n",
    "        \n",
    "    else:\n",
    "        # code for deciphering would go here\n",
    "        ...\n",
    "        ...\n",
    "    \n",
    "    return caesar_output"
   ]
  },
  {
   "cell_type": "markdown",
   "metadata": {},
   "source": [
    "You can see that the majority of the code remains the same, but the assignment of the variable `encipher` now occurs in the header of the `caesar` function. This allows the user of this function to decide whether or not to override the default value of `True` assigned to `encipher`, or leave it as it. \n",
    "\n",
    "Now, when calling the function you can do either of the following ways and it will return the ciphertext output:"
   ]
  },
  {
   "cell_type": "code",
   "execution_count": null,
   "metadata": {},
   "outputs": [],
   "source": [
    "caesar( 'testmessage', 7 )"
   ]
  },
  {
   "cell_type": "code",
   "execution_count": null,
   "metadata": {},
   "outputs": [],
   "source": [
    "caesar( 'testmessage', 7, encipher = True )"
   ]
  },
  {
   "cell_type": "markdown",
   "metadata": {},
   "source": [
    "In order to decipher a message with this function, you would need to override the default value assigned to `encipher` to `False` as follows:"
   ]
  },
  {
   "cell_type": "code",
   "execution_count": null,
   "metadata": {},
   "outputs": [],
   "source": [
    "caesar( 'ALZAT LZZHN L', 7, encipher = False )"
   ]
  },
  {
   "cell_type": "markdown",
   "metadata": {},
   "source": [
    "If you find yourself always tweaking a value in your code to change how it runs, you probably should consider using an optional keyword argument in your function!"
   ]
  },
  {
   "cell_type": "markdown",
   "metadata": {},
   "source": [
    "## Function Documentation\n",
    "\n",
    "Functions are very powerful, but you need to understand the input arguments and what to expect from the return statements in order to use them properly. It is difficult enough to remember the order of the arguments and format of the return statements for functions you've written yourself, let alone for functions written by others. Comments inside the function are good way to document how code works, however you won't always have access to the source code for functions, so you'll need to know how to create good documentation for functions you write, and access documentation for functions that you or others have written.\n",
    "\n",
    "### The `help` Function\n",
    "\n",
    "You can access the documentation for functions by using the built-in Python function `help`. For example:"
   ]
  },
  {
   "cell_type": "code",
   "execution_count": 1,
   "metadata": {},
   "outputs": [
    {
     "name": "stdout",
     "output_type": "stream",
     "text": [
      "Help on built-in function print in module builtins:\n",
      "\n",
      "print(...)\n",
      "    print(value, ..., sep=' ', end='\\n', file=sys.stdout, flush=False)\n",
      "    \n",
      "    Prints the values to a stream, or to sys.stdout by default.\n",
      "    Optional keyword arguments:\n",
      "    file:  a file-like object (stream); defaults to the current sys.stdout.\n",
      "    sep:   string inserted between values, default a space.\n",
      "    end:   string appended after the last value, default a newline.\n",
      "    flush: whether to forcibly flush the stream.\n",
      "\n"
     ]
    }
   ],
   "source": [
    "help( print )"
   ]
  },
  {
   "cell_type": "markdown",
   "metadata": {},
   "source": [
    "You can see that the `help` function shows you how to use the `print` function should be used and all the possible arguments it takes in. We normally just use the first argument, `value`, but we can see there are optional keyword arguments with default values, `sep`, `end`, `file`, and `flush` that alter how that function works. This information is displayed because the `print` function has what's called a **documentation string** or `docstring`."
   ]
  },
  {
   "cell_type": "markdown",
   "metadata": {},
   "source": [
    "## Writing a `docstring`\n",
    "\n",
    "A `docstring` is a string object that's included inside a function that is displayed when the `help` function is used. The `text_clean` and `railfence_cipher` functions shown previously in this section both contain a `docstring`. A `docstring` is included between sets of three double-quotation marks `\"\"\"  \"\"\"` immediately underneath the definition of the function. An example is shown below"
   ]
  },
  {
   "cell_type": "code",
   "execution_count": 3,
   "metadata": {},
   "outputs": [],
   "source": [
    "def sum_function( x, y ):\n",
    "    \"\"\"\n",
    "    This is a docstring.\n",
    "    It can span multiple lines\n",
    "    It starts right underneath the definition\n",
    "    It's wrapped in three double-quotes\n",
    "    \"\"\"\n",
    "\n",
    "    return x+y"
   ]
  },
  {
   "cell_type": "markdown",
   "metadata": {},
   "source": [
    "There are a variety of ways to use a `docstring` when writing functions, and many businesses and organizations standardize what should be included in a `docstring`. In our usage in this course and online resource we'll set the following standard.\n",
    "\n",
    "A `docstring` should include:\n",
    "* a list of arguments (inputs)\n",
    "* a list of possible returns (outputs)\n",
    "* an indication of the object type for arguments and returns (`int`, `str`, `float`, `bool`, etc)\n",
    "* an indication if an argument is an optional keyword argument\n",
    "* a brief description about what arguments and returns  they represent. \n",
    "\n",
    "An example of a `docstring` that meets these requirements is shown below:"
   ]
  },
  {
   "cell_type": "code",
   "execution_count": null,
   "metadata": {},
   "outputs": [],
   "source": [
    "def caesar( text, key, encipher=True ):\n",
    "    \"\"\"\n",
    "    Arguments:\n",
    "        text (str): a string of either plaintext or ciphertext\n",
    "        key (int): an integer that represents the key for enciphering/deciphering\n",
    "        encipher (bool, optional): True indicates the function should encipher a message. False indicates deciphering.\n",
    "    Returns:\n",
    "        (str): the output string will represent the completed enciphering/deciphering of the input string\n",
    "    \"\"\"\n",
    "    ...\n",
    "    ...\n",
    "    return caesar_output"
   ]
  },
  {
   "cell_type": "markdown",
   "metadata": {},
   "source": [
    "## Exercise for the Reader\n",
    "* Modify the `railfence_encipher()` function so it can also encipher messages that use 3 rails\n",
    "* Write a function to implement the Atbash cipher for encryption"
   ]
  }
 ],
 "metadata": {
  "kernelspec": {
   "display_name": "Python 3",
   "language": "python",
   "name": "python3"
  },
  "language_info": {
   "codemirror_mode": {
    "name": "ipython",
    "version": 3
   },
   "file_extension": ".py",
   "mimetype": "text/x-python",
   "name": "python",
   "nbconvert_exporter": "python",
   "pygments_lexer": "ipython3",
   "version": "3.7.3"
  }
 },
 "nbformat": 4,
 "nbformat_minor": 4
}
