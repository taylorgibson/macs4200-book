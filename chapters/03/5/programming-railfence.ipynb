{
 "cells": [
  {
   "cell_type": "markdown",
   "metadata": {},
   "source": [
    "# Programming the Rail Fence Cipher\n",
    "\n",
    "Below is are two functions that successfully clean the text and implement the Rail Fence cipher for enciphering messages. These functions showcases many of the programming skills covered up to this point including:\n",
    "\n",
    "* functions\n",
    "* optional keyword arguments\n",
    "* loops\n",
    "* string slicing\n",
    "* conditional branches\n",
    "* docstrings\n",
    "\n",
    "It does not include the code for:\n",
    "* deciphering 2 row rail fence messages\n",
    "* deciphering 3 row rail fence messages\n",
    "* enciphering or deciphering rail fence messages with 4 or more rows"
   ]
  },
  {
   "cell_type": "code",
   "execution_count": 1,
   "metadata": {},
   "outputs": [],
   "source": [
    "def text_clean( text ):\n",
    "    \"\"\"\n",
    "    Arguments:\n",
    "        text (str): a string containing text\n",
    "    Returns:\n",
    "        (str): the input string with spaces, non letter characters removed.\n",
    "               letters will be upper-case\n",
    "    \"\"\"\n",
    "    LETTERS = 'ABCDEFGHIJKLMNOPQRSTUVWXYZ'\n",
    "    text = text.upper()\n",
    "    cleaned = ''\n",
    "    for char in text:\n",
    "        if char in LETTERS:\n",
    "            cleaned += char\n",
    "            \n",
    "    return cleaned"
   ]
  },
  {
   "cell_type": "code",
   "execution_count": 6,
   "metadata": {},
   "outputs": [],
   "source": [
    "def railfence(text, rows, encipher=True):\n",
    "    \"\"\"\n",
    "    Example of Use:\n",
    "        >>> railfence('samplemessage', 3)\n",
    "        'SLSEAPEESGMMA'\n",
    "    \n",
    "    Arguments:\n",
    "        text (str):  represents either plaintext or ciphertext\n",
    "        rows (int):  integer that represents the number of rows\n",
    "        \n",
    "    Returns:\n",
    "        (str): represents the output, either plaintext or ciphertext\n",
    "        (str): an error message\n",
    "    \"\"\"\n",
    "    \n",
    "    text = text_clean( text )\n",
    "    \n",
    "    if rows == 2:\n",
    "        if encipher == True:\n",
    "            return text[::2].upper() + text[1::2].upper()\n",
    "        else:\n",
    "            return \"this is where the 2 row decipher code will go\"\n",
    "    elif rows == 3:\n",
    "        if encipher == True:\n",
    "            return text[::4].upper() + text[1::2].upper() + text[2::4].upper()\n",
    "        else:\n",
    "            return \"this is where the 3 row decipher code will go\"\n",
    "    else:\n",
    "        return \"number of rails not supported\""
   ]
  },
  {
   "cell_type": "markdown",
   "metadata": {},
   "source": [
    "We can see the different ways that we can use this function below:"
   ]
  },
  {
   "cell_type": "code",
   "execution_count": 7,
   "metadata": {},
   "outputs": [
    {
     "name": "stdout",
     "output_type": "stream",
     "text": [
      "Help on function railfence in module __main__:\n",
      "\n",
      "railfence(text, rows, encipher=True)\n",
      "    Example of Use:\n",
      "        >>> railfence('samplemessage', 3)\n",
      "        'SLSEAPEESGMMA'\n",
      "    \n",
      "    Arguments:\n",
      "        text (str):  represents either plaintext or ciphertext\n",
      "        rows (int):  integer that represents the number of rows\n",
      "        \n",
      "    Returns:\n",
      "        (str): represents the output, either plaintext or ciphertext\n",
      "        (str): an error message\n",
      "\n"
     ]
    }
   ],
   "source": [
    "help( railfence )"
   ]
  },
  {
   "cell_type": "code",
   "execution_count": 5,
   "metadata": {},
   "outputs": [
    {
     "name": "stdout",
     "output_type": "stream",
     "text": [
      "SLSEAPEESGMMA\n"
     ]
    }
   ],
   "source": [
    "print( railfence('samplemessage', 3) )"
   ]
  },
  {
   "cell_type": "code",
   "execution_count": 8,
   "metadata": {},
   "outputs": [
    {
     "name": "stdout",
     "output_type": "stream",
     "text": [
      "SMLMSAEAPEESG\n"
     ]
    }
   ],
   "source": [
    "print( railfence('samplemessage', 2) )"
   ]
  },
  {
   "cell_type": "code",
   "execution_count": 12,
   "metadata": {},
   "outputs": [
    {
     "name": "stdout",
     "output_type": "stream",
     "text": [
      "number of rails not supported\n"
     ]
    }
   ],
   "source": [
    "print( railfence('samplemessage', 5) )"
   ]
  },
  {
   "cell_type": "code",
   "execution_count": 10,
   "metadata": {},
   "outputs": [
    {
     "name": "stdout",
     "output_type": "stream",
     "text": [
      "this is where the 2 row decipher code will go\n"
     ]
    }
   ],
   "source": [
    "print( railfence('SMLMSAEAPEESG', 2, encipher=False) )"
   ]
  },
  {
   "cell_type": "code",
   "execution_count": 11,
   "metadata": {},
   "outputs": [
    {
     "name": "stdout",
     "output_type": "stream",
     "text": [
      "this is where the 3 row decipher code will go\n"
     ]
    }
   ],
   "source": [
    "print( railfence('SLSEAPEESGMMA', 3, encipher=False) )"
   ]
  },
  {
   "cell_type": "markdown",
   "metadata": {},
   "source": [
    "A helpful way to visualize how these two functions, `text_clean` and `railfence` work together, we can use the code visualization tool at [Python Tutor](https://www.pythontutor.com) to see the different step-by-step operations that take place. In the area below, you can resize each half of the example to see more or less of the code on the left or the diagrams on the right. Click on the next button will step through the code one line at a time. The slider allows you to move quicker through the code. The diagram on the right shows how objects are currently stored in the computer."
   ]
  },
  {
   "cell_type": "code",
   "execution_count": 21,
   "metadata": {
    "tags": [
     "remove_input",
     "full_width"
    ]
   },
   "outputs": [
    {
     "data": {
      "text/html": [
       "\n",
       "        <iframe\n",
       "            width=\"1000\"\n",
       "            height=\"700\"\n",
       "            src=\"https://pythontutor.com/iframe-embed.html#code=def%20text_clean%28%20text%20%29%3A%0A%20%20%20%20%22%22%22%0A%20%20%20%20Arguments%3A%0A%20%20%20%20%20%20%20%20text%20%28str%29%3A%20a%20string%20containing%20text%0A%20%20%20%20Returns%3A%0A%20%20%20%20%20%20%20%20%28str%29%3A%20the%20input%20string%20with%20spaces,%20non%20letter%20characters%20removed.%0A%20%20%20%20%20%20%20%20%20%20%20%20%20%20%20letters%20will%20be%20upper-case%0A%20%20%20%20%22%22%22%0A%20%20%20%20LETTERS%20%3D%20'ABCDEFGHIJKLMNOPQRSTUVWXYZ'%0A%20%20%20%20text%20%3D%20text.upper%28%29%0A%20%20%20%20cleaned%20%3D%20''%0A%20%20%20%20for%20char%20in%20text%3A%0A%20%20%20%20%20%20%20%20if%20char%20in%20LETTERS%3A%0A%20%20%20%20%20%20%20%20%20%20%20%20cleaned%20%2B%3D%20char%0A%20%20%20%20%20%20%20%20%20%20%20%20%0A%20%20%20%20return%20cleaned%0A%0Adef%20railfence%28text,%20rows,%20encipher%3DTrue%29%3A%0A%20%20%20%20%22%22%22%0A%20%20%20%20Example%20of%20Use%3A%0A%20%20%20%20%20%20%20%20%3E%3E%3E%20railfence%28'samplemessage',%203%29%0A%20%20%20%20%20%20%20%20'SLSEAPEESGMMA'%0A%20%20%20%20%0A%20%20%20%20Arguments%3A%0A%20%20%20%20%20%20%20%20text%20%28str%29%3A%20%20represents%20either%20plaintext%20or%20ciphertext%0A%20%20%20%20%20%20%20%20rows%20%28int%29%3A%20%20integer%20that%20represents%20the%20number%20of%20rows%0A%20%20%20%20%20%20%20%20%0A%20%20%20%20Returns%3A%0A%20%20%20%20%20%20%20%20%28str%29%3A%20represents%20the%20output,%20either%20plaintext%20or%20ciphertext%0A%20%20%20%20%20%20%20%20%28str%29%3A%20an%20error%20message%0A%20%20%20%20%22%22%22%0A%20%20%20%20%0A%20%20%20%20text%20%3D%20text_clean%28%20text%20%29%0A%20%20%20%20%0A%20%20%20%20if%20rows%20%3D%3D%202%3A%0A%20%20%20%20%20%20%20%20if%20encipher%20%3D%3D%20True%3A%0A%20%20%20%20%20%20%20%20%20%20%20%20return%20text%5B%3A%3A2%5D.upper%28%29%20%2B%20text%5B1%3A%3A2%5D.upper%28%29%0A%20%20%20%20%20%20%20%20else%3A%0A%20%20%20%20%20%20%20%20%20%20%20%20return%20%22this%20is%20where%20the%202%20row%20decipher%20code%20will%20go%22%0A%20%20%20%20elif%20rows%20%3D%3D%203%3A%0A%20%20%20%20%20%20%20%20if%20encipher%20%3D%3D%20True%3A%0A%20%20%20%20%20%20%20%20%20%20%20%20return%20text%5B%3A%3A4%5D.upper%28%29%20%2B%20text%5B1%3A%3A2%5D.upper%28%29%20%2B%20text%5B2%3A%3A4%5D.upper%28%29%0A%20%20%20%20%20%20%20%20else%3A%0A%20%20%20%20%20%20%20%20%20%20%20%20return%20%22this%20is%20where%20the%203%20row%20decipher%20code%20will%20go%22%0A%20%20%20%20else%3A%0A%20%20%20%20%20%20%20%20return%20%22number%20of%20rails%20not%20supported%22%0A%0Arailfence%28'samplemessage',%203%29&codeDivHeight=400&codeDivWidth=350&cumulative=false&curInstr=0&heapPrimitives=nevernest&origin=opt-frontend.js&py=3&rawInputLstJSON=%5B%5D&textReferences=false\"\n",
       "            frameborder=\"0\"\n",
       "            allowfullscreen\n",
       "        ></iframe>\n",
       "        "
      ],
      "text/plain": [
       "<IPython.lib.display.IFrame at 0x19c26056f98>"
      ]
     },
     "execution_count": 21,
     "metadata": {},
     "output_type": "execute_result"
    }
   ],
   "source": [
    "import IPython\n",
    "url = \"https://pythontutor.com/iframe-embed.html#code=def%20text_clean%28%20text%20%29%3A%0A%20%20%20%20%22%22%22%0A%20%20%20%20Arguments%3A%0A%20%20%20%20%20%20%20%20text%20%28str%29%3A%20a%20string%20containing%20text%0A%20%20%20%20Returns%3A%0A%20%20%20%20%20%20%20%20%28str%29%3A%20the%20input%20string%20with%20spaces,%20non%20letter%20characters%20removed.%0A%20%20%20%20%20%20%20%20%20%20%20%20%20%20%20letters%20will%20be%20upper-case%0A%20%20%20%20%22%22%22%0A%20%20%20%20LETTERS%20%3D%20'ABCDEFGHIJKLMNOPQRSTUVWXYZ'%0A%20%20%20%20text%20%3D%20text.upper%28%29%0A%20%20%20%20cleaned%20%3D%20''%0A%20%20%20%20for%20char%20in%20text%3A%0A%20%20%20%20%20%20%20%20if%20char%20in%20LETTERS%3A%0A%20%20%20%20%20%20%20%20%20%20%20%20cleaned%20%2B%3D%20char%0A%20%20%20%20%20%20%20%20%20%20%20%20%0A%20%20%20%20return%20cleaned%0A%0Adef%20railfence%28text,%20rows,%20encipher%3DTrue%29%3A%0A%20%20%20%20%22%22%22%0A%20%20%20%20Example%20of%20Use%3A%0A%20%20%20%20%20%20%20%20%3E%3E%3E%20railfence%28'samplemessage',%203%29%0A%20%20%20%20%20%20%20%20'SLSEAPEESGMMA'%0A%20%20%20%20%0A%20%20%20%20Arguments%3A%0A%20%20%20%20%20%20%20%20text%20%28str%29%3A%20%20represents%20either%20plaintext%20or%20ciphertext%0A%20%20%20%20%20%20%20%20rows%20%28int%29%3A%20%20integer%20that%20represents%20the%20number%20of%20rows%0A%20%20%20%20%20%20%20%20%0A%20%20%20%20Returns%3A%0A%20%20%20%20%20%20%20%20%28str%29%3A%20represents%20the%20output,%20either%20plaintext%20or%20ciphertext%0A%20%20%20%20%20%20%20%20%28str%29%3A%20an%20error%20message%0A%20%20%20%20%22%22%22%0A%20%20%20%20%0A%20%20%20%20text%20%3D%20text_clean%28%20text%20%29%0A%20%20%20%20%0A%20%20%20%20if%20rows%20%3D%3D%202%3A%0A%20%20%20%20%20%20%20%20if%20encipher%20%3D%3D%20True%3A%0A%20%20%20%20%20%20%20%20%20%20%20%20return%20text%5B%3A%3A2%5D.upper%28%29%20%2B%20text%5B1%3A%3A2%5D.upper%28%29%0A%20%20%20%20%20%20%20%20else%3A%0A%20%20%20%20%20%20%20%20%20%20%20%20return%20%22this%20is%20where%20the%202%20row%20decipher%20code%20will%20go%22%0A%20%20%20%20elif%20rows%20%3D%3D%203%3A%0A%20%20%20%20%20%20%20%20if%20encipher%20%3D%3D%20True%3A%0A%20%20%20%20%20%20%20%20%20%20%20%20return%20text%5B%3A%3A4%5D.upper%28%29%20%2B%20text%5B1%3A%3A2%5D.upper%28%29%20%2B%20text%5B2%3A%3A4%5D.upper%28%29%0A%20%20%20%20%20%20%20%20else%3A%0A%20%20%20%20%20%20%20%20%20%20%20%20return%20%22this%20is%20where%20the%203%20row%20decipher%20code%20will%20go%22%0A%20%20%20%20else%3A%0A%20%20%20%20%20%20%20%20return%20%22number%20of%20rails%20not%20supported%22%0A%0Arailfence%28'samplemessage',%203%29&codeDivHeight=400&codeDivWidth=350&cumulative=false&curInstr=0&heapPrimitives=nevernest&origin=opt-frontend.js&py=3&rawInputLstJSON=%5B%5D&textReferences=false\"\n",
    "IPython.display.IFrame(url, 1000, 700)"
   ]
  },
  {
   "cell_type": "markdown",
   "metadata": {},
   "source": [
    "The functions `text_clean` and `railfence` are considered `global` objects, meaning that every other object in the notebook as access to them at all times. You can also see that certain variables, like `LETTERS`, `cleaned`, and `char` are local only to the `text_clean` function, and other like `rows` and `encipher` are local only to `railfence` as indicated by the box around each function in which they are contained. Other functions outside the box can't access or alter them, unless specifically allowed access to the objects by using a `return` statement.\n",
    "\n",
    "Stepping through the code line by line allows you to see how the `for` loop iterates over the `LETTERS` string one character at a time, and makes a decision on whether to move it to the `cleaned` string, or ignore it. Only the characters that are moved are returned back to the `railfence` function, and assigned to the local variable `text`.\n",
    "\n",
    "The Python Tutor website is a great resource to see how your code is working and identify possible bugs in your code."
   ]
  }
 ],
 "metadata": {
  "kernelspec": {
   "display_name": "Python 3",
   "language": "python",
   "name": "python3"
  },
  "language_info": {
   "codemirror_mode": {
    "name": "ipython",
    "version": 3
   },
   "file_extension": ".py",
   "mimetype": "text/x-python",
   "name": "python",
   "nbconvert_exporter": "python",
   "pygments_lexer": "ipython3",
   "version": "3.7.3"
  }
 },
 "nbformat": 4,
 "nbformat_minor": 4
}
