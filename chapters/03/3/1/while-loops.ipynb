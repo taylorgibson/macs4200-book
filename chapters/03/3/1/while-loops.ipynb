{
 "cells": [
  {
   "cell_type": "markdown",
   "metadata": {},
   "source": [
    "# While Loops\n",
    "\n",
    "A `while` loop implements the repeated execution of code based on a statement that resolves to be either `True` or `False`. The code that is in a `while` block will execute as long as the `while` statement evaluates to `True`. When you enter into a `while` loop, it may not be obvious how long the loop will run, and in fact, the loops could run forever! A `while` loop whose statement will never resolve to `False` is called an *infinite loop* as it will continue to run forever.\n",
    "\n",
    "## The Structure\n",
    "\n",
    "In Python, while loops are constructed as:\n",
    "\n",
    "```\n",
    "while [a condition is True]:\n",
    "  [do something]\n",
    "```\n",
    "\n",
    "For example:"
   ]
  },
  {
   "cell_type": "code",
   "execution_count": 5,
   "metadata": {},
   "outputs": [
    {
     "name": "stdout",
     "output_type": "stream",
     "text": [
      "h\n",
      "e\n",
      "l\n",
      "l\n",
      "o\n",
      " \n",
      "e\n",
      "v\n",
      "e\n",
      "r\n",
      "y\n",
      "o\n",
      "n\n",
      "e\n"
     ]
    }
   ],
   "source": [
    "message = 'hello everyone'\n",
    "counter = 0\n",
    "\n",
    "while counter < len(message):\n",
    "    print(message[counter])\n",
    "    counter = counter + 1"
   ]
  },
  {
   "cell_type": "markdown",
   "metadata": {},
   "source": [
    "In this example, the `while` statement that needs to be `True` in order to run the block of code is that the value of the integer `counter` must be less than the *length* of the string `message`. Using a counter variable as part of the conditional statement is very common. \n",
    "\n",
    "You'll notice that after the `while` statement, there is a colon (`:`) to denote the end of the statement. The line(s) of code to be run when the statement is `True` is indented under the `while` statement. You can use two spaces or a tab to indent your code. Python is very picky about spacing, so you __must__ indent code when writing loop statements and you __must__ do so consistently (no mixing spaces and tabs)."
   ]
  },
  {
   "cell_type": "markdown",
   "metadata": {},
   "source": [
    "## Other Examples of While Loops\n",
    "In the first example of a `while` loop, the `while` statement was checking to see if `counter` was larger than `len(message)`. Here's an example of what's called a Sentinel loop. This type of loop is looking for a variable to take on a specific value, and will continue to run the indented code until that value is reached. Typically, this type of loop is used when looking for a particular value or keypress to be inputted. For example, a correct password or a command to quit.\n",
    "\n",
    "The example below is a loop that will repeatedly ask the user to input text until they enter the string `unicorn`."
   ]
  },
  {
   "cell_type": "code",
   "execution_count": 4,
   "metadata": {},
   "outputs": [
    {
     "name": "stdout",
     "output_type": "stream",
     "text": [
      "Enter the password: \n"
     ]
    },
    {
     "name": "stdin",
     "output_type": "stream",
     "text": [
      " password\n"
     ]
    },
    {
     "name": "stdout",
     "output_type": "stream",
     "text": [
      "Enter the password: \n"
     ]
    },
    {
     "name": "stdin",
     "output_type": "stream",
     "text": [
      " 1234\n"
     ]
    },
    {
     "name": "stdout",
     "output_type": "stream",
     "text": [
      "Enter the password: \n"
     ]
    },
    {
     "name": "stdin",
     "output_type": "stream",
     "text": [
      " 12345\n"
     ]
    },
    {
     "name": "stdout",
     "output_type": "stream",
     "text": [
      "Enter the password: \n"
     ]
    },
    {
     "name": "stdin",
     "output_type": "stream",
     "text": [
      " unicorn\n"
     ]
    },
    {
     "name": "stdout",
     "output_type": "stream",
     "text": [
      "Correct password entered!\n"
     ]
    }
   ],
   "source": [
    "password = ''\n",
    "\n",
    "while password != 'unicorn':\n",
    "    print('Enter the password: ')\n",
    "    password = input()\n",
    "    \n",
    "print('Correct password entered!')"
   ]
  },
  {
   "cell_type": "markdown",
   "metadata": {},
   "source": [
    "Notice that first the string `password` had to be created, even though it was empty, otherwise the `while` statement `password != 'unicorn'` would have created an error, since Python would not have a way to check if the string `password` had the value `unicorn` stored to it if it didn't exist. This process of __initializing__ a string to the empty string, `''`, is a common technique to create a variable so it can be referenced before you store a value to it."
   ]
  },
  {
   "cell_type": "markdown",
   "metadata": {},
   "source": [
    "This `while` loop uses a string method `.isalpha()` to enforce a name requirement that insists the name have letters, no numbers, no symbols, and no spaces."
   ]
  },
  {
   "cell_type": "code",
   "execution_count": 1,
   "metadata": {},
   "outputs": [
    {
     "name": "stdin",
     "output_type": "stream",
     "text": [
      " C-3PO\n",
      " R2-D2\n",
      " BB-8\n",
      " Darth Vader\n",
      " Anakin\n"
     ]
    }
   ],
   "source": [
    "first_name = ''\n",
    "\n",
    "while ( not first_name.isalpha() ):\n",
    "    first_name = input()"
   ]
  },
  {
   "cell_type": "markdown",
   "metadata": {},
   "source": [
    "This last example would be *one* way to print all the even numbers between 0 and 26."
   ]
  },
  {
   "cell_type": "code",
   "execution_count": 4,
   "metadata": {},
   "outputs": [
    {
     "name": "stdout",
     "output_type": "stream",
     "text": [
      "0\n",
      "2\n",
      "4\n",
      "6\n",
      "8\n",
      "10\n",
      "12\n",
      "14\n",
      "16\n",
      "18\n",
      "20\n",
      "22\n",
      "24\n",
      "26\n"
     ]
    }
   ],
   "source": [
    "counter = 0\n",
    "\n",
    "while counter <= 26:\n",
    "    print( counter )\n",
    "    counter = counter + 2"
   ]
  },
  {
   "cell_type": "markdown",
   "metadata": {},
   "source": [
    "As you can see, there are a lot of ways you can use a `while` loop. The flexibility does come at a price. It's very easy to unintentionally create a `while` loop that never terminates, either through improperly written code or an unexpected starting condition such that the `while` statement never returns `False`. The next type of loop, the `for` loop, is less flexible but has the benefit that it will always terminate."
   ]
  }
 ],
 "metadata": {
  "kernelspec": {
   "display_name": "Python 3",
   "language": "python",
   "name": "python3"
  },
  "language_info": {
   "codemirror_mode": {
    "name": "ipython",
    "version": 3
   },
   "file_extension": ".py",
   "mimetype": "text/x-python",
   "name": "python",
   "nbconvert_exporter": "python",
   "pygments_lexer": "ipython3",
   "version": "3.7.3"
  }
 },
 "nbformat": 4,
 "nbformat_minor": 4
}
