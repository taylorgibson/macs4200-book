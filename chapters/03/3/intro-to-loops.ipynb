{
 "cells": [
  {
   "cell_type": "markdown",
   "metadata": {},
   "source": [
    "# Loops\n",
    "\n",
    "As you may have already noticed, the act of enciphering or deciphering a message will involve a lot of repeated operations. You're likely to get tired of adding and subtracting by hand! When programming, its often impractical or impossible to type out every individual operation that needs to be performed. Instead, a programmer can find some sort of structure in the repeated operations that can be used to describe the series of operations that need to be performed. One way to do that is to use a __loop__ to *iterate* through all the different operations. There are two types of loops covered in this section, the `while` loop and the `for` loop. All loops will continually run a line or lines of code until a particular condition has been met. Both types of loops have their advantages and disadvantages depending on what problem you're trying to solve. We'll soon see how loops will be helpful in automating the enciphering and deciphering process for a collection of letters while providing flexibility of our code to handle a variety of messages."
   ]
  }
 ],
 "metadata": {
  "kernelspec": {
   "display_name": "Python 3",
   "language": "python",
   "name": "python3"
  },
  "language_info": {
   "codemirror_mode": {
    "name": "ipython",
    "version": 3
   },
   "file_extension": ".py",
   "mimetype": "text/x-python",
   "name": "python",
   "nbconvert_exporter": "python",
   "pygments_lexer": "ipython3",
   "version": "3.7.3"
  }
 },
 "nbformat": 4,
 "nbformat_minor": 4
}
