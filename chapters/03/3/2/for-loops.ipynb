{
 "cells": [
  {
   "cell_type": "markdown",
   "metadata": {},
   "source": [
    "# For Loops\n",
    "\n",
    "A `for` loop implements the repeated execution of code based on a loop counter or loop variable. `for` loops are used most often when the number of iterations is known before entering the loop. This is different from `while` loops which are conditionally based, and may run for an undetermined number of iterations.\n",
    "\n",
    "In Python, for loops are constructed like so:\n",
    "\n",
    "```\n",
    "for [iterating variable] in [sequence]:\n",
    "  [do something]\n",
    "```\n",
    "\n",
    "For example:"
   ]
  },
  {
   "cell_type": "code",
   "execution_count": 1,
   "metadata": {},
   "outputs": [
    {
     "name": "stdout",
     "output_type": "stream",
     "text": [
      "h\n",
      "e\n",
      "l\n",
      "l\n",
      "o\n"
     ]
    }
   ],
   "source": [
    "for x in 'hello':\n",
    "    print(x)"
   ]
  },
  {
   "cell_type": "markdown",
   "metadata": {},
   "source": [
    "In this example, the iterating variable was `x` and the sequence was the string `hello`. The `for` loop assigns each element in the sequence, in this case each character in the string, to the variable `x` and then executes the indented lines of code, one after another.\n",
    "\n",
    "This works on iterable sequences stored to variables as well:"
   ]
  },
  {
   "cell_type": "code",
   "execution_count": 7,
   "metadata": {},
   "outputs": [
    {
     "name": "stdout",
     "output_type": "stream",
     "text": [
      "M\n",
      "Y\n",
      "L\n",
      "I\n",
      "T\n",
      "T\n",
      "L\n",
      "E\n",
      "S\n",
      "E\n",
      "C\n",
      "R\n",
      "E\n",
      "T\n"
     ]
    }
   ],
   "source": [
    "plaintext = 'mylittlesecret'\n",
    "\n",
    "for char in plaintext.upper():\n",
    "    print(char)"
   ]
  },
  {
   "cell_type": "markdown",
   "metadata": {},
   "source": [
    "Right now the only sequences we know are strings, but let's learn another one, `ranges`."
   ]
  },
  {
   "cell_type": "markdown",
   "metadata": {},
   "source": [
    "# Range\n",
    "One of Python’s built-in immutable (unchangeable) sequence types is `range()`. In loops, `range()` is used to control how many times the loop will be repeated. When working with `range()`, you can pass between 1 and 3 integer arguments to it:\n",
    "\n",
    "```\n",
    "range( [start], [stop], [step] )\n",
    "```\n",
    "\n",
    "* __start:__ the integer value that the sequence should begin at. If not included, the sequence will start at 0 by default.\n",
    "* __stop:__ the integer that the sequence counts up to, but does not include. Must always be included in the call.\n",
    "* __step:__ the integer the sequence should increase by (or decrease if you use a negative number) until the `[stop]` value is reached. If not include, the step will be 1 by default.\n",
    "\n",
    "Let's look at a simple `range()` call with one argument, `range( [stop] )`:"
   ]
  },
  {
   "cell_type": "code",
   "execution_count": 2,
   "metadata": {},
   "outputs": [
    {
     "name": "stdout",
     "output_type": "stream",
     "text": [
      "0\n",
      "1\n",
      "2\n",
      "3\n"
     ]
    }
   ],
   "source": [
    "for i in range(4):\n",
    "    print(i)"
   ]
  },
  {
   "cell_type": "markdown",
   "metadata": {},
   "source": [
    "You can see that the iterating variable, `i`, is first set to the integer `0` since no `[start]` argument was used. The indented code then prints the current value of `i`. Next, `i` is set to the next value in the sequence, `1`, which is printed. This process completes until `3` is printed. Since the `[stop]` value was set at 4, the sequence goes up to, but does not include 4, and the `for` loop now ends.\n",
    "\n",
    "Now let's look at a `range( [start], [stop] )` example:"
   ]
  },
  {
   "cell_type": "code",
   "execution_count": 4,
   "metadata": {},
   "outputs": [
    {
     "name": "stdout",
     "output_type": "stream",
     "text": [
      "4\n",
      "6\n",
      "8\n",
      "10\n",
      "12\n"
     ]
    }
   ],
   "source": [
    "for integer in range(2, 7):\n",
    "    print(2 * integer)"
   ]
  },
  {
   "cell_type": "markdown",
   "metadata": {},
   "source": [
    "Here you can see that the iterating variable `integer` is first set to `2`, and then twice this value is printed. This process continues until `integer` is set to `6` and then `12` is printed.\n",
    "\n",
    "Another way to generate this same output is to use `range( [start, [stop], [step] )`: "
   ]
  },
  {
   "cell_type": "code",
   "execution_count": 6,
   "metadata": {},
   "outputs": [
    {
     "name": "stdout",
     "output_type": "stream",
     "text": [
      "2\n",
      "4\n",
      "6\n",
      "8\n",
      "10\n",
      "12\n"
     ]
    }
   ],
   "source": [
    "for num in range(2, 14, 2):\n",
    "    print(num)"
   ]
  },
  {
   "cell_type": "markdown",
   "metadata": {},
   "source": [
    "This loop uses the `[step]` argument to assign values `2`, `4`, ... , `10`, `12`, to the iterating variable `num`.\n",
    "\n",
    "We'll learn about more iterable sequences beyond `strings` and `ranges` later in the course. Examples include `lists` and `arrays`."
   ]
  }
 ],
 "metadata": {
  "kernelspec": {
   "display_name": "Python 3",
   "language": "python",
   "name": "python3"
  },
  "language_info": {
   "codemirror_mode": {
    "name": "ipython",
    "version": 3
   },
   "file_extension": ".py",
   "mimetype": "text/x-python",
   "name": "python",
   "nbconvert_exporter": "python",
   "pygments_lexer": "ipython3",
   "version": "3.7.3"
  }
 },
 "nbformat": 4,
 "nbformat_minor": 4
}
