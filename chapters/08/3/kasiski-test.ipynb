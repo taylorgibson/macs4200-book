{
 "cells": [
  {
   "cell_type": "markdown",
   "metadata": {},
   "source": [
    "# The Kasiski Test\n",
    "The Vigenère cipher remained secure for hundreds of years. It defeated the previous cryptanalysis methods of using frequency analysis to determine the key. The strength of the system relied on having a keyword, preferably of a decent length, that changed that effectively rotated the key throughout the message. However, there is still a weakness in the system that took until 1863 for *Friedrich Kasiski* to discover that it was possible to determine the length of the keyword, and from there the rest becomes easy.\n",
    "\n",
    "## Repeated Ciphertext\n",
    "\n",
    "Suppose you had the following fragment of plaintext:\n",
    "\n",
    "`...on a plane. The plane is due...`\n",
    "\n",
    "and you encrypted it using the Vigenère cipher and the following 3 keywords:\n",
    "\n",
    "```\n",
    "keyword: water\n",
    "keystream:  w a t e r w a t e r w a t e r w a t e r w\n",
    "plaintext:  o n a p l a n e t h e p l a n e i s d u e\n",
    "ciphertext: K N T T C W N X X Y A P E E E A I L H L A\n",
    "```\n",
    "\n",
    "You can see in this example, the word `plane` in the appears twice in the plaintext, but once encrypted it appears as two different ciphertext fragments, `TCWNX` and  `PEEEA`. This is a characteristic of many polyaphabetic ciphers and is precisely what Vigenère was designed to do. \n",
    "\n",
    "However, look what happen when using the keyword `MILK`\n",
    " \n",
    "```\n",
    "keyword: milk\n",
    "keystream:  m i l k m i l k m i l k m i l k m i l k m\n",
    "plaintext:  o n a p l a n e t h e p l a n e i s d u e\n",
    "ciphertext: A V L Z X I Y O F P D Z X I Y O U A O E Q\n",
    "```\n",
    "\n",
    "In this case, using the keyword `MILK` caused the word `plane` to be enciphered to the ciphertext `ZXIYO` both times. We see this happen again when using the keyword `HOSPITAL`\n",
    " \n",
    "```\n",
    "keyword: hospital\n",
    "keystream:  h o s p i t a l h o s p i t a l h o s p i\n",
    "plaintext:  o n a p l a n e t h e p l a n e i s d u e\n",
    "ciphertext: V B S E T T N P A V W E T T N P P G V J M\n",
    "```\n",
    "\n",
    "This time plane is mapped to `ETTNP` both times. \n",
    "\n",
    "If one of the major strengths of Vigenère is that it can disguise repeated plaintext fragments, this seems like a major flaw! Any pattern or repetition may reveal information about the plaintext or key. Let's examine what may be causing this to happen, and what we can learn about the key when it does.\n",
    "\n",
    "## Aligning Keywords and Plaintext\n",
    "\n",
    "In both cases above, the repeated ciphertext is a direct result of the keyword aligning in the same position over the word `plane` both times the word `plane` appeared in the plaintext. This alignment wouldn't have happened if the keyword was 3, 5, 6, 7, or any longer than 8 characters long. Some trial and error would show that keywords of length 1, 2, 4, and 8 *will* cause the keyword to line up in the same position. What's so special about keywords that are 1, 2, 4 or 8 characters long? Those numbers are all related to the distance between repeated plaintext fragments!\n",
    "\n",
    "```\n",
    "plaintext: o n a p l a n e t h e p l a n e i s d u e\n",
    "                 0 1 2 3 4 5 6 7 8 \n",
    "```\n",
    "\n",
    "We can see that the start of the repeated plaintext word `plane` is 8 characters away. If the keyword were 1, 2, 4, or 8 characters long, then the keywords will align in the same position relative to the repeated plaintext fragment. \n",
    "\n",
    "For example, in the following message the repeated plaintext of `times` is 20 characters apart:\n",
    "\n",
    "```\n",
    "plaintext: b  e  s  t  o  f  t  i  m  e  s  i  t  w  a  s  t  h  e  w  o  r  s  t  o  f  t  i  m  e  s\n",
    "                             0  1  2  3  4  5  6  7  8  9 10 11 12 13 14 15 16 17 18 19 20\n",
    "```\n",
    "Using a key of length 1, 2, 4, 5, 10, or 20 would result in the word `times` being enciphered the same way both times. \n",
    "\n",
    "These repeated ciphertext fragments reveal a shortlist of potential keyword lengths for a Vigenère ciphertext. The longer a repeated fragment, the less likely the repetition was by chance, so typically fragments should be of length 4 or more to retain confidence in your work. One repetition alone isn't enough to determine the keyword length for certain. However if the same fragment repeats multiple times, or you discover multiple cases of repeating fragments of ciphertext, you can begin to narrow down the possible lengths of the keyword further.\n",
    "\n",
    "## Multiple Repeating Fragments\n",
    "\n",
    "Suppose you intercepted the following ciphertext:\n",
    "\n",
    "> JAKXQ SWECW MMJBK TQMCM LWCXJ BNEWS XKRBO IAOBI NOMLJ GUIMH YTACF ICVOE BGOVC WYRCV KXJZV SMRXY VPOVB UBIJH OVCVK RXBOE ASZVR AOXQS WECVO QJHSG ROXWJ MCXQF OIRGZ VRAOJ RJOMB DBMVS CIESX MBDBM VSKRM GYFHA KXQSW ECWME UWXHD QDMXB KPUCN HWIWF NFCKA SKXNF DLJBY RNOBI YFSQN HRIYV IWRQS WCGKC BHRVN SSWYF SQNTS ZNWCT AWWIB SFIWW CTAWW IWWXI RGKRN LZIAW WIWHK PNFBS ASVIE SXMBD BMVSK RMGYC NGKPU CNHWI WFNFC KASKX NFDLJ BYRNO BIYFS QNHRI NBQMW SOVBO IWCVB INWCT AWWIO WFIRG ZVRAO WNJOR RGZVR AORRB OMBDB MVSOP NJORR GZVRA OXQWB XNSXM BDBMV SPMOH OIWWC TAWWI\n",
    "\n",
    "If we were to find repeated fragments of ciphertext in the message, especially if the fragments are particularly long, it could be a sign that the keyword used is a factor of the distance between the repeating ciphertext fragments. It is not guaranteed, but the chances of the repetition being random is very low.\n",
    "\n",
    "Fortunately, we do find some repeated fragments:\n",
    "```\n",
    "WCTAWWI (x2): 12 characters apart\n",
    "YFSQN (x2): 28 characters apart\n",
    "```\n",
    "\n",
    "Finding just these repeats indicates that the keyword used must be a factor of 12 (1, 2, 3, 4, 6, or 12) and 28 (1, 2, 4, 7, 14, or 28), leaving only the possibilities of: 1, 2, or 4. Assuming the message was actually enciphered using Vigenère, that would eliminate the key length of 1 (which would just be a Caesar cipher) that leaves us with the choice of either 2 or 4. We will assume the larger value and see what that information might provide you.\n",
    "\n",
    "## Grouping Letters\n",
    "Now that we've assumed that the keyword has length of 4, let's try to use that information to deduce the key.\n",
    "\n",
    "If the keyword length is 4, that means that every letter in the plaintext was enciphered using one of 4 key letters. For example:\n",
    "\n",
    "```\n",
    "keyword letter: 12341 23412 34123 41234 12341\n",
    "     plaintext: JAKXQ SWECW MMJBK TQMCM LWCXJ\n",
    "```\n",
    "\n",
    "If we were to group all the ciphertext letters together that were enciphered with the same letter of the keyword, we'll have 4 groups of letters each of which essentially came from a monoalphabetic cipher. And since we know Vigenère works by adding the value of the key to the value of the plaintext letter, we can treat each group as if it were enciphering using the Caesar cipher. That is very helpful since you know how to find the key for a ciphertext created with the Caesar cipher using frequency analysis and chi-squared scoring.\n",
    "\n",
    "Group 1:\n",
    "> JQCJQ LJWRA NJMAC BCCJM VBJCX ARQCJ RJQRR RBVEB VMHQC UDXUW NANJN YNYRC BNYNN ABWAW RNAWN AEBVM NUWNA NJNYN NWBCN AORRN RRRBV NRRQN BVOWA"
   ]
  },
  {
   "cell_type": "code",
   "execution_count": 1,
   "metadata": {
    "tags": [
     "remove_cell"
    ]
   },
   "outputs": [],
   "source": [
    "import sys\n",
    "from seaborn import barplot\n",
    "sys.path.insert(0, '../../')\n",
    "from toolkit import letterFrequency,textBlock, vigenereDecipher"
   ]
  },
  {
   "cell_type": "code",
   "execution_count": 2,
   "metadata": {
    "tags": [
     "remove_input"
    ]
   },
   "outputs": [
    {
     "data": {
      "image/png": "[encoded data removed]",
      "text/plain": [
       "<Figure size 432x288 with 1 Axes>"
      ]
     },
     "metadata": {
      "needs_background": "light"
     },
     "output_type": "display_data"
    }
   ],
   "source": [
    "labels = ['A', 'B', 'C', 'D', 'E', 'F', 'G', 'H', 'I', 'J', 'K', 'L', 'M', 'N', 'O', 'P', 'Q', 'R', 'S', 'T', 'U', 'V', 'W', 'X', 'Y', 'Z']\n",
    "values = letterFrequency( 'JQCJQLJWRANJMACBCCJMVBJCXARQCJRJQRRRBVEBVMHQCUDXUWNANJNYNYRCBNYNNABWAWRNAWNAEBVMNUWNANJNYNNWBCNAORRNRRRBVNRRQNBVOWA' )\n",
    "barplot(labels, values, color='steelblue').set_title('Ciphertext Group 1');"
   ]
  },
  {
   "cell_type": "markdown",
   "metadata": {},
   "source": [
    "Group 2\n",
    "> ASWBM WBSBO OGHCV GWVZR PUHVB SASVH OMFGA JDSSD SGASW WQBCI FSFBO FHVQG HSFTW WSWWW GLWHF SSDSG GCIFS FBOFH BSOVW WWGAJ GABDS JGAWS DSHWW"
   ]
  },
  {
   "cell_type": "code",
   "execution_count": 3,
   "metadata": {
    "tags": [
     "remove_input"
    ]
   },
   "outputs": [
    {
     "data": {
      "image/png": "[encoded data removed]",
      "text/plain": [
       "<Figure size 432x288 with 1 Axes>"
      ]
     },
     "metadata": {
      "needs_background": "light"
     },
     "output_type": "display_data"
    }
   ],
   "source": [
    "values = letterFrequency( 'ASWBMWBSBOOGHCVGWVZRPUHVBSASVHOMFGAJDSSDSGASWWQBCIFSFBOFHVQGHSFTWWSWWWGLWHFSSDSGGCIFSFBOFHBSOVWWWGAJGABDSJGAWSDSHWW' )\n",
    "barplot(labels, values, color='steelblue').set_title('Ciphertext Group 2');"
   ]
  },
  {
   "cell_type": "markdown",
   "metadata": {},
   "source": [
    "Group 3\n",
    "> KWMKC CNXOB MUYFO OYKVX OBOKO ZOWOS XCOZO OBCXB KYKWM XDKNW CKDYB SRISK RSSSC WFCWX KZWKB VXBKY KNWCK DYBSR QOIBC WFZOO ZOOBO OZOBX BPOCW"
   ]
  },
  {
   "cell_type": "code",
   "execution_count": 4,
   "metadata": {
    "tags": [
     "remove_input"
    ]
   },
   "outputs": [
    {
     "data": {
      "image/png": "[encoded data removed]",
      "text/plain": [
       "<Figure size 432x288 with 1 Axes>"
      ]
     },
     "metadata": {
      "needs_background": "light"
     },
     "output_type": "display_data"
    }
   ],
   "source": [
    "values = letterFrequency( 'KWMKCCNXOBMUYFOOYKVXOBOKOZOWOSXCOZOOBCXBKYKWMXDKNWCKDYBSRISKRSSSCWFCWXKZWKBVXBKYKNWCKDYBSRQOIBCWFZOOZOOBOOZOBXBPOCW' )\n",
    "barplot(labels, values, color='steelblue').set_title('Ciphertext Group 3');"
   ]
  },
  {
   "cell_type": "markdown",
   "metadata": {},
   "source": [
    "Group 4\n",
    "> XEMTM XEKII LITIE VRXSY VIVRE VXEQG WXIVJ MMIMM RFXEE HMPHF KXLRI QIWWC VWQZT IITII RIIPS IMMRC PHFKX LRIQI MVWIT IIVWR VRMMP RVXXM MMITI"
   ]
  },
  {
   "cell_type": "code",
   "execution_count": 5,
   "metadata": {
    "tags": [
     "remove_input"
    ]
   },
   "outputs": [
    {
     "data": {
      "image/png": "[encoded data removed]",
      "text/plain": [
       "<Figure size 432x288 with 1 Axes>"
      ]
     },
     "metadata": {
      "needs_background": "light"
     },
     "output_type": "display_data"
    }
   ],
   "source": [
    "values = letterFrequency( 'XEMTMXEKIILITIEVRXSYVIVREVXEQGWXIVJMMIMMRFXEEHMPHFKXLRIQIWWCVWQZTIITIIRIIPSIMMRCPHFKXLRIQIMVWITIIVWRVRMMPRVXXMMMITI' )\n",
    "barplot(labels, values, color='steelblue').set_title('Ciphertext Group 4');"
   ]
  },
  {
   "cell_type": "markdown",
   "metadata": {},
   "source": [
    "Even though there's not a lot of characters in each smaller group, it's relatively straight forward to see the key from each bar chart.\n",
    "\n",
    "| Group # | Key # | Keyword Letter|\n",
    "|:-------:|:-----:|:-------------:|\n",
    "|1        | 9 | J |\n",
    "|2| 14 | O |\n",
    "|3| 11 | K |\n",
    "|4| 4  | E |"
   ]
  },
  {
   "cell_type": "markdown",
   "metadata": {},
   "source": [
    "We can see that the keyword appears to be `JOKE`. We can verify by attempting to decipher the message using the Vigenère cipher."
   ]
  },
  {
   "cell_type": "code",
   "execution_count": 6,
   "metadata": {},
   "outputs": [
    {
     "name": "stdout",
     "output_type": "stream",
     "text": [
      "amathematicianaphysicistandanengineerareeachaskedtoprovetheassertionthatalloddnumbersgreaterthanoneareprimethemathematiciansaysthreeisprimefiveisprimesevenisprimeandsobymathematicalinductionalloddnumbersgreaterthanoneareprimethephysicistsaysthreeisprimefiveisprimesevenisprimenineisanexperimentalerrorelevenisprimeandsoyesalloddnumbersgreaterthanoneareprimetheengineersaysthreeisprimefiveisprimesevenisprimenineisprimeelevenisprimethirteenisprimefifteenisprime\n"
     ]
    }
   ],
   "source": [
    "ciphertext = 'JAKXQ SWECW MMJBK TQMCM LWCXJ BNEWS XKRBO IAOBI NOMLJ GUIMH YTACF ICVOE BGOVC WYRCV KXJZV SMRXY VPOVB UBIJH OVCVK RXBOE ASZVR AOXQS WECVO QJHSG ROXWJ MCXQF OIRGZ VRAOJ RJOMB DBMVS CIESX MBDBM VSKRM GYFHA KXQSW ECWME UWXHD QDMXB KPUCN HWIWF NFCKA SKXNF DLJBY RNOBI YFSQN HRIYV IWRQS WCGKC BHRVN SSWYF SQNTS ZNWCT AWWIB SFIWW CTAWW IWWXI RGKRN LZIAW WIWHK PNFBS ASVIE SXMBD BMVSK RMGYC NGKPU CNHWI WFNFC KASKX NFDLJ BYRNO BIYFS QNHRI NBQMW SOVBO IWCVB INWCT AWWIO WFIRG ZVRAO WNJOR RGZVR AORRB OMBDB MVSOP NJORR GZVRA OXQWB XNSXM BDBMV SPMOH OIWWC TAWWI'\n",
    "print( vigenereDecipher(ciphertext, 'JOKE'))"
   ]
  },
  {
   "cell_type": "markdown",
   "metadata": {},
   "source": [
    "which, once you add in the spacing yields the following (kind of funny?) joke:\n",
    "\n",
    "> a mathematician a physicist and an engineer are each asked to prove the assertion that all odd numbers greater than one are prime. the mathematician says three is prime five is prime seven is prime and so by mathematical induction all odd numbers greater than one are prime. the physicist says three is prime five is prime seven is prime nine is an experimental error eleven is prime and so yes all odd numbers greater than one are prime. the engineer says three is prime five is prime seven is prime nine is prime eleven is prime thirteen is prime fifteen is prime...\n",
    "\n",
    "So, you can see that knowing the length of the keyword by using the Kasiski test is good enough to deduce the key, and then determine the corresponding plaintext.\n",
    "\n",
    "## Limitations\n",
    "It is worth noting that there are few additional steps that could be taken that would thwart the Kasiski test, however they each have their own pros/cons:\n",
    "\n",
    "* Use a longer keyword\n",
    "  * If we use a longer keyword, we will reduce the number of possible times our keyword may line up in the same position on repeated plaintext fragments.\n",
    "  * A common way to do this is a long passage that is common for people to have memorized: the Declaration of Independence, company mission statement, school fight song, etc. \n",
    "    * The downside of this approach is that it may be easily guessable.\n",
    "* Use a random keyword that is as long as the message\n",
    "  * It is very difficult to come up with a truly random keyword!\n",
    "  * Even if you did, it is very difficult to securely transmit it to the receiver of the message. \n",
    "    * If you had a way to deliver this long random keyword without an evesdropper seeing it, we wouldn't need encryption in the first place!\n",
    "\n",
    "This key exchange problem is very pesky, and wasn't solved until the 20th century.\n",
    "\n",
    "## Exercise for the reader\n",
    "\n",
    "To speed this process up, it would be beneficial to use Python functions to implement some of the more manual tasks.\n",
    "* Divide the ciphertext up into the number of groups identified by the Kasiski test\n",
    "* Determine the largest shared factor between a list of numbers, also known as the greatest common divisor\n",
    "* [Hard] Identify repeating fragments of ciphertext and calculate how far apart they are in the message."
   ]
  }
 ],
 "metadata": {
  "kernelspec": {
   "display_name": "Python 3",
   "language": "python",
   "name": "python3"
  },
  "language_info": {
   "codemirror_mode": {
    "name": "ipython",
    "version": 3
   },
   "file_extension": ".py",
   "mimetype": "text/x-python",
   "name": "python",
   "nbconvert_exporter": "python",
   "pygments_lexer": "ipython3",
   "version": "3.7.3"
  }
 },
 "nbformat": 4,
 "nbformat_minor": 4
}
