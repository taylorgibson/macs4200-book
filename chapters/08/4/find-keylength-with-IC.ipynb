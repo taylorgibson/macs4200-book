{
 "cells": [
  {
   "cell_type": "code",
   "execution_count": 2,
   "metadata": {
    "tags": [
     "remove_cell"
    ]
   },
   "outputs": [],
   "source": [
    "import sys\n",
    "sys.path.insert(0, '../../')\n",
    "from toolkit import textSplitter, textClean, IC, vigenereEncipher, vigenereDecipher, chiSquaredScore, caesarDecipher\n",
    "\n",
    "with open('../../../text-files/illiad-selection01.txt', encoding=\"utf8\") as f:\n",
    "    ciphertext = vigenereEncipher(f.read(), 'homer')\n",
    "\n",
    "LETTERS = 'ABCDEFGHIJKLMNOPQRSTUVWXYZ'"
   ]
  },
  {
   "cell_type": "markdown",
   "metadata": {},
   "source": [
    "# Determining the Key Length using Index of Coincidence\n",
    "\n",
    "Using the Kasiski examination technique works particularly well when messages contain repeating ciphertext fragments. However, if the author of a message is particularly careful they may be able to avoid these repeating fragments. At this point it would be difficult to determine the keylength manually. Fortunately, with the Index of Coincidence you can almost completely automate the process of determining the length of a keyword.\n",
    "\n",
    "While the Kasiski method elegantly uses repeated ciphertext fragments and the distance between them to logically deduce the length of the keyword used in a Vigenère cipher, this method is a brute force attack to determine key length.\n",
    "\n",
    "We know from earlier in this chapter that a monoalphabetic cipher has an index of coincidence near $0.066$ while a polyalphabetic cipher has an index of coincidence near $0.038$. We also know that if a Vigenère enciphered text is split into $n$ groups, where $n$ is the length of the keyword, that every letter in each group was enciphered with the same key letter, resulting in a monoalphabetic distribution of letters within each group.\n",
    "\n",
    "We can use Python to guess key lengths, split the text into groups based on the guesses, and check to see if the groups of letters are monoalphabetic or polyalphabetic. If the groups appear to be monoalphabetic then we'll know we've guessed the correct key length.\n",
    "\n",
    "Suppose you have the following ciphertext, stored to the string `ciphertext`:\n",
    "> `ZQQTK PQUWD PGMWD BQTXY LFQWL SHAJB UCIPV KUQEJ RBAAC LRSIZ ZCRWT LDFMT PGYXF ISOSE ASZXN PHTAY HHIIR ADDIJ LBFOE VKUWW VFFLV TCEXG HFFXF ZVGXF BFQEI ZOSEZ UGFGF UJUGK PCZWZ UQQJI VAFLV CSDCX YOPYR SQTEI HQFII VTAYI LRGGR AWARN LAGWK JCZXZ UIMPC FTAVX LHMRU LAMRT PDMXV VIDWV SJQWW YCYOE VKXIU NSBVV CWAYJ SMMGH BWDIU DSYYJ AGQXR ZWPIF SRZSK PCZWR URQQS YOOIW YSELF USEEE KOEAV SSMVE DSYYJ APQHR PZKYE SSMVE PBSWF TSFLZ UUILZ JVUXY HGOSJ AIERF ZAMPC SONSL YOZHR ULUIK FHAET XIUVV HBPXY PGPMW MWOYC AMMXK HQTIJ PHEIC MAAVV JZAWV SMFSR UOSIZ UKTMT ODDSX YSEWY HGSEZ USPEJ AFARX HGOIE KSZGP VJQVG YSVYU PQQEE KWZAY PQTTV YGARJ HBPXY PBSWR YSPEP IMPEP MWZHZ UUFLV PFDIR SZQZV SWZPZ LIAJK OSUVT VBHIE AWARR SJMPL LHTIJ HAQTI PBOMG SSEAY PQTLR CSEAV WHMAR FHDEU PHUSE HZMFL ZSEEE KKTMT OODID HYURX YOBMU OOHST HAARX AVQVV CSZYV ZCRWZ USOYI PGFWR UREXI PDBME NHTIK OWZXR DRDCM LWXJI VAMXK YOOXZ CSEYG LFEXZ AWARJ HFQAF YYURX HGMGK PJQPP PBXMK LFMXL YSMWZ UGAGZ LHKXY LQDIU BZUXP VTARV DFUXV YCDXY LDMVK POXMK FCREE VHTII MWZHJ HGBSN LFRYC HHAYT OGFSE LOZHR ZKTSC LGAQV HQTEJ AWEID LBFME AVQLV HZFLP ZQQTK PQUWD VTMXV TDQVR ASOPR ZGAJR UHMKF UWEXJ HGFLV KFQED ZCRGF UGQVM HHUWD VFFLV PABSJ AIDIJ VTBPL YOXMJ AGURV JIDIJ PBFLV JVGVT OVUWK VFKEE KHDEU PHUSE DVQXY LFAJR UQUIE ACDGF TDMVR AWHIC FFQGV UHFMD LGMVV ZINNV JHQHK VJQVP KWRJV YSZXY HBPPZ UURVF THTEK DVUGY AVQME KIXKV UQQSI JFQHL SWFCF MTAVD LFMKV ZQAYC KOXPF DAQVV ZHMXV TSZXJ HFQNV HZAYJ SMIEK JVQHR URFLV TCFMM LGAJK OSIVZ ASDJF YAMWZ TDAVK HBFEE PBSVV KWQRK PBFLV HBMPP ZWESW OWELZ ZHAVP HGFLV MOOXJ OSDIT VFPWG YCNES PZUXP PGMTF DSDJL SOZHK YCGFC LGAQV ASEXR URUXZ ZPKXY PGFVF BPXIJ VAQWK HBPEI KHTEK HZMVX LDAVK PCZSW OWEXF YWOEC LJUHV UQQMJ ZWRXV KQARJ PGFIE JMUWE VZQWJ WSDXZ UOOMF BGMRU LLMGK PBSME PHEHV TOZHJ PBNVZ LTFSN YWFIR OWEXF YMIID BGFOE VKYSI LHTEE TSDIW HQFWY BAMRE HHGVV CWQAV KIZHV YOZME KIOXZ VBAJV EHQRU LRQBG LFUIE JSUWK OSNIJ AVQPG ACFLV JFUXZ JWEQF MVGQR UVUWK VFKLZ ZHAVZ JOXGY HFMGK LFEGR UCZPP ISQWK PAMXV KPKXY LGFEE KODHN OWOLY BAMRV EDQVZ LBOIN OSFLV YOOXL HZAVK YOPMK PCZEI FVMWW BFZMJ OSPXF MCDQT VFDIT AJUIN ZCRME KWHMU BOXWN LAGWK YSSEI KHTID HGRSI TWZKG HFFWF MOSVV HHILF SSIID BGFQV HGGVV AVQQS FHTIZ YFQPR AWARK VHTID HGESW ISURX ZPKAY VAFLV FODIJ BFDSL URQHR URURT VBFID WZMXZ UUFLV PBOMU LBFWZ UHTIZ YZUZV ZCDGF URUXZ VBILZ JVFVR KWFMF UVMWY HBPIU KCIRK VIEAV TIEXI HHTII JCZWZ KSDXY LUQRV YOXFV HFURX VTFLV DVAPV UODVR AWHIK OOZXY LFQWG LQFMM LDDSS HPUPZ AMAJZ AGPIK HWXW`"
   ]
  },
  {
   "cell_type": "markdown",
   "metadata": {},
   "source": [
    "## Guessing a Keyword Length\n",
    "\n",
    "Suppose we guessed the length of the key to be $2$. That would mean the characters:"
   ]
  },
  {
   "cell_type": "code",
   "execution_count": 5,
   "metadata": {
    "tags": [
     "remove_input"
    ]
   },
   "outputs": [
    {
     "name": "stdout",
     "output_type": "stream",
     "text": [
      "ZWQLIRIDFZHIKVFBEJZFYETRGUVAVQVVMUQSWOFEDHSFIHRORAHMMJASIDYPHGSETHWMZDSJBRTPASRUZMYUACWGITDJOGAYGBLALXFYXVHFTZLEBVQVVGFFZVFJBAIVKDDJCRQLNJVPTGIIFLYAVQSHCKDTEWVEZLSGUDHGRKBWHXZYHWJUWMLEZLIMETHRWVOEBSJFJQFZMUWPEOEIOKZBXFNHLEGGSSQVZAHRAJQVXBZUULWYITISVUDVOGDAI\n"
     ]
    }
   ],
   "source": [
    "print( textSplitter(ciphertext, keyGuess)[0] )"
   ]
  },
  {
   "cell_type": "markdown",
   "metadata": {},
   "source": [
    "were all enciphered using the first letter of the keyword, and the characters:"
   ]
  },
  {
   "cell_type": "code",
   "execution_count": 6,
   "metadata": {
    "tags": [
     "remove_input"
    ]
   },
   "outputs": [
    {
     "name": "stdout",
     "output_type": "stream",
     "text": [
      "QDTSPBZFIXHJUTXFZUULOIAAWIXMVWKVMDXRROUASRMTLGFNUEBWMPVMZDHEGPVKTBRPUIWKHSIBYEFSSTUORSZFPIRIOLRYKXYGQPULMHJROHGJFHTTRAULCMFAPGJGVEVRDAGGVQYPHYXJCFCQTNMRFOJDEQHSHVDYXSKAUXPKTLSWVRPWSFMPHTRIVEQEQYXHGUALWRKJGCKKKLDNOYEFFDZMAIRHVSVQYRGXFBHBZOUZRZFHRIIDYRVRZLSMK\n"
     ]
    }
   ],
   "source": [
    "print( textSplitter(ciphertext, keyGuess)[1] )"
   ]
  },
  {
   "cell_type": "markdown",
   "metadata": {},
   "source": [
    "were all enciphered using the second character of the keyword. We don't know that for sure, so we'll need a way to verify.\n",
    "\n",
    "If 2 was the correct length of the keyword if each of these groups, and each character within each group was enciphered using the same letter of the keyword, then each group was essentially created using a Caesar cipher. That would mean that each group should have an index of coincidence that is similar to what would be expected from a Caesar cipher, approximately $0.068$. Let's calculate the index of coincidence of each group and compare."
   ]
  },
  {
   "cell_type": "code",
   "execution_count": 17,
   "metadata": {
    "tags": [
     "remove_input"
    ]
   },
   "outputs": [
    {
     "name": "stdout",
     "output_type": "stream",
     "text": [
      "Group 1 IC: 0.041573\n",
      "Group 2 IC: 0.040697\n",
      "--------------------\n",
      "Average IC: 0.041135\n"
     ]
    }
   ],
   "source": [
    "print(f'Group 1 IC: {IC(textSplitter(ciphertext, 2)[0]):.5}')\n",
    "print(f'Group 2 IC: {IC(textSplitter(ciphertext, 2)[1]):.5}')\n",
    "print('--------------------')\n",
    "print(f'Average IC: {( IC(textSplitter(ciphertext, 2)[0]) + IC(textSplitter(ciphertext, 2)[1]))/2:.5}')"
   ]
  },
  {
   "cell_type": "markdown",
   "metadata": {},
   "source": [
    "You can see that the average index of coincidence is far below the $0.068$ value we would expect if we had correctly guessed the length of the key word. This indicates that by splitting the ciphertext into groups of 2, we did not correctly group together characters that were all enciphered from the same character in the keyword."
   ]
  },
  {
   "cell_type": "markdown",
   "metadata": {},
   "source": [
    "## Trying Additional Key Lengths\n",
    "\n",
    "We can try many key lengths and use the same approach until a grouping yields an average index of coincidence that indicates the groups were generated correctly. Let's first try all the key lengths between $2$ and $8$:"
   ]
  },
  {
   "cell_type": "code",
   "execution_count": 3,
   "metadata": {
    "tags": [
     "remove_input"
    ]
   },
   "outputs": [
    {
     "name": "stdout",
     "output_type": "stream",
     "text": [
      "Key Length Guess: 2\t Average Index of Coincidence: 0.0411\n",
      "Key Length Guess: 3\t Average Index of Coincidence: 0.0412\n",
      "Key Length Guess: 4\t Average Index of Coincidence: 0.0409\n",
      "Key Length Guess: 5\t Average Index of Coincidence: 0.0658\n",
      "Key Length Guess: 6\t Average Index of Coincidence: 0.0410\n",
      "Key Length Guess: 7\t Average Index of Coincidence: 0.0417\n",
      "Key Length Guess: 8\t Average Index of Coincidence: 0.0406\n"
     ]
    }
   ],
   "source": [
    "for keyGuess in range(2,9):\n",
    "    theGroups = textSplitter(ciphertext, keyGuess)\n",
    "    icSum = 0\n",
    "    \n",
    "    for text in theGroups:\n",
    "        icSum += IC(text)\n",
    "    \n",
    "    print('Key Length Guess: {}\\t Average Index of Coincidence: {:.4f}'.format(keyGuess, round(icSum / keyGuess, 4)))"
   ]
  },
  {
   "cell_type": "markdown",
   "metadata": {},
   "source": [
    "it can be seen that key length of $5$ is the only guess so far that results in groups of letters that are monoalphabetic. As a result, this is our best best for the correct key length.\n",
    "\n",
    "### Multiples of the Key Length\n",
    "It's worth pointing out that multiples of the key length will also be likely to have index of coincidence values that are close to $0.066$ as well. To see why that would be the case, take a key length guess of $10$, even though the actual key is $5$. The letters in groups 1 and 6 would have all been enciphered by the first letter in the keyword, since the keyword repeats after its first use. Groups 2 and 7 would have had their letters enciphered with the same second letter in the keyword, and so on. As long as there are a sufficient amount of letters in each group to accurately calculate the index of coincidence, every multiple of $5$ will calculate an index of coincidence close to $0.066$"
   ]
  },
  {
   "cell_type": "code",
   "execution_count": 3,
   "metadata": {
    "tags": [
     "remove_input"
    ]
   },
   "outputs": [
    {
     "name": "stdout",
     "output_type": "stream",
     "text": [
      "Key Length Guess: 5\t Average Index of Coincidence: 0.0658\n",
      "Key Length Guess: 10\t Average Index of Coincidence: 0.0648\n",
      "Key Length Guess: 15\t Average Index of Coincidence: 0.0647\n",
      "Key Length Guess: 20\t Average Index of Coincidence: 0.0647\n",
      "Key Length Guess: 25\t Average Index of Coincidence: 0.0652\n",
      "Key Length Guess: 30\t Average Index of Coincidence: 0.0639\n",
      "Key Length Guess: 35\t Average Index of Coincidence: 0.0674\n",
      "Key Length Guess: 40\t Average Index of Coincidence: 0.0645\n",
      "Key Length Guess: 45\t Average Index of Coincidence: 0.0643\n",
      "Key Length Guess: 50\t Average Index of Coincidence: 0.0632\n",
      "Key Length Guess: 55\t Average Index of Coincidence: 0.0647\n",
      "Key Length Guess: 60\t Average Index of Coincidence: 0.0645\n",
      "Key Length Guess: 65\t Average Index of Coincidence: 0.0685\n",
      "Key Length Guess: 70\t Average Index of Coincidence: 0.0681\n",
      "Key Length Guess: 75\t Average Index of Coincidence: 0.0645\n",
      "Key Length Guess: 80\t Average Index of Coincidence: 0.0634\n",
      "Key Length Guess: 85\t Average Index of Coincidence: 0.0667\n",
      "Key Length Guess: 90\t Average Index of Coincidence: 0.0649\n",
      "Key Length Guess: 95\t Average Index of Coincidence: 0.0675\n",
      "Key Length Guess: 100\t Average Index of Coincidence: 0.0621\n"
     ]
    }
   ],
   "source": [
    "for keyGuess in range(5,105,5):\n",
    "    theGroups = textSplitter(ciphertext, keyGuess)\n",
    "    icSum = 0\n",
    "    \n",
    "    for text in theGroups:\n",
    "        icSum += IC(text)\n",
    "    \n",
    "    print('Key Length Guess: {}\\t Average Index of Coincidence: {:.4f}'.format(keyGuess, round(icSum / keyGuess, 4)))"
   ]
  },
  {
   "cell_type": "markdown",
   "metadata": {},
   "source": [
    "This ciphertext has approximately $2,000$ characters, and even splitting it into $100$ groups of $20$ characters is enough to see a monoalphabetic distribution of characters."
   ]
  },
  {
   "cell_type": "markdown",
   "metadata": {},
   "source": [
    "## Exercises for the Reader\n",
    "\n",
    "Can you write Python functions to:\n",
    "* Split ciphertext into a larger and larger number groups until the average index of coincidence is greater than $0.060$?"
   ]
  }
 ],
 "metadata": {
  "kernelspec": {
   "display_name": "Python 3",
   "language": "python",
   "name": "python3"
  },
  "language_info": {
   "codemirror_mode": {
    "name": "ipython",
    "version": 3
   },
   "file_extension": ".py",
   "mimetype": "text/x-python",
   "name": "python",
   "nbconvert_exporter": "python",
   "pygments_lexer": "ipython3",
   "version": "3.7.3"
  }
 },
 "nbformat": 4,
 "nbformat_minor": 4
}
