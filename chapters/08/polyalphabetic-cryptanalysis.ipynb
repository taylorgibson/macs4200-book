{
 "cells": [
  {
   "cell_type": "markdown",
   "metadata": {},
   "source": [
    "# Polyalphabetic Cryptanalysis\n",
    "\n",
    "The methods of previous chapters for solving monoalphabet ciphers are no longer applicable to most of the polyalphabetic ciphers discussed in the last chapter. In this chapter new techniques will be discussed that will allow for the recognition and cracking of polyalphabetic ciphers, such as the Vigenère and Autokey ciphers."
   ]
  }
 ],
 "metadata": {
  "kernelspec": {
   "display_name": "Python 3",
   "language": "python",
   "name": "python3"
  },
  "language_info": {
   "codemirror_mode": {
    "name": "ipython",
    "version": 3
   },
   "file_extension": ".py",
   "mimetype": "text/x-python",
   "name": "python",
   "nbconvert_exporter": "python",
   "pygments_lexer": "ipython3",
   "version": "3.7.3"
  }
 },
 "nbformat": 4,
 "nbformat_minor": 4
}
