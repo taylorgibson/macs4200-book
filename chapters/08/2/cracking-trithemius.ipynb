{
 "cells": [
  {
   "cell_type": "markdown",
   "metadata": {},
   "source": [
    "# Cracking the Trithemius Cipher\n",
    "\n",
    "Since the Trithemius cipher has $26$ unique choices for an offset, 2 unique choices for a direction, and 26 unique choices for a step value, there are only:\n",
    "\n",
    "$$ 26 \\cdot 2 \\cdot 26 = 1,352$$\n",
    "\n",
    "possible unique key values for this cipher. To try them all by hand would certainly be tedious, but using a computer will make quick work of it. Using the __chi-squared method__ results in a straightforward way to determine a fitness score for each attempted decipher, and then select the configuration values that result in the best score.\n",
    "\n",
    "Suppose an intercepted ciphertext was suspected to be enciphered with the Trithemius Cipher:\n",
    "> WEXRU EXRZY QDMFS CMFAB KLURE KVEBN BKLPO KODWR TBTOT AXNOK DRRFU DJKZH XVNHI XNBBB PAXDJ XROFZ RSORF TCHEK ZTVPF SBMIP ZONMU UNSSV PDEAR MXFHU IKRLI NHWBC KUNLM BTBZM WGZYB WJZPP TPADM YYBWJ ZZHAZ BUDYS YXXTL FHZMD KVSHA SVJPW ZZHSM VZDQP RLQCH QBCVF BJFJX SSHUC GPNKQ FQHQP HUSCV ODWEB GDQHE DVLGH XPCEP XLOHF VNBYI BBGDH QCIFJ JSEQA TYAKD ARACF TQBRD ODCJN FXKCF KSDPQ EGZTQ YGIBI ELGZX IBBXU EXAZU JSPJF XWFPB AVJXQ ORVWX UETIH LUDNK ENYDE XSTUI QJEGX KUEXW FNHVD EQXBQ OHSFJ LMBRX RSELY BZTHM OREHO BMTCP ZHDAW RLYBK WBLRL MBYVV YIFGZ ZMWGJ JRYFM IBSUH GDARP NIQXB CELUR JWGXP ZLPWZ AKQJL TQYIB FTOPX LJWNW FSQMW LALRI VPNXT XKXWF LLHFO RQFPX TVARB JEIND UEXHP UVDJW FFNGQ GTDZD MYDBC NPKMW PZXKG VAVZS JNGZM WGZSR NXTEH JWKHQ DETCM FFKLL FWGMF HPMUE XAZUJ TIDBF SHOTH DVUBD IPUNO DPXEO PNIFG XSPRL XYZLR OVALJ SLNCO AKDYL FCDHF EISVU MNFSC MFPMG LNJKD ETFTP AUXYL VDZDR MYPJT ZPAKD NKVUQ OBLHX VUDJG CAJTP BKPAK DYZZA TBOHU WVQCJ EJJXM FDTEO HAJLE MTOKH IPVIZ YZFCF OQHGR HQ\n",
    "\n",
    "Storing it to the variable `ciphertext`:"
   ]
  },
  {
   "cell_type": "code",
   "execution_count": 28,
   "metadata": {},
   "outputs": [],
   "source": [
    "ciphertext = 'WEXRU EXRZY QDMFS CMFAB KLURE KVEBN BKLPO KODWR TBTOT AXNOK DRRFU DJKZH XVNHI XNBBB PAXDJ XROFZ RSORF TCHEK ZTVPF SBMIP ZONMU UNSSV PDEAR MXFHU IKRLI NHWBC KUNLM BTBZM WGZYB WJZPP TPADM YYBWJ ZZHAZ BUDYS YXXTL FHZMD KVSHA SVJPW ZZHSM VZDQP RLQCH QBCVF BJFJX SSHUC GPNKQ FQHQP HUSCV ODWEB GDQHE DVLGH XPCEP XLOHF VNBYI BBGDH QCIFJ JSEQA TYAKD ARACF TQBRD ODCJN FXKCF KSDPQ EGZTQ YGIBI ELGZX IBBXU EXAZU JSPJF XWFPB AVJXQ ORVWX UETIH LUDNK ENYDE XSTUI QJEGX KUEXW FNHVD EQXBQ OHSFJ LMBRX RSELY BZTHM OREHO BMTCP ZHDAW RLYBK WBLRL MBYVV YIFGZ ZMWGJ JRYFM IBSUH GDARP NIQXB CELUR JWGXP ZLPWZ AKQJL TQYIB FTOPX LJWNW FSQMW LALRI VPNXT XKXWF LLHFO RQFPX TVARB JEIND UEXHP UVDJW FFNGQ GTDZD MYDBC NPKMW PZXKG VAVZS JNGZM WGZSR NXTEH JWKHQ DETCM FFKLL FWGMF HPMUE XAZUJ TIDBF SHOTH DVUBD IPUNO DPXEO PNIFG XSPRL XYZLR OVALJ SLNCO AKDYL FCDHF EISVU MNFSC MFPMG LNJKD ETFTP AUXYL VDZDR MYPJT ZPAKD NKVUQ OBLHX VUDJG CAJTP BKPAK DYZZA TBOHU WVQCJ EJJXM FDTEO HAJLE MTOKH IPVIZ YZFCF OQHGR HQ'"
   ]
  },
  {
   "cell_type": "code",
   "execution_count": 35,
   "metadata": {
    "tags": [
     "remove_cell"
    ]
   },
   "outputs": [],
   "source": [
    "def trithemiusEncipher( text, start, direction, step):\n",
    "    plaintext = textClean( text )\n",
    "    LETTERS = 'ABCDEFGHIJKLMNOPQRSTUVWXYZ'\n",
    "    ciphertext = ''\n",
    "    keystream = ''\n",
    "    \n",
    "    # Create the keystream\n",
    "    counter = start\n",
    "    while len(keystream) != len(plaintext):\n",
    "        keystream += LETTERS[counter]\n",
    "        counter = ( counter + (direction * step) ) % 26\n",
    "    \n",
    "    for i in range(0, len(plaintext)):\n",
    "        keyValue = LETTERS.find(keystream[i]) \n",
    "        plaintextValue = LETTERS.find(plaintext[i])\n",
    "        ciphertext += LETTERS[ (plaintextValue + keyValue) % 26 ]\n",
    "    \n",
    "    return ciphertext\n",
    "\n",
    "def trithemiusDecipher( text, start, direction, step):\n",
    "    plaintext = textClean( text )\n",
    "    LETTERS = 'ABCDEFGHIJKLMNOPQRSTUVWXYZ'\n",
    "    ciphertext = ''\n",
    "    keystream = ''\n",
    "    \n",
    "    # Create the keystream\n",
    "    counter = start\n",
    "    while len(keystream) != len(plaintext):\n",
    "        keystream += LETTERS[counter]\n",
    "        counter = ( counter + (direction * step) ) % 26\n",
    "    \n",
    "    for i in range(0, len(plaintext)):\n",
    "        keyValue = LETTERS.find(keystream[i]) \n",
    "        plaintextValue = LETTERS.find(plaintext[i])\n",
    "        ciphertext += LETTERS[ (plaintextValue - keyValue) % 26 ]\n",
    "    \n",
    "    return ciphertext.lower()\n",
    "\n",
    "def textBlock( text ):\n",
    "    text = textClean( text )\n",
    "    blocked = ''\n",
    "    for i in range(0, len(text), 5):\n",
    "        blocked += text[i:i+5] + ' '\n",
    "    return blocked[:-1]\n",
    "\n",
    "def textClean( text ):\n",
    "    LETTERS = 'ABCDEFGHIJKLMNOPQRSTUVWXYZ'\n",
    "    text = text.upper()\n",
    "    cleaned = ''\n",
    "    for char in text:\n",
    "        if char in LETTERS:\n",
    "            cleaned += char          \n",
    "    return cleaned\n",
    "\n",
    "def letterCount(text):\n",
    "    text = textClean( text )\n",
    "    LETTERS = 'ABCDEFGHIJKLMNOPQRSTUVWXYZ'\n",
    "    myList = []\n",
    "    \n",
    "    for char in LETTERS:\n",
    "        myList.append(text.count(char))\n",
    "        \n",
    "    return myList\n",
    "\n",
    "def chiSquaredScore(text):\n",
    "    text = textClean(text)\n",
    "    standardDist = [0.08167, 0.01492, 0.02728, 0.04253, 0.12702, 0.02228, 0.02015, 0.06094, 0.06966, 0.00153, 0.00772, 0.04025, 0.02406, 0.06749, 0.07507, 0.01929, 0.00095, 0.05987, 0.06327, 0.09056, 0.02758, 0.00978, 0.02360, 0.00150, 0.01974, 0.00074]\n",
    "    theCount = letterCount(text)\n",
    "    expectedCount = []\n",
    "    chiScore = 0\n",
    "\n",
    "    for num in standardDist:\n",
    "        expectedCount.append(num * len(text))\n",
    "\n",
    "    for i in range(0,26):\n",
    "        chiScore += ((theCount[i] - expectedCount[i])**2)/expectedCount[i]\n",
    "\n",
    "    return chiScore"
   ]
  },
  {
   "cell_type": "markdown",
   "metadata": {},
   "source": [
    "The following code would score all $1,352$ possible decipherments of the message, and append a 4 element list containing the values of `testOffset`, `testDirection`, and `testStep` to the list `theScores` creating $1,352$ sub-lists inside this main list."
   ]
  },
  {
   "cell_type": "code",
   "execution_count": 30,
   "metadata": {},
   "outputs": [],
   "source": [
    "theScores = []\n",
    "\n",
    "for testOffset in range(0, 26):\n",
    "    for testDirection in [-1, 1]:\n",
    "        for testStep in range(0,26):\n",
    "            theScores.append( [testOffset, testDirection, testStep, chiSquaredScore( trithemiusDecipher( ciphertext, testOffset, testDirection, testStep ) )] )"
   ]
  },
  {
   "cell_type": "markdown",
   "metadata": {},
   "source": [
    "Showing just the first 5 elements in the list:"
   ]
  },
  {
   "cell_type": "code",
   "execution_count": 31,
   "metadata": {},
   "outputs": [
    {
     "name": "stdout",
     "output_type": "stream",
     "text": [
      "[[0, -1, 0, 5832.258106258903], [0, -1, 1, 5065.595988083758], [0, -1, 2, 5691.3602750603095], [0, -1, 3, 3845.910675038989], [0, -1, 4, 9245.868577435736]]\n"
     ]
    }
   ],
   "source": [
    "print(theScores[0:5])"
   ]
  },
  {
   "cell_type": "markdown",
   "metadata": {},
   "source": [
    "Formatted nicely:"
   ]
  },
  {
   "cell_type": "code",
   "execution_count": 32,
   "metadata": {
    "tags": [
     "remove_input"
    ]
   },
   "outputs": [
    {
     "name": "stdout",
     "output_type": "stream",
     "text": [
      "offset: 0\t direction: -1\t step: 0\t chi-squared: 5832.2581\n",
      "offset: 0\t direction: -1\t step: 1\t chi-squared: 5065.596\n",
      "offset: 0\t direction: -1\t step: 2\t chi-squared: 5691.3603\n",
      "offset: 0\t direction: -1\t step: 3\t chi-squared: 3845.9107\n",
      "offset: 0\t direction: -1\t step: 4\t chi-squared: 9245.8686\n"
     ]
    }
   ],
   "source": [
    "for attempt in theScores[0:5]:\n",
    "    print('offset: {}\\t direction: {}\\t step: {}\\t chi-squared: {}'.format(attempt[0],attempt[1],attempt[2],round(attempt[3],4)))"
   ]
  },
  {
   "cell_type": "markdown",
   "metadata": {},
   "source": [
    "Sorting by the chi-squared score and showing only the top 20:"
   ]
  },
  {
   "cell_type": "code",
   "execution_count": 41,
   "metadata": {
    "tags": [
     "remove_input"
    ]
   },
   "outputs": [
    {
     "name": "stdout",
     "output_type": "stream",
     "text": [
      "offset: 17\t direction: -1\t step: 4\t chi-squared: 38.8954\n",
      "offset: 17\t direction: 1\t step: 22\t chi-squared: 38.8954\n",
      "offset: 17\t direction: -1\t step: 17\t chi-squared: 948.5753\n",
      "offset: 17\t direction: 1\t step: 9\t chi-squared: 948.5753\n",
      "offset: 4\t direction: -1\t step: 17\t chi-squared: 1088.3624\n",
      "offset: 4\t direction: 1\t step: 9\t chi-squared: 1088.3624\n",
      "offset: 3\t direction: -1\t step: 17\t chi-squared: 2301.1405\n",
      "offset: 3\t direction: 1\t step: 9\t chi-squared: 2301.1405\n",
      "offset: 16\t direction: -1\t step: 17\t chi-squared: 2538.9579\n",
      "offset: 16\t direction: 1\t step: 9\t chi-squared: 2538.9579\n",
      "offset: 3\t direction: -1\t step: 2\t chi-squared: 3108.4915\n",
      "offset: 3\t direction: 1\t step: 24\t chi-squared: 3108.4915\n",
      "offset: 11\t direction: -1\t step: 10\t chi-squared: 3123.7784\n",
      "offset: 11\t direction: 1\t step: 16\t chi-squared: 3123.7784\n",
      "offset: 19\t direction: -1\t step: 2\t chi-squared: 3127.5838\n",
      "offset: 19\t direction: 1\t step: 24\t chi-squared: 3127.5838\n",
      "offset: 21\t direction: -1\t step: 10\t chi-squared: 3155.6881\n",
      "offset: 21\t direction: 1\t step: 16\t chi-squared: 3155.6881\n",
      "offset: 3\t direction: -1\t step: 8\t chi-squared: 3185.8115\n",
      "offset: 3\t direction: 1\t step: 18\t chi-squared: 3185.8115\n"
     ]
    }
   ],
   "source": [
    "def takeFourth(elem):\n",
    "    return elem[3]        \n",
    "        \n",
    "theScores.sort( key=takeFourth )\n",
    "\n",
    "for attempt in theScores[0:20]:\n",
    "    print('offset: {}\\t direction: {}\\t step: {}\\t chi-squared: {}'.format(attempt[0],attempt[1],attempt[2],round(attempt[3],4)))"
   ]
  },
  {
   "cell_type": "markdown",
   "metadata": {},
   "source": [
    "We can see that there are two choices that are clearly the most likely as they have the same chi-squared score which is over 900 points lower than the next lowest score. It does seem odd that the scores appear to come in pairs of identical values. More on that in a bit!\n",
    "\n",
    "Printing out the most likely settings that would yield the plaintext:"
   ]
  },
  {
   "cell_type": "code",
   "execution_count": 38,
   "metadata": {},
   "outputs": [
    {
     "name": "stdout",
     "output_type": "stream",
     "text": [
      "fromthecornerofthedivanofpersiansaddlebagsonwhichhewaslyingsmokingaswashiscustominnumerablecigaretteslordhenrywottoncouldjustcatchthegleamofthehoneysweetandhoneycolouredblossomsofalaburnumwhosetremulousbranchesseemedhardlyabletobeartheburdenofabeautysoflamelikeastheirsandnowandthenthefantasticshadowsofbirdsinflightflittedacrossthelongtussoresilkcurtainsthatwerestretchedinfrontofthehugewindowproducingakindofmomentaryjapaneseeffectandmakinghimthinkofthosepallidjadefacedpaintersoftokyowhothroughthemediumofanartthatisnecessarilyimmobileseektoconveythesenseofswiftnessandmotionthesullenmurmurofthebeesshoulderingtheirwaythroughthelongunmowngrassorcirclingwithmonotonousinsistenceroundthedustygilthornsofthestragglingwoodbineseemedtomakethestillnessmoreoppressivethedimroaroflondonwaslikethebourdonnoteofadistantorgan\n"
     ]
    }
   ],
   "source": [
    "print( trithemiusDecipher( ciphertext, 17, -1, 4) )"
   ]
  },
  {
   "cell_type": "markdown",
   "metadata": {},
   "source": [
    "Which we can see worked out perfectly.\n",
    "\n",
    "## Multiple Keys to the Same Ciphertext\n",
    "\n",
    "For each ciphertext created by the Trithemius cipher, there appears to be another configuration that results in the same chi-squared score. Does this mean that it results in the same plaintext? It would seem too coincidental if it didn't. Let's check the second:"
   ]
  },
  {
   "cell_type": "code",
   "execution_count": 39,
   "metadata": {},
   "outputs": [
    {
     "name": "stdout",
     "output_type": "stream",
     "text": [
      "fromthecornerofthedivanofpersiansaddlebagsonwhichhewaslyingsmokingaswashiscustominnumerablecigaretteslordhenrywottoncouldjustcatchthegleamofthehoneysweetandhoneycolouredblossomsofalaburnumwhosetremulousbranchesseemedhardlyabletobeartheburdenofabeautysoflamelikeastheirsandnowandthenthefantasticshadowsofbirdsinflightflittedacrossthelongtussoresilkcurtainsthatwerestretchedinfrontofthehugewindowproducingakindofmomentaryjapaneseeffectandmakinghimthinkofthosepallidjadefacedpaintersoftokyowhothroughthemediumofanartthatisnecessarilyimmobileseektoconveythesenseofswiftnessandmotionthesullenmurmurofthebeesshoulderingtheirwaythroughthelongunmowngrassorcirclingwithmonotonousinsistenceroundthedustygilthornsofthestragglingwoodbineseemedtomakethestillnessmoreoppressivethedimroaroflondonwaslikethebourdonnoteofadistantorgan\n"
     ]
    }
   ],
   "source": [
    "print( trithemiusDecipher( ciphertext, 17, 1, 22) )"
   ]
  },
  {
   "cell_type": "markdown",
   "metadata": {},
   "source": [
    "This result would seem to indicate that there are in fact __not__ $1,352$ unique keys to the Trithemius cipher, as half the keys in that count result in the same ciphertext as the other half. Our revised count is now $676$. Unfortunately, we don't yet know how to easily identify which keys are duplicates, so for now we're stuck checking all $1,352$ possible key configurations to determine which one(s) will yield the correct plaintext."
   ]
  },
  {
   "cell_type": "markdown",
   "metadata": {},
   "source": [
    "## Exercise for the Reader\n",
    "\n",
    "Why are there two different configurations that lead to the same ciphertext? If provided a key configuration, can you determine a way to calculate its duplicate key configuration?"
   ]
  }
 ],
 "metadata": {
  "kernelspec": {
   "display_name": "Python 3",
   "language": "python",
   "name": "python3"
  },
  "language_info": {
   "codemirror_mode": {
    "name": "ipython",
    "version": 3
   },
   "file_extension": ".py",
   "mimetype": "text/x-python",
   "name": "python",
   "nbconvert_exporter": "python",
   "pygments_lexer": "ipython3",
   "version": "3.7.3"
  }
 },
 "nbformat": 4,
 "nbformat_minor": 4
}
