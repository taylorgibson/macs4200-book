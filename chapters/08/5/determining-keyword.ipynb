{
 "cells": [
  {
   "cell_type": "code",
   "execution_count": 1,
   "metadata": {
    "tags": [
     "remove_input"
    ]
   },
   "outputs": [],
   "source": [
    "import sys\n",
    "sys.path.insert(0, '../../')\n",
    "from toolkit import textSplitter, textClean, IC, vigenereEncipher, vigenereDecipher, chiSquaredScore, caesarDecipher\n",
    "\n",
    "with open('../../../text-files/illiad-selection01.txt', encoding=\"utf8\") as f:\n",
    "    ciphertext = vigenereEncipher(f.read(), 'homer')\n",
    "\n",
    "LETTERS = 'ABCDEFGHIJKLMNOPQRSTUVWXYZ'"
   ]
  },
  {
   "cell_type": "markdown",
   "metadata": {},
   "source": [
    "# Determining the Key Word\n",
    "\n",
    "We will continue to use the same ciphertext from the previous section, stored to the string `ciphertext`:\n",
    "> `ZQQTK PQUWD PGMWD BQTXY LFQWL SHAJB UCIPV KUQEJ RBAAC LRSIZ ZCRWT LDFMT PGYXF ISOSE ASZXN PHTAY HHIIR ADDIJ LBFOE VKUWW VFFLV TCEXG HFFXF ZVGXF BFQEI ZOSEZ UGFGF UJUGK PCZWZ UQQJI VAFLV CSDCX YOPYR SQTEI HQFII VTAYI LRGGR AWARN LAGWK JCZXZ UIMPC FTAVX LHMRU LAMRT PDMXV VIDWV SJQWW YCYOE VKXIU NSBVV CWAYJ SMMGH BWDIU DSYYJ AGQXR ZWPIF SRZSK PCZWR URQQS YOOIW YSELF USEEE KOEAV SSMVE DSYYJ APQHR PZKYE SSMVE PBSWF TSFLZ UUILZ JVUXY HGOSJ AIERF ZAMPC SONSL YOZHR ULUIK FHAET XIUVV HBPXY PGPMW MWOYC AMMXK HQTIJ PHEIC MAAVV JZAWV SMFSR UOSIZ UKTMT ODDSX YSEWY HGSEZ USPEJ AFARX HGOIE KSZGP VJQVG YSVYU PQQEE KWZAY PQTTV YGARJ HBPXY PBSWR YSPEP IMPEP MWZHZ UUFLV PFDIR SZQZV SWZPZ LIAJK OSUVT VBHIE AWARR SJMPL LHTIJ HAQTI PBOMG SSEAY PQTLR CSEAV WHMAR FHDEU PHUSE HZMFL ZSEEE KKTMT OODID HYURX YOBMU OOHST HAARX AVQVV CSZYV ZCRWZ USOYI PGFWR UREXI PDBME NHTIK OWZXR DRDCM LWXJI VAMXK YOOXZ CSEYG LFEXZ AWARJ HFQAF YYURX HGMGK PJQPP PBXMK LFMXL YSMWZ UGAGZ LHKXY LQDIU BZUXP VTARV DFUXV YCDXY LDMVK POXMK FCREE VHTII MWZHJ HGBSN LFRYC HHAYT OGFSE LOZHR ZKTSC LGAQV HQTEJ AWEID LBFME AVQLV HZFLP ZQQTK PQUWD VTMXV TDQVR ASOPR ZGAJR UHMKF UWEXJ HGFLV KFQED ZCRGF UGQVM HHUWD VFFLV PABSJ AIDIJ VTBPL YOXMJ AGURV JIDIJ PBFLV JVGVT OVUWK VFKEE KHDEU PHUSE DVQXY LFAJR UQUIE ACDGF TDMVR AWHIC FFQGV UHFMD LGMVV ZINNV JHQHK VJQVP KWRJV YSZXY HBPPZ UURVF THTEK DVUGY AVQME KIXKV UQQSI JFQHL SWFCF MTAVD LFMKV ZQAYC KOXPF DAQVV ZHMXV TSZXJ HFQNV HZAYJ SMIEK JVQHR URFLV TCFMM LGAJK OSIVZ ASDJF YAMWZ TDAVK HBFEE PBSVV KWQRK PBFLV HBMPP ZWESW OWELZ ZHAVP HGFLV MOOXJ OSDIT VFPWG YCNES PZUXP PGMTF DSDJL SOZHK YCGFC LGAQV ASEXR URUXZ ZPKXY PGFVF BPXIJ VAQWK HBPEI KHTEK HZMVX LDAVK PCZSW OWEXF YWOEC LJUHV UQQMJ ZWRXV KQARJ PGFIE JMUWE VZQWJ WSDXZ UOOMF BGMRU LLMGK PBSME PHEHV TOZHJ PBNVZ LTFSN YWFIR OWEXF YMIID BGFOE VKYSI LHTEE TSDIW HQFWY BAMRE HHGVV CWQAV KIZHV YOZME KIOXZ VBAJV EHQRU LRQBG LFUIE JSUWK OSNIJ AVQPG ACFLV JFUXZ JWEQF MVGQR UVUWK VFKLZ ZHAVZ JOXGY HFMGK LFEGR UCZPP ISQWK PAMXV KPKXY LGFEE KODHN OWOLY BAMRV EDQVZ LBOIN OSFLV YOOXL HZAVK YOPMK PCZEI FVMWW BFZMJ OSPXF MCDQT VFDIT AJUIN ZCRME KWHMU BOXWN LAGWK YSSEI KHTID HGRSI TWZKG HFFWF MOSVV HHILF SSIID BGFQV HGGVV AVQQS FHTIZ YFQPR AWARK VHTID HGESW ISURX ZPKAY VAFLV FODIJ BFDSL URQHR URURT VBFID WZMXZ UUFLV PBOMU LBFWZ UHTIZ YZUZV ZCDGF URUXZ VBILZ JVFVR KWFMF UVMWY HBPIU KCIRK VIEAV TIEXI HHTII JCZWZ KSDXY LUQRV YOXFV HFURX VTFLV DVAPV UODVR AWHIK OOZXY LFQWG LQFMM LDDSS HPUPZ AMAJZ AGPIK HWXW`"
   ]
  },
  {
   "cell_type": "markdown",
   "metadata": {},
   "source": [
    "## Using Chi-Squared to Determine the Keyword\n",
    "\n",
    "Once you've determined the most likely length of the keyword, which we believe to be $5$, you can split the ciphertext up into the same groups that were created when calculating the average index of coincidence in the previous section. Then, you can determine which key value (0-26) will result in the minimum chi-squared score for each group. This key value is equivalent to the key letter in the keyword.\n",
    "\n",
    "### Group 1\n",
    "\n",
    "Let's first look at the details for a single group. \n",
    "\n",
    "Creating the first group as in the previous section:"
   ]
  },
  {
   "cell_type": "code",
   "execution_count": 4,
   "metadata": {
    "tags": [
     "remove_input"
    ]
   },
   "outputs": [
    {
     "name": "stdout",
     "output_type": "stream",
     "text": [
      "ZPPBLSUKRLZLPIAPHALVVTHZBZUUPUVCYSHVLALJUFLLPVSYVNCSBDAZSPUYYUKSDAPSPTUJHAZSYUFXHPMAHPMJSUUOYHUAHKVYPKPYHPYIMUPSSLOVASLHPSPCWFPHZKOHYOHACZUPUPNODLVYCLAHYHPPLYULLBVDYLPFVMHLHOLZLHALAHZPVTAZUUHKZUHVPAVYAJPJOVKPDLUATAFULZJVKYHUTDAKUJSMLZKDZTHHSJUTLOAYTHPKPHZOZHMOVYPPDSYLAUZPBVHKHLPOYLUZKPJVWUBLPPTPLYOYBVLTHBHCKYKVELLJOAAJJMUVZJHLUIPKLKOBELOYHYPFBOMVAZKBLYKHTHMHSBHAFYAVHIZVFBUUVWUPLUYZUVJKUHKVTHJKLYHVDUAOLLLHAAH\n"
     ]
    }
   ],
   "source": [
    "print( textSplitter(ciphertext, 5)[0] )"
   ]
  },
  {
   "cell_type": "markdown",
   "metadata": {},
   "source": [
    "We can then investigate which all the possible key-values / characters for the first position in the keyword and their associated chi-squared scores:"
   ]
  },
  {
   "cell_type": "code",
   "execution_count": 12,
   "metadata": {
    "tags": [
     "remove_input"
    ]
   },
   "outputs": [
    {
     "name": "stdout",
     "output_type": "stream",
     "text": [
      " 0 (A):  2746.2793\n",
      " 1 (B):  5532.9047\n",
      " 2 (C):  5046.4354\n",
      " 3 (D):  2307.0057\n",
      " 4 (E):  4271.2940\n",
      " 5 (F):  3694.3021\n",
      " 6 (G):  3376.3487\n",
      " 7 (H):    36.9091\n",
      " 8 (I):  8548.5127\n",
      " 9 (J):  2520.3679\n",
      "10 (K):  6779.9744\n",
      "11 (L):  4475.3529\n",
      "12 (M):  7798.8582\n",
      "13 (N):  1727.0775\n",
      "14 (O):  3390.7807\n",
      "15 (P):  3106.8933\n",
      "16 (Q):  6755.2973\n",
      "17 (R):  6788.1546\n",
      "18 (S):  3208.2398\n",
      "19 (T):  2076.8860\n",
      "20 (U):  2423.7105\n",
      "21 (V):  9278.0497\n",
      "22 (W):  3638.0067\n",
      "23 (X):  2934.9926\n",
      "24 (Y):  5237.7531\n",
      "25 (Z):  7475.5848\n"
     ]
    }
   ],
   "source": [
    "for index in range(0,26):\n",
    "    print(f'{index:2} ({LETTERS[index]}): {chiSquaredScore(caesarDecipher(textSplitter(ciphertext, 5)[0], index)):>10.4f}' )"
   ]
  },
  {
   "cell_type": "markdown",
   "metadata": {},
   "source": [
    "You can see that the key value of $7$, which corresponds to the letter of `H`, is the most likely candidate for the first character in the keyword since it's associated with the lowest chi-squared score. This implies that Group 1 has ciphertext characters that were most likely created by a 5-letter keyword whose first character is the letter `H`."
   ]
  },
  {
   "cell_type": "markdown",
   "metadata": {},
   "source": [
    "## Continuing the Process\n",
    "\n",
    "We can use this same method to determine the remaining letters in the keyword:"
   ]
  },
  {
   "cell_type": "code",
   "execution_count": 2,
   "metadata": {
    "tags": [
     "remove_input"
    ]
   },
   "outputs": [
    {
     "name": "stdout",
     "output_type": "stream",
     "text": [
      "Group: 1\t Min Score: 36.90910\t Key value: 7\t Key Letter: H\n",
      "Group: 2\t Min Score: 41.31034\t Key value: 14\t Key Letter: O\n",
      "Group: 3\t Min Score: 19.01105\t Key value: 12\t Key Letter: M\n",
      "Group: 4\t Min Score: 36.14494\t Key value: 4\t Key Letter: E\n",
      "Group: 5\t Min Score: 19.28371\t Key value: 17\t Key Letter: R\n",
      "Keyword: HOMER\n"
     ]
    }
   ],
   "source": [
    "theRightGroups = textSplitter(ciphertext, 5)\n",
    "keyword = ''\n",
    "\n",
    "for i in range(0, len(theRightGroups)):\n",
    "    text = theRightGroups[i]\n",
    "    listOfScores = []\n",
    "    for index in range(0,26):\n",
    "        listOfScores.append(chiSquaredScore(caesarDecipher(text, index)))\n",
    "    keyword +=  LETTERS[listOfScores.index(min(listOfScores))]\n",
    "    print('Group: {}\\t Min Score: {:.5f}\\t Key value: {}\\t Key Letter: {}'.format(i+1, min(listOfScores), listOfScores.index(min(listOfScores)), LETTERS[listOfScores.index(min(listOfScores))]))\n",
    "\n",
    "print('Keyword: {}'.format(keyword))"
   ]
  },
  {
   "cell_type": "markdown",
   "metadata": {},
   "source": [
    "Now that the keyword is known, you can attempt to decipher the message to determine if the analysis was correct."
   ]
  },
  {
   "cell_type": "code",
   "execution_count": 3,
   "metadata": {},
   "outputs": [
    {
     "name": "stdout",
     "output_type": "stream",
     "text": [
      "scepticismisasmuchtheresultofknowledgeasknowledgeisofscepticismtobecontentwithwhatweatpresentknowisforthemostparttoshutourearsagainstconvictionsincefromtheverygradualcharacterofoureducationwemustcontinuallyforgetandemancipateourselvesfromknowledgepreviouslyacquiredwemustsetasideoldnotionsandembracefreshonesandaswelearnwemustbedailyunlearningsomethingwhichithascostusnosmalllabourandanxietytoacquireandthisdifficultyattachesitselfmorecloselytoanageinwhichprogresshasgainedastrongascendencyoverprejudiceandinwhichpersonsandthingsaredaybydayfindingtheirreallevelinlieuoftheirconventionalvaluethesameprincipleswhichhavesweptawaytraditionalabusesandwhicharemakingrapidhavocamongtherevenuesofsinecuristsandstrippingthethintawdryveilfromattractivesuperstitionsareworkingasactivelyinliteratureasinsocietythecredulityofonewriterorthepartialityofanotherfindsaspowerfulatouchstoneandaswholesomeachastisementinthehealthyscepticismofatemperateclassofantagonistsasthedreamsofconservatismortheimposturesofpluralistsinecuresinthechurchhistoryandtraditionwhetherofancientorcomparativelyrecenttimesaresubjectedtoverydifferenthandlingfromthatwhichtheindulgenceorcredulityofformeragescouldallowmerestatementsarejealouslywatchedandthemotivesofthewriterformasimportantaningredientintheanalysisofhishistoryasthefactsherecordsprobabilityisapowerfulandtroublesometestanditisbythistroublesomestandardthatalargeportionofhistoricalevidenceissiftedconsistencyisnolesspertinaciousandexactinginitsdemandsinbrieftowriteahistorywemustknowmorethanmerefactshumannatureviewedunderaninductionofextendedexperienceisthebesthelptothecriticismofhumanhistoryhistoricalcharacterscanonlybeestimatedbythestandardwhichhumanexperiencewhetheractualortraditionaryhasfurnishedtoformcorrectviewsofindividualswemustregardthemasformingpartsofagreatwholewemustmeasurethembytheirrelationtothemassofbeingsbywhomtheyaresurroundedandincontemplatingtheincidentsintheirlivesorconditionwhichtraditionhashandeddowntouswemustratherconsiderthegeneralbearingofthewholenarrativethantherespectiveprobabilityofitsdetails\n"
     ]
    }
   ],
   "source": [
    "print( vigenereDecipher( ciphertext, 'HOMER' ) )"
   ]
  },
  {
   "cell_type": "markdown",
   "metadata": {},
   "source": [
    "And it can be seen that this is a passage from Homer's *The Illiad*."
   ]
  },
  {
   "cell_type": "markdown",
   "metadata": {},
   "source": [
    "## Exercises for the Reader\n",
    "\n",
    "Can you write Python functions to:\n",
    "* Use chi-squared scoring and a determined keyword length to determine the keyword letters?"
   ]
  }
 ],
 "metadata": {
  "kernelspec": {
   "display_name": "Python 3",
   "language": "python",
   "name": "python3"
  },
  "language_info": {
   "codemirror_mode": {
    "name": "ipython",
    "version": 3
   },
   "file_extension": ".py",
   "mimetype": "text/x-python",
   "name": "python",
   "nbconvert_exporter": "python",
   "pygments_lexer": "ipython3",
   "version": "3.7.3"
  }
 },
 "nbformat": 4,
 "nbformat_minor": 4
}
