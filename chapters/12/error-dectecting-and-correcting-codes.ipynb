{
 "cells": [
  {
   "cell_type": "markdown",
   "id": "c7b88eb1-adbc-4a2f-b90d-81f9cfaf26ee",
   "metadata": {},
   "source": [
    "# Error detecting and correcting codes #\n",
    "\n",
    "In the course of creating, transmitting, receiving, and deciphering the secret messages throughout this text, you have no doubt committed errors. Particularly when working \"by hand\" such errors are unavoidable. But even when codes are read by computers, an error can occur.\n",
    "\n",
    "Wouldn't it be great if there were some way to receive a message and know immediately that it had been transmitted incorrectly, tampered with, or misinterpreted? It may not come as a surprise to know that there is such as system. Codes that reveal or even correct errors have many applications in everyday life. We discuss a few of them here."
   ]
  }
 ],
 "metadata": {
  "kernelspec": {
   "display_name": "Python 3 (ipykernel)",
   "language": "python",
   "name": "python3"
  },
  "language_info": {
   "codemirror_mode": {
    "name": "ipython",
    "version": 3
   },
   "file_extension": ".py",
   "mimetype": "text/x-python",
   "name": "python",
   "nbconvert_exporter": "python",
   "pygments_lexer": "ipython3",
   "version": "3.10.5"
  }
 },
 "nbformat": 4,
 "nbformat_minor": 5
}
