{
 "cells": [
  {
   "cell_type": "markdown",
   "metadata": {},
   "source": [
    "# The Autokey Cipher\n",
    "\n",
    "The autokey variant of the Vigenère cipher is similar to the other tabula recta based ciphers, but allows for the benefits of a very long keyword, which we've seen helps disguise the letter frequencies in a message, while only requiring the user to remember a short keyword.\n",
    "\n",
    "## Enciphering with Autokey\n",
    "\n",
    "With the autokey cipher the keyword acts as a __primer__, upon which the rest of the key is built. To build the keystream, you first use the keyword, and then add on the plaintext as the rest of the key. This generates a keystream of sufficient length (longer than needed actually) that only the person enciphering the message would have. The keystream is certainly not random, since it will have all the same characteristics of the English language, but unlike when repeating the same keyword over and over, the plaintext will change the key in a manner that is more unpredictable to an eavesdropper.\n",
    "\n",
    "For a sample plaintext of `accept the greater challenge` and keyword of `UNICORN`, enciphering would look like:\n",
    "\n",
    "```\n",
    " keystream: UNICORNACCEPTTHEGREATERCH\n",
    " plaintext: acceptthegreaterchallenge\n",
    "ciphertext: UPKGDKGHGIVTTMLVIYELEIEIL\n",
    "```\n",
    "\n",
    "## Deciphering with Autokey\n",
    "\n",
    "Deciphering the message needs to work a little differently than normal, since the person receiving the message doesn't know the plaintext, and therefore can't generate the entire keystream from the start. Instead, they'll need to partially decipher the message using the keyword, and as plaintext is determined add on to the keystream.\n",
    "\n",
    "```\n",
    " keystream: UNICORN\n",
    "ciphertext: UPKGDKGHGIVTTMLVIYELEIEIL\n",
    " plaintext: acc\n",
    "```\n",
    "So once you have a few letters, you can add them onto the keystream and decipher a few more.\n",
    "\n",
    "```\n",
    " keystream: UNICORNACC\n",
    "ciphertext: UPKGDKGHGIVTTMLVIYELEIEIL\n",
    " plaintext: accepttheg\n",
    "```\n",
    "\n",
    "and keep going until...\n",
    "\n",
    "```\n",
    " keystream: UNICORNACCEPTTHEG\n",
    "ciphertext: UPKGDKGHGIVTTMLVIYELEIEIL\n",
    " plaintext: acceptthegreaterc\n",
    "```\n",
    "... you have the entire message.\n",
    "```\n",
    " keystream: UNICORNACCEPTTHEGREATERCH\n",
    "ciphertext: UPKGDKGHGIVTTMLVIYELEIEIL\n",
    " plaintext: acceptthegreaterchallenge\n",
    "```\n",
    "\n",
    "## Frequency Analysis of Autokey\n",
    "\n",
    "Using Pride and Prejudice as the plaintext, and `UNICORN` as the keyword, the frequencies look like:"
   ]
  },
  {
   "cell_type": "code",
   "execution_count": 2,
   "metadata": {
    "tags": [
     "remove_input"
    ]
   },
   "outputs": [
    {
     "data": {
      "image/png": "[encoded data removed]",
      "text/plain": [
       "<Figure size 432x288 with 1 Axes>"
      ]
     },
     "metadata": {
      "needs_background": "light"
     },
     "output_type": "display_data"
    }
   ],
   "source": [
    "from seaborn import barplot\n",
    "\n",
    "def vigenereEncipher(text, keyword):\n",
    "    ciphertext = ''\n",
    "    LETTERS = 'ABCDEFGHIJKLMNOPQRSTUVWXYZ'\n",
    "    text = textClean(text)\n",
    "    keyword = textClean(keyword)\n",
    "\n",
    "    for i in range(0, len(text)):\n",
    "        plainnum = LETTERS.find( text[i] )\n",
    "        keynum = LETTERS.find( keyword[i % len(keyword)] )\n",
    "        ciphertext += LETTERS[ ( plainnum + keynum) % 26 ]\n",
    "\n",
    "    return ciphertext\n",
    "\n",
    "def textClean( text ):\n",
    "    LETTERS = 'ABCDEFGHIJKLMNOPQRSTUVWXYZ'\n",
    "    text = text.upper()\n",
    "    cleaned = ''\n",
    "    for char in text:\n",
    "        if char in LETTERS:\n",
    "            cleaned += char\n",
    "            \n",
    "    return cleaned\n",
    "\n",
    "def letterFrequency(text):\n",
    "    text = textClean(text)\n",
    "    frequencyList = []\n",
    "    LETTERS = 'ABCDEFGHIJKLMNOPQRSTUVWXYZ'\n",
    "    \n",
    "    for char in LETTERS:\n",
    "        frequencyList.append( 100 * text.count(char) / len(text))\n",
    "    \n",
    "    return frequencyList\n",
    "\n",
    "with open('pride-and-prejudice.txt', encoding=\"utf8\") as f:\n",
    "    text = textClean(f.read())\n",
    "\n",
    "labels = ['A', 'B', 'C', 'D', 'E', 'F', 'G', 'H', 'I', 'J', 'K', 'L', 'M', 'N', 'O', 'P', 'Q', 'R', 'S', 'T', 'U', 'V', 'W', 'X', 'Y', 'Z']\n",
    "values = letterFrequency( vigenereEncipher( text, 'UNICORNS'+text) )\n",
    "barplot(labels, values, color='steelblue');"
   ]
  },
  {
   "cell_type": "markdown",
   "metadata": {},
   "source": [
    "This bar chart illustrates the concealing power of a good polyalphabetic cipher. Every cipertext letter has a frequency between $2.5\\%$ and $5\\%$. It does not divulge much, if anything, about the original ciphertext message and how it may correspond to the ciphertext message. Cracking the Vigenère and the Autokey variant will need a new approach that moves beyond single letter frequency analysis. "
   ]
  }
 ],
 "metadata": {
  "kernelspec": {
   "display_name": "Python 3",
   "language": "python",
   "name": "python3"
  },
  "language_info": {
   "codemirror_mode": {
    "name": "ipython",
    "version": 3
   },
   "file_extension": ".py",
   "mimetype": "text/x-python",
   "name": "python",
   "nbconvert_exporter": "python",
   "pygments_lexer": "ipython3",
   "version": "3.7.3"
  }
 },
 "nbformat": 4,
 "nbformat_minor": 4
}
