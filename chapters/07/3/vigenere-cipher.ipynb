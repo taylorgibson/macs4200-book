{
 "cells": [
  {
   "cell_type": "markdown",
   "metadata": {},
   "source": [
    "# The Vigenère Cipher\n",
    "\n",
    "The Vigenère cipher was invented by Giovan Battista Bellaso in 1553. Sometime later in history it was misattributed to a different person, Blaise de Vigenère, likely due to his improvement of the cipher he published in 1586 known as the Autokey variant. His name has stuck with the cipher ever since.\n",
    "\n",
    "## Enciphering a Message\n",
    "To encipher a message, first choose a word of phrase as the keyword for the message. For example, `UNICORN`. Repeatedly write this keyword over your plaintext message until your keystream is equal in length to your plaintext. We'll use a piece of a quote from Blaise de Vigenère himself:\n",
    "> I saw Michelangelo at work. He had passed his sixtieth year and although he was not very strong, yet in a quarter of an hour he caused more splinters to fall from a very hard block of marble than three young masons in three or four times as long.\n",
    "\n",
    "```\n",
    "keystream: UNICORNUNICORNUNICORNU\n",
    "plaintext: isawmichelangeloatwork\n",
    "```\n",
    "\n",
    "Then, proceed in a similar fashion as the Trithemius cipher, either using the tabula recta or mathematical approach with the Caesar cipher.\n",
    "\n",
    "```\n",
    " keystream: UNICORNUNICORNUNICORNU\n",
    " plaintext: isawmichelangeloatwork\n",
    "ciphertext: CFIYAZPBRTCBXRFBIVKFEE\n",
    "```\n",
    "\n",
    "## Deciphering a Message\n",
    "Generate a keystream in the same way as when you're enciphering written over the ciphertext, and decipher in the same way as other tabula recta based ciphers. \n",
    "\n",
    "## Frequency Analysis\n",
    "Looking at different length keys, see if you can spot a pattern in the resulting bar charts describing the ciphertext letter frequencies."
   ]
  },
  {
   "cell_type": "code",
   "execution_count": 3,
   "metadata": {
    "tags": [
     "remove_cell"
    ]
   },
   "outputs": [],
   "source": [
    "from seaborn import barplot\n",
    "\n",
    "def vigenereEncipher(text, keyword):\n",
    "    ciphertext = ''\n",
    "    LETTERS = 'ABCDEFGHIJKLMNOPQRSTUVWXYZ'\n",
    "    text = textClean(text)\n",
    "    keyword = textClean(keyword)\n",
    "\n",
    "    for i in range(0, len(text)):\n",
    "        plainnum = LETTERS.find( text[i] )\n",
    "        keynum = LETTERS.find( keyword[i % len(keyword)] )\n",
    "        ciphertext += LETTERS[ ( plainnum + keynum) % 26 ]\n",
    "\n",
    "    return ciphertext\n",
    "\n",
    "def textClean( text ):\n",
    "    LETTERS = 'ABCDEFGHIJKLMNOPQRSTUVWXYZ'\n",
    "    text = text.upper()\n",
    "    cleaned = ''\n",
    "    for char in text:\n",
    "        if char in LETTERS:\n",
    "            cleaned += char\n",
    "            \n",
    "    return cleaned\n",
    "\n",
    "def letterFrequency(text):\n",
    "    text = textClean(text)\n",
    "    frequencyList = []\n",
    "    LETTERS = 'ABCDEFGHIJKLMNOPQRSTUVWXYZ'\n",
    "    \n",
    "    for char in LETTERS:\n",
    "        frequencyList.append( 100 * text.count(char) / len(text))\n",
    "    \n",
    "    return frequencyList\n",
    "\n",
    "with open('pride-and-prejudice.txt', encoding=\"utf8\") as f:\n",
    "    text = textClean(f.read())\n",
    "\n",
    "labels = ['A', 'B', 'C', 'D', 'E', 'F', 'G', 'H', 'I', 'J', 'K', 'L', 'M', 'N', 'O', 'P', 'Q', 'R', 'S', 'T', 'U', 'V', 'W', 'X', 'Y', 'Z']"
   ]
  },
  {
   "cell_type": "markdown",
   "metadata": {},
   "source": [
    "Using the text of Pride and Prejudice and a keyword of `UNI`."
   ]
  },
  {
   "cell_type": "code",
   "execution_count": 4,
   "metadata": {
    "tags": [
     "remove_input"
    ]
   },
   "outputs": [
    {
     "data": {
      "image/png": "[encoded data removed]",
      "text/plain": [
       "<Figure size 432x288 with 1 Axes>"
      ]
     },
     "metadata": {
      "needs_background": "light"
     },
     "output_type": "display_data"
    }
   ],
   "source": [
    "values = letterFrequency( vigenereEncipher( text, 'UNI') )\n",
    "barplot(labels, values, color='steelblue');"
   ]
  },
  {
   "cell_type": "markdown",
   "metadata": {},
   "source": [
    "Using the text of Pride and Prejudice and a keyword of `UNIS`."
   ]
  },
  {
   "cell_type": "code",
   "execution_count": 5,
   "metadata": {
    "tags": [
     "remove_input"
    ]
   },
   "outputs": [
    {
     "data": {
      "image/png": "[encoded data removed]",
      "text/plain": [
       "<Figure size 432x288 with 1 Axes>"
      ]
     },
     "metadata": {
      "needs_background": "light"
     },
     "output_type": "display_data"
    }
   ],
   "source": [
    "values = letterFrequency( vigenereEncipher( text, 'UNIS') )\n",
    "barplot(labels, values, color='steelblue');"
   ]
  },
  {
   "cell_type": "markdown",
   "metadata": {},
   "source": [
    "Using the text of Pride and Prejudice and a keyword of `UNICORNS`."
   ]
  },
  {
   "cell_type": "code",
   "execution_count": 6,
   "metadata": {
    "tags": [
     "remove_input"
    ]
   },
   "outputs": [
    {
     "data": {
      "image/png": "[encoded data removed]",
      "text/plain": [
       "<Figure size 432x288 with 1 Axes>"
      ]
     },
     "metadata": {
      "needs_background": "light"
     },
     "output_type": "display_data"
    }
   ],
   "source": [
    "values = letterFrequency( vigenereEncipher( text, 'UNICORNS') )\n",
    "barplot(labels, values, color='steelblue');"
   ]
  },
  {
   "cell_type": "markdown",
   "metadata": {},
   "source": [
    "We can see that each time the keyword increases in length, the more uniform the frequency distribution becomes. That is, the more even the bars are to each other. While we will likely never obtain a perfectly uniform distribution where each bar has a height of $\\frac{1}{26} \\approx 0.03846$ or $3.846 \\%$, it seems like the longer the keyword the closer we get to perfectly hiding the letter frequency. Unfortunately, remembering a really long keyword isn't the easiest thing to do. However,  Blaise de Vigenère's improvement to this cipher that generates a long keyword from a short one is the reason why people attribute this cipher to him, and it will be covered in the next section."
   ]
  },
  {
   "cell_type": "markdown",
   "metadata": {},
   "source": [
    "## Exercise for the Reader\n",
    "Can you program a Vigenère encipher and decipher function? You can use the Trithemius cipher program as a starting point."
   ]
  }
 ],
 "metadata": {
  "kernelspec": {
   "display_name": "Python 3",
   "language": "python",
   "name": "python3"
  },
  "language_info": {
   "codemirror_mode": {
    "name": "ipython",
    "version": 3
   },
   "file_extension": ".py",
   "mimetype": "text/x-python",
   "name": "python",
   "nbconvert_exporter": "python",
   "pygments_lexer": "ipython3",
   "version": "3.7.3"
  }
 },
 "nbformat": 4,
 "nbformat_minor": 4
}
