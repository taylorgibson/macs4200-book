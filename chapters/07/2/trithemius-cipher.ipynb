{
 "cells": [
  {
   "cell_type": "markdown",
   "metadata": {},
   "source": [
    "# Trithemius Cipher\n",
    "\n",
    "The Trithemius Cipher attempts to formalize the polyalphabetic cipher process by using very predictable keys. The first letter in your plaintext will be enciphered by key letter/value of `A` and each subsequent letter in the plaintext is enciphered using the subsequent letters that follow `A`. For example, to encipher the plaintext message `do not press this button` you would start by writing:\n",
    "\n",
    "```\n",
    "keystream: ABCDEFGHIJKLMNOPQRST\n",
    "plaintext: donotpressthisbutton\n",
    "```\n",
    "\n",
    "Then you would use the tabula rectra or mathematical approach to encipher the message as seen in the previous section.\n",
    "\n",
    "## Variations of the Trithemius Cipher\n",
    "Since the Trithemius cipher as described above would be used the same way every time, it's not a secure cipher. Once you know a message was enciphered with the Trithemius method, you know exactly how to decipher it. This goes against one of the components that makes an encryption scheme valid, *The method need not be secret to guarantee security*. To make this cipher valid, there needs to be some variation possible.\n",
    "\n",
    "### Offset Values\n",
    "Instead of starting at `A`, the keystream could start at any of the 26 characters of the alphabet\n",
    "```\n",
    "keystream: HIJKLMNOPQRSTUVWXYZA\n",
    "plaintext: donotpressthisbutton\n",
    "```\n",
    "\n",
    "### Step Value\n",
    "Instead of stepping by one letter in the alphabet when creating the keystream, you could step by 2, 3, 4, etc.\n",
    "```\n",
    "keystream: ADGJMPSVYBEHKMQTWZCF\n",
    "plaintext: donotpressthisbutton\n",
    "```"
   ]
  }
 ],
 "metadata": {
  "kernelspec": {
   "display_name": "Python 3",
   "language": "python",
   "name": "python3"
  },
  "language_info": {
   "codemirror_mode": {
    "name": "ipython",
    "version": 3
   },
   "file_extension": ".py",
   "mimetype": "text/x-python",
   "name": "python",
   "nbconvert_exporter": "python",
   "pygments_lexer": "ipython3",
   "version": "3.7.3"
  }
 },
 "nbformat": 4,
 "nbformat_minor": 4
}
