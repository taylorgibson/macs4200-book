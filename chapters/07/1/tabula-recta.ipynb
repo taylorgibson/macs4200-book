{
 "cells": [
  {
   "cell_type": "markdown",
   "metadata": {},
   "source": [
    "# The Tabula Recta\n",
    "\n",
    "To ease the use of multiple ciphertext alphabets Johannes Trithemius created a 26 x 26 grid of letters formed by writing the 26 different Caesar alphabets, starting with `key = 0` and progressing to `key = 25`. The result is 26 rows of ordered letters, each offset by one character.\n",
    "\n",
    "![alt-text](tabula-recta-image.svg \"tabula recta grid\")\n",
    "\n",
    "You can look up your plaintext letter in the top row, and the use the labels along the side to determine which Caesar key you would use (`A = 0, B = 1, ...` per usual) and then look the character in the same column and row as the plaintext letter and key letter to determine the ciphertext letter. To reverse the process, you would select the row that corresponds to the key you are using, find your ciphertext letter in that row, and follow up the column to the letter at the top to determine the plaintext letter.\n",
    "\n",
    "The grid allows for quick substitution of letters and changing of keys using a pattern or rule defined by each cipher. While it may have been easier to define these rules using equations and modulo arithmetic, the intent of the tabula recta was to allow access to this cutting edge cryptography without the need to be educated in mathematics and/or calculation.\n",
    "\n",
    "## A Simple Polygraphic Cipher\n",
    "\n",
    "A simple example of a polygraphic cipher would be alternating between the keys `3` and `10`, which correspond to rows `D` and `K` in the tabula recta. A common way we'll see to organize the enciphering of a polygraphic cipher is to fully write out the plaintext with the key for each character written above. We'll call the string of characters that represent the keys the __keystream__. For a plaintext message of `equality` you'd have:\n",
    "\n",
    "```\n",
    "keystream: DKDKDKDK\n",
    "plaintext: equality\n",
    "```\n",
    "\n",
    "You could then look up `e` in the top row and `D` in the leftmost column and find their intersection point of `H` in the table. Repeating for each letter in the message:\n",
    "\n",
    "```\n",
    " keystream: DKDKDKDK\n",
    " plaintext: equality\n",
    "ciphertext: HAXKOSWI\n",
    "```\n",
    "\n",
    "To decipher the message, you would look up `D` in the leftmost column, go across the row until you find `H`, and then go up that column to find the plaintext letter `e` at the top.\n",
    "\n",
    "__The Tabula Recta is the basis for all other ciphers covered in this chapter. Once you learn how to encipher and decipher messages using a keystream and the tabula recta, the only difference between the different ciphers is how you generate the key.__"
   ]
  },
  {
   "cell_type": "markdown",
   "metadata": {},
   "source": [
    "## Mathematizing this Cipher\n",
    "\n",
    "We could introduce a bit of mathematics from the Caesar cipher to make this process a bit more familiar to the approaches we've done in the past. Instead of treating letters as letters, we can treat them as their corresponding positional numbers in the alphabet. \n",
    "\n",
    "### Enciphering a Message\n",
    "Since each row in the tabula recta was created by implementing a Caesar shift on the plaintext alphabet with a key that corresponds to the row letter, we can just Caesar shift each letter mathematically by adding the keystream value to the plaintext value.\n",
    "\n",
    "```\n",
    "keystream:  DKDKDKDK\n",
    "plaintext:  equality\n",
    "\n",
    " keystream: 3 10  3 10  3 10  3 10\n",
    " plaintext: 4 16 20  0 11  8 19 24\n",
    "       add: 7 26 23 10 14 18 22 34\n",
    "    mod 26: 7  0 23 10 14 18 22  8\n",
    "ciphertext: H  A  X  K  O  S  W  I\n",
    "```\n",
    "\n",
    "### Deciphering a Message\n",
    "To decipher a message, you use the Caesar decipher algorithm to subtract the key value from the ciphertext value.\n",
    "```\n",
    " keystream:  DKDKDKDK\n",
    "ciphertext:  HAXKOSWI\n",
    "\n",
    " keystream: 3  10   3  10   3  10   3  10\n",
    "ciphertext: 7   0  23  10  14  18  22   8\n",
    "  subtract: 4 -10  20   0  11   8  19  -2\n",
    "    mod 26: 4  16  20   0  11   8  19  24\n",
    " plaintext: e   q   u   a   l   i   t   y\n",
    "```\n",
    "\n",
    "## Impact on Frequency Analysis\n",
    "\n",
    "If using more than one key, and therefore more than one cipher alphabet, is supposed to help thwart frequency analysis then let's see how well our two key cipher disguises plaintext frequencies in the ciphertext. Below is a barchart that used the text of Pride and Prejudice with the same cipher to illustrate it's impact on letter frequency."
   ]
  },
  {
   "cell_type": "code",
   "execution_count": 9,
   "metadata": {
    "tags": [
     "remove_cell"
    ]
   },
   "outputs": [],
   "source": [
    "from seaborn import barplot\n",
    "\n",
    "def textClean( text ):\n",
    "    LETTERS = 'ABCDEFGHIJKLMNOPQRSTUVWXYZ'\n",
    "    text = text.upper()\n",
    "    cleaned = ''\n",
    "    for char in text:\n",
    "        if char in LETTERS:\n",
    "            cleaned += char\n",
    "            \n",
    "    return cleaned\n",
    "\n",
    "def letterFrequency(text):\n",
    "    text = textClean(text)\n",
    "    frequencyList = []\n",
    "    LETTERS = 'ABCDEFGHIJKLMNOPQRSTUVWXYZ'\n",
    "    \n",
    "    for char in LETTERS:\n",
    "        frequencyList.append( 100 * text.count(char) / len(text))\n",
    "    \n",
    "    return frequencyList\n",
    "\n",
    "def caesarEncipher(text, key):\n",
    "    plaintext = textClean(text)\n",
    "    LETTERS = 'ABCDEFGHIJKLMNOPQRSTUVWXYZ'\n",
    "    ciphertext = ''\n",
    "    \n",
    "    for char in plaintext:\n",
    "        ciphertext += LETTERS[ (LETTERS.find(char) + key) % 26 ]\n",
    "    \n",
    "    return ciphertext\n"
   ]
  },
  {
   "cell_type": "code",
   "execution_count": 10,
   "metadata": {
    "tags": [
     "remove_cell"
    ]
   },
   "outputs": [],
   "source": [
    "with open('pride-and-prejudice.txt', encoding=\"utf8\") as f:\n",
    "    text = textClean(f.read())"
   ]
  },
  {
   "cell_type": "code",
   "execution_count": 12,
   "metadata": {
    "tags": [
     "remove_input"
    ]
   },
   "outputs": [
    {
     "data": {
      "image/png": "[encoded data removed]",
      "text/plain": [
       "<Figure size 432x288 with 1 Axes>"
      ]
     },
     "metadata": {
      "needs_background": "light"
     },
     "output_type": "display_data"
    }
   ],
   "source": [
    "ciphertext = ''\n",
    "\n",
    "for i in range(0, len(text)):\n",
    "    if i % 2 == 0:\n",
    "        ciphertext += caesarEncipher( text[i], 3)\n",
    "    else:\n",
    "        ciphertext += caesarEncipher( text[i], 10)\n",
    "\n",
    "labels = ['A', 'B', 'C', 'D', 'E', 'F', 'G', 'H', 'I', 'J', 'K', 'L', 'M', 'N', 'O', 'P', 'Q', 'R', 'S', 'T', 'U', 'V', 'W', 'X', 'Y', 'Z']\n",
    "values = letterFrequency(ciphertext)\n",
    "\n",
    "barplot(labels, values, color='steelblue');"
   ]
  },
  {
   "cell_type": "markdown",
   "metadata": {},
   "source": [
    "Looking at the results, you can see that there are no letters with frequency much higher than 8%, and much fewer letters than expected with very low frequency. Using two keys appears to have pulled the overall frequencies towards the middle. This characteristic is what this type of cipher is aiming for: making it harder to determine which character is which."
   ]
  }
 ],
 "metadata": {
  "kernelspec": {
   "display_name": "Python 3",
   "language": "python",
   "name": "python3"
  },
  "language_info": {
   "codemirror_mode": {
    "name": "ipython",
    "version": 3
   },
   "file_extension": ".py",
   "mimetype": "text/x-python",
   "name": "python",
   "nbconvert_exporter": "python",
   "pygments_lexer": "ipython3",
   "version": "3.7.3"
  }
 },
 "nbformat": 4,
 "nbformat_minor": 4
}
