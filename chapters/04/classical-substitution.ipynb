{
 "cells": [
  {
   "cell_type": "markdown",
   "metadata": {},
   "source": [
    "# Substitution\n",
    "As we've learned in a previous section, substitution ciphers require a mapping between a plaintext letter and a corresponding ciphertext letter. There are numerous ways to map a plaintext letter to a ciphertext letter, and we'll see the more mathematics you know the more secure a system you'll be able to devise. To start, we'll focus on __monoalphabetic substitution ciphers__.\n",
    "\n",
    "> __Monoalphabetic Substitution Cipher:__ a cipher in which each letter of the plaintext alphabet is sent to one and only one letter in the ciphertext alphabet, and vice versa. As a result, no two letters are sent to the same letter. We call this __mono__ alphabetic because there's one and only one ciphertext alphabet for each plaintext alphabet. We'll see later on in the course that there are encryption schemes that use multiple ciphertext alphabets when enciphering a message."
   ]
  }
 ],
 "metadata": {
  "kernelspec": {
   "display_name": "Python 3",
   "language": "python",
   "name": "python3"
  },
  "language_info": {
   "codemirror_mode": {
    "name": "ipython",
    "version": 3
   },
   "file_extension": ".py",
   "mimetype": "text/x-python",
   "name": "python",
   "nbconvert_exporter": "python",
   "pygments_lexer": "ipython3",
   "version": "3.7.3"
  }
 },
 "nbformat": 4,
 "nbformat_minor": 4
}
