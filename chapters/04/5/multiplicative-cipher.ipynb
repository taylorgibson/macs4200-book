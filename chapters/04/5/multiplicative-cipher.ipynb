{
 "cells": [
  {
   "cell_type": "markdown",
   "metadata": {},
   "source": [
    "# Multiplicative Ciphers\n",
    "\n",
    "So far we've looked at substitution ciphers that create mappings between plaintext and ciphertext alphabets using either keywords or addition by an integer key. Let's see what happens when we try to use multiplication to create a mapping.\n",
    "\n",
    "Let's go through letter by letter with a multiplicative key of `4`\n",
    "\n",
    "```\n",
    " plaintext:  a   b   c   d  ...  i   j \n",
    " numerical:  0   1   2   3  ...  8   9\n",
    "        x4:  0   4   8  12  ... 32  36\n",
    "    MOD 26:  0   4   8  12  ...  6  10\n",
    "ciphertext:  A   E   I   M  ...  G   K\n",
    "```\n",
    "So far so good, but can you predict why this may not keep working?\n",
    "\n",
    "```\n",
    " plaintext:  a   b   c   d  ...  i   j  ...  n   o\n",
    " numerical:  0   1   2   3  ...  8   9  ... 13  14\n",
    "        x4:  0   4   8  12  ... 32  36  ... 52  56\n",
    "    MOD 26:  0   4   8  12  ...  6  10  ...  0   4\n",
    "ciphertext:  A   E   I   M  ...  G   K  ...  A   E\n",
    "```\n",
    "When we get to the plaintext letters of `n` and `o`, they get mapped to `A` and `E`. These ciphertext letters were already mapped to the plaintext letters of `a` and `b`! This is a critical flaw in this process. If you knew the key was `4` and you had a ciphertext letter of `E`, there's no way to determine if the `E` is from a plaintext letter of `b` or `o`. This indicates that `4` is an invalid multiplicative key, and should not be used.\n",
    "\n",
    "## Valid Multiplicative Keys\n",
    "We've already determined that we can't use `4` to create a multiplicative cipher, but are there other values that would work? Let's look at plaintext and ciphertext mappings generated using a variety of key values."
   ]
  },
  {
   "cell_type": "code",
   "execution_count": 1,
   "metadata": {
    "tags": [
     "hide_input"
    ]
   },
   "outputs": [
    {
     "name": "stdout",
     "output_type": "stream",
     "text": [
      "plaintext: abcdefghijklmnopqrstuvwxyz\n",
      "   key 00: AAAAAAAAAAAAAAAAAAAAAAAAAA \n",
      "   key 01: ABCDEFGHIJKLMNOPQRSTUVWXYZ valid\n",
      "   key 02: ACEGIKMOQSUWYACEGIKMOQSUWY \n",
      "   key 03: ADGJMPSVYBEHKNQTWZCFILORUX valid\n",
      "   key 04: AEIMQUYCGKOSWAEIMQUYCGKOSW \n",
      "   key 05: AFKPUZEJOTYDINSXCHMRWBGLQV valid\n",
      "   key 06: AGMSYEKQWCIOUAGMSYEKQWCIOU \n",
      "   key 07: AHOVCJQXELSZGNUBIPWDKRYFMT valid\n",
      "   key 08: AIQYGOWEMUCKSAIQYGOWEMUCKS \n",
      "   key 09: AJSBKTCLUDMVENWFOXGPYHQZIR valid\n",
      "   key 10: AKUEOYISCMWGQAKUEOYISCMWGQ \n",
      "   key 11: ALWHSDOZKVGRCNYJUFQBMXITEP valid\n",
      "   key 12: AMYKWIUGSEQCOAMYKWIUGSEQCO \n",
      "   key 13: ANANANANANANANANANANANANAN \n",
      "   key 14: AOCQESGUIWKYMAOCQESGUIWKYM \n",
      "   key 15: APETIXMBQFUJYNCRGVKZODSHWL valid\n",
      "   key 16: AQGWMCSIYOEUKAQGWMCSIYOEUK \n",
      "   key 17: ARIZQHYPGXOFWNEVMDULCTKBSJ valid\n",
      "   key 18: ASKCUMEWOGYQIASKCUMEWOGYQI \n",
      "   key 19: ATMFYRKDWPIBUNGZSLEXQJCVOH valid\n",
      "   key 20: AUOICWQKEYSMGAUOICWQKEYSMG \n",
      "   key 21: AVQLGBWRMHCXSNIDYTOJEZUPKF valid\n",
      "   key 22: AWSOKGCYUQMIEAWSOKGCYUQMIE \n",
      "   key 23: AXUROLIFCZWTQNKHEBYVSPMJGD valid\n",
      "   key 24: AYWUSQOMKIGECAYWUSQOMKIGEC \n",
      "   key 25: AZYXWVUTSRQPONMLKJIHGFEDCB valid\n",
      "   key 26: AAAAAAAAAAAAAAAAAAAAAAAAAA \n",
      "   key 27: ABCDEFGHIJKLMNOPQRSTUVWXYZ valid\n",
      "   key 28: ACEGIKMOQSUWYACEGIKMOQSUWY \n",
      "   key 29: ADGJMPSVYBEHKNQTWZCFILORUX valid\n"
     ]
    }
   ],
   "source": [
    "LETTERS = 'ABCDEFGHIJKLMNOPQRSTUVWXYZ'\n",
    "print( 'plaintext:', LETTERS.lower() )\n",
    "\n",
    "for key in range(0,30):\n",
    "    cipheralphabet = ''\n",
    "    for position in range(0, 26):\n",
    "        cipheralphabet += LETTERS[ (position * key) % 26 ]\n",
    "    \n",
    "    if cipheralphabet.count('A') > 1:\n",
    "        test = ''\n",
    "    else:\n",
    "        test = 'valid'\n",
    "    print('   key {}: {} {}'.format(str(key).zfill(2),cipheralphabet, test) )"
   ]
  },
  {
   "cell_type": "markdown",
   "metadata": {},
   "source": [
    "We can see parse through all these different plaintext and ciphertext mappings and see a few things:\n",
    "* A key of 0 isn't valid or helpful, since every plaintext letter value multiplied by 0 will be 0, resulting in a ciphertext letter of `A`\n",
    "* A key of 1 is valid, but not very helpful since the plaintext and ciphertext alphabets are identical.\n",
    "* Keys with even valued keys are all invalid.\n",
    "* A key of 13 is invalid.\n",
    "* All keys result in plaintext `a` being mapped to ciphertext `A`.\n",
    "* Key 26 produces the same ciphertext alphabet as Key 00, Key 27 the same as Key 01, Key 28 the same as Key 02, and so on.\n",
    "\n",
    "That leaves valid keys of `1, 3, 5, 7, 9, 11, 15, 17, 19, 21, 23`. These numbers all have one thing in common: they are co-prime with $26$.\n",
    "\n",
    "> Two integers $a$ and $b$ are said to be __relatively prime__, __mutually prime__, or __co-prime__ if the only positive integer (factor) that divides both of them is $1$. That is, the only common factor (or divisor) is $1$.\n",
    "\n",
    "If we had a larger or smaller alphabet we could use other key values that would be co-prime with the size of those alphabets. For example, the Spanish alphabet has $27$ letters, which means that the integers `1, 2, 4, 5, 7, 8, 10, 11, 13, 14, 16, 17, 19, 20, 22, 23,` and `25` are valid keys. The Swedish alphabet has $29$ letters, and since $29$ is prime and by definition shares only the factor $1$ with all other numbers, all numbers between `0 - 28` are valid multiplicative keys. By comparison having a $26$ letter alphabet is fairly limiting if you wish to use a multiplicative cipher.\n",
    "\n",
    "## A Graphical Interpretation\n",
    "Another way to think about the multiplicative cipher is we're plotting points with integer values on the line $C = k \\cdot P$, where $C$ is the $y$-value on a graph that represents the numerical value of the ciphertext letter, $k$ is the multiplicative key, and $P$ is the $x$-value on the graph that represents the numerical value of the plaintext letter. We'll $\\text{MOD}$ the value of $C$ by $26$ before plotting to ensure that all values of $C$ correspond to a letter in our alphabet.\n",
    "\n",
    "For example, if $k=3$:"
   ]
  },
  {
   "cell_type": "code",
   "execution_count": 25,
   "metadata": {
    "tags": [
     "remove_cell"
    ]
   },
   "outputs": [],
   "source": [
    "import numpy as np\n",
    "import matplotlib.pyplot as plt\n",
    "plt.style.use('seaborn-colorblind')\n",
    "\n",
    "def f(P, k):\n",
    "    return (P*k)%26"
   ]
  },
  {
   "cell_type": "code",
   "execution_count": 26,
   "metadata": {
    "tags": [
     "hide_input"
    ]
   },
   "outputs": [
    {
     "data": {
      "image/png": "[encoded data removed]",
      "text/plain": [
       "<Figure size 480x480 with 1 Axes>"
      ]
     },
     "metadata": {},
     "output_type": "display_data"
    }
   ],
   "source": [
    "t1 = np.arange(0, 26, 1)\n",
    "plt.xticks(np.arange(26), ('a', 'b', 'c', 'd', 'e', 'f', 'g', 'h','i', 'j', 'k', 'l', 'm', 'n', 'o', 'p', 'q', 'r', 's', 't', 'u', 'v', 'w', 'x', 'y', 'z'))\n",
    "plt.yticks(np.arange(26), ('A', 'B', 'C', 'D', 'E', 'F', 'G', 'H','I', 'J', 'K', 'L', 'M', 'N', 'O', 'P', 'Q', 'R', 'S', 'T', 'U', 'V', 'W', 'X', 'Y', 'Z'))\n",
    "plt.grid(True)\n",
    "plt.gca().set_aspect('equal', adjustable='box')\n",
    "plt.axis([-1, 26, -1, 26])\n",
    "plt.xlabel('plaintext')\n",
    "plt.ylabel('ciphertext')\n",
    "plt.title('key = 3')\n",
    "plt.rcParams[\"figure.figsize\"] = (6,6)\n",
    "\n",
    "plt.plot(t1, f(t1, 3), 'o')\n",
    "\n",
    "plt.show()"
   ]
  },
  {
   "cell_type": "markdown",
   "metadata": {},
   "source": [
    "We can visually inspect the plot to see that every plaintext letter is mapped to a ciphertext letter, and that relationship is one-to-one, meaning that each  plaintext letter is mapped to only one ciphertext letter, and vice-versa. That means that, for a key of $3$ the plaintext to ciphertext transformation is a function, and that function has an inverse that is also a function.\n",
    "\n",
    "Now let's look at an invalid key:"
   ]
  },
  {
   "cell_type": "code",
   "execution_count": 27,
   "metadata": {
    "tags": [
     "hide_input"
    ]
   },
   "outputs": [
    {
     "data": {
      "image/png": "[encoded data removed]",
      "text/plain": [
       "<Figure size 480x480 with 1 Axes>"
      ]
     },
     "metadata": {},
     "output_type": "display_data"
    }
   ],
   "source": [
    "t1 = np.arange(0, 26, 1)\n",
    "plt.xticks(np.arange(26), ('a', 'b', 'c', 'd', 'e', 'f', 'g', 'h','i', 'j', 'k', 'l', 'm', 'n', 'o', 'p', 'q', 'r', 's', 't', 'u', 'v', 'w', 'x', 'y', 'z'))\n",
    "plt.yticks(np.arange(26), ('A', 'B', 'C', 'D', 'E', 'F', 'G', 'H','I', 'J', 'K', 'L', 'M', 'N', 'O', 'P', 'Q', 'R', 'S', 'T', 'U', 'V', 'W', 'X', 'Y', 'Z'))\n",
    "plt.grid(True)\n",
    "plt.gca().set_aspect('equal', adjustable='box')\n",
    "plt.axis([-1, 26, -1, 26])\n",
    "plt.xlabel('plaintext')\n",
    "plt.ylabel('ciphertext')\n",
    "plt.title('key = 8')\n",
    "plt.rcParams[\"figure.figsize\"] = (6,6)\n",
    "\n",
    "plt.plot(t1, f(t1, 8), 'o')\n",
    "\n",
    "plt.show()"
   ]
  },
  {
   "cell_type": "markdown",
   "metadata": {},
   "source": [
    "Here we can see some plaintext letters get mapped to the same ciphertext letter, `k` and `x` are both mapped to `C` for example. Here's a very extreme case:"
   ]
  },
  {
   "cell_type": "code",
   "execution_count": 28,
   "metadata": {
    "tags": [
     "hide_input"
    ]
   },
   "outputs": [
    {
     "data": {
      "image/png": "[encoded data removed]",
      "text/plain": [
       "<Figure size 480x480 with 1 Axes>"
      ]
     },
     "metadata": {},
     "output_type": "display_data"
    }
   ],
   "source": [
    "t1 = np.arange(0, 26, 1)\n",
    "plt.xticks(np.arange(26), ('a', 'b', 'c', 'd', 'e', 'f', 'g', 'h','i', 'j', 'k', 'l', 'm', 'n', 'o', 'p', 'q', 'r', 's', 't', 'u', 'v', 'w', 'x', 'y', 'z'))\n",
    "plt.yticks(np.arange(26), ('A', 'B', 'C', 'D', 'E', 'F', 'G', 'H','I', 'J', 'K', 'L', 'M', 'N', 'O', 'P', 'Q', 'R', 'S', 'T', 'U', 'V', 'W', 'X', 'Y', 'Z'))\n",
    "plt.grid(True)\n",
    "plt.gca().set_aspect('equal', adjustable='box')\n",
    "plt.axis([-1, 26, -1, 26])\n",
    "plt.xlabel('plaintext')\n",
    "plt.ylabel('ciphertext')\n",
    "plt.title('key = 13')\n",
    "plt.rcParams[\"figure.figsize\"] = (6,6)\n",
    "\n",
    "plt.plot(t1, f(t1, 13), 'o')\n",
    "\n",
    "plt.show()"
   ]
  },
  {
   "cell_type": "markdown",
   "metadata": {},
   "source": [
    "A key of $13$ maps half the plaintext letters to `A` and the other half to `N`"
   ]
  },
  {
   "cell_type": "markdown",
   "metadata": {},
   "source": [
    "## Exercise for the Reader\n",
    "Can you write a Python program similar to the Caesar Cipher program that can encipher a message using the multiplicative cipher?"
   ]
  },
  {
   "cell_type": "markdown",
   "metadata": {},
   "source": [
    "## Deciphering Multiplicative Ciphers\n",
    "\n",
    "Suppose you intercepted a message that you suspect was encrypted using a multiplicative cipher, and you even think you know the key. How would you go about deciphering the message? If the first ciphertext letter was D, and the key was 4, how do you undo the enciphering process? Based on what we've seen with the Caesar Cipher, it would be tempting to undo the multiplication by the key with division by the key. Let's see what happens\n",
    "\n",
    "```\n",
    "ciphertext:  A   B   C   D  ...    N    O\n",
    " numerical:  0   1   2   3  ...   13   14\n",
    "        ÷4:  0 .25 .50 .25  ... 3.25 3.50\n",
    "    MOD 26:  0   4   8  12  ...    6   10\n",
    " plaintext:  a   ?   ?   ?  ...    ?    ?\n",
    "```\n",
    "\n",
    "While we have no problem performing the division of two integers, the result is a float value that doesn't correspond back to a letter in our alphabet. We'll need another approach here for deciphering these messages.\n",
    "\n",
    "### More Modular Arithmetic\n",
    "Think back to a course you had that discussed solving linear equations. For example:\n",
    "\n",
    "$$ 3x + 1 = 7$$\n",
    "\n",
    "You could solve this by:\n",
    "* Subtract $1$ to both sides\n",
    "* Dividing both sides by $3$\n",
    "\n",
    "$$\n",
    "\\begin{align}\n",
    "    3x + 1 &= 7 \\\\\n",
    "    3x &= 6 \\\\\n",
    "    x &= 2\n",
    "\\end{align}\n",
    "$$\n",
    "\n",
    "But, you've also learned another way to describe this process:\n",
    "* Add the *additive inverse* of 1 to both sides\n",
    "* Multiply both sides by the *multiplicative inverse*\n",
    "\n",
    "Let's define these terms and see how they may be helpful in deciphering our multiplicative cipher:\n",
    "> Additive Inverse: Integers $a$ and $b$ are additive inverses if and only if $a + b = 0$\n",
    "\n",
    "> Multiplicative Inverse: Integers $a$ and $b$ are multiplicative inverses if and only if $a \\cdot b = 1$\n",
    "\n",
    "When working in a certain modulo, $n$, we're restricted to using the integers of $0, 1, 2, 3..., n - 1$. We call this set of integers $\\mathbb{Z}_n$. For example, when working in modulo $7$, we only have the integers $0, 1, 2, 3, 4, 5$, and $6$, as any other integer has a congruence in this set. As we've mentioned before, since the set of numbers $\\{..., -6, 1, 8, 15, ...\\}$ are all congruent to one, we call $[1]$ the congruence class or equivalence class of $1$ modulo $7$, which consists of all these integers.\n",
    "\n",
    "### Additive Inverses\n",
    "Suppose we define a new operation, $+_4$, that adds two integers and then MODS by 4. Organizing the results in a table, where you add the number in the top row with the number in the first column would yield:\n",
    "\n",
    "$$\n",
    "\\begin{array}{c|cccc}\n",
    " +_4 & 0 & 1 & 2 & 3 \\\\ \\hline\n",
    "   0 & 0 & 1 & 2 & 3 \\\\\n",
    "   1 & 1 & 2 & 3 & 0 \\\\\n",
    "   2 & 2 & 3 & 0 & 1 \\\\\n",
    "   3 & 3 & 0 & 1 & 2\n",
    "\\end{array}\n",
    "$$\n",
    "\n",
    "You probably can find a lot of patterns in the tables above, but let's talk about all those zeros. When working with all integers, the only way to get two numbers to sum to zero is to add a number and it's opposite. For example, $3$ and $-3$, or $12$ and $-12$, etc. However, as you can see when working modulo 4, $3$ and $1$ sum to $0$ so we can consider them *additive inverses*. Likewise, $2$ is its own additive inverse since $0 \\equiv 2 + 2 \\pmod{4}$. Boxing each of the elements in the table results in the following:\n",
    "\n",
    "$$\n",
    "\\begin{array}{c|cccc}\n",
    " +_4 & 0 & 1 & 2 & 3 \\\\ \\hline\n",
    "   0 & 0 & 1 & 2 & 3 \\\\\n",
    "   1 & 1 & 2 & 3 & \\boxed{0} \\\\\n",
    "   2 & 2 & 3 & \\boxed{0} & 1 \\\\\n",
    "   3 & 3 & \\boxed{0} & 1 & 2\n",
    "\\end{array}\n",
    "$$\n",
    "\n",
    "### Multiplicative Inverses\n",
    "Now suppose we define a new operation, $\\times_n$, that multiplies two integers and then MODS by $n$. Organized in a table in a similar manner as before, the results would look as follows:\n",
    "\n",
    "For $\\times_4$,\n",
    "\n",
    "$$\n",
    "\\begin{array}{c|cccc}\n",
    " \\times_4 & 0 & 1 & 2 & 3 \\\\ \\hline\n",
    "        0 & 0 & 0 & 0 & 0 \\\\\n",
    "        1 & 0 & 1 & 2 & 3 \\\\\n",
    "        2 & 0 & 2 & 0 & 2 \\\\\n",
    "        3 & 0 & 3 & 2 & 1\n",
    "\\end{array}\n",
    "$$\n",
    "\n",
    "Here you can see that $1$ and $3$ are their own multiplicative inverses because $1 \\equiv 1 \\cdot 1 \\pmod{4}$ and $1 \\equiv 3 \\cdot 3 \\pmod{4}$.\n",
    "\n",
    "$$\n",
    "\\begin{array}{c|cccc}\n",
    " \\times_4 & 0 & 1 & 2 & 3 \\\\ \\hline\n",
    "        0 & 0 & 0 & 0 & 0 \\\\\n",
    "        1 & 0 & \\boxed{1} & 2 & 3 \\\\\n",
    "        2 & 0 & 2 & 0 & 2 \\\\\n",
    "        3 & 0 & 3 & 2 & \\boxed{1}\n",
    "\\end{array}\n",
    "$$\n",
    "\n",
    "For $\\times_6$,\n",
    "\n",
    "$$\n",
    "\\begin{array}{c|cccccc}\n",
    " \\times_6 & 0 & 1 & 2 & 3 & 4 & 5 \\\\ \\hline\n",
    "        0 & 0 & 0 & 0 & 0 & 0 & 0 \\\\\n",
    "        1 & 0 & 1 & 2 & 3 & 4 & 5 \\\\\n",
    "        2 & 0 & 2 & 4 & 0 & 2 & 4 \\\\\n",
    "        3 & 0 & 3 & 0 & 3 & 0 & 3 \\\\\n",
    "        4 & 0 & 4 & 2 & 0 & 4 & 2 \\\\\n",
    "        5 & 0 & 5 & 4 & 3 & 2 & 1\n",
    "\\end{array}\n",
    "$$\n",
    "\n",
    "Here you can see that $1$ and $5$ are their own multiplicative inverses because $1 \\equiv 1 \\cdot 1 \\pmod{6}$ and $1 \\equiv 5 \\cdot 5 \\pmod{6}$.\n",
    "\n",
    "$$\n",
    "\\begin{array}{c|cccccc}\n",
    " \\times_6 & 0 & 1 & 2 & 3 & 4 & 5 \\\\ \\hline\n",
    "        0 & 0 & 0 & 0 & 0 & 0 & 0 \\\\\n",
    "        1 & 0 & \\boxed{1} & 2 & 3 & 4 & 5 \\\\\n",
    "        2 & 0 & 2 & 4 & 0 & 2 & 4 \\\\\n",
    "        3 & 0 & 3 & 0 & 3 & 0 & 3 \\\\\n",
    "        4 & 0 & 4 & 2 & 0 & 4 & 2 \\\\\n",
    "        5 & 0 & 5 & 4 & 3 & 2 & \\boxed{1}\n",
    "\\end{array}\n",
    "$$\n",
    "\n",
    "Lastly, $\\times_7$:\n",
    "\n",
    "$$\n",
    "\\begin{array}{c|cccccc}\n",
    " \\times_7 & 0 & 1 & 2 & 3 & 4 & 5 & 6 \\\\ \\hline\n",
    "        0 & 0 & 0 & 0 & 0 & 0 & 0 & 0 \\\\\n",
    "        1 & 0 & 1 & 2 & 3 & 4 & 5 & 6 \\\\\n",
    "        2 & 0 & 2 & 4 & 6 & 1 & 3 & 5 \\\\\n",
    "        3 & 0 & 3 & 6 & 2 & 5 & 1 & 4 \\\\\n",
    "        4 & 0 & 4 & 1 & 5 & 2 & 6 & 3 \\\\\n",
    "        5 & 0 & 5 & 3 & 1 & 6 & 4 & 2 \\\\\n",
    "        6 & 0 & 6 & 5 & 4 & 3 & 2 & 1\n",
    "\\end{array}\n",
    "$$\n",
    "\n",
    "Here there are many multiplicative inverses! In fact, every non-zero number has an inverse! $1$ and $6$ are their own multiplicative inverses, $2$ and $4$ are multiplicative inverses, and $3$ and $5$ are multiplicative inverses.\n",
    "\n",
    "$$\n",
    "\\begin{array}{c|cccccc}\n",
    " \\times_7 & 0 & 1 & 2 & 3 & 4 & 5 & 6 \\\\ \\hline\n",
    "        0 & 0 & 0 & 0 & 0 & 0 & 0 & 0 \\\\\n",
    "        1 & 0 & \\boxed{1} & 2 & 3 & 4 & 5 & 6 \\\\\n",
    "        2 & 0 & 2 & 4 & 6 & \\boxed{1} & 3 & 5 \\\\\n",
    "        3 & 0 & 3 & 6 & 2 & 5 & \\boxed{1} & 4 \\\\\n",
    "        4 & 0 & 4 & \\boxed{1} & 5 & 2 & 6 & 3 \\\\\n",
    "        5 & 0 & 5 & 3 & \\boxed{1} & 6 & 4 & 2 \\\\\n",
    "        6 & 0 & 6 & 5 & 4 & 3 & 2 & \\boxed{1}\n",
    "\\end{array}\n",
    "$$\n",
    "\n",
    "## Using Multiplicative Inverses\n",
    "Since we are working in modulo 26, we'll need to figure out which key values have a multiplicative inverses. Let's write a Python program to check them all for us. We can construct a loop to try all the values between 0 and 26 and see if there's a number that when multiplied and then reduced mod 26 results in a product of $1$"
   ]
  },
  {
   "cell_type": "code",
   "execution_count": 5,
   "metadata": {},
   "outputs": [
    {
     "name": "stdout",
     "output_type": "stream",
     "text": [
      "1 1\n",
      "3 9\n",
      "5 21\n",
      "7 15\n",
      "9 3\n",
      "11 19\n",
      "15 7\n",
      "17 23\n",
      "19 11\n",
      "21 5\n",
      "23 17\n",
      "25 25\n"
     ]
    }
   ],
   "source": [
    "for i in range(0,26):\n",
    "    for j in range(0,26):\n",
    "        if (i * j) %26 == 1:\n",
    "            print (i, j)"
   ]
  },
  {
   "cell_type": "markdown",
   "metadata": {},
   "source": [
    "We can see that $1$ is its own multiplicative inverse, $3$ and $9$ are multiplicative inverses, $5$ and $21$, etc. In fact, we can see that all the valid keys are in the list, paired with their multiplicative inverse. __Every valid multiplicative key will have a multiplicative inverse__. Let's see how this fact will be helpful to us.\n",
    "\n",
    "Suppose we encipher the plaintext alphabet with multiplicative key of 5:\n",
    "\n",
    "```\n",
    " plaintext:  a   b   c   d  ...  i   j \n",
    " numerical:  0   1   2   3  ...  8   9\n",
    "        x5:  0   5  10  15  ... 40  45\n",
    "    MOD 26:  0   5  10  15  ... 14  19\n",
    "ciphertext:  A   F   K   P  ...  O   T\n",
    "```\n",
    "\n",
    "Now, deciphering these same letters, only instead of dividing by $5$ to decipher, we'll multiply by the multiplicative inverse of $5$, which we now know is $21$ in modulo $26$.\n",
    "\n",
    "```\n",
    "ciphertext:  A    F    K    P  ...    O    T\n",
    " numerical:  0    5   10   15  ...   14   19\n",
    "       x21:  0  105  210  315  ...  294  399\n",
    "    MOD 26:  0    1    2    3  ...    8    9\n",
    " plaintext:  a    b    c    d  ...    i    j\n",
    "```\n",
    "\n",
    "It worked!\n",
    "\n",
    "## Exercise for the Reader\n",
    "Can you write Python code that will decipher a Multiplicative Cipher?"
   ]
  },
  {
   "cell_type": "code",
   "execution_count": 1,
   "metadata": {
    "tags": [
     "remove_cell"
    ]
   },
   "outputs": [],
   "source": [
    "def multcipher(text, mkey):\n",
    "    text = text.upper().replace(' ','')\n",
    "    LETTERS = 'ABCDEFGHIJKLMNOPQRSTUVWXYZ'\n",
    "    ciphertext = ''\n",
    "    \n",
    "    for char in text:\n",
    "        ciphertext += LETTERS[ (mkey* LETTERS.find(char)) % 26 ]\n",
    "    \n",
    "    return ciphertext"
   ]
  }
 ],
 "metadata": {
  "kernelspec": {
   "display_name": "Python 3",
   "language": "python",
   "name": "python3"
  },
  "language_info": {
   "codemirror_mode": {
    "name": "ipython",
    "version": 3
   },
   "file_extension": ".py",
   "mimetype": "text/x-python",
   "name": "python",
   "nbconvert_exporter": "python",
   "pygments_lexer": "ipython3",
   "version": "3.7.3"
  }
 },
 "nbformat": 4,
 "nbformat_minor": 4
}
