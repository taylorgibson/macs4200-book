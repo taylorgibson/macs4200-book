{
 "cells": [
  {
   "cell_type": "markdown",
   "metadata": {},
   "source": [
    "# Relating Modular Arithmetic to the Caesar Cipher\n",
    "\n",
    "Returning to our task of enciphering the letter `x` with a key of $5$, we now know that $23 + 5 \\equiv 2 \\pmod{26}$. It's worth mentioning that $23 + 5 \\equiv 54 \\pmod{26}$ and infinitely more values besides $54$, however, there will only ever be one value that falls between $0$ and $n-1$, or in this case, $25$. This is the range of values that correspond to letters in the English alphabet. This fact ensures that we will have a unique encryption and decryption process. Notice that $28 \\equiv x \\pmod{26}$ has infintely many solutions for $x$, but $28 \\text{ MOD } 26 = x$ has only one.\n",
    "\n",
    "So, how do we find this unique number between $0$ and $25$ that is congruent to the new position value computed? Put another way, how do we reduce the newly computed position value modulo $26$? Doing so by hand isn't difficult, but it may be a bit tedious. \n",
    "* If your computed value is greater than $25$, repeatedly subtract $26$ from the value until it falls between $0$ and $25$. \n",
    "* If your computed value is less than $0$, repeatedly add $26$ until it falls between $0$ and $25$. \n",
    "\n",
    "Performing this algorithm is equivalent to determining $m \\text{ MOD } 26 = ?$, where $m$ represents the numerical value of the current letter in the message being enciphered. We'll see a bit later that most computer programming languages have a built in operation that performs the $\\text{MOD}$ calculation for you, making this process very quick."
   ]
  },
  {
   "cell_type": "markdown",
   "metadata": {},
   "source": [
    "## Revisiting the Caesar Cipher\n",
    "We could update the encipher algorithm for the Caesar Cipher as follows:\n",
    "1. Convert plaintext letter to a numerical value, $P$\n",
    "2. Add the key value, $k$, to the plaintext value.\n",
    "3. Determine $\\left(P + k\\right) \\text{ MOD } 26$.\n",
    "4. Use this value to determine the ciphertext letter.\n",
    "5. Repeat until all plaintext letters have been converted to ciphertext letters.\n",
    "\n",
    "Notice that Step 3 is valid even if $P + k$ does not exceed $25$. As such, we've reduced the complexity of our algorithm. The same 5 steps will be performed each time without making a choice that is conditional on the value of $P + k$.\n",
    "\n",
    "The deciphering algorithm is now *almost* identical to the encipher algorithm, with the only difference being how the key is used:\n",
    "1. Convert ciphertext letter to a numerical value, $C$\n",
    "2. *Subtract* the key value, $k$, from the ciphertext value.\n",
    "3. Determine $\\left(C - k\\right) \\text{ MOD } 26$.\n",
    "4. Use this value to determine the plaintext letter.\n",
    "5. Repeat until all ciphertext letters have been converted to plaintext letters."
   ]
  },
  {
   "cell_type": "markdown",
   "metadata": {},
   "source": [
    "## Implementing the Refined Algorithm by Hand\n",
    "Let's practice the new algorithm using the plaintext message `zebras eat grass` and key = $15$\n",
    "\n",
    "```\n",
    " plaintext    z   e   b   r   a   s   ...\n",
    "         P    25  4   1   17  0   18  ...\n",
    "     P + k    40  19  16  32  15  33  ...\n",
    "P+k MOD 26    14  19  16  8   15  7   ...\n",
    "ciphertext    O   T   Q   I   P   H   ...\n",
    "```\n",
    "\n",
    "And now, the deciphering algorithm on the ciphertext messsage `BARFZ N...` and key = $13$.\n",
    "```\n",
    "ciphertext    B   A   R   F   Z   N   ...\n",
    "         C    1   0   17  5   25  13  ...\n",
    "     C - k   -12 -13  4  -8   12  0  ...\n",
    "C-k MOD 26    14  13  4   18  12  0   ...\n",
    " plaintext    o   n   e   s   m   a   ...\n",
    "```"
   ]
  }
 ],
 "metadata": {
  "kernelspec": {
   "display_name": "Python 3",
   "language": "python",
   "name": "python3"
  },
  "language_info": {
   "codemirror_mode": {
    "name": "ipython",
    "version": 3
   },
   "file_extension": ".py",
   "mimetype": "text/x-python",
   "name": "python",
   "nbconvert_exporter": "python",
   "pygments_lexer": "ipython3",
   "version": "3.7.3"
  }
 },
 "nbformat": 4,
 "nbformat_minor": 4
}
