{
 "cells": [
  {
   "cell_type": "markdown",
   "metadata": {},
   "source": [
    "# General Substitution\n",
    "Before we get to a rigid system of mapping letters to each other, we should discuss substitution ciphers more generally. We can mathematically describe a substitution cipher as a permutation of the alphabet, perhaps most easily visualized as we've already seen, with 2 rows of letters. The top row is our normal plaintext alphabet, and the bottom row the permutated ciphertext alphabet. Here's an example inspired by looking at my keyboard\n",
    "```\n",
    "plaintext:  a b c d e f g h i j k l m n o p q r s t u v w x y z\n",
    "ciphertext: Q W E R T Y U I O P A S D F G H J K L Z X C V B N M\n",
    "```\n",
    "\n",
    "Using this mapping to encipher phrase would result in the following:\n",
    "```\n",
    "plaintext:  mathematics\n",
    "ciphertext: DQZIT DQZOE L\n",
    "```\n",
    "\n",
    "This system is relatively easy to use by hand, both to encrypt and decrypt messages, as long as both the sender and the recipient have the correct mapping between letters. In this system, the mapping is the key. How many possible keys are there?"
   ]
  },
  {
   "cell_type": "markdown",
   "metadata": {},
   "source": [
    "## Counting Keys\n",
    "Counting the number of keys in a given cryptosystem is a common task for any cryptologist. It provides a rough measure security for a given system: a system with many keys is typically more secure than a system with very few keys, since the chance of guessing the correct key is much lower.\n",
    "\n",
    "In this general system, where there's discernable pattern used to map plaintext letters to ciphertext letters, there are quite a few possibilities. You might be tempted to guess $26^{26}$, as there are $26$ choices for each letter; however not all of these choices are *simultaneously* possible. Remember, we defined earlier that no two letters can be mapped to the same letter in the ciphertext. Therefore, once we've determined which ciphertext letter is mapped with plaintext letter `a`, it's no longer longer a choice that can be mapped to plaintext letter `b`, and only $25$ choices remain.\n",
    "\n",
    "Therefore, the number of possible keys in a general subsitution system can be computed by:\n",
    "\n",
    "$26\\cdot25\\cdot24\\cdot23 \\cdot \\ldots \\cdot4\\cdot3\\cdot2\\cdot1$\n",
    "\n",
    "The mathematical function known as the factorial, which uses the exclamation point as its notation ($!$) can more compactly express such products where each subsequent factor is one fewer than the previous factor. This is a specific type of __recursive function__, which is defined to be a method where the solution depends on smaller instances of the same problem. For example, to compute $5!$, you can take the solution to $4!$ and multiply it by $5$, since $5 \\cdot 4 \\cdot 3 \\cdot 2 \\cdot 1 = 5 \\cdot 4!$. Recursive functions are widely used in computer science, so we'll likely see more examples of these in the future.\n",
    "\n",
    "\n",
    ">__The factorial function__: Let $n$ be a nonnegative integer. We define the factorial of $n$, written $n!$, recursively by setting $0! = 1$ and $n! = n \\left( n - 1 \\right)!$ for $n \\geq 1$. Thus $2! = 2 \\cdot 1 = 2$, $3! = 3 \\cdot 2 \\cdot 1 = 6$, and in general $n! = n \\cdot \\left( n - 1 \\right) \\cdots 2 \\cdot 1 $\n",
    "\n",
    "\n",
    "We can use Python to evaluate $26!$:"
   ]
  },
  {
   "cell_type": "code",
   "execution_count": 1,
   "metadata": {},
   "outputs": [
    {
     "name": "stdout",
     "output_type": "stream",
     "text": [
      "403291461126605635584000000\n"
     ]
    }
   ],
   "source": [
    "# Initialize a counter variable at 1\n",
    "counter = 1\n",
    "\n",
    "# This loop iterates `number` from 26 down to 2\n",
    "# and multiplys it against the value of `counter`\n",
    "# and then stores the new value back to `counter`\n",
    "for number in range(26,1,-1):\n",
    "    counter = counter * number\n",
    "    \n",
    "# Print the results\n",
    "print(counter)"
   ]
  },
  {
   "cell_type": "markdown",
   "metadata": {},
   "source": [
    "So $26$ factorial is written as $26!$ and is equal to $403,291,461,126,605,635,584,000,000 \\approx 4.03 \\cdot 10^{26}$\n",
    "\n",
    "That means there are well over $10^{26}$ *distinct* mappings, or keys, for this type of system. That's quite a lot! While at first this may seem like a great feature, we'll see it also introduces some problems as well. The benefits are that we have a huge number of possible keys at our disposal, so if the message is intercepted the chance of the eavesdropper correctly guessing the one we used is extremely low. However, the downside is that both the sender and receiver need to find a way to agree upon one of the many keys available. This means that everyone who plans to use this system with each other would need to memorize the bottom row of the mapping table, which is not always an easy task. One possible way to ease this process is to use a __keyword__.\n",
    "\n",
    "## Keyword Substitution\n",
    "A keyword subsitution scheme will greatly cut down on the possible number of mappings between plaintext and ciphertext letters, but it has the benefit of being much easier to remember. Start by choosing a word or phrase. We'll use `science math` for our keyword. Remove any spaces and then remove any repeated letters, leaving us with `scienmath`, and use this reduced keyword to start the mapping between plaintext and ciphertext letters:\n",
    "\n",
    "```\n",
    "plaintext:  a b c d e f g h i j k l m n o p q r s t u v w x y z\n",
    "ciphertext: S C I E N M A T H\n",
    "```\n",
    "\n",
    "To finish out the mapping, go from `A` to `Z` in order, skipping over any already used letters:\n",
    "\n",
    "```\n",
    "plaintext:  a b c d e f g h i j k l m n o p q r s t u v w x y z\n",
    "ciphertext: S C I E N M A T H B D F G J K L O P Q R U V W X Y Z\n",
    "```\n",
    "\n",
    "You can probably see that this does a pretty good job mapping letters near the keyword, but not near the end of the alphabet, where in this example `u` through `z` in the plaintext are mapped to the same letters in the ciphertext. One way around this is to use longer keywords that contain a variety of letters, including those at the end of the alphabet.\n",
    "\n",
    "```\n",
    "keyword: quick brown fox jumped over the lazy dog\n",
    "plaintext:  a b c d e f g h i j k l m n o p q r s t u v w x y z\n",
    "ciphertext: Q U I C K B R O W N F X J M P E D V T H L A Z Y G S\n",
    "```\n",
    "\n",
    "Another way around this is to use a secondary piece of information, a keyletter, to offset where you place the keyword.\n",
    "\n",
    "## Keyletters\n",
    "Suppose we chose a keyletter of `g` to go with the keyword/keyphrase of `science math`. We would begin the same way, reducing the keyword down to `scienmath`. However, instead of placing this reduced keyword at the start of the cipher alphabet, we would place it underneath the position indicated by the keyletter of `g`.\n",
    "\n",
    "```\n",
    "plaintext:  a b c d e f g h i j k l m n o p q r s t u v w x y z\n",
    "ciphertext:             S C I E N M A T H\n",
    "```\n",
    "\n",
    "Then, we carry on as normal placing the unused letters of the alphabet in order after the keyword. When we reach the position underneath `z` in the plaintext alphabet, we wrap back around to `a`. This has the benefit of ensuring that the letters at the end of the alphabet don't always get mapped to themselves.\n",
    "\n",
    "```\n",
    "plaintext:  a b c d e f g h i j k l m n o p q r s t u v w x y z\n",
    "ciphertext: U V W X Y Z S C I E N M A T H B D F G J K L O P Q R \n",
    "```\n",
    "\n",
    "### Exercise for the Reader\n",
    "Could you write a Python program that takes in a keyword or phrase and outputs the ciphertext alphabet that would be paired with the standard plaintext alphabet?"
   ]
  }
 ],
 "metadata": {
  "kernelspec": {
   "display_name": "Python 3",
   "language": "python",
   "name": "python3"
  },
  "language_info": {
   "codemirror_mode": {
    "name": "ipython",
    "version": 3
   },
   "file_extension": ".py",
   "mimetype": "text/x-python",
   "name": "python",
   "nbconvert_exporter": "python",
   "pygments_lexer": "ipython3",
   "version": "3.7.3"
  }
 },
 "nbformat": 4,
 "nbformat_minor": 4
}
