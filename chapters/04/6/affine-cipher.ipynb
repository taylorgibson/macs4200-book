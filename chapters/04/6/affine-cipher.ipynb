{
 "cells": [
  {
   "cell_type": "markdown",
   "metadata": {},
   "source": [
    "# Affine Cipher\n",
    "\n",
    "## Enciphering\n",
    "The last type of monoalphabetic cipher we'll cover is the __Affine Cipher__. The name __affine__ comes affine functions, which are linear functions with a constant term. For example, to map plaintext to ciphertext in a $26$ letter alphabet, we would use the following affine function:\n",
    "\n",
    "$$C = \\left( m \\cdot P + a \\right) \\mod{26}$$\n",
    "\n",
    "where $P$ is the numerical value of a plaintext letter, $m$ is a valid multiplicative key, $a$ is a valid additive key, and $C$ is the numerical value of a ciphertext letter. Notice you use the multiplicative key first, then the additive key, then $\\text{MOD}$ by $26$.\n",
    "\n",
    "### Example\n",
    "Let's look at enciphering the plaintext, `unicorn` with `m = 7` and `a = 16`\n",
    "```\n",
    " plaintext:   u    n    i    c    o    r    n \n",
    " numerical:  20   13    8    2   14   17   13\n",
    "        x7: 140   91   56   14   98  119   91\n",
    "       +16: 156  107   72   30  114  135  107\n",
    "    MOD 26:   0    3   20    4   10    5    3\n",
    "ciphertext:   A    D    U    E    K    F    D\n",
    "```\n",
    "\n",
    "### Notes on Keys\n",
    "Since we're still multiplying as part of our algorithm, only the valid multiplicative keys we discovered in the previous section can be used. If we choose `m = 1`, this is essentially a Caesar Cipher, since multiplying by $1$ does not change the value of $P$.\n",
    "\n",
    "Like with the multiplicative cipher, we can visualize the transformation from plaintext to ciphertext graphically by plotting the points with integer values on the line $C = \\left( m \\cdot P + a \\right) \\pmod{26}$.\n"
   ]
  },
  {
   "cell_type": "code",
   "execution_count": 38,
   "metadata": {
    "tags": [
     "remove_cell"
    ]
   },
   "outputs": [],
   "source": [
    "import numpy as np\n",
    "import matplotlib.pyplot as plt\n",
    "\n",
    "plt.style.use('seaborn')\n",
    "\n",
    "def f(P, m, a):\n",
    "    return (m*P + a)%26"
   ]
  },
  {
   "cell_type": "code",
   "execution_count": 40,
   "metadata": {
    "tags": [
     "hide_input"
    ]
   },
   "outputs": [
    {
     "data": {
      "image/png": "[encoded data removed]",
      "text/plain": [
       "<Figure size 432x432 with 1 Axes>"
      ]
     },
     "metadata": {},
     "output_type": "display_data"
    }
   ],
   "source": [
    "t1 = np.arange(0, 26, 1)\n",
    "\n",
    "plt.xticks(np.arange(26), ('a', 'b', 'c', 'd', 'e', 'f', 'g', 'h','i', 'j', 'k', 'l', 'm', 'n', 'o', 'p', 'q', 'r', 's', 't', 'u', 'v', 'w', 'x', 'y', 'z'))\n",
    "plt.yticks(np.arange(26), ('A', 'B', 'C', 'D', 'E', 'F', 'G', 'H','I', 'J', 'K', 'L', 'M', 'N', 'O', 'P', 'Q', 'R', 'S', 'T', 'U', 'V', 'W', 'X', 'Y', 'Z'))\n",
    "plt.grid(True)\n",
    "plt.gca().set_aspect('equal', adjustable='box')\n",
    "plt.axis([-1, 26, -1, 26])\n",
    "plt.xlabel('plaintext')\n",
    "plt.ylabel('ciphertext')\n",
    "plt.title('m = 7, a = 16')\n",
    "plt.rcParams[\"figure.figsize\"] = (6,6)\n",
    "\n",
    "plt.plot(t1, f(t1, 7, 16), 'o')\n",
    "\n",
    "plt.show()"
   ]
  },
  {
   "cell_type": "markdown",
   "metadata": {},
   "source": [
    "## Deciphering the Affine Cipher\n",
    "To determine how to decipher a message that was encrypted using the Affine Cipher, let's solve the affine function from earlier for $P$ in terms of $C$. Remember, we won't divide by $m$ when working in modulo $26$, we'll multiply by the multiplicative inverse of $m$, denoted as $m^{-1}$.\n",
    "\n",
    "$$\n",
    "\\begin{align}\n",
    "    C &= \\left( m \\cdot P + a \\right) \\mod{26} \\\\\n",
    "    C - a &= m \\cdot P \\mod{26} \\\\\n",
    "    \\left(C - a\\right)\\cdot m^{-1} &= P \\mod{26} \\\\\n",
    "    P &= \\left(C - a\\right)\\cdot m^{-1} \\mod{26} \n",
    "\\end{align}\n",
    "$$\n",
    "\n",
    "So, to decipher a message, you'll take the numerical value of each ciphertext letter, first subtract $a$ from it, then multiply by the multiplicative inverse of $m$, and lastly $\\text{MOD}$ by $26$.\n",
    "\n",
    "## Example\n",
    "Let's now decipher our test message with ciphertext `ADUEK FD` with `m = 7` and `a = 16`. We'll first need to determine the multiplicative inverse of $7$ in modulo $26$. You may recall from the section on Multiplicative Ciphers that the inverse of $7$ is $15$, which we can confirm because $7 \\cdot 15 = 105$ and $1 \\equiv 105 \\pmod{26}$.\n",
    "```\n",
    "ciphertext:    A     D     U     E     K     F     D\n",
    " numerical:    0     3    20     4    10     5     3\n",
    "       -16:  -16   -13     4   -12    -6   -11   -13\n",
    "       x15: -240  -195    60  -180   -90  -165  -195 \n",
    "    MOD 26:   20    13     8     2    14    17    13\n",
    " plaintext:    u     n     i     c     o     r     n\n",
    "```\n",
    "\n",
    "## Exercises for the Reader\n",
    "* Can you write Python code to encipher and decipher messages using the Affine Cipher?\n",
    "* How many unique ways could you encipher a message using an Affine Cipher? Asked another way, how many key pairings are there?"
   ]
  }
 ],
 "metadata": {
  "kernelspec": {
   "display_name": "Python 3",
   "language": "python",
   "name": "python3"
  },
  "language_info": {
   "codemirror_mode": {
    "name": "ipython",
    "version": 3
   },
   "file_extension": ".py",
   "mimetype": "text/x-python",
   "name": "python",
   "nbconvert_exporter": "python",
   "pygments_lexer": "ipython3",
   "version": "3.7.3"
  }
 },
 "nbformat": 4,
 "nbformat_minor": 4
}
