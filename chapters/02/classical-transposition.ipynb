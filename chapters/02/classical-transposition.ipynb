{
 "cells": [
  {
   "cell_type": "markdown",
   "metadata": {},
   "source": [
    "# Transposition Ciphers\n",
    "Let's take a look at a few transposition ciphers that are easy to perform by hand. While a few of these may seem trivial to do by hand, they are included so that later on when we start to use Python to implement these methods we have a few straight forward ciphers to ease you into it.\n",
    "\n",
    "Some things to keep in mind as we work through each cipher:\n",
    "* How easy are the methods to use?\n",
    "* How many possible keys are there for each method?\n",
    "* Are all the possible keys secure to use, or are some invalid, impractical, or reveal part of the message?"
   ]
  }
 ],
 "metadata": {
  "kernelspec": {
   "display_name": "Python 3",
   "language": "python",
   "name": "python3"
  },
  "language_info": {
   "codemirror_mode": {
    "name": "ipython",
    "version": 3
   },
   "file_extension": ".py",
   "mimetype": "text/x-python",
   "name": "python",
   "nbconvert_exporter": "python",
   "pygments_lexer": "ipython3",
   "version": "3.7.3"
  }
 },
 "nbformat": 4,
 "nbformat_minor": 4
}
