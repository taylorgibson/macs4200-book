{
 "cells": [
  {
   "cell_type": "markdown",
   "metadata": {},
   "source": [
    "# Reverse Cipher\n",
    "\n",
    "Let's start our work with the simplest transposition cipher, the reverse cipher. In this cipher, your plaintext is written in reverse order starting with the last character in the plaintext.\n",
    "\n",
    "```\n",
    "plaintext:  a rose by any other name would smell as sweet\n",
    "ciphertext: TEEWS SALLE MSDLU OWEMA NREHT OYNAY BESOR A\n",
    "```\n",
    "\n",
    "At first glance you may not recognize the message, but you could probably tell quickly by the double letters `EE` and `LL` that it was closely related to the English language. In fact, the ciphertext retains a lot of the properties of the plaintext that it was produced from.\n",
    "\n",
    "When using the Reverse Cipher, there is only 1 way to complete the transposition, so __there is only 1 key__ for enciphering and deciphering messages."
   ]
  }
 ],
 "metadata": {
  "kernelspec": {
   "display_name": "Python 3",
   "language": "python",
   "name": "python3"
  },
  "language_info": {
   "codemirror_mode": {
    "name": "ipython",
    "version": 3
   },
   "file_extension": ".py",
   "mimetype": "text/x-python",
   "name": "python",
   "nbconvert_exporter": "python",
   "pygments_lexer": "ipython3",
   "version": "3.7.3"
  }
 },
 "nbformat": 4,
 "nbformat_minor": 4
}
