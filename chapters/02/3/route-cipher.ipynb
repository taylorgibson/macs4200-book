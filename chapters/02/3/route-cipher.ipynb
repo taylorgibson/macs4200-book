{
 "cells": [
  {
   "cell_type": "markdown",
   "metadata": {},
   "source": [
    "# Route Cipher\n",
    "In a route cipher the plaintext is written into a rectangular grid of particular dimensions. The plaintext message is written starting in the top left corner and written down the first column until it is filled, then from the top of the second column until it is filled, and so on until the grid is filled. If the number of letters in the plaintext message is insufficient to fill the grid, you can use use junk symbols sometimes called __nulls__ to help fill the grid completely. Usually letters such as `Q` or `J` are used as nulls since they aren't frequently used and will clearly stand out from the actual message.\n",
    "\n",
    "For example: \n",
    "\n",
    "```\n",
    "plaintext: a rose by any other name would smell as sweet\n",
    "\n",
    "Grid:  A E N H A O S L W\n",
    "       R B Y E M U M A E\n",
    "       O Y O R E L E S E\n",
    "       S A T N W D L S T\n",
    "\n",
    "key: spiral inwards, clockwise, starting from the top right\n",
    "\n",
    "ciphertext: WEETS LDWNT ASORA ENHAO SLASE LEROY BYEMU M\n",
    "```\n",
    "\n",
    "__Route ciphers have many more keys than the railfence__, as it consists of the dimensions of the grid, starting point of the route, and then the path of the route itself, in theory making route ciphers more secure than railfence ciphers. However, poorly chosen routes can leave portions of your plaintext exposed in the ciphertext, so proper key selection is critical to maintain security of the message."
   ]
  }
 ],
 "metadata": {
  "kernelspec": {
   "display_name": "Python 3",
   "language": "python",
   "name": "python3"
  },
  "language_info": {
   "codemirror_mode": {
    "name": "ipython",
    "version": 3
   },
   "file_extension": ".py",
   "mimetype": "text/x-python",
   "name": "python",
   "nbconvert_exporter": "python",
   "pygments_lexer": "ipython3",
   "version": "3.7.3"
  }
 },
 "nbformat": 4,
 "nbformat_minor": 4
}