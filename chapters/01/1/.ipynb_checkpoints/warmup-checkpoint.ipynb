{
 "cells": [
  {
   "cell_type": "markdown",
   "metadata": {},
   "source": [
    "# Introduction to Cryptography\n",
    "\n",
    "Consider the following message: \n",
    "\n",
    "`FZW GBYW FA VSDUAJWB DWUBWFD SD VWWTEO SMYBQSMWV SM ZGNQM MQFGBW; WJWM FZW EWQDF UGBSAGD NSMV SD BAGDWV RO FZW TBANSDW AX DZQBSMY IMAKEWVYW KSFZZWEV XBAN AFZWBD. DANW QBW XABFGMQFW WMAGYZ FA XSMV Q CAR KZSUZ UAMDSDFD SM FZW DAEGFSAM AX NODFWBSWD, KZWFZWB SF RW FZW TZODSUSDF KZA FBQUID VAKM Q ZSFZWBFA GMIMAKM MGUEWQB TQBFSUEW AB FZW TAESUWNQM KZA VWFWUFD Q UBSNSMQE. RGF NADF AX GD QBW VBSJWM FA DGRESNQFW FZSD GBYW RO FZW DAEJSMY AX QBFSXSUSQE TGPPEWD VWJSDWV XAB AGB WMFWBFQSMNWMF. VWFWUFSJW DFABSWD AB UBADDKABV TGPPEWD UQFWB XAB FZW NQCABSFO; FZW DAEGFSAM AX DWUBWF UAVWD NQO RW FZW ZARRO AX FZW XWK.`\n",
    "\n",
    "`-CAZM UZQVKSUI`\n",
    "\n",
    "The contents of this message have been concealed with cryptography. To create this secret message, each letter from the original message has been replaced with a different letter. Use the structure of this message to make guesses about how the letters were swapped that will reveal the original message. Take notes as to what clues you were able to use to help decipher the message. \n",
    "\n",
    "---\n",
    "\n",
    "*Hints:*\n",
    "1. How might the lengths of words be helpful?\n",
    "2. Can you figure out which letters are supposed to represent vowels?\n",
    "3. How might punctuation provide clues about the original words?\n",
    "\n",
    "---"
   ]
  }
 ],
 "metadata": {
  "kernelspec": {
   "display_name": "Python 3 (ipykernel)",
   "language": "python",
   "name": "python3"
  },
  "language_info": {
   "codemirror_mode": {
    "name": "ipython",
    "version": 3
   },
   "file_extension": ".py",
   "mimetype": "text/x-python",
   "name": "python",
   "nbconvert_exporter": "python",
   "pygments_lexer": "ipython3",
   "version": "3.9.6"
  }
 },
 "nbformat": 4,
 "nbformat_minor": 4
}
