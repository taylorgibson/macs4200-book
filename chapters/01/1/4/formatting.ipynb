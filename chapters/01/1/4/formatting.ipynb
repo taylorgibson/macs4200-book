{
 "cells": [
  {
   "cell_type": "markdown",
   "metadata": {},
   "source": [
    "# Formatting Conventions\n",
    "\n",
    "Before studying any encryption methods,  it will be helpful to understand the formatting conventions that will be used in the course. Plaintext will be typed in `lowercase monospaced letters`,  ciphertext will be typed in `UPPERCASE MONOSPACED LETTERS`, and keys will be typed in *`UPPERCASE MONOSPACE ITALICS`*. \n",
    "\n",
    "| Text Type | Formatting  |\n",
    "|----------------------|-----------|\n",
    "| Plaintext  |`the urge to discover secrets`  |\n",
    "| Key | *3* |\n",
    "| Ciphertext     |  `WKH XUJH WR GLVFRYHU VHFUHWV`           |\n",
    "\n",
    "\n",
    "Monospaced fonts keep text spaced uniformly so characters on adjacent lines are aligned. Uniform spacing and text alignment are helpful when looking for patterns in ciphertext. Programming environments use monospaced fonts to keep your computer code tidy and make it easy to reference rows and character positions in the code. \n",
    "\n",
    "Some common Monospaced fonts on your computer are: Courier New, Source Code Pro, Monaco, and Menlo. \n",
    "\n",
    "---\n",
    "\n",
    "## Blocking Text\n",
    "You may have noticed in the opening activity that knowing the number of letters in each word was incredibly valuable when analyzing ciphertext. The sender of a message can improve the security of encrypted text by grouping letters into **blocks** of 5. The result is a ciphertext that removes information about the length of the words. **Blocking** text is standard practice for ciphers in this course. Notice that blocking text requires the recipient to correctly space out the message after decryption. Fortunately, it is fairly easy to identify words in plaintext and insert spaces as needed.\n",
    "\n",
    "**For Example:**\n",
    "\n",
    "\n",
    "| Text Type | Formatting  |\n",
    "|----------------------|-----------|\n",
    "| Plaintext  |`the urge to discover secrets`  |\n",
    "| Ciphertext     |  `WKH XUJH WR GLVFRYHU VHFUHWV`           |\n",
    "| Ciphertext (blocked)  |  `WKHXU JHWRG LVFRY HUVHF UHWV`       |\n",
    "| Deciphered Plaintext (blocked)        |`theur getod iscov ersec rets`     |\n",
    "\n"
   ]
  }
 ],
 "metadata": {
  "kernelspec": {
   "display_name": "Python 3 (ipykernel)",
   "language": "python",
   "name": "python3"
  },
  "language_info": {
   "codemirror_mode": {
    "name": "ipython",
    "version": 3
   },
   "file_extension": ".py",
   "mimetype": "text/x-python",
   "name": "python",
   "nbconvert_exporter": "python",
   "pygments_lexer": "ipython3",
   "version": "3.9.6"
  }
 },
 "nbformat": 4,
 "nbformat_minor": 4
}
