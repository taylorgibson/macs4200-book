{
 "cells": [
  {
   "cell_type": "markdown",
   "metadata": {},
   "source": [
    "# Intro to Cryptanalysis\n",
    "Throughout this course you'll discover and implement a variety of sophisticated methods to determine a plaintext from a given ciphertext. However, you're already equipped with years of knowledge about the English language that will be essential to your work.\n",
    "\n",
    "For example, you may have used some of the following patterns in the ciphertext to help you make guesses about the plaintext:\n",
    "* The fragement `FZW` appeared several times, making it a common 3-letter world.\n",
    "* The ciphertext letter `Q` appears as a 1-letter world, likely meaning the plaintext letter it corresponds to is `A` or `I`\n",
    "* The ciphertext letter `A` appears at the start of several 2-letter words, so the corresponding plaintext letter is likely a vowel"
   ]
  },
  {
   "cell_type": "markdown",
   "metadata": {},
   "source": [
    "After a few guesses, you likely saw complete or partial words starting to appear in your work. For example, if you guessed that the ciphertext letters `FZH` corresponded to the plaintext letters `the`, and those correspondances were the same throughout the message, you would have had the following partial plaintext."
   ]
  },
  {
   "cell_type": "markdown",
   "metadata": {},
   "source": [
    "`the GBYe tA VSDUAJeB DeUBetD SD VeeTEO SMYBQSMeV SM hGNQM MQtGBe; eJeM the EeQDt UGBSAGD NSMV SD BAGDeV RO the TBANSDe AX DhQBSMY IMAKEeVYe KSthheEV XBAN AtheBD. DANe QBe XABtGMQte eMAGYh tA XSMV Q CAR KhSUh UAMDSDtD SM the DAEGtSAM AX NODteBSeD, KhetheB St Re the ThODSUSDt KhA tBQUID VAKM Q hStheBtA GMIMAKM MGUEeQB TQBtSUEe AB the TAESUeNQM KhA VeteUtD Q UBSNSMQE. RGt NADt AX GD QBe VBSJeM tA DGRESNQte thSD GBYe RO the DAEJSMY AX QBtSXSUSQE TGPPEeD VeJSDeV XAB AGB eMteBtQSMNeMt. VeteUtSJe DtABSeD AB UBADDKABV TGPPEeD UQteB XAB the NQCABStO; the DAEGtSAM AX DeUBet UAVeD NQO Re the hARRO AX the XeK.`\n",
    "\n",
    "`-CAhM UhQVKSUI`"
   ]
  },
  {
   "cell_type": "markdown",
   "metadata": {},
   "source": [
    "Then you may notice the short 2-letter word: `tA` and guess that the ciphertext letter `A` corresponds to plaintext letter `o`, since there are very few 2-letter words that start with `t` and `to` seems more likely than the others."
   ]
  },
  {
   "cell_type": "markdown",
   "metadata": {},
   "source": [
    "`the GBYe to VSDUoJeB DeUBetD SD VeeTEO SMYBQSMeV SM hGNQM MQtGBe; eJeM the EeQDt UGBSoGD NSMV SD BoGDeV RO the TBoNSDe oX DhQBSMY IMoKEeVYe KSthheEV XBoN otheBD. DoNe QBe XoBtGMQte eMoGYh to XSMV Q CoR KhSUh UoMDSDtD SM the DoEGtSoM oX NODteBSeD, KhetheB St Re the ThODSUSDt Kho tBQUID VoKM Q hStheBto GMIMoKM MGUEeQB TQBtSUEe oB the ToESUeNQM Kho VeteUtD Q UBSNSMQE. RGt NoDt oX GD QBe VBSJeM to DGRESNQte thSD GBYe RO the DoEJSMY oX QBtSXSUSQE TGPPEeD VeJSDeV XoB oGB eMteBtQSMNeMt. VeteUtSJe DtoBSeD oB UBoDDKoBV TGPPEeD UQteB XoB the NQCoBStO; the DoEGtSoM oX DeUBet UoVeD NQO Re the hoRRO oX the XeK.`\n",
    "\n",
    "`-CohM UhQVKSUI`"
   ]
  },
  {
   "cell_type": "markdown",
   "metadata": {},
   "source": [
    "Perhaps at this point you decide to keep track of which ciphertext letters corresponded with each plaintext letter. You can use a table:\n",
    "\n",
    "```\n",
    " plaintext: a b c d e f g h i j k l m n o p q r s t u v w x y z \n",
    "ciphertext: - - - - W - - Z - - - - - - - - - - - F - - - - - -\n",
    "```"
   ]
  },
  {
   "cell_type": "markdown",
   "metadata": {},
   "source": [
    "Now maybe you guess that the last line is a signature since it's separated by a line and marked with a hyphen. It seems like the first name could be John, which would give you two more letters.\n",
    "\n",
    "```\n",
    " plaintext: a b c d e f g h i j k l m n o p q r s t u v w x y z \n",
    "ciphertext: - - - - W - - Z - C - - - M A - - - - F - - - - - -\n",
    "```"
   ]
  },
  {
   "cell_type": "markdown",
   "metadata": {},
   "source": [
    "`the GBYe to VSDUoJeB DeUBetD SD VeeTEO SnYBQSneV Sn hGNQn nQtGBe; eJen the EeQDt UGBSoGD NSnV SD BoGDeV RO the TBoNSDe oX DhQBSnY InoKEeVYe KSthheEV XBoN otheBD. DoNe QBe XoBtGnQte enoGYh to XSnV Q joR KhSUh UonDSDtD Sn the DoEGtSon oX NODteBSeD, KhetheB St Re the ThODSUSDt Kho tBQUID VoKn Q hStheBto GnInoKn nGUEeQB TQBtSUEe oB the ToESUeNQn Kho VeteUtD Q UBSNSnQE. RGt NoDt oX GD QBe VBSJen to DGRESNQte thSD GBYe RO the DoEJSnY oX QBtSXSUSQE TGPPEeD VeJSDeV XoB oGB enteBtQSnNent. VeteUtSJe DtoBSeD oB UBoDDKoBV TGPPEeD UQteB XoB the NQjoBStO; the DoEGtSon oX DeUBet UoVeD NQO Re the hoRRO oX the XeK.`\n",
    "\n",
    "`-john UhQVKSUI`"
   ]
  },
  {
   "cell_type": "markdown",
   "metadata": {},
   "source": [
    "You can see how the predictiblity of the English language, known word lengths, and even punctuation gives away a great deal of information about the plaintext. A few more trial and errors would eventually reveal the full mapping from plaintext to ciphertext letters:\n",
    "\n",
    "```\n",
    " plaintext: a b c d e f g h i j k l m n o p q r s t u v w x y z \n",
    "ciphertext: Q R U V W X Y Z S C I E N M A T H B D F G J K L O P\n",
    "```"
   ]
  },
  {
   "cell_type": "markdown",
   "metadata": {},
   "source": [
    "This type of method that creates a ciphertext a single letter at a time is called **_enciphering_** a message. The method is often called a **_cipher_**. To reverse the process you can **_decipher_** a message, undoing the process from ciphertext alphabet to the plaintext alphabet. This particular cipher, where a single plaintext letter is mapped to the same ciphertext letter throughout the entire message is called a **_substitution cipher_**. We'll see there are many ways to determine which plaintext letter gets mapped to which ciphertext letter."
   ]
  }
 ],
 "metadata": {
  "kernelspec": {
   "display_name": "Python 3",
   "language": "python",
   "name": "python3"
  },
  "language_info": {
   "codemirror_mode": {
    "name": "ipython",
    "version": 3
   },
   "file_extension": ".py",
   "mimetype": "text/x-python",
   "name": "python",
   "nbconvert_exporter": "python",
   "pygments_lexer": "ipython3",
   "version": "3.7.3"
  }
 },
 "nbformat": 4,
 "nbformat_minor": 4
}