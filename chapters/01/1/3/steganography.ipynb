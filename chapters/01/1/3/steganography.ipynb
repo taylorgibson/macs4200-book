{
 "cells": [
  {
   "cell_type": "markdown",
   "metadata": {},
   "source": [
    "# Steganography\n",
    "**_Steganography_** is the practice of hiding a message so it is unnoticeable to a potential eavesdropper. Some common practices used over the years have included: hiding a message behind the wax portion of a writing tablet (Ancient Greece), writing your message behind a postage stamp before mailing, and using invisible inks. The benefit of steganography is that an enemy eavesdropper does not know that a message is being sent, and therefore can not intercept and read it.\n",
    "\n",
    "This course focuses on Cryptography and Cryptanalysis. You'll learn about encryption methods through the ages which will build in complexity as these systems evolved over time. You'll learn the mathematics behind each encryption scheme, implement them using  using traditional methods, such as paper and pencil and then use a computer to help automate the processes of encryption, decryption, and cryptanalysis in the programming language of Python."
   ]
  }
 ],
 "metadata": {
  "kernelspec": {
   "display_name": "Python 3",
   "language": "python",
   "name": "python3"
  },
  "language_info": {
   "codemirror_mode": {
    "name": "ipython",
    "version": 3
   },
   "file_extension": ".py",
   "mimetype": "text/x-python",
   "name": "python",
   "nbconvert_exporter": "python",
   "pygments_lexer": "ipython3",
   "version": "3.7.3"
  }
 },
 "nbformat": 4,
 "nbformat_minor": 4
}