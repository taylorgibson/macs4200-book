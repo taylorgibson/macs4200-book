{
 "cells": [
  {
   "cell_type": "markdown",
   "metadata": {},
   "source": [
    "# Steganography\n",
    "**_Steganography_** is the practice of hiding a message so it is unnoticeable to a potential eavesdropper. Some common practices used over the years have included: \n",
    "* hiding a message behind the wax portion of a writing tablet (Ancient Greece)\n",
    "* writing your message behind a postage stamp before mailing\n",
    "* using invisible inks. \n",
    "\n",
    "The benefit of steganography is that an enemy eavesdropper does not know that a message is being sent, and therefore can not intercept and read it. This course focuses on cryptography and cryptanalysis, not steganography."
   ]
  }
 ],
 "metadata": {
  "kernelspec": {
   "display_name": "Python 3 (ipykernel)",
   "language": "python",
   "name": "python3"
  },
  "language_info": {
   "codemirror_mode": {
    "name": "ipython",
    "version": 3
   },
   "file_extension": ".py",
   "mimetype": "text/x-python",
   "name": "python",
   "nbconvert_exporter": "python",
   "pygments_lexer": "ipython3",
   "version": "3.9.6"
  }
 },
 "nbformat": 4,
 "nbformat_minor": 4
}
