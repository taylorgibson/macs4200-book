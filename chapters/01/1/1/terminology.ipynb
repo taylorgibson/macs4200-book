{
 "cells": [
  {
   "cell_type": "markdown",
   "metadata": {},
   "source": [
    "# Terminology for Making and Breaking Codes\n",
    "\n",
    "We'll soon see that having a common language for describing our operations and techinques will be very advantageous."
   ]
  },
  {
   "cell_type": "markdown",
   "metadata": {},
   "source": [
    "In the previous activity, the secret message we started with is referred to as **_ciphertext_**:"
   ]
  },
  {
   "cell_type": "markdown",
   "metadata": {},
   "source": [
    "`FZW GBYW FA VSDUAJWB DWUBWFD SD VWWTEO SMYBQSMWV SM ZGNQM MQFGBW; WJWM FZW EWQDF UGBSAGD NSMV SD BAGDWV RO FZW TBANSDW AX DZQBSMY IMAKEWVYW KSFZZWEV XBAN AFZWBD. DANW QBW XABFGMQFW WMAGYZ FA XSMV Q CAR KZSUZ UAMDSDFD SM FZW DAEGFSAM AX NODFWBSWD, KZWFZWB SF RW FZW TZODSUSDF KZA FBQUID VAKM Q ZSFZWBFA GMIMAKM MGUEWQB TQBFSUEW AB FZW TAESUWNQM KZA VWFWUFD Q UBSNSMQE. RGF NADF AX GD QBW VBSJWM FA DGRESNQFW FZSD GBYW RO FZW DAEJSMY AX QBFSXSUSQE TGPPEWD VWJSDWV XAB AGB WMFWBFQSMNWMF. VWFWUFSJW DFABSWD AB UBADDKABV TGPPEWD UQFWB XAB FZW NQCABSFO; FZW DAEGFSAM AX DWUBWF UAVWD NQO RW FZW ZARRO AX FZW XWK.`\n",
    "\n",
    "`-CAZM UZQVKSUI`"
   ]
  },
  {
   "cell_type": "markdown",
   "metadata": {},
   "source": [
    "and the original message is refferred to as **_plaintext_**:"
   ]
  },
  {
   "cell_type": "markdown",
   "metadata": {},
   "source": [
    "`The urge to discover secrets is deeply ingrained in human nature; even the least curious mind is roused by the promise of sharing knowledge withheld from others. Some are fortunate enough to find a job which consists in the solution of mysteries, whether it be the physicist who tracks down a hitherto unknown nuclear particle or the policeman who detects a criminal. But most of us are driven to sublimate this urge by the solving of artificial puzzles devised for our entertainment. Detective stories or crossword puzzles cater for the majority; the solution of secret codes may be the hobby of the few.`\n",
    "\n",
    "`-John Chadwick`"
   ]
  },
  {
   "cell_type": "markdown",
   "metadata": {},
   "source": [
    "**_Cryptography_** is the writing and deciphering of messages using secret codes and ciphers. The purpose of cryptography is not to hide the existence of a message, but rather disguise the meaning of the message. A process known as encryption scrambles the plaintext using a particular method, or **_algorithm_** and **_key_**, that both the sender and receiver agree upon before transmission. A key is a unique piece of information (usually a number or word) that the encryption method uses to scramble the message in a unique way. The benefit of cryptography is that even if an enemy eavesdropper were to intercept an encrypted message, without knowledge of the encryption method and key, they will find it difficult or impossible to recreate the original plaintext message.\n",
    "\n",
    "The process that you went through to obtain the plaintext from the ciphertext without any initial idea on the algorithm or key used to generate the ciphertext is called **_cryptanalysis_**, or more commonly known as codebreaking. This process usually involves some trial and error, pattern recognition, and statistical analysis of the ciphertext to make educated guesses about how it was created."
   ]
  }
 ],
 "metadata": {
  "kernelspec": {
   "display_name": "Python 3",
   "language": "python",
   "name": "python3"
  },
  "language_info": {
   "codemirror_mode": {
    "name": "ipython",
    "version": 3
   },
   "file_extension": ".py",
   "mimetype": "text/x-python",
   "name": "python",
   "nbconvert_exporter": "python",
   "pygments_lexer": "ipython3",
   "version": "3.7.3"
  }
 },
 "nbformat": 4,
 "nbformat_minor": 4
}