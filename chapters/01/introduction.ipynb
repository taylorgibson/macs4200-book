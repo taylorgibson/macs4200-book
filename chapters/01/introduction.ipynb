{
 "cells": [
  {
   "cell_type": "markdown",
   "metadata": {},
   "source": [
    "# What is Cryptography?\n",
    "\n",
    "Simply put, cryptography involves the mathematics of secrecy. Stemming from the two Greek words: **_kryptos_**, meaning secret, and **_grapho_**, meaning to write. Cryptography began with the need for people to send and receive messages securely, without the ability for a third party to read their communications. Many people come to learn about cryptography through military usage, as these stories make for dramatic examples. While the urgency of military operations certainly advanced the mathematics and technology used in cryptography, these situations are only a portion of the story. Modern communications such as text messaging, online retail, and electronic currency also play an essential role. \n",
    "\n",
    "The mathematics of cryptography will allow you to:\n",
    "* hide your sensitive information\n",
    "* verify that it has been transmitted correctly\n",
    "* verify the identify of the sender\n",
    "\n",
    "This online resource will introduce you to the mathematics and programming skills needed to explore these topics and implement many of the cryptographic methods discussed. "
   ]
  },
  {
   "cell_type": "markdown",
   "metadata": {},
   "source": [
    "**Who is this resource for?**\n",
    "You should have a basic understanding of algebra and statistics, or be willing to learn some when needed. \n",
    "\n",
    "**What mathematics will you learn?**\n",
    "\n",
    "Throughout the course you'll learn:\n",
    "* elementary number theory\n",
    "* statistical methods\n",
    "* linear algebra\n",
    "\n",
    "This resource will not go through the rigorous mathematical proofs of the methods covered. Instead, theorems will be presented with examples to highlight their use. You will learn the exploratory processes that led to the theorem's results. \n",
    "\n",
    "**What programming concepts will you learn?**\n",
    "You will learn to use the Python programming language to:\n",
    "* write documented code that is easy to read\n",
    "* perform operations with different types of data\n",
    "* solve problems iteratively using loops\n",
    "* compute large values using specialized functions\n",
    "\n",
    "These concepts will unlock the power of your computer to encrypt and decrypt multiple forms of data."
   ]
  }
 ],
 "metadata": {
  "kernelspec": {
   "display_name": "Python 3 (ipykernel)",
   "language": "python",
   "name": "python3"
  },
  "language_info": {
   "codemirror_mode": {
    "name": "ipython",
    "version": 3
   },
   "file_extension": ".py",
   "mimetype": "text/x-python",
   "name": "python",
   "nbconvert_exporter": "python",
   "pygments_lexer": "ipython3",
   "version": "3.9.6"
  }
 },
 "nbformat": 4,
 "nbformat_minor": 4
}
