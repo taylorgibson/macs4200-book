{
 "cells": [
  {
   "cell_type": "markdown",
   "metadata": {},
   "source": [
    "# What is Cryptography?\n",
    "\n",
    "Simply put, cryptography involves the mathematics of secrecy. Stemming from the two Greek words: **_kryptos_**, meaning secret, and **_grapho_**, meaning to write. Cryptography began with the need for people to send and receive messages securely, without the ability for a third party to read their communications. While many people come to learn about cryptography through military usage, as these stories make for dramatic examples and the urgency of military operations certainly advanced the mathematics and technology used in cryptography, these situations are only a portion of the story. In modern communications such as text messaging, online retail, and electronic currency cryptography plays an essential role. The mathematics of cryptography will allow you to hide your sensitive information, verify that it has been transmitted correctly, and ensure that the sender of the message is actually who they claim to be."
   ]
  },
  {
   "cell_type": "markdown",
   "metadata": {},
   "source": [
    "This online resource will introduce you to the mathematics and programming skills needed to explore these topics and implement many of the cryptographic methods discussed. To begin your studies you should have a basic understanding of algebra and statistics. Along the way you'll learn some elementary number theory, statistical methods, and linear algebra. This resource will not go through the rigorous mathematical proofs of the mathematics that will be used, but rather demonstrate that theorems are true and emphasize the thought processes that led to their results. In your study of the Python programming language you'll learn about various data types, iteration methods, functions, and methods that will be useful to unlock the power of your computer to implement the cryptography techniques you'll be learning."
   ]
  }
 ],
 "metadata": {
  "kernelspec": {
   "display_name": "Python 3",
   "language": "python",
   "name": "python3"
  },
  "language_info": {
   "codemirror_mode": {
    "name": "ipython",
    "version": 3
   },
   "file_extension": ".py",
   "mimetype": "text/x-python",
   "name": "python",
   "nbconvert_exporter": "python",
   "pygments_lexer": "ipython3",
   "version": "3.9.5"
  }
 },
 "nbformat": 4,
 "nbformat_minor": 4
}
