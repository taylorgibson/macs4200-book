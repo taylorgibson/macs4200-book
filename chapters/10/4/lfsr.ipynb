{
 "cells": [
  {
   "cell_type": "markdown",
   "metadata": {},
   "source": [
    "# Linear Feedback Shift Register (LFSR) Stream Ciphers\n",
    "\n",
    "A linear feedback shift register (LFSR) is a type of digital circuit that has several storage areas, each of which can hold 1 bit, connected in a chain. The output of each storage area is connected to the input of the next storage area in the chain, resulting in a circuit that shifts the data stored in it one place to the right each time the circuit is run. The way the storage areas are connected varies from circuit to circuit, and each configuration will change the pattern in which the bits move from one storage area to the next.\n",
    "\n",
    "LFSRs have many important uses in digital communication, not just in cryptography. They are used in TV broadcast signals, data transfer via USB cable, and GPS navigation. LFSR circuits are still used to encrypt GSM cell phone signals, despite having serious security issues.\n",
    "\n",
    "To learn more about how LFSR's work, watch the 10-minute video below."
   ]
  },
  {
   "cell_type": "code",
   "execution_count": 3,
   "metadata": {
    "tags": [
     "remove_input",
     "full_width"
    ]
   },
   "outputs": [
    {
     "data": {
      "text/html": [
       "\n",
       "        <iframe\n",
       "            width=\"640\"\n",
       "            height=\"360\"\n",
       "            src=\"https://www.youtube.com/embed/Y0DlCM4iKeA?rel=0&amp;showinfo=0\"\n",
       "            frameborder=\"0\"\n",
       "            allowfullscreen\n",
       "        ></iframe>\n",
       "        "
      ],
      "text/plain": [
       "<IPython.lib.display.IFrame at 0x1e69950c780>"
      ]
     },
     "execution_count": 3,
     "metadata": {},
     "output_type": "execute_result"
    }
   ],
   "source": [
    "from IPython.display import IFrame\n",
    "IFrame(\"https://www.youtube.com/embed/Y0DlCM4iKeA?rel=0&amp;showinfo=0\", width=640, height=360)"
   ]
  },
  {
   "cell_type": "markdown",
   "metadata": {},
   "source": [
    "In this course, we will not use actual circuits to generate the pseudo-random keystream of bits, but first generate them by hand using the system described in the video, and later with Python code."
   ]
  },
  {
   "cell_type": "markdown",
   "metadata": {},
   "source": [
    "# LFSR Stream Cipher\n",
    "\n",
    "Let's encrypt the message `C3P` (shortened from `C3P0`) using a 4-bit LFSR with seed `0110` and definition: $b_4 \\leftarrow b_1' + b_2' + b_4'$\n",
    "\n",
    "The first step is to convert the ASCII string to binary:\n",
    "\n",
    "```\n",
    "\n",
    " ASCII plaintext: C3P\n",
    "binary plaintext: 01000011 00110011 01010000\n",
    "\n",
    "```\n",
    "\n",
    "Next, compute the output stream of the LFSR so there are as many bits as needed for the message. In this case, 24.\n",
    "\n",
    "| $b_4$ | $b_3$ | $b_2$ | $b_1$ |\n",
    "|-------|-------|-------|-------|\n",
    "|`0`|`1`|`1`|`0`|\n",
    "|`1`|`0`|`1`|`1`|\n",
    "|`1`|`1`|`0`|`1`|\n",
    "|`0`|`1`|`1`|`0`|\n",
    "|`1`|`0`|`1`|`1`|\n",
    "|`1`|`1`|`0`|`1`|\n",
    "|`0`|`1`|`1`|`0`|\n",
    "|`1`|`0`|`1`|`1`|\n",
    "|`1`|`1`|`0`|`1`|\n",
    "|`0`|`1`|`1`|`0`|\n",
    "|`1`|`0`|`1`|`1`|\n",
    "|`1`|`1`|`0`|`1`|\n",
    "|`0`|`1`|`1`|`0`|\n",
    "|`1`|`0`|`1`|`1`|\n",
    "|`1`|`1`|`0`|`1`|\n",
    "|`0`|`1`|`1`|`0`|\n",
    "|`1`|`0`|`1`|`1`|\n",
    "|`1`|`1`|`0`|`1`|\n",
    "|`0`|`1`|`1`|`0`|\n",
    "|`1`|`0`|`1`|`1`|\n",
    "|`1`|`1`|`0`|`1`|\n",
    "|`0`|`1`|`1`|`0`|\n",
    "|`1`|`0`|`1`|`1`|\n",
    "|`1`|`1`|`0`|`1`|\n",
    "\n",
    "Looking at the right-most column, you obtain the bitstream:\n",
    "\n",
    "`01101101 10110110 11011011`\n",
    "\n",
    "Performing the XOR Cipher on these keystreams:\n",
    "\n",
    "$$\n",
    "\\begin{array}{r}\n",
    "               \\texttt{01000011 00110011 01010000} \\\\ \n",
    "\\oplus\\text{ } \\texttt{01101101 10110110 11011011} \\\\ \n",
    "               \\hline \n",
    "               \\texttt{00101110 10000101 10001011}\n",
    "\\end{array}\n",
    "$$\n",
    "\n",
    "\n",
    "Which when converted to Base64 yields `LoWL`\n",
    "\n",
    "To decipher a LFSR Stream cipher, you need to perform a bitwise subtraction of the keystream fromt he ciphertext binary stream. Fortunately, bitwise subtraction is identical to bitwise addition, so you simply use the XOR operation again.\n",
    "\n",
    "```\n",
    "Base64 ciphertext: LoWL\n",
    "binary ciphertext: 001011 101000 010110 001011\n",
    "```\n",
    "\n",
    "Using the same binary keystream: `011011 011011 011011 011011`\n",
    "\n",
    "$$\n",
    "\\begin{array}{r}\n",
    "               \\texttt{001011 101000 010110 001011} \\\\ \n",
    "\\oplus\\text{ } \\texttt{011011 011011 011011 011011} \\\\ \n",
    "               \\hline \n",
    "               \\texttt{010000 110011 001101 010000}\n",
    "\\end{array}\n",
    "$$\n",
    "\n",
    "Which converts back to the ASCII plaintext: `C3P`"
   ]
  },
  {
   "cell_type": "markdown",
   "metadata": {},
   "source": [
    "## Maximizing Period of Repeating Streams\n",
    "\n",
    "You may have noticed that in the previous example, the number of bits and the rules associated with those bits resulted in a less than ideal sequence of bits. In fact, the sequence generated was no better than a Caesar cipher, since bit $b_1$ left the pattern `011` repeating over and over, resulting in the values `011011` aligned over each character.\n",
    "\n",
    "When using a LFSR Stream to encipher a message, you should try a few rule configurations to make sure that the bitstream isn't too predictable. As a general rule, if your LFSR system uses $n$ bits, there is a rule system that will result in the bitstream not repeating itself for $2^n - 1$ bits. You wouldn't want to always use the same rule, because that would be too predictable for an eavesdropper to guess, but you should attempt to ensure that the bitstream does not repeat itself during the string used for enciphering the message.\n",
    "\n",
    "The table below shows a selection of rules for different size LFSR systems that result in a maximum period, which is the number of bits before the pattern repeats.\n",
    "\n",
    "| Bits ($n$) | Definition | Period $$ ( 2^n-1 ) $$ |\n",
    "|:----------:|:----------:|:----------------------:|\n",
    "|2| $$b_2 \\leftarrow b_1' + b_2'$$ | 3 |\n",
    "|3| $$b_3 \\leftarrow b_1' + b_2'$$ | 7 |\n",
    "|4| $$b_4 \\leftarrow b_1' + b_2'$$ | 15 |\n",
    "|5| $$b_5 \\leftarrow b_1' + b_3'$$ | 31 |\n",
    "|6| $$b_6 \\leftarrow b_1' + b_2'$$ | 63 |\n",
    "|7| $$b_7 \\leftarrow b_1' + b_2'$$ | 127 |\n",
    "|8| $$b_8 \\leftarrow b_1' + b_3' + b_4' + b_5'$$ | 255 |"
   ]
  }
 ],
 "metadata": {
  "kernelspec": {
   "display_name": "Python 3",
   "language": "python",
   "name": "python3"
  },
  "language_info": {
   "codemirror_mode": {
    "name": "ipython",
    "version": 3
   },
   "file_extension": ".py",
   "mimetype": "text/x-python",
   "name": "python",
   "nbconvert_exporter": "python",
   "pygments_lexer": "ipython3",
   "version": "3.7.3"
  }
 },
 "nbformat": 4,
 "nbformat_minor": 4
}
