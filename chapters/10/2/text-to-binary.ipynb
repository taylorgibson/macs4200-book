{
 "cells": [
  {
   "cell_type": "markdown",
   "metadata": {},
   "source": [
    "# Converting Text to Binary\n",
    "\n",
    "In order to encipher text-based messages using binary numbers, you'll need to use a standard convention to represent letters as numbers. Up until now, the numerical representation of letters has always used decimal numbers. Sticking with the same numerical values, only written as binary numbers would yield the following table.\n",
    "\n",
    "|Character|Decimal|Binary|     |Character|Decimal|Binary|\n",
    "|---------|-------|------|-----|---------|-------|------|\n",
    "| `A` | `0` | `00000` | |  `N` | `13` | `01101` |\n",
    "| `B` | `1` | `00001` | |  `O` | `14` | `01110` |\n",
    "| `C` | `2` | `00010` | |  `P` | `15` | `01111` |\n",
    "| `D` | `3` | `00011` | |  `Q` | `16` | `10000` |\n",
    "| `E` | `4` | `00100` | |  `R` | `17` | `10001` |\n",
    "| `F` | `5` | `00101` | |  `S` | `18` | `10010` |\n",
    "| `G` | `6` | `00110` | |  `T` | `19` | `10011` |\n",
    "| `H` | `7` | `00111` | |  `U` | `20` | `10100` |\n",
    "| `I` | `8` | `01000` | |  `V` | `21` | `10101` |\n",
    "| `J` | `9` | `01001` | |  `W` | `22` | `10110` |\n",
    "| `K` | `10` | `01010` | |  `X` | `23` | `10111` |\n",
    "| `L` | `11` | `01011` | |  `Y` | `24` | `11000` |\n",
    "| `M` | `12` | `01100` | |  `Z` | `25` | `11001` |\n",
    "\n",
    "Each of the 26 upper case letters can be represented by a 5-bit number. There are a few unused 5-bit numbers (26-31) that we can decide to use for other characters if we wish. One example could be to include some punctuation.\n",
    "\n",
    "|Character|Decimal|Binary|\n",
    "|---------|-------|------|\n",
    "| `.` | `26` | `11010` | \n",
    "| `!` | `27` | `11011` | \n",
    "| `?` | `28` | `11100` |\n",
    "|  `(` | `29` | `11101` |\n",
    "|  `)` | `30` | `11110` |\n",
    "|  `-` | `31` | `11111` |\n",
    "\n",
    "Note that these choices are arbitrary. Someone else may choose to use these remaining 5-bit numbers in a completely different way. There are several standard text to decimal and decimal to text standards that exist. We'll explore a few in the following sections."
   ]
  },
  {
   "cell_type": "markdown",
   "metadata": {},
   "source": [
    "## ASCII\n",
    "The American Standard Code for Information Interchange (ASCII) was one of the first widely used standards for representing text in computers as binary numbers, dating back to the 1960s. The 7-bit binary codes allow for 128 different characters which were originally used for controlling printers via telegraph. As a result, The first 32 characters (0-31 in decimal) are not printable characters, but rather what are known as __control characters__ that determined how printer should operate. For example, character 10 represents the \"line feed\" function which causes a printer to advance its paper, character 11 represents \"horizontal tab\", and character 8 represents \"backspace\".\n",
    "\n",
    "An old ASCII, or USASCII as it was sometimes called, code chart is found below.\n",
    "\n",
    "![ASCII Chart](https://upload.wikimedia.org/wikipedia/commons/c/cf/USASCII_code_chart.png)\n",
    "\n",
    "The column would determine the left-most 3 digits of the character, while the row would determine the right-most 4 digits of the character. For example, `A` would be `1000001` and `t` would be `1110100`."
   ]
  },
  {
   "cell_type": "markdown",
   "metadata": {},
   "source": [
    "## Unicode\n",
    "As computers evolved and eventually overtook the telegraph for everyday communications, 8-bit representations became preferred. 8-bit numbers worked well with the newer 8, 16, 32, and now 64 bit processors found in computers. The 1 additional bit of data allowed for 128 additional character choices. As a result, ASCII evolved into many different variations that retained the original 128 characters, with very different options for the new 128 characters. Some variations were regional ( ISCII in India), VISCII in Vietnam ), others were for creating new characters that could be used to draw computer graphics. It wasn't until the early 1990s that an 8-bit standard was widely adopted, Universal Coded Character Set (__Unicode__) Transformation Format, also known as __UTF-8__. As of September 2019, solely UTF-8 characters are used on 94.0% of all web pages in the world.\n",
    "\n",
    "One benefit of UTF-8 is that you can use multiple 8-bit codes together to generate even more characters. In fact, emojis can be represented with Unicode characters. The *Smiling Face with Sunglasses Emoji* 😎 is represented as `11110000 10011111 10011000 10001110`.\n",
    "\n",
    "While incredibly powerful and customizable, Unicode is more complicated than we need to illustrate how binary operations can encrypt text based messages."
   ]
  },
  {
   "cell_type": "markdown",
   "metadata": {},
   "source": [
    "## Base64\n",
    "While ASCII and Unicode are impressive for the amount of different characters they can represent with 8-bits, in this course we'll focus on using smaller, 6-bit numbers to keep examples easier to understand. Fortunately, there's a standard for what might be considered the essential printable characters. It consists of the 26 uppercase letters, the 26 lowercase letters, the 10 numerals, and the `+` and `/` symbols. This set of 64 characters is known as __Base64__ and is widely used when sending and receiving information over the internet. Base64's primary use is to convert binary information into text so it can be sent through many established text-based communications channels such email and HTML. When received, the text is turned back into binary where it might represent an image file, audio file, or any other file that can be read by a computer. \n",
    "\n",
    "We'll go against the norm, and use the Base64 table below to convert text to binary for use in our ciphers for the remainder of this chapter.\n",
    "\n",
    "|Index|Binary|Char|   |Index|Binary|Char|   |Index|Binary|Char|\n",
    "|-----|------|----|---|-----|------|----|---|-----|------|----|\n",
    "|`0`|`000000`|`A`| |`23`|`010111`|`X`||`46`|`101110`|`u`|\n",
    "|`1`|`000001`|`B`| |`24`|`011000`|`Y`||`47`|`101111`|`v`|\n",
    "|`2`|`000010`|`C`| |`25`|`011001`|`Z`||`48`|`110000`|`w`|\n",
    "|`3`|`000011`|`D`| |`26`|`011010`|`a`||`49`|`110001`|`x`|\n",
    "|`4`|`000100`|`E`| |`27`|`011011`|`b`||`50`|`110010`|`y`|\n",
    "|`5`|`000101`|`F`| |`28`|`011100`|`c`||`51`|`110011`|`z`|\n",
    "|`6`|`000110`|`G`| |`29`|`011101`|`d`||`52`|`110100`|`0`|\n",
    "|`7`|`000111`|`H`| |`30`|`011110`|`e`||`53`|`110101`|`1`|\n",
    "|`8`|`001000`|`I`| |`31`|`011111`|`f`||`54`|`110110`|`2`|\n",
    "|`9`|`001001`|`J`| |`32`|`100000`|`g`||`55`|`110111`|`3`|\n",
    "|`10`|`001010`|`K`||`33`|`100001`|`h`||`56`|`111000`|`4`|\n",
    "|`11`|`001011`|`L`||`34`|`100010`|`i`||`57`|`111001`|`5`|\n",
    "|`12`|`001100`|`M`||`35`|`100011`|`j`||`58`|`111010`|`6`|\n",
    "|`13`|`001101`|`N`||`36`|`100100`|`k`||`59`|`111011`|`7`|\n",
    "|`14`|`001110`|`O`||`37`|`100101`|`l`||`60`|`111100`|`8`|\n",
    "|`15`|`001111`|`P`||`38`|`100110`|`m`||`61`|`111101`|`9`|\n",
    "|`16`|`010000`|`Q`||`39`|`100111`|`n`||`62`|`111110`|`+`|\n",
    "|`17`|`010001`|`R`||`40`|`101000`|`o`||`63`|`111111`|`/`|\n",
    "|`18`|`010010`|`S`||`41`|`101001`|`p`|||||\n",
    "|`19`|`010011`|`T`||`42`|`101010`|`q`|||||\n",
    "|`20`|`010100`|`U`||`43`|`101011`|`r`|||||\n",
    "|`21`|`010101`|`V`||`44`|`101100`|`s`|||||\n",
    "|`22`|`010110`|`W`||`45`|`101101`|`t`|||||\n",
    "\n",
    "While we'll be working with 6-bit numbers in Base64, the methods described in the remainder of the chapter would still work with numbers represented with more or less than 6-bits."
   ]
  },
  {
   "cell_type": "markdown",
   "metadata": {},
   "source": [
    "## Using Python to Convert Between Base64 and Binary\n",
    "\n",
    "Python has a built-in `binary` data type that can store binary data. However, it requires a careful understanding of the syntax and operations that pertain to `binary`, far beyond the scope of this course. As such, instead of using the `binary` data type in Python, this course will store binary information as strings of 1's and 0's. To facilitate quick conversions between Base64 characters and 6-bit binary, use the following functions.\n",
    "\n",
    "### `charToBinary()`\n",
    "\n",
    "This function takes in a __single__ base64 character and returns the corresponding 6-bit binary representation as a string.\n",
    "\n",
    "__Notes:__\n",
    "* If a string with more than 1 character is input to the function, it will only convert the first character.\n",
    "* If a non base64 character is input to the function, it will return an empty string.\n",
    "* The output will always be a 6-bit binary number, even if fewer bits are needed to represent the character."
   ]
  },
  {
   "cell_type": "code",
   "execution_count": 1,
   "metadata": {},
   "outputs": [],
   "source": [
    "def charToBinary(char):\n",
    "    if len(char)>1:\n",
    "        char = char[0]\n",
    "    if char in 'ABCDEFGHIJKLMNOPQRSTUVWXYZ':\n",
    "        return '{:06b}'.format( ord(char) - 65 )\n",
    "    elif char in 'abcdefghijklmnopqrstuvwxyz':\n",
    "        return '{:06b}'.format( ord(char) - 71 )\n",
    "    elif char in '0123456789':\n",
    "        return '{:06b}'.format( ord(char) + 4 )\n",
    "    elif char == '+':\n",
    "        return '{:06b}'.format( 62 )\n",
    "    elif char == '/':\n",
    "        return '{:06b}'.format( 63 )\n",
    "    else:\n",
    "        return ''"
   ]
  },
  {
   "cell_type": "code",
   "execution_count": 2,
   "metadata": {},
   "outputs": [
    {
     "name": "stdout",
     "output_type": "stream",
     "text": [
      "000000\n"
     ]
    }
   ],
   "source": [
    "print( charToBinary('A') )"
   ]
  },
  {
   "cell_type": "code",
   "execution_count": 3,
   "metadata": {},
   "outputs": [
    {
     "name": "stdout",
     "output_type": "stream",
     "text": [
      "110011\n"
     ]
    }
   ],
   "source": [
    "print( charToBinary('z') )"
   ]
  },
  {
   "cell_type": "code",
   "execution_count": 4,
   "metadata": {},
   "outputs": [
    {
     "name": "stdout",
     "output_type": "stream",
     "text": [
      "111110\n"
     ]
    }
   ],
   "source": [
    "print( charToBinary('+') )"
   ]
  },
  {
   "cell_type": "code",
   "execution_count": 5,
   "metadata": {},
   "outputs": [
    {
     "name": "stdout",
     "output_type": "stream",
     "text": [
      "110011\n"
     ]
    }
   ],
   "source": [
    "print( charToBinary('zebra') )"
   ]
  },
  {
   "cell_type": "code",
   "execution_count": 6,
   "metadata": {},
   "outputs": [
    {
     "name": "stdout",
     "output_type": "stream",
     "text": [
      "\n"
     ]
    }
   ],
   "source": [
    "print( charToBinary('?') )"
   ]
  },
  {
   "cell_type": "markdown",
   "metadata": {},
   "source": [
    "### `binaryToChar()`\n",
    "\n",
    "This function takes in a string containing the 6-bit binary number and returns the corresponding base64 character representation as a string.\n",
    "\n",
    "__Notes__:\n",
    "* The function will strip any spaces in the input string.\n",
    "* If the input string contains less than 6 bits, the function will pad the input out to 6-bits by using 0's.\n",
    "* If the input string contains more than 6 bits, the function will return an empty string.\n",
    "* The output will always be a single base64 character."
   ]
  },
  {
   "cell_type": "code",
   "execution_count": 7,
   "metadata": {},
   "outputs": [],
   "source": [
    "def binaryToChar(binary):\n",
    "    binary = binary.replace(' ','')\n",
    "    if len(binary) < 6:\n",
    "        binary = binary.zfill(6)\n",
    "    if len(binary) > 6:\n",
    "        return ''\n",
    "    num = int(binary,2)\n",
    "    if (num >= 0) and (num <= 25):\n",
    "        return chr(num + 65)\n",
    "    elif (num >= 26) and (num <= 51):\n",
    "        return chr(num + 71)\n",
    "    elif (num >= 52) and (num <= 61):\n",
    "        return chr(num - 4)\n",
    "    elif num == 62:\n",
    "        return '+'\n",
    "    elif num == 63:\n",
    "        return '/'\n",
    "    else:\n",
    "        return ''"
   ]
  },
  {
   "cell_type": "code",
   "execution_count": 8,
   "metadata": {},
   "outputs": [
    {
     "name": "stdout",
     "output_type": "stream",
     "text": [
      "F\n"
     ]
    }
   ],
   "source": [
    "print( binaryToChar('000101') )"
   ]
  },
  {
   "cell_type": "code",
   "execution_count": 9,
   "metadata": {},
   "outputs": [
    {
     "name": "stdout",
     "output_type": "stream",
     "text": [
      "F\n"
     ]
    }
   ],
   "source": [
    "print( binaryToChar('101') )"
   ]
  },
  {
   "cell_type": "code",
   "execution_count": 10,
   "metadata": {},
   "outputs": [
    {
     "name": "stdout",
     "output_type": "stream",
     "text": [
      "\n"
     ]
    }
   ],
   "source": [
    "print( binaryToChar('0100101') )"
   ]
  },
  {
   "cell_type": "code",
   "execution_count": 11,
   "metadata": {},
   "outputs": [
    {
     "name": "stdout",
     "output_type": "stream",
     "text": [
      "n\n"
     ]
    }
   ],
   "source": [
    "print( binaryToChar('100111') )"
   ]
  },
  {
   "cell_type": "markdown",
   "metadata": {},
   "source": [
    "### `XOR()`\n",
    "\n",
    "This function takes two strings that both contain binary data of arbitrary length and returns a single that represents the XOR of the input strings.\n",
    "\n",
    "__Notes:__\n",
    "* The function will strip any spaces from the input strings.\n",
    "* The output will be padded to be equal in length to the longer input string."
   ]
  },
  {
   "cell_type": "code",
   "execution_count": 12,
   "metadata": {},
   "outputs": [],
   "source": [
    "def XOR( binary1, binary2):\n",
    "    binary1 = binary1.replace(' ','')\n",
    "    binary2 = binary2.replace(' ','')\n",
    "    result = format(int(binary1, 2) ^ int(binary2, 2), 'b')\n",
    "    return result.zfill(max(len(binary1), len(binary2) ))"
   ]
  },
  {
   "cell_type": "code",
   "execution_count": 13,
   "metadata": {},
   "outputs": [
    {
     "name": "stdout",
     "output_type": "stream",
     "text": [
      "1111\n"
     ]
    }
   ],
   "source": [
    "print( XOR( '1110', '0001' ) )"
   ]
  },
  {
   "cell_type": "code",
   "execution_count": 14,
   "metadata": {},
   "outputs": [
    {
     "name": "stdout",
     "output_type": "stream",
     "text": [
      "1111\n"
     ]
    }
   ],
   "source": [
    "print( XOR( '1110', '1' ) )"
   ]
  },
  {
   "cell_type": "code",
   "execution_count": 15,
   "metadata": {},
   "outputs": [
    {
     "name": "stdout",
     "output_type": "stream",
     "text": [
      "011001000101111010000110101010\n"
     ]
    }
   ],
   "source": [
    "print( XOR( '10110 01000 01100 10010 10100 01001', '11010 11001 00011 11010 11001 00011' ) )"
   ]
  }
 ],
 "metadata": {
  "kernelspec": {
   "display_name": "Python 3",
   "language": "python",
   "name": "python3"
  },
  "language_info": {
   "codemirror_mode": {
    "name": "ipython",
    "version": 3
   },
   "file_extension": ".py",
   "mimetype": "text/x-python",
   "name": "python",
   "nbconvert_exporter": "python",
   "pygments_lexer": "ipython3",
   "version": "3.7.3"
  }
 },
 "nbformat": 4,
 "nbformat_minor": 4
}
