{
 "cells": [
  {
   "cell_type": "markdown",
   "metadata": {},
   "source": [
    "# Modern Encryption with Computers\n",
    "\n",
    "After the age of rotor ciphers, came the age of computing. The need for securing digital information became increasingly important as more and more information was stored and transmitted on and between computers. While most of the details are hidden away from the user, modern computers store and operate on data using operations involving __binary numbers__. \n",
    "\n",
    "In order to better understand how modern encryption works, you'll need to understand binary numbers, operations that can be used with binary numbers, and how computers convert text to binary in a standardized way."
   ]
  }
 ],
 "metadata": {
  "kernelspec": {
   "display_name": "Python 3",
   "language": "python",
   "name": "python3"
  },
  "language_info": {
   "codemirror_mode": {
    "name": "ipython",
    "version": 3
   },
   "file_extension": ".py",
   "mimetype": "text/x-python",
   "name": "python",
   "nbconvert_exporter": "python",
   "pygments_lexer": "ipython3",
   "version": "3.7.3"
  }
 },
 "nbformat": 4,
 "nbformat_minor": 4
}
